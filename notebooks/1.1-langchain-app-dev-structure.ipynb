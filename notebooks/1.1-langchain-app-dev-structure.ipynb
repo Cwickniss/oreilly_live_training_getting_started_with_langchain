{
 "cells": [
  {
   "cell_type": "code",
   "execution_count": null,
   "metadata": {},
   "outputs": [],
   "source": [
    "# uncomment and run below:\n",
    "# !pip install langchain\n",
    "# !pip install langchain-openai\n",
    "# !pip install -U langsmith"
   ]
  },
  {
   "cell_type": "markdown",
   "metadata": {},
   "source": [
    "1. Environment setup\n",
    "\n",
    "2. Prototype in with jupyter notebook + langsmith for inspection\n",
    "\n",
    "3. Set up the chain in the project app structure\n",
    "\n",
    "4. Set up server\n",
    "\n",
    "5. Deploy locally\n",
    "\n",
    "6. Test it on the playground"
   ]
  }
 ],
 "metadata": {
  "kernelspec": {
   "display_name": "oreilly-langchain",
   "language": "python",
   "name": "oreilly-langchain"
  },
  "language_info": {
   "name": "python",
   "version": "3.11.9"
  }
 },
 "nbformat": 4,
 "nbformat_minor": 2
}
