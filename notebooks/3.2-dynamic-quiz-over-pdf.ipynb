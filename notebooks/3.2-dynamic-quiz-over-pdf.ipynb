{
 "cells": [
  {
   "cell_type": "markdown",
   "metadata": {},
   "source": [
    "Let's set up a study workflow using Jupyter Notebooks, LLMs, and langchain."
   ]
  },
  {
   "cell_type": "code",
   "execution_count": null,
   "metadata": {},
   "outputs": [],
   "source": [
    "# !pip install langchain\n",
    "# !pip install langchain-openai\n",
    "# !pip install pypdf\n",
    "# !pip install chromadb\n",
    "# !pip install langchainhub"
   ]
  },
  {
   "cell_type": "code",
   "execution_count": 3,
   "metadata": {},
   "outputs": [],
   "source": [
    "import os\n",
    "from langchain.document_loaders import PyPDFLoader\n",
    "from langchain_openai.embeddings import OpenAIEmbeddings\n",
    "from langchain.vectorstores import Chroma\n",
    "from langchain.chains import RetrievalQA\n",
    "from langchain_openai import ChatOpenAI"
   ]
  },
  {
   "cell_type": "code",
   "execution_count": 7,
   "metadata": {},
   "outputs": [
    {
     "data": {
      "text/plain": [
       "RetrievalQA(combine_documents_chain=StuffDocumentsChain(llm_chain=LLMChain(prompt=ChatPromptTemplate(input_variables=['context', 'question'], messages=[SystemMessagePromptTemplate(prompt=PromptTemplate(input_variables=['context'], template=\"Use the following pieces of context to answer the user's question. \\nIf you don't know the answer, just say that you don't know, don't try to make up an answer.\\n----------------\\n{context}\")), HumanMessagePromptTemplate(prompt=PromptTemplate(input_variables=['question'], template='{question}'))]), llm=ChatOpenAI(client=<openai.resources.chat.completions.Completions object at 0x169b34c10>, async_client=<openai.resources.chat.completions.AsyncCompletions object at 0x169b3fdf0>, model_name='gpt-4-1106-preview', openai_api_key=SecretStr('**********'), openai_api_base='https://api.openai.com/v1', openai_proxy='')), document_prompt=PromptTemplate(input_variables=['page_content'], template='Context:\\n{page_content}'), document_variable_name='context'), retriever=VectorStoreRetriever(tags=['Chroma', 'OpenAIEmbeddings'], vectorstore=<langchain_community.vectorstores.chroma.Chroma object at 0x1682c9ea0>))"
      ]
     },
     "execution_count": 7,
     "metadata": {},
     "output_type": "execute_result"
    }
   ],
   "source": [
    "pdf_path = \"./assets-resources/Augmenting-Human-Intellect_ A-Conceptual-Framework-1962-Doug Engelbart.pdf\"\n",
    "\n",
    "loader = PyPDFLoader(pdf_path) # LOAD\n",
    "pdf_docs = loader.load_and_split() # SPLIT\n",
    "embeddings = OpenAIEmbeddings() # EMBED\n",
    "vectordb = Chroma.from_documents(pdf_docs, embedding=embeddings) # STORE\n",
    "retriever = vectordb.as_retriever()\n",
    "llm = ChatOpenAI(model=\"gpt-4-1106-preview\")\n",
    "pdf_qa = RetrievalQA.from_llm(llm=llm, retriever=retriever) # RETRIEVE\n",
    "pdf_qa"
   ]
  },
  {
   "cell_type": "code",
   "execution_count": 9,
   "metadata": {},
   "outputs": [],
   "source": [
    "query = \"What is augmentation according to Douglas Engelbart?\"\n",
    "result = pdf_qa.invoke({\"query\": query, \"chat_history\": []})"
   ]
  },
  {
   "cell_type": "code",
   "execution_count": 11,
   "metadata": {},
   "outputs": [
    {
     "name": "stdout",
     "output_type": "stream",
     "text": [
      "According to Douglas Engelbart, augmentation refers to the use of computer-based systems to enhance human intellect by facilitating the use of more powerful concepts and concept-manipulation techniques. This involves redesigning the means of intellectual augmentation by leveraging the capabilities of computers to manipulate and portray symbols, which in turn can transform the way individuals think, reason, and solve problems. Engelbart's conceptual framework on augmentation is not just about automating existing processes but about creating new ways to extend human cognitive capabilities through the development of new languages, methodologies, and interactive computer systems.\n"
     ]
    }
   ],
   "source": [
    "print(result[\"result\"])"
   ]
  },
  {
   "cell_type": "code",
   "execution_count": 13,
   "metadata": {},
   "outputs": [
    {
     "name": "stdout",
     "output_type": "stream",
     "text": [
      "QUERY:  What are the four ways through which human capabilities are augmented according to Douglas Engelbart?\n",
      "ANSWER Douglas Engelbart identified four main ways in which human capabilities are augmented in his conceptual framework:\n",
      "\n",
      "1. Artifacts: These are the tools and physical instruments that humans create to manipulate the physical environment or to perform tasks more efficiently. For example, hammers, computers, and vehicles are all artifacts that augment our physical capabilities.\n",
      "\n",
      "2. Language: This refers to the communication systems we use, including spoken and written words, mathematical symbols, and visual representations. Language allows us to share and record complex ideas, making it possible to collaborate and build on each other's knowledge over time.\n",
      "\n",
      "3. Methodology: These are the methods, processes, and strategies we employ to organize our activities and solve problems. Methodologies can include scientific methods, management techniques, educational approaches, and more.\n",
      "\n",
      "4. Training: This encompasses the education and practice required to make effective use of artifacts, language, and methodologies. Training enhances our cognitive capabilities and allows us to acquire new skills and knowledge.\n",
      "\n",
      "Engelbart believed that by improving these four areas, we could significantly augment our intellectual abilities, leading to more effective problem-solving and innovation.\n"
     ]
    },
    {
     "data": {
      "text/plain": [
       "\"Douglas Engelbart identified four main ways in which human capabilities are augmented in his conceptual framework:\\n\\n1. Artifacts: These are the tools and physical instruments that humans create to manipulate the physical environment or to perform tasks more efficiently. For example, hammers, computers, and vehicles are all artifacts that augment our physical capabilities.\\n\\n2. Language: This refers to the communication systems we use, including spoken and written words, mathematical symbols, and visual representations. Language allows us to share and record complex ideas, making it possible to collaborate and build on each other's knowledge over time.\\n\\n3. Methodology: These are the methods, processes, and strategies we employ to organize our activities and solve problems. Methodologies can include scientific methods, management techniques, educational approaches, and more.\\n\\n4. Training: This encompasses the education and practice required to make effective use of artifacts, language, and methodologies. Training enhances our cognitive capabilities and allows us to acquire new skills and knowledge.\\n\\nEngelbart believed that by improving these four areas, we could significantly augment our intellectual abilities, leading to more effective problem-solving and innovation.\""
      ]
     },
     "execution_count": 13,
     "metadata": {},
     "output_type": "execute_result"
    }
   ],
   "source": [
    "def ask_pdf(pdf_qa,query):\n",
    "    print(\"QUERY: \",query)\n",
    "    result = pdf_qa.invoke({\"query\": query, \"chat_history\": []})\n",
    "    answer = result[\"result\"]\n",
    "    print(\"ANSWER\", answer)\n",
    "    return answer\n",
    "\n",
    "\n",
    "ask_pdf(pdf_qa,\"What are the four ways through which human capabilities are augmented according to Douglas Engelbart?\")"
   ]
  },
  {
   "cell_type": "code",
   "execution_count": 27,
   "metadata": {},
   "outputs": [
    {
     "name": "stdout",
     "output_type": "stream",
     "text": [
      "QUERY:  Quiz me on the essay with 5 fundamental questions.\n",
      "ANSWER Certainly! Here are five fundamental questions about the essay \"Augmenting Human Intellect: A Conceptual Framework\" by Doug Engelbart:\n",
      "\n",
      "1. What is the primary goal that Doug Engelbart envisions achieving through augmenting human intellect?\n",
      "2. Describe one of the ways in which Engelbart suggests using computers to manipulate symbol structures differently from traditional pencil-and-paper techniques.\n",
      "3. In the essay, what are the three questions Engelbart proposes that one might ask when looking at a statement in the middle of an argument structure?\n",
      "4. How does Engelbart's concept of \"linkages between different substructures\" contribute to understanding complex statements?\n",
      "5. What is the purpose of using \"antecedent links\" in the context of Engelbart's conceptual framework, and how does it help in understanding the basis upon which a statement was made?\n"
     ]
    },
    {
     "data": {
      "text/plain": [
       "'Certainly! Here are five fundamental questions about the essay \"Augmenting Human Intellect: A Conceptual Framework\" by Doug Engelbart:\\n\\n1. What is the primary goal that Doug Engelbart envisions achieving through augmenting human intellect?\\n2. Describe one of the ways in which Engelbart suggests using computers to manipulate symbol structures differently from traditional pencil-and-paper techniques.\\n3. In the essay, what are the three questions Engelbart proposes that one might ask when looking at a statement in the middle of an argument structure?\\n4. How does Engelbart\\'s concept of \"linkages between different substructures\" contribute to understanding complex statements?\\n5. What is the purpose of using \"antecedent links\" in the context of Engelbart\\'s conceptual framework, and how does it help in understanding the basis upon which a statement was made?'"
      ]
     },
     "execution_count": 27,
     "metadata": {},
     "output_type": "execute_result"
    }
   ],
   "source": [
    "quiz_questions = ask_pdf(pdf_qa, \"Quiz me on the essay with 5 fundamental questions.\")\n",
    "\n",
    "quiz_questions"
   ]
  },
  {
   "cell_type": "code",
   "execution_count": 22,
   "metadata": {},
   "outputs": [],
   "source": [
    "llm = ChatOpenAI(model=\"gpt-4-1106-preview\", temperature=0.0)"
   ]
  },
  {
   "cell_type": "code",
   "execution_count": 23,
   "metadata": {},
   "outputs": [],
   "source": [
    "from langchain_core.prompts.chat import SystemMessagePromptTemplate, HumanMessagePromptTemplate\n",
    "\n",
    "template = f\"You take in text and spit out Python code doing what the user wants\"\n",
    "system_message_prompt = SystemMessagePromptTemplate.from_template(template)\n",
    "human_message_prompt = HumanMessagePromptTemplate.from_template(\"Return ONLY a PYTHON list containing the questions in this text: {questions}\")"
   ]
  },
  {
   "cell_type": "code",
   "execution_count": 25,
   "metadata": {},
   "outputs": [],
   "source": [
    "from langchain_core.prompts import ChatPromptTemplate\n",
    "\n",
    "chat_prompt = ChatPromptTemplate.from_messages([system_message_prompt,human_message_prompt])"
   ]
  },
  {
   "cell_type": "code",
   "execution_count": 26,
   "metadata": {},
   "outputs": [],
   "source": [
    "quiz_chain = chat_prompt | llm"
   ]
  },
  {
   "cell_type": "code",
   "execution_count": 85,
   "metadata": {},
   "outputs": [
    {
     "data": {
      "text/plain": [
       "'questions = [\\n    \"What is the primary goal that Doug Engelbart envisions achieving through augmenting human intellect?\",\\n    \"Describe one of the ways in which Engelbart suggests using computers to manipulate symbol structures differently from traditional pencil-and-paper techniques.\",\\n    \"In the essay, what are the three questions Engelbart proposes that one might ask when looking at a statement in the middle of an argument structure?\",\\n    \"How does Engelbart\\'s concept of \\'linkages between different substructures\\' contribute to understanding complex statements?\",\\n    \"What is the purpose of using \\'antecedent links\\' in the context of Engelbart\\'s conceptual framework, and how does it help in understanding the basis upon which a statement was made?\"\\n]'"
      ]
     },
     "execution_count": 85,
     "metadata": {},
     "output_type": "execute_result"
    }
   ],
   "source": [
    "quiz_chain.invoke({\"questions\": quiz_questions})"
   ]
  },
  {
   "cell_type": "code",
   "execution_count": 77,
   "metadata": {},
   "outputs": [],
   "source": [
    "import re\n",
    "\n",
    "def extract_python_code(markdown_string):\n",
    "    pattern = r'```python\\n(.*?)\\n```'\n",
    "    matches = re.findall(pattern, markdown_string, re.DOTALL)\n",
    "\n",
    "    if matches:\n",
    "        python_code = matches[0]\n",
    "        return python_code\n",
    "    else:\n",
    "        return None"
   ]
  },
  {
   "cell_type": "code",
   "execution_count": 83,
   "metadata": {},
   "outputs": [],
   "source": [
    "from langchain_core.runnables import RunnableLambda\n",
    "\n",
    "\n",
    "quiz_chain = chat_prompt | llm | RunnableLambda(lambda x: x.content) | extract_python_code"
   ]
  },
  {
   "cell_type": "markdown",
   "metadata": {},
   "source": [
    "Disclaimer: We haven't discussed runnable at length, but essentially they make up the core of the LCEL interface. \n",
    "\n",
    "`RunnableLambda` allows you to take in an output from part of the chain and pass it along after performing some transformation defined withint its lambda function."
   ]
  },
  {
   "cell_type": "code",
   "execution_count": 87,
   "metadata": {},
   "outputs": [],
   "source": [
    "questions_list = quiz_chain.invoke({\"questions\": quiz_questions})"
   ]
  },
  {
   "cell_type": "code",
   "execution_count": 89,
   "metadata": {},
   "outputs": [],
   "source": [
    "exec(questions_list)"
   ]
  },
  {
   "cell_type": "code",
   "execution_count": 90,
   "metadata": {},
   "outputs": [
    {
     "name": "stdout",
     "output_type": "stream",
     "text": [
      "QUERY:  What is the primary goal that Doug Engelbart envisions achieving through augmenting human intellect?\n",
      "ANSWER The primary goal that Doug Engelbart envisions achieving through augmenting human intellect is to develop ways to increase the capability of a human to approach a complex problem situation, to gain comprehension to suit his particular needs, and to derive solutions to problems. Engelbart's focus was on enhancing human ability to solve problems, make decisions, and understand complex issues more effectively through the use of advanced tools, methodologies, and processes. This augmentation is not just about automating tasks but rather about empowering humans to do what was previously impossible or extremely difficult, thereby expanding both the intellectual and creative capacity of individuals and groups.\n",
      "QUERY:  Describe one of the ways in which Engelbart suggests using computers to manipulate symbol structures differently from traditional pencil-and-paper techniques.\n",
      "ANSWER Engelbart suggests that computers can be used to manipulate symbol structures by allowing users to establish arbitrary linkages between different substructures and control the display of these linked substructures with any relative positioning designated among them. This capability significantly differs from traditional pencil-and-paper techniques by providing a more dynamic and flexible way of working with symbol structures. Users can specify various types of links, which can then receive different display or manipulative treatments. These computer-enabled manipulations make it easier to trim, extend, insert, and rearrange symbol structures freely and rapidly, enhancing the user's ability to match symbol structuring to concept structuring more effectively.\n",
      "QUERY:  In the essay, what are the three questions Engelbart proposes that one might ask when looking at a statement in the middle of an argument structure?\n",
      "ANSWER The three questions Doug Engelbart proposes that one might ask when looking at a statement in the middle of an argument structure are \"What's this?\", \"How come?\", and \"So what?\".\n",
      "QUERY:  How does Engelbart's concept of 'linkages between different substructures' contribute to understanding complex statements?\n",
      "ANSWER Engelbart's concept of 'linkages between different substructures' contributes to understanding complex statements by allowing a user to establish arbitrary connections between different parts of a statement or document. By creating these links, the user can direct the computer to display linked substructures with any relative positioning they choose, which can help in visualizing and understanding the relationships between different components of a statement.\n",
      "\n",
      "For instance, non-serial relationships within a sentence that do not follow the traditional linear sequence of words can be represented through these linkages. This approach can make the conceptual relationships among the words or components of a statement more perceptible to a human reader. An experienced user can thus gain a more intuitive and quicker understanding of the statement's meaning, the effects of the specified actions, and the reasons behind them.\n",
      "\n",
      "By being able to see how different parts of the statement are connected, a user can better answer questions like 'What's this?', 'How come?', and 'So what?' regarding the statement. These visual cues and interactive elements can significantly enhance the process of understanding complex information by aligning the symbol structuring more closely with the conceptual structure of the information being processed. This can lead to more effective comprehension, analysis, and manipulation of complex ideas and arguments.\n",
      "QUERY:  What is the purpose of using 'antecedent links' in the context of Engelbart's conceptual framework, and how does it help in understanding the basis upon which a statement was made?\n",
      "ANSWER In Engelbart's conceptual framework, 'antecedent links' serve the purpose of connecting a statement to its primary antecedents, which are the statements that directly inform or lead to the creation of the given statement. This method is used to trace the foundational basis or the reasoning that supports a particular statement. By establishing these links, a user can quickly identify and understand the underlying premises and accepted facts that form the argument's structure.\n",
      "\n",
      "Using 'antecedent links' allows for a more efficient and effective way to analyze complex information by focusing on the most significant statements contributing to the understanding of a particular point. Instead of having to scan through a serial array of all prior statements, the user can easily highlight or bring forth only those statements that are directly relevant to the one being examined. This targeted approach simplifies the process of untangling the reasoning behind a statement and aids in a deeper comprehension of the argument's structure.\n",
      "\n",
      "In practical terms, this might involve using a computer interface to visually represent the argument as a network of nodes (statements) and lines (antecedent-consequent links), where each node's antecedents are positioned above it. By interacting with this network, users can selectively display detailed information about each statement and see how it integrates into the larger view, thus enhancing their understanding of the argument's conceptual structure.\n"
     ]
    }
   ],
   "source": [
    "# the questions variable was created within the string inside the `questions_list` variable.\n",
    "answers = []\n",
    "for q in questions:\n",
    "    answers.append(ask_pdf(pdf_qa,q))"
   ]
  },
  {
   "cell_type": "code",
   "execution_count": 91,
   "metadata": {},
   "outputs": [
    {
     "name": "stdout",
     "output_type": "stream",
     "text": [
      "QUERY:  Is this: The primary goal that Doug Engelbart envisions achieving through augmenting human intellect is to develop ways to increase the capability of a human to approach a complex problem situation, to gain comprehension to suit his particular needs, and to derive solutions to problems. Engelbart's focus was on enhancing human ability to solve problems, make decisions, and understand complex issues more effectively through the use of advanced tools, methodologies, and processes. This augmentation is not just about automating tasks but rather about empowering humans to do what was previously impossible or extremely difficult, thereby expanding both the intellectual and creative capacity of individuals and groups. the correct answer to this question: What is the primary goal that Doug Engelbart envisions achieving through augmenting human intellect? according to the paper? Return ONLY '''YES''' or '''NO'''. Output:\n",
      "ANSWER YES\n",
      "QUERY:  Is this: Engelbart suggests that computers can be used to manipulate symbol structures by allowing users to establish arbitrary linkages between different substructures and control the display of these linked substructures with any relative positioning designated among them. This capability significantly differs from traditional pencil-and-paper techniques by providing a more dynamic and flexible way of working with symbol structures. Users can specify various types of links, which can then receive different display or manipulative treatments. These computer-enabled manipulations make it easier to trim, extend, insert, and rearrange symbol structures freely and rapidly, enhancing the user's ability to match symbol structuring to concept structuring more effectively. the correct answer to this question: Describe one of the ways in which Engelbart suggests using computers to manipulate symbol structures differently from traditional pencil-and-paper techniques. according to the paper? Return ONLY '''YES''' or '''NO'''. Output:\n",
      "ANSWER YES\n",
      "QUERY:  Is this: The three questions Doug Engelbart proposes that one might ask when looking at a statement in the middle of an argument structure are \"What's this?\", \"How come?\", and \"So what?\". the correct answer to this question: In the essay, what are the three questions Engelbart proposes that one might ask when looking at a statement in the middle of an argument structure? according to the paper? Return ONLY '''YES''' or '''NO'''. Output:\n",
      "ANSWER YES\n",
      "QUERY:  Is this: Engelbart's concept of 'linkages between different substructures' contributes to understanding complex statements by allowing a user to establish arbitrary connections between different parts of a statement or document. By creating these links, the user can direct the computer to display linked substructures with any relative positioning they choose, which can help in visualizing and understanding the relationships between different components of a statement.\n",
      "\n",
      "For instance, non-serial relationships within a sentence that do not follow the traditional linear sequence of words can be represented through these linkages. This approach can make the conceptual relationships among the words or components of a statement more perceptible to a human reader. An experienced user can thus gain a more intuitive and quicker understanding of the statement's meaning, the effects of the specified actions, and the reasons behind them.\n",
      "\n",
      "By being able to see how different parts of the statement are connected, a user can better answer questions like 'What's this?', 'How come?', and 'So what?' regarding the statement. These visual cues and interactive elements can significantly enhance the process of understanding complex information by aligning the symbol structuring more closely with the conceptual structure of the information being processed. This can lead to more effective comprehension, analysis, and manipulation of complex ideas and arguments. the correct answer to this question: How does Engelbart's concept of 'linkages between different substructures' contribute to understanding complex statements? according to the paper? Return ONLY '''YES''' or '''NO'''. Output:\n",
      "ANSWER YES\n",
      "QUERY:  Is this: In Engelbart's conceptual framework, 'antecedent links' serve the purpose of connecting a statement to its primary antecedents, which are the statements that directly inform or lead to the creation of the given statement. This method is used to trace the foundational basis or the reasoning that supports a particular statement. By establishing these links, a user can quickly identify and understand the underlying premises and accepted facts that form the argument's structure.\n",
      "\n",
      "Using 'antecedent links' allows for a more efficient and effective way to analyze complex information by focusing on the most significant statements contributing to the understanding of a particular point. Instead of having to scan through a serial array of all prior statements, the user can easily highlight or bring forth only those statements that are directly relevant to the one being examined. This targeted approach simplifies the process of untangling the reasoning behind a statement and aids in a deeper comprehension of the argument's structure.\n",
      "\n",
      "In practical terms, this might involve using a computer interface to visually represent the argument as a network of nodes (statements) and lines (antecedent-consequent links), where each node's antecedents are positioned above it. By interacting with this network, users can selectively display detailed information about each statement and see how it integrates into the larger view, thus enhancing their understanding of the argument's conceptual structure. the correct answer to this question: What is the purpose of using 'antecedent links' in the context of Engelbart's conceptual framework, and how does it help in understanding the basis upon which a statement was made? according to the paper? Return ONLY '''YES''' or '''NO'''. Output:\n",
      "ANSWER YES\n"
     ]
    },
    {
     "data": {
      "text/plain": [
       "['YES', 'YES', 'YES', 'YES', 'YES']"
      ]
     },
     "execution_count": 91,
     "metadata": {},
     "output_type": "execute_result"
    }
   ],
   "source": [
    "evaluations = []\n",
    "\n",
    "for q,a in zip(questions, answers):\n",
    "    # Check for results\n",
    "    evaluations.append(ask_pdf(pdf_qa,f\"Is this: {a} the correct answer to this question: {q} according to the paper? Return ONLY '''YES''' or '''NO'''. Output:\"))\n",
    "\n",
    "evaluations"
   ]
  },
  {
   "cell_type": "code",
   "execution_count": 93,
   "metadata": {},
   "outputs": [
    {
     "name": "stdout",
     "output_type": "stream",
     "text": [
      "[5]\n"
     ]
    }
   ],
   "source": [
    "scores = []\n",
    "\n",
    "yes_count = evaluations.count('YES')\n",
    "scores.append(yes_count)\n",
    "print(scores)"
   ]
  }
 ],
 "metadata": {
  "kernelspec": {
   "display_name": "oreilly-langchain",
   "language": "python",
   "name": "oreilly-langchain"
  },
  "language_info": {
   "codemirror_mode": {
    "name": "ipython",
    "version": 3
   },
   "file_extension": ".py",
   "mimetype": "text/x-python",
   "name": "python",
   "nbconvert_exporter": "python",
   "pygments_lexer": "ipython3",
   "version": "3.10.13"
  },
  "orig_nbformat": 4
 },
 "nbformat": 4,
 "nbformat_minor": 2
}
