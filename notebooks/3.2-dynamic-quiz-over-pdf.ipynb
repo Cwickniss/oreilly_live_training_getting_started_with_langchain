{
 "cells": [
  {
   "cell_type": "markdown",
   "metadata": {},
   "source": [
    "Let's set up a study workflow using Jupyter Notebooks, LLMs, and langchain."
   ]
  },
  {
   "cell_type": "code",
   "execution_count": null,
   "metadata": {},
   "outputs": [],
   "source": [
    "# !pip install langchain\n",
    "# !pip install langchain-openai\n",
    "# !pip install pypdf\n",
    "# !pip install chromadb\n",
    "# !pip install langchainhub"
   ]
  },
  {
   "cell_type": "code",
   "execution_count": 1,
   "metadata": {},
   "outputs": [],
   "source": [
    "import os\n",
    "from langchain.document_loaders import PyPDFLoader\n",
    "from langchain_openai.embeddings import OpenAIEmbeddings\n",
    "from langchain.vectorstores import Chroma\n",
    "from langchain.chains import RetrievalQA\n",
    "from langchain_openai import ChatOpenAI"
   ]
  },
  {
   "cell_type": "code",
   "execution_count": 2,
   "metadata": {},
   "outputs": [
    {
     "data": {
      "text/plain": [
       "RetrievalQA(combine_documents_chain=StuffDocumentsChain(llm_chain=LLMChain(prompt=ChatPromptTemplate(input_variables=['context', 'question'], messages=[SystemMessagePromptTemplate(prompt=PromptTemplate(input_variables=['context'], template=\"Use the following pieces of context to answer the user's question. \\nIf you don't know the answer, just say that you don't know, don't try to make up an answer.\\n----------------\\n{context}\")), HumanMessagePromptTemplate(prompt=PromptTemplate(input_variables=['question'], template='{question}'))]), llm=ChatOpenAI(client=<openai.resources.chat.completions.Completions object at 0x1374efdc0>, async_client=<openai.resources.chat.completions.AsyncCompletions object at 0x167467e50>, model_name='gpt-4-1106-preview', openai_api_key=SecretStr('**********'), openai_api_base='https://api.openai.com/v1', openai_proxy='')), document_prompt=PromptTemplate(input_variables=['page_content'], template='Context:\\n{page_content}'), document_variable_name='context'), retriever=VectorStoreRetriever(tags=['Chroma', 'OpenAIEmbeddings'], vectorstore=<langchain_community.vectorstores.chroma.Chroma object at 0x10ba0bdc0>))"
      ]
     },
     "execution_count": 2,
     "metadata": {},
     "output_type": "execute_result"
    }
   ],
   "source": [
    "pdf_path = \"./assets-resources/Augmenting-Human-Intellect_ A-Conceptual-Framework-1962-Doug Engelbart.pdf\"\n",
    "\n",
    "loader = PyPDFLoader(pdf_path) # LOAD\n",
    "pdf_docs = loader.load_and_split() # SPLIT\n",
    "embeddings = OpenAIEmbeddings() # EMBED\n",
    "vectordb = Chroma.from_documents(pdf_docs, embedding=embeddings) # STORE\n",
    "retriever = vectordb.as_retriever()\n",
    "llm = ChatOpenAI(model=\"gpt-4-1106-preview\")\n",
    "pdf_qa = RetrievalQA.from_llm(llm=llm, retriever=retriever) # RETRIEVE\n",
    "pdf_qa"
   ]
  },
  {
   "cell_type": "code",
   "execution_count": 3,
   "metadata": {},
   "outputs": [],
   "source": [
    "query = \"What is augmentation according to Douglas Engelbart?\"\n",
    "result = pdf_qa.invoke({\"query\": query, \"chat_history\": []})"
   ]
  },
  {
   "cell_type": "code",
   "execution_count": 4,
   "metadata": {},
   "outputs": [
    {
     "name": "stdout",
     "output_type": "stream",
     "text": [
      "According to Douglas Engelbart, augmentation refers to the ways in which human intellect can be improved and enhanced through the use of tools, techniques, and methodologies. Engelbart's vision of augmentation is closely linked to the development of computer-based systems that assist with symbol manipulation and decision-making processes, thereby extending the capabilities of the human mind.\n",
      "\n",
      "In his seminal work \"Augmenting Human Intellect: A Conceptual Framework,\" Engelbart explores the concept of augmentation in depth. He discusses how augmentation means can be redesigned to leverage the capabilities of computers, creating a symbiotic relationship between humans and machines that enhances cognitive functions such as learning, analysis, problem-solving, and decision-making.\n",
      "\n",
      "Engelbart's approach to augmentation encompasses not just the physical tools or artifacts that people use, but also the language and methodology that shape how they think and work. His idea of augmentation is holistic, considering all the factors that contribute to more effective intellectual performance. This includes the development of new concepts, symbol structures, and processes that evolve over time with the advancement of technology and research. Engelbart believed that through computer-based augmentation, humans could achieve significantly higher levels of effectiveness and efficiency in their intellectual tasks.\n"
     ]
    }
   ],
   "source": [
    "print(result[\"result\"])"
   ]
  },
  {
   "cell_type": "code",
   "execution_count": 5,
   "metadata": {},
   "outputs": [
    {
     "name": "stdout",
     "output_type": "stream",
     "text": [
      "QUERY:  What are the four ways through which human capabilities are augmented according to Douglas Engelbart?\n",
      "ANSWER Douglas Engelbart proposed a framework for augmenting human intellect which involves improving human capabilities through four main approaches:\n",
      "\n",
      "1. **Artifacts**: Physical objects and technologies that serve as tools to extend human capabilities. These can range from simple tools like pencils and paper to complex computers and software that help us process and manipulate information more efficiently.\n",
      "\n",
      "2. **Language**: The means by which humans communicate, including natural languages, mathematics, and various symbolic systems. Language allows for the expression of complex ideas and the ability to share knowledge and collaborate with others.\n",
      "\n",
      "3. **Methodology**: The strategies, procedures, and techniques that people use to organize and approach problems. Methodologies guide how we use artifacts and language to effectively tackle tasks and make decisions.\n",
      "\n",
      "4. **Training**: The process of learning and acquiring skills in the use of artifacts, language, and methodologies. Training equips individuals with the knowledge needed to utilize tools and processes in the most advantageous ways to augment their problem-solving abilities.\n",
      "\n",
      "Engelbart's conceptual framework suggests that by enhancing these four areas, we can significantly increase the intellectual effectiveness of individuals and groups in solving problems and creating value.\n"
     ]
    },
    {
     "data": {
      "text/plain": [
       "\"Douglas Engelbart proposed a framework for augmenting human intellect which involves improving human capabilities through four main approaches:\\n\\n1. **Artifacts**: Physical objects and technologies that serve as tools to extend human capabilities. These can range from simple tools like pencils and paper to complex computers and software that help us process and manipulate information more efficiently.\\n\\n2. **Language**: The means by which humans communicate, including natural languages, mathematics, and various symbolic systems. Language allows for the expression of complex ideas and the ability to share knowledge and collaborate with others.\\n\\n3. **Methodology**: The strategies, procedures, and techniques that people use to organize and approach problems. Methodologies guide how we use artifacts and language to effectively tackle tasks and make decisions.\\n\\n4. **Training**: The process of learning and acquiring skills in the use of artifacts, language, and methodologies. Training equips individuals with the knowledge needed to utilize tools and processes in the most advantageous ways to augment their problem-solving abilities.\\n\\nEngelbart's conceptual framework suggests that by enhancing these four areas, we can significantly increase the intellectual effectiveness of individuals and groups in solving problems and creating value.\""
      ]
     },
     "execution_count": 5,
     "metadata": {},
     "output_type": "execute_result"
    }
   ],
   "source": [
    "def ask_pdf(pdf_qa,query):\n",
    "    print(\"QUERY: \",query)\n",
    "    result = pdf_qa.invoke({\"query\": query, \"chat_history\": []})\n",
    "    answer = result[\"result\"]\n",
    "    print(\"ANSWER\", answer)\n",
    "    return answer\n",
    "\n",
    "\n",
    "ask_pdf(pdf_qa,\"What are the four ways through which human capabilities are augmented according to Douglas Engelbart?\")"
   ]
  },
  {
   "cell_type": "code",
   "execution_count": 6,
   "metadata": {},
   "outputs": [
    {
     "name": "stdout",
     "output_type": "stream",
     "text": [
      "QUERY:  Quiz me on the essay with 5 fundamental questions.\n",
      "ANSWER Certainly! Here are five fundamental questions based on the essay \"Augmenting Human Intellect: A Conceptual Framework\" by Douglas Engelbart:\n",
      "\n",
      "1. **Conceptual Framework**: What is the main thesis or idea presented by Douglas Engelbart in the essay \"Augmenting Human Intellect: A Conceptual Framework\"?\n",
      "\n",
      "2. **Symbol-Structuring Capabilities**: According to Engelbart, how does the capability to freely manipulate symbol structures on a computer enhance human intellect compared to traditional pencil-and-paper techniques?\n",
      "\n",
      "3. **Statement Analysis**: How does Engelbart suggest handling complex statements for better understanding, and what are the benefits of such methods?\n",
      "\n",
      "4. **Argument Structuring**: Describe the process Engelbart introduces for tracking the basis upon which a given statement in an argument is made. What are 'antecedent links' and how do they function in this process?\n",
      "\n",
      "5. **Visualization and Comprehension**: Explain how Engelbart's proposed system allows for the visualization of an argument's structure and how this aids in comprehending the relationships between different components of the argument.\n",
      "\n",
      "These questions target the core aspects of Engelbart's vision for augmenting human intellect through the use of computer-based tools to manage complex information structures.\n"
     ]
    },
    {
     "data": {
      "text/plain": [
       "'Certainly! Here are five fundamental questions based on the essay \"Augmenting Human Intellect: A Conceptual Framework\" by Douglas Engelbart:\\n\\n1. **Conceptual Framework**: What is the main thesis or idea presented by Douglas Engelbart in the essay \"Augmenting Human Intellect: A Conceptual Framework\"?\\n\\n2. **Symbol-Structuring Capabilities**: According to Engelbart, how does the capability to freely manipulate symbol structures on a computer enhance human intellect compared to traditional pencil-and-paper techniques?\\n\\n3. **Statement Analysis**: How does Engelbart suggest handling complex statements for better understanding, and what are the benefits of such methods?\\n\\n4. **Argument Structuring**: Describe the process Engelbart introduces for tracking the basis upon which a given statement in an argument is made. What are \\'antecedent links\\' and how do they function in this process?\\n\\n5. **Visualization and Comprehension**: Explain how Engelbart\\'s proposed system allows for the visualization of an argument\\'s structure and how this aids in comprehending the relationships between different components of the argument.\\n\\nThese questions target the core aspects of Engelbart\\'s vision for augmenting human intellect through the use of computer-based tools to manage complex information structures.'"
      ]
     },
     "execution_count": 6,
     "metadata": {},
     "output_type": "execute_result"
    }
   ],
   "source": [
    "quiz_questions = ask_pdf(pdf_qa, \"Quiz me on the essay with 5 fundamental questions.\")\n",
    "\n",
    "quiz_questions"
   ]
  },
  {
   "cell_type": "code",
   "execution_count": 7,
   "metadata": {},
   "outputs": [],
   "source": [
    "llm = ChatOpenAI(model=\"gpt-4-1106-preview\", temperature=0.0)"
   ]
  },
  {
   "cell_type": "code",
   "execution_count": 8,
   "metadata": {},
   "outputs": [],
   "source": [
    "from langchain_core.prompts.chat import SystemMessagePromptTemplate, HumanMessagePromptTemplate\n",
    "\n",
    "template = f\"You take in text and spit out Python code doing what the user wants\"\n",
    "system_message_prompt = SystemMessagePromptTemplate.from_template(template)\n",
    "human_message_prompt = HumanMessagePromptTemplate.from_template(\"Return ONLY a PYTHON list containing the questions in this text: {questions}\")"
   ]
  },
  {
   "cell_type": "code",
   "execution_count": 9,
   "metadata": {},
   "outputs": [],
   "source": [
    "from langchain_core.prompts import ChatPromptTemplate\n",
    "\n",
    "chat_prompt = ChatPromptTemplate.from_messages([system_message_prompt,human_message_prompt])"
   ]
  },
  {
   "cell_type": "code",
   "execution_count": 10,
   "metadata": {},
   "outputs": [],
   "source": [
    "quiz_chain = chat_prompt | llm"
   ]
  },
  {
   "cell_type": "code",
   "execution_count": 11,
   "metadata": {},
   "outputs": [
    {
     "data": {
      "text/plain": [
       "AIMessage(content='```python\\nquestions = [\\n    \"What is the main thesis or idea presented by Douglas Engelbart in the essay \\'Augmenting Human Intellect: A Conceptual Framework\\'?\",\\n    \"According to Engelbart, how does the capability to freely manipulate symbol structures on a computer enhance human intellect compared to traditional pencil-and-paper techniques?\",\\n    \"How does Engelbart suggest handling complex statements for better understanding, and what are the benefits of such methods?\",\\n    \"Describe the process Engelbart introduces for tracking the basis upon which a given statement in an argument is made. What are \\'antecedent links\\' and how do they function in this process?\",\\n    \"Explain how Engelbart\\'s proposed system allows for the visualization of an argument\\'s structure and how this aids in comprehending the relationships between different components of the argument.\"\\n]\\n```')"
      ]
     },
     "execution_count": 11,
     "metadata": {},
     "output_type": "execute_result"
    }
   ],
   "source": [
    "quiz_chain.invoke({\"questions\": quiz_questions})"
   ]
  },
  {
   "cell_type": "code",
   "execution_count": 12,
   "metadata": {},
   "outputs": [],
   "source": [
    "import re\n",
    "\n",
    "def extract_python_code(markdown_string):\n",
    "    pattern = r'```python\\n(.*?)\\n```'\n",
    "    matches = re.findall(pattern, markdown_string, re.DOTALL)\n",
    "\n",
    "    if matches:\n",
    "        python_code = matches[0]\n",
    "        return python_code\n",
    "    else:\n",
    "        return None"
   ]
  },
  {
   "cell_type": "code",
   "execution_count": 13,
   "metadata": {},
   "outputs": [],
   "source": [
    "from langchain_core.runnables import RunnableLambda\n",
    "\n",
    "\n",
    "quiz_chain = chat_prompt | llm | RunnableLambda(lambda x: x.content) | extract_python_code"
   ]
  },
  {
   "cell_type": "markdown",
   "metadata": {},
   "source": [
    "Disclaimer: We haven't discussed runnable at length, but essentially they make up the core of the LCEL interface. \n",
    "\n",
    "`RunnableLambda` allows you to take in an output from part of the chain and pass it along after performing some transformation defined withint its lambda function."
   ]
  },
  {
   "cell_type": "code",
   "execution_count": 14,
   "metadata": {},
   "outputs": [],
   "source": [
    "questions_list = quiz_chain.invoke({\"questions\": quiz_questions})"
   ]
  },
  {
   "cell_type": "code",
   "execution_count": 15,
   "metadata": {},
   "outputs": [
    {
     "data": {
      "text/plain": [
       "'questions = [\\n    \"What is the main thesis or idea presented by Douglas Engelbart in the essay \\'Augmenting Human Intellect: A Conceptual Framework\\'?\",\\n    \"According to Engelbart, how does the capability to freely manipulate symbol structures on a computer enhance human intellect compared to traditional pencil-and-paper techniques?\",\\n    \"How does Engelbart suggest handling complex statements for better understanding, and what are the benefits of such methods?\",\\n    \"Describe the process Engelbart introduces for tracking the basis upon which a given statement in an argument is made. What are \\'antecedent links\\' and how do they function in this process?\",\\n    \"Explain how Engelbart\\'s proposed system allows for the visualization of an argument\\'s structure and how this aids in comprehending the relationships between different components of the argument.\"\\n]'"
      ]
     },
     "execution_count": 15,
     "metadata": {},
     "output_type": "execute_result"
    }
   ],
   "source": [
    "questions_list"
   ]
  },
  {
   "cell_type": "code",
   "execution_count": 16,
   "metadata": {},
   "outputs": [],
   "source": [
    "exec(questions_list)"
   ]
  },
  {
   "cell_type": "code",
   "execution_count": 17,
   "metadata": {},
   "outputs": [
    {
     "data": {
      "text/plain": [
       "[\"What is the main thesis or idea presented by Douglas Engelbart in the essay 'Augmenting Human Intellect: A Conceptual Framework'?\",\n",
       " 'According to Engelbart, how does the capability to freely manipulate symbol structures on a computer enhance human intellect compared to traditional pencil-and-paper techniques?',\n",
       " 'How does Engelbart suggest handling complex statements for better understanding, and what are the benefits of such methods?',\n",
       " \"Describe the process Engelbart introduces for tracking the basis upon which a given statement in an argument is made. What are 'antecedent links' and how do they function in this process?\",\n",
       " \"Explain how Engelbart's proposed system allows for the visualization of an argument's structure and how this aids in comprehending the relationships between different components of the argument.\"]"
      ]
     },
     "execution_count": 17,
     "metadata": {},
     "output_type": "execute_result"
    }
   ],
   "source": [
    "questions"
   ]
  },
  {
   "cell_type": "code",
   "execution_count": 18,
   "metadata": {},
   "outputs": [
    {
     "name": "stdout",
     "output_type": "stream",
     "text": [
      "QUERY:  What is the main thesis or idea presented by Douglas Engelbart in the essay 'Augmenting Human Intellect: A Conceptual Framework'?\n",
      "ANSWER The main thesis presented by Douglas Engelbart in the essay \"Augmenting Human Intellect: A Conceptual Framework\" is that the intellectual effectiveness of a human being can be significantly enhanced through the systematic redesign of the means by which individuals approach and solve problems. Engelbart proposes that by developing and utilizing tools and techniques that augment human intellect, we can improve our ability to think, learn, and innovate. This includes leveraging disciplines such as engineering, mathematics, and various sciences to create systems that enhance our cognitive processes. An important aspect of this thesis is the integration of computers and digital displays into the workflow to assist humans in real-time, enabling a symbiotic relationship between human thought processes and machine capabilities. The goal is to test this hypothesis and develop augmentation systems that could lead to substantial improvements in problem-solving effectiveness.\n",
      "QUERY:  According to Engelbart, how does the capability to freely manipulate symbol structures on a computer enhance human intellect compared to traditional pencil-and-paper techniques?\n",
      "ANSWER According to Engelbart, the capability to freely manipulate symbol structures on a computer significantly enhances human intellect compared to traditional pencil-and-paper techniques through several ways:\n",
      "\n",
      "1. **Ease of Modification**: With computers, it is much easier to trim, extend, insert, and rearrange symbol structures, which allows for rapid iteration and evolution of ideas.\n",
      "\n",
      "2. **Matching Symbol and Concept Structures**: The computer allows for non-serial symbol-structuring forms within sentences and arguments, which better match the conceptual relationships of the ideas being expressed. This leads to a deeper understanding and more natural reflection of thought processes.\n",
      "\n",
      "3. **Arbitrary Linkages**: Computers can establish arbitrary linkages between different substructures, enabling the creation of complex relationships and representations that can be displayed or manipulated in various ways.\n",
      "\n",
      "4. **Advanced Display Techniques**: Computer systems can automatically generate displays of linked substructures with relative positioning, which can aid in understanding complex relationships and structures.\n",
      "\n",
      "5. **Facilitates Understanding**: The use of computer-based symbol structuring can help answer fundamental questions about a given statement or argument like \"What's this?\", \"How come?\", and \"So what?\" by providing clearer visual representation and access to supportive information.\n",
      "\n",
      "6. **Programmatic Manipulation**: Computers can modify their own process structures, allowing for very sophisticated techniques for processing and symbol structuring, which can handle complex tasks like predicting election returns, calculating orbits, or translating natural languages.\n",
      "\n",
      "7. **Efficient Representation**: Computer representation of symbol structures can be more efficient and effective in conveying information, as they can be laid out in a way that highlights different significant relationships, making them more perceptible to humans.\n",
      "\n",
      "8. **Schematic Techniques**: The evolution of schematic techniques from programming and symbol-structuring allows for better representation of considerations, critical features, and interdependencies involved in complex process structures.\n",
      "\n",
      "Engelbart believed that these capabilities would lead to a higher rate of learning and useful output, encouraging individuals to experiment with sophisticated concepts and ultimately leading to an evolution of thoughts and language shaped by the tools used for manipulating symbols.\n",
      "QUERY:  How does Engelbart suggest handling complex statements for better understanding, and what are the benefits of such methods?\n",
      "ANSWER Engelbart suggests handling complex statements by breaking them down into more manageable substructures and using special links to represent the relationships between these substructures. Here are some methods and benefits he proposes:\n",
      "\n",
      "1. Diagrammatic Breakdown: Engelbart compares the process to diagramming sentences in grammar studies. By visually breaking down sentences into their parts and showing their grammatical relationships, it becomes easier to scan and untangle complex statements.\n",
      "\n",
      "2. Computer-Aided Layout: The computer can automatically lay out the statement components in a way that makes the relationships between them more perceptible to humans. This method helps the user quickly grasp the meaning of the statement by taking advantage of the computer's ability to reposition and connect components based on their symbolic relationships.\n",
      "\n",
      "3. Quick Dictionary Look-up: By aiming a light pen at a term and using a keyset, the computer can provide instant definitions, which helps in understanding complex terminology within the statement.\n",
      "\n",
      "4. Linking Secondary Phrases: Additional information or detailed descriptions can be linked to parts of the statement and brought into view upon request, enabling a closer study without overwhelming the initial view.\n",
      "\n",
      "5. Antecedent Links: These links point to previous statements that are significant for understanding the basis of the current statement. Users can track down the essential basis upon which a statement rests more efficiently.\n",
      "\n",
      "6. Schematic Techniques: Evolved from program flow-charting techniques, these help in understanding how different component processes cooperate in a process structure. They represent the considerations, critical features, and interdependencies involved.\n",
      "\n",
      "Benefits of these methods include:\n",
      "\n",
      "- Enhanced Comprehension: Breaking down complex concepts into simpler parts and visualizing their interconnections make it easier for users to understand the content.\n",
      "- Time Efficiency: The ability to quickly deconstruct and analyze statements saves time and increases productivity.\n",
      "- Better Engagement: Interactive elements like light-pen selection and links make the process more engaging for the user.\n",
      "- Improved Problem-Solving: By understanding the structure and relationships within complex statements, users are better equipped to solve problems and make informed decisions.\n",
      "- Flexibility: These methods provide the freedom to explore statements at different levels of detail, according to the user's needs.\n",
      "\n",
      "Overall, Engelbart's suggestions are aimed at augmenting human intellect by leveraging the capabilities of computers to handle complex symbol structures more effectively.\n",
      "QUERY:  Describe the process Engelbart introduces for tracking the basis upon which a given statement in an argument is made. What are 'antecedent links' and how do they function in this process?\n",
      "ANSWER In Doug Engelbart's framework, the process for tracking the basis upon which a given statement in an argument is made involves the use of 'antecedent links.' These antecedent links are connections established between a given statement and its primary antecedents, which are the statements that serve as the foundation or reasoning leading to the statement in question. The links are essentially pointers that identify the important preceding statements which contribute to the understanding of the current statement.\n",
      "\n",
      "Here's how the antecedent links function in Engelbart's process:\n",
      "\n",
      "1. Identification of Primary Antecedents: When examining a statement, the primary antecedents (key earlier statements) are identified and linked to the current statement to show the conceptual dependency.\n",
      "\n",
      "2. Display Adjustments: The computer can be requested to highlight these antecedent statements through visual cues like brightening or underlining to make them stand out. This allows for a clear visual representation of the statement's foundation within the larger argument structure.\n",
      "\n",
      "3. Simplification of Display: The computer can also be instructed to remove all other statements, leaving only the direct antecedents visible on the screen with the subject statement at the bottom, to simplify the view and focus on the essential basis of the argument.\n",
      "\n",
      "4. Reordering for Comprehension: Antecedent statements can be rearranged based on their \"importance to comprehension\" or other criteria, allowing the user to conceptualize the argument structure in a way that best aids their understanding.\n",
      "\n",
      "5. Use of a Graphical Display: A schematic or graphical display can be generated by the computer, showing a network of nodes (representing statements) and lines (representing antecedent-consequent links), which helps in visualizing the structure of the argument and the relationships between different ideas and reasoning.\n",
      "\n",
      "In summary, antecedent links are a tool designed by Engelbart to help users quickly and effectively trace the underpinnings of a given statement within an argument, providing a method to better understand the construction and validity of the argument by visually and logically connecting statements.\n",
      "QUERY:  Explain how Engelbart's proposed system allows for the visualization of an argument's structure and how this aids in comprehending the relationships between different components of the argument.\n",
      "ANSWER Doug Engelbart's proposed system facilitates the visualization of an argument's structure by enabling the creation of links between various components of the argument, which can then be displayed in a graphical, schematic form. This system is designed to augment human intellect by allowing for more efficient manipulation and examination of complex ideas and relationships within an argument.\n",
      "\n",
      "Here's how the system aids in comprehending the relationships between different components of an argument:\n",
      "\n",
      "1. **Linking Statements**: In Engelbart's system, each statement within an argument can be linked to its antecedents and consequents. This linkage is directional, effectively illustrating the flow of ideas and reasoning from one statement to the next.\n",
      "\n",
      "2. **Visual Representation**: Once the links between statements have been established, the computer can automatically generate a graphical display of the argument's structure. This display often resembles a network or tree, with nodes representing statements and lines showing the established links between them.\n",
      "\n",
      "3. **Understanding Relationships**: The visual representation helps users to see the hierarchical structure of the argument, identifying how each statement relates to others within the network. By looking at the graphical display, it becomes easier to understand which statements are foundational premises and which are conclusions or intermediate supporting points.\n",
      "\n",
      "4. **Interactive Exploration**: The system allows users to interactively explore the argument structure. Users can select a node to see the corresponding statement, as well as call up the antecedents or consequents for any given statement. This interactive process supports a deeper understanding of the argument's flow and logic.\n",
      "\n",
      "5. **Focus on Specific Elements**: The visualization system permits users to focus on specific elements of the argument by isolating individual nodes and their connections. Users can follow the trail of reasoning by moving from node to node, thereby tracing the logical steps from premises to conclusions.\n",
      "\n",
      "6. **Enhanced Comprehension**: The ability to see both detailed and high-level views of the argument structure helps users to answer critical questions about the argument, such as \"What does this statement mean?\" \"What are the implications of this statement?\" and \"Why is this statement important within the context of the argument?\"\n",
      "\n",
      "7. **Schematic Techniques**: Engelbart’s system also incorporates schematic techniques evolved from program flow-charting, which could be applied to represent the considerations, critical features, and interdependencies involved in the argument.\n",
      "\n",
      "By providing these capabilities, Engelbart's system dramatically increases a user's ability to comprehend complex argument structures, going beyond what traditional text-based methods can offer. The visualization and interactivity of the system are designed to match the way humans think and understand complex relationships, thereby enhancing our capacity to think, learn, and develop ideas.\n"
     ]
    }
   ],
   "source": [
    "# the questions variable was created within the string inside the `questions_list` variable.\n",
    "answers = []\n",
    "for q in questions:\n",
    "    answers.append(ask_pdf(pdf_qa,q))"
   ]
  },
  {
   "cell_type": "code",
   "execution_count": 91,
   "metadata": {},
   "outputs": [
    {
     "name": "stdout",
     "output_type": "stream",
     "text": [
      "QUERY:  Is this: The primary goal that Doug Engelbart envisions achieving through augmenting human intellect is to develop ways to increase the capability of a human to approach a complex problem situation, to gain comprehension to suit his particular needs, and to derive solutions to problems. Engelbart's focus was on enhancing human ability to solve problems, make decisions, and understand complex issues more effectively through the use of advanced tools, methodologies, and processes. This augmentation is not just about automating tasks but rather about empowering humans to do what was previously impossible or extremely difficult, thereby expanding both the intellectual and creative capacity of individuals and groups. the correct answer to this question: What is the primary goal that Doug Engelbart envisions achieving through augmenting human intellect? according to the paper? Return ONLY '''YES''' or '''NO'''. Output:\n",
      "ANSWER YES\n",
      "QUERY:  Is this: Engelbart suggests that computers can be used to manipulate symbol structures by allowing users to establish arbitrary linkages between different substructures and control the display of these linked substructures with any relative positioning designated among them. This capability significantly differs from traditional pencil-and-paper techniques by providing a more dynamic and flexible way of working with symbol structures. Users can specify various types of links, which can then receive different display or manipulative treatments. These computer-enabled manipulations make it easier to trim, extend, insert, and rearrange symbol structures freely and rapidly, enhancing the user's ability to match symbol structuring to concept structuring more effectively. the correct answer to this question: Describe one of the ways in which Engelbart suggests using computers to manipulate symbol structures differently from traditional pencil-and-paper techniques. according to the paper? Return ONLY '''YES''' or '''NO'''. Output:\n",
      "ANSWER YES\n",
      "QUERY:  Is this: The three questions Doug Engelbart proposes that one might ask when looking at a statement in the middle of an argument structure are \"What's this?\", \"How come?\", and \"So what?\". the correct answer to this question: In the essay, what are the three questions Engelbart proposes that one might ask when looking at a statement in the middle of an argument structure? according to the paper? Return ONLY '''YES''' or '''NO'''. Output:\n",
      "ANSWER YES\n",
      "QUERY:  Is this: Engelbart's concept of 'linkages between different substructures' contributes to understanding complex statements by allowing a user to establish arbitrary connections between different parts of a statement or document. By creating these links, the user can direct the computer to display linked substructures with any relative positioning they choose, which can help in visualizing and understanding the relationships between different components of a statement.\n",
      "\n",
      "For instance, non-serial relationships within a sentence that do not follow the traditional linear sequence of words can be represented through these linkages. This approach can make the conceptual relationships among the words or components of a statement more perceptible to a human reader. An experienced user can thus gain a more intuitive and quicker understanding of the statement's meaning, the effects of the specified actions, and the reasons behind them.\n",
      "\n",
      "By being able to see how different parts of the statement are connected, a user can better answer questions like 'What's this?', 'How come?', and 'So what?' regarding the statement. These visual cues and interactive elements can significantly enhance the process of understanding complex information by aligning the symbol structuring more closely with the conceptual structure of the information being processed. This can lead to more effective comprehension, analysis, and manipulation of complex ideas and arguments. the correct answer to this question: How does Engelbart's concept of 'linkages between different substructures' contribute to understanding complex statements? according to the paper? Return ONLY '''YES''' or '''NO'''. Output:\n",
      "ANSWER YES\n",
      "QUERY:  Is this: In Engelbart's conceptual framework, 'antecedent links' serve the purpose of connecting a statement to its primary antecedents, which are the statements that directly inform or lead to the creation of the given statement. This method is used to trace the foundational basis or the reasoning that supports a particular statement. By establishing these links, a user can quickly identify and understand the underlying premises and accepted facts that form the argument's structure.\n",
      "\n",
      "Using 'antecedent links' allows for a more efficient and effective way to analyze complex information by focusing on the most significant statements contributing to the understanding of a particular point. Instead of having to scan through a serial array of all prior statements, the user can easily highlight or bring forth only those statements that are directly relevant to the one being examined. This targeted approach simplifies the process of untangling the reasoning behind a statement and aids in a deeper comprehension of the argument's structure.\n",
      "\n",
      "In practical terms, this might involve using a computer interface to visually represent the argument as a network of nodes (statements) and lines (antecedent-consequent links), where each node's antecedents are positioned above it. By interacting with this network, users can selectively display detailed information about each statement and see how it integrates into the larger view, thus enhancing their understanding of the argument's conceptual structure. the correct answer to this question: What is the purpose of using 'antecedent links' in the context of Engelbart's conceptual framework, and how does it help in understanding the basis upon which a statement was made? according to the paper? Return ONLY '''YES''' or '''NO'''. Output:\n",
      "ANSWER YES\n"
     ]
    },
    {
     "data": {
      "text/plain": [
       "['YES', 'YES', 'YES', 'YES', 'YES']"
      ]
     },
     "execution_count": 91,
     "metadata": {},
     "output_type": "execute_result"
    }
   ],
   "source": [
    "evaluations = []\n",
    "\n",
    "for q,a in zip(questions, answers):\n",
    "    # Check for results\n",
    "    evaluations.append(ask_pdf(pdf_qa,f\"Is this: {a} the correct answer to this question: {q} according to the paper? Return ONLY '''YES''' or '''NO'''. Output:\"))\n",
    "\n",
    "evaluations"
   ]
  },
  {
   "cell_type": "code",
   "execution_count": 93,
   "metadata": {},
   "outputs": [
    {
     "name": "stdout",
     "output_type": "stream",
     "text": [
      "[5]\n"
     ]
    }
   ],
   "source": [
    "scores = []\n",
    "\n",
    "yes_count = evaluations.count('YES')\n",
    "scores.append(yes_count)\n",
    "print(scores)"
   ]
  }
 ],
 "metadata": {
  "kernelspec": {
   "display_name": "oreilly-langchain",
   "language": "python",
   "name": "oreilly-langchain"
  },
  "language_info": {
   "codemirror_mode": {
    "name": "ipython",
    "version": 3
   },
   "file_extension": ".py",
   "mimetype": "text/x-python",
   "name": "python",
   "nbconvert_exporter": "python",
   "pygments_lexer": "ipython3",
   "version": "3.10.13"
  },
  "orig_nbformat": 4
 },
 "nbformat": 4,
 "nbformat_minor": 2
}
