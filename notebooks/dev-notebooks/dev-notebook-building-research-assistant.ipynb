{
 "cells": [
  {
   "cell_type": "markdown",
   "metadata": {},
   "source": [
    "Langchain concepts to clarify.\n",
    "\n",
    "[RunnablePassThrough?](https://python.langchain.com/docs/expression_language/how_to/passthrough)"
   ]
  },
  {
   "cell_type": "code",
   "execution_count": null,
   "metadata": {},
   "outputs": [],
   "source": [
    "\n",
    "# chain = RunnablePassthrough.assign(\n",
    "# research_summary= full_research_chain | collapse_list_of_lists\n",
    "# ) | prompt | ChatOpenAI(model=\"gpt-3.5-turbo-1106\") | StrOutputParser()\n"
   ]
  },
  {
   "cell_type": "markdown",
   "metadata": {},
   "source": [
    "Building simple FastAPI apps and the add_route() method."
   ]
  },
  {
   "cell_type": "code",
   "execution_count": null,
   "metadata": {},
   "outputs": [],
   "source": [
    "\n",
    "# app = FastAPI(\n",
    "#   title=\"LangChain Server\",\n",
    "#   version=\"1.0\",\n",
    "#   description=\"A simple api server using Langchain's Runnable interfaces\",\n",
    "# )\n",
    "\n",
    "# add_routes(\n",
    "#     app,\n",
    "#     chain,\n",
    "#     path=\"/research-assistant\",\n",
    "# )"
   ]
  },
  {
   "cell_type": "markdown",
   "metadata": {},
   "source": [
    "complex chaining patterns in langchain"
   ]
  },
  {
   "cell_type": "code",
   "execution_count": null,
   "metadata": {},
   "outputs": [],
   "source": [
    "# SEARCH_PROMPT = ChatPromptTemplate.from_messages(\n",
    "#     [\n",
    "#         (\n",
    "#             \"user\",\n",
    "#             \"Write 3 google search queries to search online that form an \"\n",
    "#             \"objective opinion from the following: {question}\\n\"\n",
    "#             \"You must respond with a list of strings in the following format: \"\n",
    "#             '[\"query 1\", \"query 2\", \"query 3\"].',\n",
    "#         ),\n",
    "#     ]\n",
    "# )\n",
    "\n",
    "# search_question_chain = SEARCH_PROMPT | ChatOpenAI(temperature=0) | StrOutputParser() | json.loads\n",
    "\n",
    "# full_research_chain = search_question_chain | (lambda x: [{\"question\": q} for q in x]) | web_search_chain.map()"
   ]
  }
 ],
 "metadata": {
  "language_info": {
   "name": "python"
  }
 },
 "nbformat": 4,
 "nbformat_minor": 2
}
