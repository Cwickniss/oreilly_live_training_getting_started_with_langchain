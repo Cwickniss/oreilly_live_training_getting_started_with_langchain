{
 "cells": [
  {
   "cell_type": "markdown",
   "metadata": {},
   "source": [
    "# [Deployment with LangServe](https://python.langchain.com/docs/get_started/quickstart#:~:text=LangSmith%20head%20here.-,serving%20with%20langserve)"
   ]
  },
  {
   "cell_type": "markdown",
   "metadata": {},
   "source": [
    "Deploying with langserve involves:\n",
    "\n",
    "1. Define the chain \n",
    "2. Define a fastapi app\n",
    "3. Define a route from which to serve the chain `langserve.add_routes`"
   ]
  },
  {
   "cell_type": "code",
   "execution_count": null,
   "metadata": {},
   "outputs": [],
   "source": [
    "# !pip install langchain\n",
    "# !pip install openai\n",
    "# !pip install pypdf\n",
    "# !pip install chromadb\n",
    "# !pip install langchainhub\n",
    "# !pip install fastapi\n",
    "# !pip install langserve\n",
    "# !pip install sse_starlette\n",
    "# !pip install pydantic==1.10.13"
   ]
  },
  {
   "cell_type": "code",
   "execution_count": null,
   "metadata": {},
   "outputs": [],
   "source": []
  },
  {
   "cell_type": "code",
   "execution_count": 1,
   "metadata": {},
   "outputs": [
    {
     "data": {
      "text/plain": [
       "True"
      ]
     },
     "execution_count": 1,
     "metadata": {},
     "output_type": "execute_result"
    }
   ],
   "source": [
    "# import os\n",
    "\n",
    "# # Set OPENAI API Key\n",
    "\n",
    "# os.environ[\"OPENAI_API_KEY\"] = \"your openai key\"\n",
    "\n",
    "# OR (load from .env file)\n",
    "\n",
    "from dotenv import load_dotenv\n",
    "load_dotenv(\"./.env\")"
   ]
  },
  {
   "cell_type": "markdown",
   "metadata": {},
   "source": [
    "See the script in: `deployment_with_langserve.py`"
   ]
  },
  {
   "cell_type": "code",
   "execution_count": 5,
   "metadata": {},
   "outputs": [
    {
     "name": "stderr",
     "output_type": "stream",
     "text": [
      "INFO:     Shutting down\n",
      "INFO:     Waiting for application shutdown.\n",
      "INFO:     Application shutdown complete.\n",
      "INFO:     Finished server process [11581]\n"
     ]
    }
   ],
   "source": [
    "# #!/usr/bin/env python\n",
    "# from typing import List\n",
    "# from fastapi import FastAPI\n",
    "# from langchain.prompts import ChatPromptTemplate\n",
    "# from langchain.chat_models import ChatOpenAI\n",
    "# from langchain.schema import BaseOutputParser\n",
    "# from langserve import add_routes\n",
    "\n",
    "# # only need in jupyter notebook\n",
    "# import nest_asyncio \n",
    "# nest_asyncio.apply()\n",
    "\n",
    "# # 1. Chain definition\n",
    "\n",
    "# class CommaSeparatedListOutputParser(BaseOutputParser[List[str]]):\n",
    "#     \"\"\"Parse the output of an LLM call to a comma-separated list.\"\"\"\n",
    "\n",
    "\n",
    "#     def parse(self, text: str) -> List[str]:\n",
    "#         \"\"\"Parse the output of an LLM call.\"\"\"\n",
    "#         return text.strip().split(\", \")\n",
    "\n",
    "# template = \"\"\"You are a helpful assistant who generates comma separated lists.\n",
    "# A user will pass in a category, and you should generate 5 objects in that category in a comma separated list.\n",
    "# ONLY return a comma separated list, and nothing more.\"\"\"\n",
    "# human_template = \"{text}\"\n",
    "\n",
    "# chat_prompt = ChatPromptTemplate.from_messages([\n",
    "#     (\"system\", template),\n",
    "#     (\"human\", human_template),\n",
    "# ])\n",
    "# category_chain = chat_prompt | ChatOpenAI() | CommaSeparatedListOutputParser()\n",
    "\n",
    "# # 2. App definition\n",
    "# app = FastAPI(\n",
    "#   title=\"LangChain Server\",\n",
    "#   version=\"1.0\",\n",
    "#   description=\"A simple api server using Langchain's Runnable interfaces\",\n",
    "# )\n",
    "\n",
    "# # 3. Adding chain route\n",
    "# add_routes(\n",
    "#     app,\n",
    "#     category_chain,\n",
    "#     path=\"/category_chain\",\n",
    "# )\n",
    "\n",
    "# if __name__ == \"__main__\":\n",
    "#     import uvicorn\n",
    "\n",
    "#     uvicorn.run(app, host=\"localhost\", port=8000)\n",
    "#     # open this website: http://localhost:8000/category_chain/playground/"
   ]
  },
  {
   "cell_type": "markdown",
   "metadata": {},
   "source": [
    "[Client](https://python.langchain.com/docs/get_started/quickstart#:~:text=try%20it%20out!-,client)\n",
    "\n",
    "Now let's set up a client for programmatically interacting with our service. We can easily do this with the langserve.RemoteRunnable. Using this, we can interact with the served chain as if it were running client-side."
   ]
  },
  {
   "cell_type": "markdown",
   "metadata": {},
   "source": []
  },
  {
   "cell_type": "code",
   "execution_count": 5,
   "metadata": {},
   "outputs": [
    {
     "data": {
      "text/plain": [
       "['Karate', 'Judo', 'Taekwondo', 'Kung Fu', 'Brazilian Jiu-Jitsu']"
      ]
     },
     "execution_count": 5,
     "metadata": {},
     "output_type": "execute_result"
    }
   ],
   "source": [
    "from langserve import RemoteRunnable\n",
    "\n",
    "remote_chain = RemoteRunnable(\"http://localhost:8000/category_chain/\")\n",
    "remote_chain.invoke({\"text\": \"martial arts\"})\n",
    "# >> ['red', 'blue', 'green', 'yellow', 'orange']"
   ]
  }
 ],
 "metadata": {
  "kernelspec": {
   "display_name": "oreilly-langchain",
   "language": "python",
   "name": "oreilly-langchain"
  },
  "language_info": {
   "codemirror_mode": {
    "name": "ipython",
    "version": 3
   },
   "file_extension": ".py",
   "mimetype": "text/x-python",
   "name": "python",
   "nbconvert_exporter": "python",
   "pygments_lexer": "ipython3",
   "version": "3.10.13"
  }
 },
 "nbformat": 4,
 "nbformat_minor": 2
}
