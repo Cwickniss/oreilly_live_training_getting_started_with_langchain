{
 "cells": [
  {
   "cell_type": "markdown",
   "metadata": {},
   "source": [
    "Steps for building a simple agent:\n",
    "\n",
    "- Set up the LLM\n",
    "- Define the tool or toolkit (list of tools)\n",
    "- Set up a prompt template\n",
    "- Connect llm with your tools\n",
    "- Define your agent as a dict with keys: input, and agent scratchpad \n",
    "- Use the Langchain LCEL language to pipe agent, prompt the llm_with_tools variable and the output parser (which can use OpenAI function calling parser)\n",
    "- Create the agent loop\n",
    "- Wrap everything into the AgentExecutor\n",
    "- Invoke the agent with some query input"
   ]
  },
  {
   "cell_type": "code",
   "execution_count": 1,
   "metadata": {},
   "outputs": [],
   "source": [
    "from langchain.chat_models import ChatOpenAI"
   ]
  },
  {
   "cell_type": "code",
   "execution_count": 2,
   "metadata": {},
   "outputs": [],
   "source": [
    "# setup llm\n",
    "llm = ChatOpenAI(temperature=0)"
   ]
  },
  {
   "cell_type": "code",
   "execution_count": 5,
   "metadata": {},
   "outputs": [],
   "source": [
    "# define tool\n",
    "from langchain.tools import tool\n",
    "import os\n",
    "import nbformat"
   ]
  },
  {
   "cell_type": "code",
   "execution_count": 28,
   "metadata": {},
   "outputs": [],
   "source": [
    "@tool\n",
    "def turn_jupyter_notebook_into_python_script(jupyter_notebook_path: str) -> None:\n",
    "        \"\"\"Turn a jupyter notebook into a python script or a text file\"\"\"\n",
    "        # Load the notebook\n",
    "        output_file_path=\"./output_notebook.txt\" \n",
    "        file_type='txt'\n",
    "        with open(jupyter_notebook_path) as f:\n",
    "            nb = nbformat.read(f, as_version=4)\n",
    "        \n",
    "        # Create the output directory if it doesn't exist\n",
    "        os.makedirs(os.path.dirname(output_file_path), exist_ok=True)\n",
    "        \n",
    "        # Convert the notebook to a Python script or a text file\n",
    "        if file_type == 'py':\n",
    "            nbformat.write(nb, output_file_path)\n",
    "        elif file_type == 'txt':\n",
    "            with open(output_file_path, 'w') as f:\n",
    "                for cell in nb.cells:\n",
    "                    if cell.cell_type == 'code':\n",
    "                        f.write(cell.source + '\\n\\n')\n",
    "                    elif cell.cell_type == 'markdown':\n",
    "                        f.write(cell.source + '\\n\\n')\n",
    "        else:\n",
    "            raise ValueError('Invalid file type. Must be \"py\" or \"txt\".')\n",
    "        \n",
    "        \n",
    "tools = [turn_jupyter_notebook_into_python_script]"
   ]
  },
  {
   "cell_type": "code",
   "execution_count": 24,
   "metadata": {},
   "outputs": [],
   "source": [
    "# setup prompt template\n",
    "\n",
    "from langchain.prompts import ChatPromptTemplate, MessagesPlaceholder\n",
    "prompt = ChatPromptTemplate.from_messages([\n",
    "    (\"system\", \"You are very powerful assistant that helps me write reports for machine learning related tasks.\"),\n",
    "    (\"user\", \"{input}\"),\n",
    "    MessagesPlaceholder(variable_name=\"agent_scratchpad\"),\n",
    "])"
   ]
  },
  {
   "cell_type": "code",
   "execution_count": 30,
   "metadata": {},
   "outputs": [],
   "source": [
    "from langchain.tools.render import format_tool_to_openai_function"
   ]
  },
  {
   "cell_type": "code",
   "execution_count": 32,
   "metadata": {},
   "outputs": [],
   "source": [
    "# connect llm with your tools\n",
    "\n",
    "llm_with_tools = llm.bind(functions=[format_tool_to_openai_function(t) for t in tools])"
   ]
  },
  {
   "cell_type": "code",
   "execution_count": 33,
   "metadata": {},
   "outputs": [],
   "source": [
    "from langchain.agents.format_scratchpad import format_to_openai_functions\n",
    "from langchain.agents.output_parsers import OpenAIFunctionsAgentOutputParser"
   ]
  },
  {
   "cell_type": "code",
   "execution_count": 34,
   "metadata": {},
   "outputs": [],
   "source": [
    "agent = {\"input\": lambda x: x[\"input\"],\n",
    "         \"agent_scratchpad\": lambda x: format_to_openai_functions(x[\"intermediate_steps\"]),\n",
    "         } | prompt | llm_with_tools | OpenAIFunctionsAgentOutputParser() "
   ]
  },
  {
   "cell_type": "code",
   "execution_count": 39,
   "metadata": {},
   "outputs": [
    {
     "data": {
      "text/plain": [
       "AgentActionMessageLog(tool='turn_jupyter_notebook_into_python_script', tool_input={'jupyter_notebook_path': './reporting_agent_langchain.ipynb'}, log=\"\\nInvoking: `turn_jupyter_notebook_into_python_script` with `{'jupyter_notebook_path': './reporting_agent_langchain.ipynb'}`\\n\\n\\n\", message_log=[AIMessage(content='', additional_kwargs={'function_call': {'name': 'turn_jupyter_notebook_into_python_script', 'arguments': '{\\n  \"jupyter_notebook_path\": \"./reporting_agent_langchain.ipynb\"\\n}'}})])"
      ]
     },
     "execution_count": 39,
     "metadata": {},
     "output_type": "execute_result"
    }
   ],
   "source": [
    "agent.invoke({\n",
    "    \"input\": \"I want to write a report from this notebook I've written here: ./reporting_agent_langchain.ipynb\",\n",
    "    \"intermediate_steps\": []})"
   ]
  },
  {
   "cell_type": "code",
   "execution_count": 36,
   "metadata": {},
   "outputs": [],
   "source": [
    "from langchain.schema.agent import AgentFinish"
   ]
  },
  {
   "cell_type": "code",
   "execution_count": 40,
   "metadata": {},
   "outputs": [
    {
     "name": "stdout",
     "output_type": "stream",
     "text": [
      "turn_jupyter_notebook_into_python_script {'jupyter_notebook_path': './reporting_agent_langchain.ipynb'}\n",
      "I apologize, but it seems that there was an error in converting the Jupyter notebook into a Python script. Could you please double-check the path to the notebook file and ensure that it is correct?\n"
     ]
    }
   ],
   "source": [
    "intermediate_steps = []\n",
    "while True:\n",
    "    output = agent.invoke({\n",
    "        \"input\": \"I want to write a report from this notebook I've written here: ./reporting_agent_langchain.ipynb\",\n",
    "        \"intermediate_steps\": intermediate_steps\n",
    "    })\n",
    "    if isinstance(output, AgentFinish):\n",
    "        final_result = output.return_values[\"output\"]\n",
    "        break\n",
    "    else:\n",
    "        print(output.tool, output.tool_input)\n",
    "        tool = {\n",
    "            \"turn_jupyter_notebook_into_python_script\": turn_jupyter_notebook_into_python_script\n",
    "        }[output.tool]\n",
    "        observation = tool.run(output.tool_input)\n",
    "        intermediate_steps.append((output, observation))\n",
    "print(final_result)"
   ]
  }
 ],
 "metadata": {
  "kernelspec": {
   "display_name": "oreilly_agents",
   "language": "python",
   "name": "oreilly_agents"
  },
  "language_info": {
   "codemirror_mode": {
    "name": "ipython",
    "version": 3
   },
   "file_extension": ".py",
   "mimetype": "text/x-python",
   "name": "python",
   "nbconvert_exporter": "python",
   "pygments_lexer": "ipython3",
   "version": "3.11.5"
  }
 },
 "nbformat": 4,
 "nbformat_minor": 2
}
