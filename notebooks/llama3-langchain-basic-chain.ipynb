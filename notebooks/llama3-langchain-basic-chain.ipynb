{
 "cells": [
  {
   "cell_type": "markdown",
   "metadata": {},
   "source": [
    "# Basic Chain Example LangChain + Llama3"
   ]
  },
  {
   "cell_type": "code",
   "execution_count": 2,
   "metadata": {},
   "outputs": [],
   "source": [
    "from langchain_community.chat_models import ChatOllama\n",
    "from langchain_core.output_parsers import StrOutputParser\n",
    "from langchain_core.prompts import ChatPromptTemplate"
   ]
  },
  {
   "cell_type": "code",
   "execution_count": 3,
   "metadata": {},
   "outputs": [],
   "source": [
    "\n",
    "# Local Llama3\n",
    "llm = ChatOllama(\n",
    "    model=\"llama3\",\n",
    "    keep_alive=-1,  # keep the model loaded indefinitely\n",
    "    temperature=0,\n",
    "    max_new_tokens=512\n",
    ")"
   ]
  },
  {
   "cell_type": "code",
   "execution_count": 4,
   "metadata": {},
   "outputs": [],
   "source": [
    "prompt = ChatPromptTemplate.from_template(\"Write me a 500 word article on {topic} from the perspective of a {profession}.\")"
   ]
  },
  {
   "cell_type": "code",
   "execution_count": 7,
   "metadata": {},
   "outputs": [
    {
     "name": "stdout",
     "output_type": "stream",
     "text": [
      "**\"LLMs: The Game-Changers for Shipping Magnates Like Me\"**\n",
      "\n",
      "As a shipping magnate, I've spent my fair share of time navigating the complexities of global trade and logistics. From optimizing routes to managing inventory, every decision counts when it comes to keeping my fleet of vessels running smoothly and efficiently. That's why I'm excited about the potential of Large Language Models (LLMs) to revolutionize our industry.\n",
      "\n",
      "In recent years, LLMs have made headlines for their impressive language processing capabilities. These AI-powered models can understand and generate human-like text with uncanny accuracy. But what does this mean for shipping magnates like me? Let me tell you – it's a game-changer.\n",
      "\n",
      "Firstly, LLMs can help streamline communication between our teams and clients. Imagine being able to quickly generate responses to common customer inquiries or providing detailed reports on shipment status without breaking a sweat. With an LLM at your disposal, you can automate routine tasks and free up your team to focus on higher-value activities like strategic planning and problem-solving.\n",
      "\n",
      "But the benefits don't stop there. LLMs can also be used to analyze vast amounts of data related to shipping patterns, market trends, and regulatory compliance. By processing this information in real-time, we can identify opportunities for optimization and make more informed decisions about our operations. For instance, an LLM could help us predict demand fluctuations based on historical data and adjust our logistics accordingly.\n",
      "\n",
      "Another area where LLMs can make a significant impact is in the realm of documentation and compliance. Shipping companies are subject to numerous regulations and standards, which can be time-consuming and error-prone to navigate. An LLM can assist with generating accurate and compliant documents, such as customs forms and insurance claims, reducing the risk of errors and fines.\n",
      "\n",
      "Furthermore, LLMs have the potential to revolutionize our approach to supply chain management. By analyzing vast amounts of data on shipment routes, modes of transportation, and inventory levels, an LLM can help us identify areas for improvement and optimize our logistics networks. This could lead to significant cost savings, reduced transit times, and improved customer satisfaction.\n",
      "\n",
      "Of course, there are also concerns about the potential risks associated with relying on AI-powered models like LLMs. As a shipping magnate, I understand the importance of maintaining human oversight and control over critical decision-making processes. However, I believe that LLMs can be designed to augment our existing capabilities rather than replace them.\n",
      "\n",
      "In conclusion, Large Language Models have the potential to transform the shipping industry in numerous ways. By streamlining communication, analyzing data, generating documents, and optimizing supply chains, LLMs can help us operate more efficiently, effectively, and profitably. As a shipping magnate, I'm excited about the possibilities that these AI-powered models bring to our industry – and I'm eager to see how they will shape the future of global trade and logistics.\n",
      "\n",
      "**About the Author**\n",
      "\n",
      "John Smith is a seasoned shipping magnate with over two decades of experience in the industry. He has built his reputation on his ability to navigate complex logistical challenges and optimize supply chain operations. In this article, he shares his insights on the potential of Large Language Models to revolutionize the shipping industry.\n"
     ]
    }
   ],
   "source": [
    "# using LangChain Expressive Language chain syntax\n",
    "chain = prompt | llm | StrOutputParser()"
   ]
  },
  {
   "cell_type": "code",
   "execution_count": null,
   "metadata": {},
   "outputs": [],
   "source": [
    "print(chain.invoke({\"topic\": \"LLMs\", \"profession\": \"shipping magnate\"}))"
   ]
  }
 ],
 "metadata": {
  "kernelspec": {
   "display_name": "oreilly-llama3",
   "language": "python",
   "name": "oreilly-llama3"
  },
  "language_info": {
   "codemirror_mode": {
    "name": "ipython",
    "version": 3
   },
   "file_extension": ".py",
   "mimetype": "text/x-python",
   "name": "python",
   "nbconvert_exporter": "python",
   "pygments_lexer": "ipython3",
   "version": "3.11.9"
  }
 },
 "nbformat": 4,
 "nbformat_minor": 2
}
