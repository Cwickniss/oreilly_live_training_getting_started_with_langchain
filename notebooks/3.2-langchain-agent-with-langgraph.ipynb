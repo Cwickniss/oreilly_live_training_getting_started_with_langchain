{
 "cells": [
  {
   "cell_type": "code",
   "execution_count": 2,
   "metadata": {},
   "outputs": [],
   "source": [
    "# Import relevant functionality\n",
    "from langchain_openai import ChatOpenAI\n",
    "from langchain_community.tools.tavily_search import TavilySearchResults\n",
    "from langchain_core.messages import HumanMessage\n",
    "from langgraph.checkpoint.memory import MemorySaver\n",
    "from langgraph.prebuilt import create_react_agent"
   ]
  },
  {
   "cell_type": "code",
   "execution_count": 4,
   "metadata": {},
   "outputs": [],
   "source": [
    "# Create the agent\n",
    "memory = MemorySaver()"
   ]
  },
  {
   "cell_type": "code",
   "execution_count": 5,
   "metadata": {},
   "outputs": [
    {
     "data": {
      "text/plain": [
       "AIMessage(content='An agent based on large language models (LLMs) refers to a software entity that utilizes the capabilities of a large language model to perform tasks, interact with users, or make decisions based on natural language input. These agents can be designed for various applications, such as chatbots, virtual assistants, content generators, or more complex systems that require understanding and generating human-like text.\\n\\n### Key Characteristics of LLM-Based Agents:\\n\\n1. **Natural Language Understanding (NLU)**: They can comprehend user inputs in natural language, allowing for more intuitive interactions.\\n\\n2. **Natural Language Generation (NLG)**: They can produce human-like responses or content, making them suitable for communication, storytelling, or providing information.\\n\\n3. **Context Awareness**: Many LLM-based agents can maintain context over a conversation or task, enabling them to provide relevant and coherent responses based on previous interactions.\\n\\n4. **Task Execution**: Some agents can perform specific tasks, such as scheduling, answering questions, providing recommendations, or even executing commands, depending on their design and integration with other systems.\\n\\n5. **Learning and Adaptation**: While traditional LLMs are static once trained, agents may incorporate mechanisms to learn from user interactions, improving their performance and personalization over time.\\n\\n### Applications:\\n\\n- **Customer Support**: Providing instant answers to customer queries and troubleshooting issues.\\n- **Personal Assistants**: Helping users manage their schedules, reminders, and tasks.\\n- **Content Creation**: Assisting with writing articles, generating marketing content, or creating educational materials.\\n- **Gaming**: Enabling non-playable characters (NPCs) to interact more naturally with players.\\n\\n### Technologies Involved:\\n\\nLLM-based agents often integrate with other technologies, such as:\\n\\n- **APIs**: For accessing external data or services.\\n- **Machine Learning Frameworks**: For further training or fine-tuning the model.\\n- **User Interfaces**: Such as chat interfaces, voice recognition systems, or graphical user interfaces (GUIs).\\n\\nOverall, LLM-based agents leverage the power of large language models to facilitate a wide range of interactions and functionalities, making them valuable tools in numerous domains.', additional_kwargs={'refusal': None}, response_metadata={'token_usage': {'completion_tokens': 435, 'prompt_tokens': 17, 'total_tokens': 452, 'completion_tokens_details': {'audio_tokens': 0, 'reasoning_tokens': 0, 'accepted_prediction_tokens': 0, 'rejected_prediction_tokens': 0}, 'prompt_tokens_details': {'audio_tokens': 0, 'cached_tokens': 0}}, 'model_name': 'gpt-4o-mini-2024-07-18', 'system_fingerprint': 'fp_bba3c8e70b', 'finish_reason': 'stop', 'logprobs': None}, id='run-c306740a-f176-4859-8858-ce643e49fd2b-0', usage_metadata={'input_tokens': 17, 'output_tokens': 435, 'total_tokens': 452, 'input_token_details': {'audio': 0, 'cache_read': 0}, 'output_token_details': {'audio': 0, 'reasoning': 0}})"
      ]
     },
     "execution_count": 5,
     "metadata": {},
     "output_type": "execute_result"
    }
   ],
   "source": [
    "llm = ChatOpenAI(model_name=\"gpt-4o-mini\")\n",
    "\n",
    "\n",
    "llm.invoke(\"What is an agent based on large language models?\")"
   ]
  },
  {
   "cell_type": "code",
   "execution_count": 6,
   "metadata": {},
   "outputs": [],
   "source": [
    "search = TavilySearchResults(max_results=2)"
   ]
  },
  {
   "cell_type": "code",
   "execution_count": 7,
   "metadata": {},
   "outputs": [],
   "source": [
    "tools = [search]"
   ]
  },
  {
   "cell_type": "code",
   "execution_count": 8,
   "metadata": {},
   "outputs": [],
   "source": [
    "agent_executor = create_react_agent(llm, tools, checkpointer=memory)"
   ]
  },
  {
   "cell_type": "code",
   "execution_count": 9,
   "metadata": {},
   "outputs": [
    {
     "name": "stdout",
     "output_type": "stream",
     "text": [
      "{'agent': {'messages': [AIMessage(content=\"Hi Bob! It's great to meet you. How's life in San Francisco?\", additional_kwargs={'refusal': None}, response_metadata={'token_usage': {'completion_tokens': 17, 'prompt_tokens': 88, 'total_tokens': 105, 'completion_tokens_details': {'audio_tokens': 0, 'reasoning_tokens': 0, 'accepted_prediction_tokens': 0, 'rejected_prediction_tokens': 0}, 'prompt_tokens_details': {'audio_tokens': 0, 'cached_tokens': 0}}, 'model_name': 'gpt-4o-mini-2024-07-18', 'system_fingerprint': 'fp_bba3c8e70b', 'finish_reason': 'stop', 'logprobs': None}, id='run-346e7782-a8e4-4cc8-8a06-f45d18637e50-0', usage_metadata={'input_tokens': 88, 'output_tokens': 17, 'total_tokens': 105, 'input_token_details': {'audio': 0, 'cache_read': 0}, 'output_token_details': {'audio': 0, 'reasoning': 0}})]}}\n",
      "----\n",
      "{'agent': {'messages': [AIMessage(content='', additional_kwargs={'tool_calls': [{'id': 'call_5lrFHhZ5d6CGbgevo0FHxOxm', 'function': {'arguments': '{\"query\":\"current weather San Francisco\"}', 'name': 'tavily_search_results_json'}, 'type': 'function'}], 'refusal': None}, response_metadata={'token_usage': {'completion_tokens': 21, 'prompt_tokens': 120, 'total_tokens': 141, 'completion_tokens_details': {'audio_tokens': 0, 'reasoning_tokens': 0, 'accepted_prediction_tokens': 0, 'rejected_prediction_tokens': 0}, 'prompt_tokens_details': {'audio_tokens': 0, 'cached_tokens': 0}}, 'model_name': 'gpt-4o-mini-2024-07-18', 'system_fingerprint': 'fp_bba3c8e70b', 'finish_reason': 'tool_calls', 'logprobs': None}, id='run-eae95c49-dd6b-43d4-8109-ace431f1d417-0', tool_calls=[{'name': 'tavily_search_results_json', 'args': {'query': 'current weather San Francisco'}, 'id': 'call_5lrFHhZ5d6CGbgevo0FHxOxm', 'type': 'tool_call'}], usage_metadata={'input_tokens': 120, 'output_tokens': 21, 'total_tokens': 141, 'input_token_details': {'audio': 0, 'cache_read': 0}, 'output_token_details': {'audio': 0, 'reasoning': 0}})]}}\n",
      "----\n",
      "{'tools': {'messages': [ToolMessage(content='[{\"url\": \"https://www.weatherapi.com/\", \"content\": \"{\\'location\\': {\\'name\\': \\'San Francisco\\', \\'region\\': \\'California\\', \\'country\\': \\'United States of America\\', \\'lat\\': 37.775, \\'lon\\': -122.4183, \\'tz_id\\': \\'America/Los_Angeles\\', \\'localtime_epoch\\': 1733933868, \\'localtime\\': \\'2024-12-11 08:17\\'}, \\'current\\': {\\'last_updated_epoch\\': 1733933700, \\'last_updated\\': \\'2024-12-11 08:15\\', \\'temp_c\\': 8.3, \\'temp_f\\': 46.9, \\'is_day\\': 1, \\'condition\\': {\\'text\\': \\'Partly cloudy\\', \\'icon\\': \\'//cdn.weatherapi.com/weather/64x64/day/116.png\\', \\'code\\': 1003}, \\'wind_mph\\': 6.3, \\'wind_kph\\': 10.1, \\'wind_degree\\': 54, \\'wind_dir\\': \\'NE\\', \\'pressure_mb\\': 1024.0, \\'pressure_in\\': 30.24, \\'precip_mm\\': 0.0, \\'precip_in\\': 0.0, \\'humidity\\': 83, \\'cloud\\': 75, \\'feelslike_c\\': 6.6, \\'feelslike_f\\': 43.9, \\'windchill_c\\': 8.1, \\'windchill_f\\': 46.5, \\'heatindex_c\\': 9.5, \\'heatindex_f\\': 49.0, \\'dewpoint_c\\': 5.0, \\'dewpoint_f\\': 41.1, \\'vis_km\\': 16.0, \\'vis_miles\\': 9.0, \\'uv\\': 0.1, \\'gust_mph\\': 10.8, \\'gust_kph\\': 17.4}}\"}, {\"url\": \"https://www.timeanddate.com/weather/@z-us-94141/ext\", \"content\": \"San Francisco, USA 14 day weather forecast Time Zone News Calendar & Holiday News Time Zones Time Zones Home Time Zone News Calendar & Holiday News Weather Sun & Moon Home Sun Calculator Moon Calculator Calculators Calculators Home Home \\xa0 Weather \\xa0 San Francisco \\xa0 Two-week forecast Weather Time Zone Last 2 weeks of weather Nov 15 |  | 61 / 49\\xa0°F | Sunny. Nov 25 |  | 60 / 51\\xa0°F | Sunny. Nov 26 |  | 56 / 48\\xa0°F | Sunny. | * Updated Friday, November 15, 2024 1:24:06 pm San Francisco time - Weather by CustomWeather, © 2024 | Hour-by-hour weather for San Francisco next 7 days Sun & Moon times precise to the second. Time Zones Weather Calculators\"}]', name='tavily_search_results_json', id='83b7c6a6-3ba7-4170-8f50-e1f601cf1a9a', tool_call_id='call_5lrFHhZ5d6CGbgevo0FHxOxm', artifact={'query': 'current weather San Francisco', 'follow_up_questions': None, 'answer': None, 'images': [], 'results': [{'title': 'Weather in San Francisco', 'url': 'https://www.weatherapi.com/', 'content': \"{'location': {'name': 'San Francisco', 'region': 'California', 'country': 'United States of America', 'lat': 37.775, 'lon': -122.4183, 'tz_id': 'America/Los_Angeles', 'localtime_epoch': 1733933868, 'localtime': '2024-12-11 08:17'}, 'current': {'last_updated_epoch': 1733933700, 'last_updated': '2024-12-11 08:15', 'temp_c': 8.3, 'temp_f': 46.9, 'is_day': 1, 'condition': {'text': 'Partly cloudy', 'icon': '//cdn.weatherapi.com/weather/64x64/day/116.png', 'code': 1003}, 'wind_mph': 6.3, 'wind_kph': 10.1, 'wind_degree': 54, 'wind_dir': 'NE', 'pressure_mb': 1024.0, 'pressure_in': 30.24, 'precip_mm': 0.0, 'precip_in': 0.0, 'humidity': 83, 'cloud': 75, 'feelslike_c': 6.6, 'feelslike_f': 43.9, 'windchill_c': 8.1, 'windchill_f': 46.5, 'heatindex_c': 9.5, 'heatindex_f': 49.0, 'dewpoint_c': 5.0, 'dewpoint_f': 41.1, 'vis_km': 16.0, 'vis_miles': 9.0, 'uv': 0.1, 'gust_mph': 10.8, 'gust_kph': 17.4}}\", 'score': 0.9699114, 'raw_content': None}, {'title': 'San Francisco, USA 14 day weather forecast - timeanddate.com', 'url': 'https://www.timeanddate.com/weather/@z-us-94141/ext', 'content': 'San Francisco, USA 14 day weather forecast Time Zone News Calendar & Holiday News Time Zones Time Zones Home Time Zone News Calendar & Holiday News Weather Sun & Moon Home Sun Calculator Moon Calculator Calculators Calculators Home Home \\xa0 Weather \\xa0 San Francisco \\xa0 Two-week forecast Weather Time Zone Last 2 weeks of weather Nov 15 |  | 61 / 49\\xa0°F | Sunny. Nov 25 |  | 60 / 51\\xa0°F | Sunny. Nov 26 |  | 56 / 48\\xa0°F | Sunny. | * Updated Friday, November 15, 2024 1:24:06 pm San Francisco time - Weather by CustomWeather, © 2024 | Hour-by-hour weather for San Francisco next 7 days Sun & Moon times precise to the second. Time Zones Weather Calculators', 'score': 0.96472245, 'raw_content': None}], 'response_time': 2.59})]}}\n",
      "----\n",
      "{'agent': {'messages': [AIMessage(content=\"The current weather in San Francisco is partly cloudy with a temperature of about 8.3°C (46.9°F). The wind is coming from the northeast at 6.3 mph, and the humidity is around 83%. \\n\\nIf you'd like more detailed forecasts or updates, you can check out [WeatherAPI](https://www.weatherapi.com/) or [Time and Date](https://www.timeanddate.com/weather/@z-us-94141/ext). How's the weather feeling for you today?\", additional_kwargs={'refusal': None}, response_metadata={'token_usage': {'completion_tokens': 104, 'prompt_tokens': 751, 'total_tokens': 855, 'completion_tokens_details': {'audio_tokens': 0, 'reasoning_tokens': 0, 'accepted_prediction_tokens': 0, 'rejected_prediction_tokens': 0}, 'prompt_tokens_details': {'audio_tokens': 0, 'cached_tokens': 0}}, 'model_name': 'gpt-4o-mini-2024-07-18', 'system_fingerprint': 'fp_bba3c8e70b', 'finish_reason': 'stop', 'logprobs': None}, id='run-ab4d6b8b-25af-41a3-97cc-db62602728c0-0', usage_metadata={'input_tokens': 751, 'output_tokens': 104, 'total_tokens': 855, 'input_token_details': {'audio': 0, 'cache_read': 0}, 'output_token_details': {'audio': 0, 'reasoning': 0}})]}}\n",
      "----\n"
     ]
    }
   ],
   "source": [
    "# Use the agent\n",
    "config = {\"configurable\": {\"thread_id\": \"abc123\"}}\n",
    "for chunk in agent_executor.stream(\n",
    "    {\"messages\": [HumanMessage(content=\"hi im bob! and i live in sf\")]}, config\n",
    "):\n",
    "    print(chunk)\n",
    "    print(\"----\")\n",
    "\n",
    "for chunk in agent_executor.stream(\n",
    "    {\"messages\": [HumanMessage(content=\"whats the weather where I live?\")]}, config\n",
    "):\n",
    "    print(chunk)\n",
    "    print(\"----\")"
   ]
  },
  {
   "cell_type": "code",
   "execution_count": null,
   "metadata": {},
   "outputs": [],
   "source": []
  }
 ],
 "metadata": {
  "kernelspec": {
   "display_name": "oreilly-langchain",
   "language": "python",
   "name": "oreilly-langchain"
  },
  "language_info": {
   "codemirror_mode": {
    "name": "ipython",
    "version": 3
   },
   "file_extension": ".py",
   "mimetype": "text/x-python",
   "name": "python",
   "nbconvert_exporter": "python",
   "pygments_lexer": "ipython3",
   "version": "3.11.9"
  }
 },
 "nbformat": 4,
 "nbformat_minor": 2
}
