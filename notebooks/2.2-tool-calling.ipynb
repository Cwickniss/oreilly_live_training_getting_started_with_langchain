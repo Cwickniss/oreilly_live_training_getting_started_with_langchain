{
 "cells": [
  {
   "cell_type": "markdown",
   "metadata": {},
   "source": [
    "# Tool Call Without Pydantic "
   ]
  },
  {
   "cell_type": "code",
   "execution_count": null,
   "metadata": {},
   "outputs": [],
   "source": [
    "# Installs for the below cells.\n",
    "\n",
    "!pip install openai\n",
    "!pip install langchain\n",
    "!pip install langchain-openai"
   ]
  },
  {
   "cell_type": "code",
   "execution_count": null,
   "metadata": {},
   "outputs": [],
   "source": [
    "import os\n",
    "\n",
    "# # Set OPENAI API Key\n",
    "\n",
    "os.environ[\"OPENAI_API_KEY\"] = \"your openai key\"\n",
    "\n",
    "# OR (load from .env file)\n",
    "# make sure you have python-dotenv installed\n",
    "# from dotenv import load_dotenv\n",
    "# load_dotenv(\"./.env\")"
   ]
  },
  {
   "cell_type": "code",
   "execution_count": 1,
   "metadata": {},
   "outputs": [],
   "source": [
    "from langchain_core.prompts import ChatPromptTemplate\n",
    "from langchain_openai import ChatOpenAI\n",
    "from langchain.tools import tool"
   ]
  },
  {
   "cell_type": "code",
   "execution_count": 2,
   "metadata": {},
   "outputs": [
    {
     "data": {
      "text/plain": [
       "{'Age': 25, 'Gender': 'F'}"
      ]
     },
     "execution_count": 2,
     "metadata": {},
     "output_type": "execute_result"
    }
   ],
   "source": [
    "@tool\n",
    "def find_name_info_from_database(name):\n",
    "    \"\"\"REturns information about a name from a database.\"\"\"\n",
    "    names_info = {\n",
    "        'Alice': {'Age': 25, 'Gender': 'F'},\n",
    "        'Bob': {'Age': 30, 'Gender': 'M'},\n",
    "        'Charlie': {'Age': 35, 'Gender': 'M'}\n",
    "    }\n",
    "    \n",
    "    return names_info[name]\n",
    "\n",
    "find_name_info_from_database.invoke(\"Alice\")"
   ]
  },
  {
   "cell_type": "code",
   "execution_count": 3,
   "metadata": {},
   "outputs": [],
   "source": [
    "tools = [find_name_info_from_database]\n",
    "llm = ChatOpenAI(model=\"gpt-4o\")\n",
    "\n",
    "llm_with_tools = llm.bind_tools(tools)"
   ]
  },
  {
   "cell_type": "code",
   "execution_count": 4,
   "metadata": {},
   "outputs": [
    {
     "data": {
      "text/plain": [
       "{'Age': 25, 'Gender': 'F'}"
      ]
     },
     "execution_count": 4,
     "metadata": {},
     "output_type": "execute_result"
    }
   ],
   "source": [
    "from langchain_core.pydantic_v1 import BaseModel, Field\n",
    "\n",
    "class Output(BaseModel):\n",
    "    info : dict = Field(..., description=\"Information about the person\")\n",
    "    \n",
    "\n",
    "prompt = ChatPromptTemplate.from_template(\"You take in a request about a person and call a function to return information about that person: {name}\")\n",
    "\n",
    "chain = prompt | llm_with_tools\n",
    "\n",
    "tool_calls = chain.invoke({\"name\": \"Alice\"})\n",
    "\n",
    "output = tool_calls.tool_calls[0]\n",
    "selected_tool = {\"find_name_info_from_database\": find_name_info_from_database}[output[\"name\"].lower()]\n",
    "tool_output = selected_tool.invoke(output[\"args\"])\n",
    "tool_output"
   ]
  },
  {
   "cell_type": "markdown",
   "metadata": {},
   "source": [
    "# Tool Call With Pydantic"
   ]
  },
  {
   "cell_type": "code",
   "execution_count": 6,
   "metadata": {},
   "outputs": [
    {
     "data": {
      "text/plain": [
       "[NameInfo(age=30, status='single')]"
      ]
     },
     "execution_count": 6,
     "metadata": {},
     "output_type": "execute_result"
    }
   ],
   "source": [
    "from langchain_core.output_parsers.openai_tools import PydanticToolsParser\n",
    "from langchain_core.pydantic_v1 import BaseModel, Field\n",
    "\n",
    "class NameInfo(BaseModel):\n",
    "    age : int = Field(..., description=\"Age of the person\")\n",
    "    status: str = Field(..., description=\"Gender of the person\")\n",
    "                      \n",
    "prompt = ChatPromptTemplate.from_template(\"You take in a request and return info about these people: \\\n",
    "                                           Bob: [34, married], Mary: [25, single], Alice: [30, single],\\\n",
    "                                          Request: {name}.\")\n",
    "llm = ChatOpenAI(model=\"gpt-4o\")\n",
    "llm_with_tools = llm.bind_tools([NameInfo])\n",
    "\n",
    "chain = prompt | llm_with_tools | PydanticToolsParser(tools=[NameInfo])\n",
    "\n",
    "chain.invoke({\"name\": \"Alice\"})"
   ]
  }
 ],
 "metadata": {
  "kernelspec": {
   "display_name": "oreilly-langchain",
   "language": "python",
   "name": "oreilly-langchain"
  },
  "language_info": {
   "codemirror_mode": {
    "name": "ipython",
    "version": 3
   },
   "file_extension": ".py",
   "mimetype": "text/x-python",
   "name": "python",
   "nbconvert_exporter": "python",
   "pygments_lexer": "ipython3",
   "version": "3.11.9"
  }
 },
 "nbformat": 4,
 "nbformat_minor": 2
}
