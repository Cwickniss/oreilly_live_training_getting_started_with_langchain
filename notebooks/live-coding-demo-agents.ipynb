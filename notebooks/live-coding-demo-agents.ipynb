{
 "cells": [
  {
   "cell_type": "code",
   "execution_count": 1,
   "metadata": {},
   "outputs": [],
   "source": [
    "from langchain_openai import ChatOpenAI\n",
    "from langchain_core.prompts import ChatPromptTemplate"
   ]
  },
  {
   "cell_type": "code",
   "execution_count": 2,
   "metadata": {},
   "outputs": [],
   "source": [
    "llm = ChatOpenAI(model='gpt-4o-mini', temperature=0.0)"
   ]
  },
  {
   "cell_type": "code",
   "execution_count": 3,
   "metadata": {},
   "outputs": [
    {
     "data": {
      "text/plain": [
       "AIMessage(content='Hello! How can I assist you today?', response_metadata={'token_usage': {'completion_tokens': 9, 'prompt_tokens': 9, 'total_tokens': 18}, 'model_name': 'gpt-4o-mini', 'system_fingerprint': 'fp_48196bc67a', 'finish_reason': 'stop', 'logprobs': None}, id='run-c4fec6df-223a-49cc-8906-6997962208cb-0', usage_metadata={'input_tokens': 9, 'output_tokens': 9, 'total_tokens': 18})"
      ]
     },
     "execution_count": 3,
     "metadata": {},
     "output_type": "execute_result"
    }
   ],
   "source": [
    "llm.invoke(\"Hi!\")"
   ]
  },
  {
   "cell_type": "code",
   "execution_count": 5,
   "metadata": {},
   "outputs": [
    {
     "data": {
      "text/plain": [
       "[SystemMessagePromptTemplate(prompt=PromptTemplate(input_variables=[], template='You are a helpful assistant')),\n",
       " MessagesPlaceholder(variable_name='chat_history', optional=True),\n",
       " HumanMessagePromptTemplate(prompt=PromptTemplate(input_variables=['input'], template='{input}')),\n",
       " MessagesPlaceholder(variable_name='agent_scratchpad')]"
      ]
     },
     "execution_count": 5,
     "metadata": {},
     "output_type": "execute_result"
    }
   ],
   "source": [
    "from langchain import hub\n",
    "\n",
    "prompt = hub.pull(\"hwchase17/openai-tools-agent\")\n",
    "prompt.messages"
   ]
  },
  {
   "cell_type": "code",
   "execution_count": 6,
   "metadata": {},
   "outputs": [
    {
     "data": {
      "text/plain": [
       "ChatPromptTemplate(input_variables=['agent_scratchpad', 'input'], optional_variables=['chat_history'], input_types={'chat_history': typing.List[typing.Union[langchain_core.messages.ai.AIMessage, langchain_core.messages.human.HumanMessage, langchain_core.messages.chat.ChatMessage, langchain_core.messages.system.SystemMessage, langchain_core.messages.function.FunctionMessage, langchain_core.messages.tool.ToolMessage]], 'agent_scratchpad': typing.List[typing.Union[langchain_core.messages.ai.AIMessage, langchain_core.messages.human.HumanMessage, langchain_core.messages.chat.ChatMessage, langchain_core.messages.system.SystemMessage, langchain_core.messages.function.FunctionMessage, langchain_core.messages.tool.ToolMessage]]}, partial_variables={'chat_history': []}, metadata={'lc_hub_owner': 'hwchase17', 'lc_hub_repo': 'openai-tools-agent', 'lc_hub_commit_hash': 'c18672812789a3b9697656dd539edf0120285dcae36396d0b548ae42a4ed66f5'}, messages=[SystemMessagePromptTemplate(prompt=PromptTemplate(input_variables=[], template='You are a helpful assistant')), MessagesPlaceholder(variable_name='chat_history', optional=True), HumanMessagePromptTemplate(prompt=PromptTemplate(input_variables=['input'], template='{input}')), MessagesPlaceholder(variable_name='agent_scratchpad')])"
      ]
     },
     "execution_count": 6,
     "metadata": {},
     "output_type": "execute_result"
    }
   ],
   "source": [
    "prompt"
   ]
  },
  {
   "cell_type": "code",
   "execution_count": 7,
   "metadata": {},
   "outputs": [],
   "source": [
    "from langchain_community.tools.tavily_search import TavilySearchResults"
   ]
  },
  {
   "cell_type": "code",
   "execution_count": 8,
   "metadata": {},
   "outputs": [],
   "source": [
    "search_tool = TavilySearchResults()"
   ]
  },
  {
   "cell_type": "code",
   "execution_count": 9,
   "metadata": {},
   "outputs": [
    {
     "data": {
      "text/plain": [
       "[{'url': 'https://www.thekitchenmagpie.com/pancakes-from-scratch/',\n",
       "  'content': 'In a medium bowl or a large 16 cup capacity liquid measuring cup, whisk together the flour, baking powder, white sugar and salt. In another large capacity liquid measuring cup, combine 2 1/2 cups of milk, eggs, oil and vanilla. Mix until combined. If you need to, add more milk until the batter reaches desired consistency.'},\n",
       " {'url': 'https://www.allrecipes.com/recipe/21014/good-old-fashioned-pancakes/',\n",
       "  'content': '\"\\nEditorial contributions by Corey Williams\\nIngredients\\n1 ½ cups all-purpose flour\\n3 ½ teaspoons baking powder\\n1 tablespoon white sugar\\n¼ teaspoon salt, or more to taste\\n1 ¼ cups milk\\n3 tablespoons butter, melted\\n1\\negg\\nDirections\\nSift flour, baking powder, sugar, and salt together in a large bowl. How to Make Pancakes\\nYou\\'ll find a detailed ingredient list and step-by-step instructions in the recipe below, but let\\'s go over the basics:\\nPancake Ingredients\\nYou likely already have everything you need to make this pancake recipe. Yes, you can freeze pancakes and pancake batter.\\n· To freeze cooked pancakes: Allow the pancakes to cool completely, then arrange them in a single layer on a baking sheet (make sure the edges aren\\'t touching). All Rights Reserved\\nPhotos of Good Old-Fashioned Pancakes\\nBy clicking “Accept All Cookies”, you agree to the storing of cookies on your device to enhance site navigation, analyze site usage, and assist in our marketing efforts. This pancake recipe produces thick, fluffy, and all-around delicious pancakes with just a few ingredients that are probably already in your kitchen (and it\\'s so much better than the boxed stuff).\\n'},\n",
       " {'url': 'https://natashaskitchen.com/quick-and-easy-buttermilk-pancakes-recipe/',\n",
       "  'content': 'How to Make Buttermilk Pancakes. Dry Ingredients - in a large mixing bowl, whisk together dry ingredients: flour, sugar, baking powder, soda and salt. Wet Ingredients - in a second bowl, whisk together buttermilk, eggs, and vanilla. Combine - pour wet ingredients into dry ingredients and whisk just until moistened.'},\n",
       " {'url': 'https://www.marthastewart.com/338185/basic-pancakes',\n",
       "  'content': \"Ingredients\\n1 cup all-purpose flour, (spooned and leveled)\\n2 tablespoons sugar\\n2 teaspoons baking powder\\n½ teaspoon salt\\n1 cup milk\\n2 tablespoons unsalted butter, melted, or vegetable oil\\n1 large egg\\n1 tablespoon vegetable oil\\nAssorted toppings, such as butter, maple syrup, confectioners' sugar, honey, jams, preserves, sweetened whipped cream, or chocolate syrup\\nDirections\\nGather ingredients and preheat oven:\\n Storing and Reheating Pancakes\\nHow to Store Leftover Pancakes and Batter\\nHow to Reheat Leftover Pancakes\\nThere are several ways to reheat leftover pancakes, but we recommend using the oven method if you have a number of pancakes to reheat. For each pancake, spoon 2 to 3 tablespoons of batter onto skillet, using the back of the spoon to spread batter into a round (you should be able to fit 2 to 3 in a large skillet).\\n How to Make Fluffy Homemade Pancakes Every Time\\nWhat to Serve With Pancakes\\nButter, maple syrup, confectioners' sugar, honey, jams, preserves, sweetened whipped cream, chocolate syrup, and fresh fruit are all delicious toppings for homemade pancakes. To keep pancakes warm while you cook, place them on a baking sheet or oven-safe platter in a 200 degree oven until you're ready to serve—it makes all the difference.\\n\"},\n",
       " {'url': 'https://www.thekitchn.com/pancakes-recipe-263226',\n",
       "  'content': 'Prep time 15 minutes\\nCook time 24 minutes\\nMakes18 (3-inch) pancakes\\nServes4 to 6\\nIngredients\\nall-purpose flour\\ngranulated sugar\\nbaking powder\\nkosher salt\\nmilk\\nlarge eggs\\nvegetable oil, plus more for cooking\\nPowdered sugar or maple syrup, for serving\\nMeasuring cups and spoons\\nLarge mixing bowl\\nLarge cast iron or nonstick frying pan\\nSpatula\\nWhisk\\nInstructions\\nCombine the dry ingredients in a large bowl. Tips For Making The Easiest Pancakes\\nWeekday Morning Pancakes\\nI’m of the mind that every home should have two pancake recipes: a lofty one for weekends and an easier, more straightforward recipe for weekdays (and I’m not just talking about breakfast, either). Serves4 to 6\\nMakes18 (3-inch) pancakes\\nPrep15 minutes\\nCook24 minutes\\nPancakes are often considered a weekend-only treat, but there’s no denying that the other five days would be substantially better if they, too, started with a warm short stack. — Sheela, May 2020\\nHow To Make the Easiest Pancakes Ever\\nA one-bowl recipe that requires just six pantry ingredients and is ready in 30 minutes or less.\\n You can make and freeze pancakes in advance (or even freeze the batter), or you could master this one-bowl recipe that requires just six pantry staples and is ready in 30 minutes or less.\\n'}]"
      ]
     },
     "execution_count": 9,
     "metadata": {},
     "output_type": "execute_result"
    }
   ],
   "source": [
    "search_tool.invoke(\"Recipes of pancakes\", max_results=3)"
   ]
  },
  {
   "cell_type": "markdown",
   "metadata": {},
   "source": [
    "1. [See here for the quick setup for LANGSMITH](https://docs.smith.langchain.com/).\n",
    "2. [See here for the quick setup for TAVILY API KEY](https://python.langchain.com/v0.2/docs/integrations/tools/tavily_search/)."
   ]
  },
  {
   "cell_type": "code",
   "execution_count": 10,
   "metadata": {},
   "outputs": [],
   "source": [
    "tools = [search_tool]"
   ]
  },
  {
   "cell_type": "code",
   "execution_count": 11,
   "metadata": {},
   "outputs": [],
   "source": [
    "from langchain.agents import create_tool_calling_agent"
   ]
  },
  {
   "cell_type": "code",
   "execution_count": 14,
   "metadata": {},
   "outputs": [
    {
     "data": {
      "text/plain": [
       "RunnableAssign(mapper={\n",
       "  agent_scratchpad: RunnableLambda(lambda x: message_formatter(x['intermediate_steps']))\n",
       "})\n",
       "| ChatPromptTemplate(input_variables=['agent_scratchpad', 'input'], optional_variables=['chat_history'], input_types={'chat_history': typing.List[typing.Union[langchain_core.messages.ai.AIMessage, langchain_core.messages.human.HumanMessage, langchain_core.messages.chat.ChatMessage, langchain_core.messages.system.SystemMessage, langchain_core.messages.function.FunctionMessage, langchain_core.messages.tool.ToolMessage]], 'agent_scratchpad': typing.List[typing.Union[langchain_core.messages.ai.AIMessage, langchain_core.messages.human.HumanMessage, langchain_core.messages.chat.ChatMessage, langchain_core.messages.system.SystemMessage, langchain_core.messages.function.FunctionMessage, langchain_core.messages.tool.ToolMessage]]}, partial_variables={'chat_history': []}, metadata={'lc_hub_owner': 'hwchase17', 'lc_hub_repo': 'openai-tools-agent', 'lc_hub_commit_hash': 'c18672812789a3b9697656dd539edf0120285dcae36396d0b548ae42a4ed66f5'}, messages=[SystemMessagePromptTemplate(prompt=PromptTemplate(input_variables=[], template='You are a helpful assistant')), MessagesPlaceholder(variable_name='chat_history', optional=True), HumanMessagePromptTemplate(prompt=PromptTemplate(input_variables=['input'], template='{input}')), MessagesPlaceholder(variable_name='agent_scratchpad')])\n",
       "| RunnableBinding(bound=ChatOpenAI(client=<openai.resources.chat.completions.Completions object at 0x10ce10b90>, async_client=<openai.resources.chat.completions.AsyncCompletions object at 0x10ce2ca50>, model_name='gpt-4o-mini', temperature=0.0, openai_api_key=SecretStr('**********'), openai_api_base='https://api.openai.com/v1', openai_proxy=''), kwargs={'tools': [{'type': 'function', 'function': {'name': 'tavily_search_results_json', 'description': 'A search engine optimized for comprehensive, accurate, and trusted results. Useful for when you need to answer questions about current events. Input should be a search query.', 'parameters': {'type': 'object', 'properties': {'query': {'description': 'search query to look up', 'type': 'string'}}, 'required': ['query']}}}]})\n",
       "| ToolsAgentOutputParser()"
      ]
     },
     "execution_count": 14,
     "metadata": {},
     "output_type": "execute_result"
    }
   ],
   "source": [
    "agent = create_tool_calling_agent(llm=llm, tools=tools, prompt=prompt)\n",
    "agent"
   ]
  },
  {
   "cell_type": "code",
   "execution_count": 17,
   "metadata": {},
   "outputs": [
    {
     "data": {
      "text/plain": [
       "[ToolAgentAction(tool='tavily_search_results_json', tool_input={'query': 'pancake recipes'}, log=\"\\nInvoking: `tavily_search_results_json` with `{'query': 'pancake recipes'}`\\n\\n\\n\", message_log=[AIMessage(content='', additional_kwargs={'tool_calls': [{'id': 'call_D07mZnLKeX5WOfaIBcRs3IWZ', 'function': {'arguments': '{\"query\":\"pancake recipes\"}', 'name': 'tavily_search_results_json'}, 'type': 'function'}]}, response_metadata={'token_usage': {'completion_tokens': 21, 'prompt_tokens': 92, 'total_tokens': 113}, 'model_name': 'gpt-4o-mini', 'system_fingerprint': 'fp_507c9469a1', 'finish_reason': 'tool_calls', 'logprobs': None}, id='run-1e6cc8d5-1639-4825-9546-36b971ec83b6-0', tool_calls=[{'name': 'tavily_search_results_json', 'args': {'query': 'pancake recipes'}, 'id': 'call_D07mZnLKeX5WOfaIBcRs3IWZ', 'type': 'tool_call'}], usage_metadata={'input_tokens': 92, 'output_tokens': 21, 'total_tokens': 113})], tool_call_id='call_D07mZnLKeX5WOfaIBcRs3IWZ')]"
      ]
     },
     "execution_count": 17,
     "metadata": {},
     "output_type": "execute_result"
    }
   ],
   "source": [
    "agent.invoke({\"input\": \"Search the web for recipes for pancakes\", \"intermediate_steps\": []})"
   ]
  },
  {
   "cell_type": "code",
   "execution_count": 18,
   "metadata": {},
   "outputs": [],
   "source": [
    "from langchain.agents import AgentExecutor\n",
    "\n",
    "agent_executor = AgentExecutor(agent=agent, tools=tools, verbose=True)"
   ]
  },
  {
   "cell_type": "code",
   "execution_count": 19,
   "metadata": {},
   "outputs": [
    {
     "data": {
      "text/plain": [
       "AgentExecutor(verbose=True, agent=RunnableMultiActionAgent(runnable=RunnableAssign(mapper={\n",
       "  agent_scratchpad: RunnableLambda(lambda x: message_formatter(x['intermediate_steps']))\n",
       "})\n",
       "| ChatPromptTemplate(input_variables=['agent_scratchpad', 'input'], optional_variables=['chat_history'], input_types={'chat_history': typing.List[typing.Union[langchain_core.messages.ai.AIMessage, langchain_core.messages.human.HumanMessage, langchain_core.messages.chat.ChatMessage, langchain_core.messages.system.SystemMessage, langchain_core.messages.function.FunctionMessage, langchain_core.messages.tool.ToolMessage]], 'agent_scratchpad': typing.List[typing.Union[langchain_core.messages.ai.AIMessage, langchain_core.messages.human.HumanMessage, langchain_core.messages.chat.ChatMessage, langchain_core.messages.system.SystemMessage, langchain_core.messages.function.FunctionMessage, langchain_core.messages.tool.ToolMessage]]}, partial_variables={'chat_history': []}, metadata={'lc_hub_owner': 'hwchase17', 'lc_hub_repo': 'openai-tools-agent', 'lc_hub_commit_hash': 'c18672812789a3b9697656dd539edf0120285dcae36396d0b548ae42a4ed66f5'}, messages=[SystemMessagePromptTemplate(prompt=PromptTemplate(input_variables=[], template='You are a helpful assistant')), MessagesPlaceholder(variable_name='chat_history', optional=True), HumanMessagePromptTemplate(prompt=PromptTemplate(input_variables=['input'], template='{input}')), MessagesPlaceholder(variable_name='agent_scratchpad')])\n",
       "| RunnableBinding(bound=ChatOpenAI(client=<openai.resources.chat.completions.Completions object at 0x10ce10b90>, async_client=<openai.resources.chat.completions.AsyncCompletions object at 0x10ce2ca50>, model_name='gpt-4o-mini', temperature=0.0, openai_api_key=SecretStr('**********'), openai_api_base='https://api.openai.com/v1', openai_proxy=''), kwargs={'tools': [{'type': 'function', 'function': {'name': 'tavily_search_results_json', 'description': 'A search engine optimized for comprehensive, accurate, and trusted results. Useful for when you need to answer questions about current events. Input should be a search query.', 'parameters': {'type': 'object', 'properties': {'query': {'description': 'search query to look up', 'type': 'string'}}, 'required': ['query']}}}]})\n",
       "| ToolsAgentOutputParser(), input_keys_arg=[], return_keys_arg=[], stream_runnable=True), tools=[TavilySearchResults()])"
      ]
     },
     "execution_count": 19,
     "metadata": {},
     "output_type": "execute_result"
    }
   ],
   "source": [
    "agent_executor"
   ]
  },
  {
   "cell_type": "code",
   "execution_count": 21,
   "metadata": {},
   "outputs": [
    {
     "name": "stdout",
     "output_type": "stream",
     "text": [
      "\n",
      "\n",
      "\u001b[1m> Entering new AgentExecutor chain...\u001b[0m\n",
      "\u001b[32;1m\u001b[1;3m\n",
      "Invoking: `tavily_search_results_json` with `{'query': 'pancake recipes'}`\n",
      "\n",
      "\n",
      "\u001b[0m\u001b[36;1m\u001b[1;3m[{'url': 'https://www.allrecipes.com/recipe/21014/good-old-fashioned-pancakes/', 'content': '\"\\nEditorial contributions by Corey Williams\\nIngredients\\n1 ½ cups all-purpose flour\\n3 ½ teaspoons baking powder\\n1 tablespoon white sugar\\n¼ teaspoon salt, or more to taste\\n1 ¼ cups milk\\n3 tablespoons butter, melted\\n1\\negg\\nDirections\\nSift flour, baking powder, sugar, and salt together in a large bowl. How to Make Pancakes\\nYou\\'ll find a detailed ingredient list and step-by-step instructions in the recipe below, but let\\'s go over the basics:\\nPancake Ingredients\\nYou likely already have everything you need to make this pancake recipe. Yes, you can freeze pancakes and pancake batter.\\n· To freeze cooked pancakes: Allow the pancakes to cool completely, then arrange them in a single layer on a baking sheet (make sure the edges aren\\'t touching). All Rights Reserved\\nPhotos of Good Old-Fashioned Pancakes\\nBy clicking “Accept All Cookies”, you agree to the storing of cookies on your device to enhance site navigation, analyze site usage, and assist in our marketing efforts. This pancake recipe produces thick, fluffy, and all-around delicious pancakes with just a few ingredients that are probably already in your kitchen (and it\\'s so much better than the boxed stuff).\\n'}, {'url': 'https://www.thekitchenmagpie.com/pancakes-from-scratch/', 'content': 'Learn how to make light and fluffy pancakes from scratch with this easy recipe. You only need a few ingredients, a griddle and a scoop to enjoy these delicious pancakes for breakfast or brunch.'}, {'url': 'https://cafedelites.com/best-fluffy-pancakes/', 'content': 'Easy 3-Ingredient Pancakes\\nZebra Marble Pancakes\\nWhole Wheat Choc Chip Banana Bread Pancakes\\nFluffy Blueberry Pancakes\\nBest Fluffy Pancakes\\nIngredients\\nInstructions\\nNotes\\nNutrition\\nSubscribe to Cafe Delites FOR FREE and Receive Recipes I want to give this 5 stars – but the site wont let me click on them properly\\nNadia Masood says\\nMay 25, 2020 at 7:11 pm\\nThanks turned out perfect\\nSamR says\\nMay 29, 2020 at 10:57 am\\nThis was a very easy recipe to use and they turned out fabulous. Robert McKown says\\nAugust 18, 2019 at 2:31 am\\nFollow the recipe at least once before you try and tweak it\\nEstelle says\\nApril 27, 2018 at 10:27 am\\nThe best recipe I have tried so far, kids loved it.\\n 🙂\\nIbthisam says\\nJune 29, 2020 at 8:09 am\\nThere is only one word for this!!!”SPLENDID”, its the best pancakes receipe i have ever tried and trust me when i say this was legendary 👌🏼\\nBrittany says\\nJune 28, 2020 at 12:53 am\\nDelicious! Anyone with any experience/thoughts about this?\\nayelen says\\nSeptember 11, 2020 at 8:06 pm\\nbest recipe for fluffy pancakes ever, thanks\\nParker says\\nSeptember 10, 2020 at 9:09 am\\nMy son told me I needed to leave a review for this pancake recipe.'}, {'url': 'https://www.marthastewart.com/338185/basic-pancakes', 'content': \"Ingredients\\n1 cup all-purpose flour, (spooned and leveled)\\n2 tablespoons sugar\\n2 teaspoons baking powder\\n½ teaspoon salt\\n1 cup milk\\n2 tablespoons unsalted butter, melted, or vegetable oil\\n1 large egg\\n1 tablespoon vegetable oil\\nAssorted toppings, such as butter, maple syrup, confectioners' sugar, honey, jams, preserves, sweetened whipped cream, or chocolate syrup\\nDirections\\nGather ingredients and preheat oven:\\n Storing and Reheating Pancakes\\nHow to Store Leftover Pancakes and Batter\\nHow to Reheat Leftover Pancakes\\nThere are several ways to reheat leftover pancakes, but we recommend using the oven method if you have a number of pancakes to reheat. For each pancake, spoon 2 to 3 tablespoons of batter onto skillet, using the back of the spoon to spread batter into a round (you should be able to fit 2 to 3 in a large skillet).\\n How to Make Fluffy Homemade Pancakes Every Time\\nWhat to Serve With Pancakes\\nButter, maple syrup, confectioners' sugar, honey, jams, preserves, sweetened whipped cream, chocolate syrup, and fresh fruit are all delicious toppings for homemade pancakes. To keep pancakes warm while you cook, place them on a baking sheet or oven-safe platter in a 200 degree oven until you're ready to serve—it makes all the difference.\\n\"}, {'url': 'https://www.onceuponachef.com/recipes/best-pancake-recipe.html', 'content': 'Read more…\\nFall Recipes\\nPopular Recipes\\n22 Quick and Easy Recipes in 30 Minutes (or less)\\nPlus 5 Chef Secrets To Make You A Better Cook!\\nCooking Question?\\n What You’ll Need To Make the best Homemade Pancake recipe\\nStep-by-Step Instructions\\nCombine the flour, baking powder, sugar and salt in a bowl.\\n Add a Comment Cancel reply\\nYour comment *\\nRate the recipe: 5 stars means you loved it, 1 star means you really disliked it\\nYour name *\\nYour email (will not be published) 22 Quick and Easy Recipes in 30 Minutes (or less) + 5 Chef Secrets To Make You A Better Cook!\\nFind a Recipe\\nBest Homemade Pancake Recipe\\nThis post may contain affiliate links. To obtain the most accurate nutritional information in a given recipe, you should calculate the nutritional information with the actual ingredients used in your recipe, using your preferred nutrition calculator.\\n'}]\u001b[0m\u001b[32;1m\u001b[1;3mHere are some great pancake recipes you can try:\n",
      "\n",
      "1. **Good Old-Fashioned Pancakes**  \n",
      "   - **Ingredients**: 1 ½ cups all-purpose flour, 3 ½ teaspoons baking powder, 1 tablespoon white sugar, ¼ teaspoon salt, 1 ¼ cups milk, 3 tablespoons butter (melted), 1 egg.  \n",
      "   - **Instructions**: Sift flour, baking powder, sugar, and salt together in a large bowl. Mix in the milk, melted butter, and egg until smooth. Cook on a griddle until golden brown.  \n",
      "   - [View Recipe](https://www.allrecipes.com/recipe/21014/good-old-fashioned-pancakes/)\n",
      "\n",
      "2. **Light and Fluffy Pancakes from Scratch**  \n",
      "   - This recipe focuses on making light and fluffy pancakes with just a few ingredients.  \n",
      "   - [View Recipe](https://www.thekitchenmagpie.com/pancakes-from-scratch/)\n",
      "\n",
      "3. **Best Fluffy Pancakes**  \n",
      "   - This recipe includes variations like 3-Ingredient Pancakes and Fluffy Blueberry Pancakes.  \n",
      "   - [View Recipe](https://cafedelites.com/best-fluffy-pancakes/)\n",
      "\n",
      "4. **Basic Pancakes by Martha Stewart**  \n",
      "   - **Ingredients**: 1 cup all-purpose flour, 2 tablespoons sugar, 2 teaspoons baking powder, ½ teaspoon salt, 1 cup milk, 2 tablespoons unsalted butter (melted), 1 large egg.  \n",
      "   - **Instructions**: Combine ingredients and cook on a skillet. Serve with your choice of toppings.  \n",
      "   - [View Recipe](https://www.marthastewart.com/338185/basic-pancakes)\n",
      "\n",
      "5. **Best Homemade Pancake Recipe**  \n",
      "   - This recipe provides step-by-step instructions for making delicious homemade pancakes.  \n",
      "   - [View Recipe](https://www.onceuponachef.com/recipes/best-pancake-recipe.html)\n",
      "\n",
      "Feel free to explore these links for detailed instructions and tips!\u001b[0m\n",
      "\n",
      "\u001b[1m> Finished chain.\u001b[0m\n"
     ]
    },
    {
     "data": {
      "text/plain": [
       "{'input': 'Search the web for recipes for pancakes',\n",
       " 'output': 'Here are some great pancake recipes you can try:\\n\\n1. **Good Old-Fashioned Pancakes**  \\n   - **Ingredients**: 1 ½ cups all-purpose flour, 3 ½ teaspoons baking powder, 1 tablespoon white sugar, ¼ teaspoon salt, 1 ¼ cups milk, 3 tablespoons butter (melted), 1 egg.  \\n   - **Instructions**: Sift flour, baking powder, sugar, and salt together in a large bowl. Mix in the milk, melted butter, and egg until smooth. Cook on a griddle until golden brown.  \\n   - [View Recipe](https://www.allrecipes.com/recipe/21014/good-old-fashioned-pancakes/)\\n\\n2. **Light and Fluffy Pancakes from Scratch**  \\n   - This recipe focuses on making light and fluffy pancakes with just a few ingredients.  \\n   - [View Recipe](https://www.thekitchenmagpie.com/pancakes-from-scratch/)\\n\\n3. **Best Fluffy Pancakes**  \\n   - This recipe includes variations like 3-Ingredient Pancakes and Fluffy Blueberry Pancakes.  \\n   - [View Recipe](https://cafedelites.com/best-fluffy-pancakes/)\\n\\n4. **Basic Pancakes by Martha Stewart**  \\n   - **Ingredients**: 1 cup all-purpose flour, 2 tablespoons sugar, 2 teaspoons baking powder, ½ teaspoon salt, 1 cup milk, 2 tablespoons unsalted butter (melted), 1 large egg.  \\n   - **Instructions**: Combine ingredients and cook on a skillet. Serve with your choice of toppings.  \\n   - [View Recipe](https://www.marthastewart.com/338185/basic-pancakes)\\n\\n5. **Best Homemade Pancake Recipe**  \\n   - This recipe provides step-by-step instructions for making delicious homemade pancakes.  \\n   - [View Recipe](https://www.onceuponachef.com/recipes/best-pancake-recipe.html)\\n\\nFeel free to explore these links for detailed instructions and tips!'}"
      ]
     },
     "execution_count": 21,
     "metadata": {},
     "output_type": "execute_result"
    }
   ],
   "source": [
    "agent_executor.invoke({\"input\": \"Search the web for recipes for pancakes\"})"
   ]
  },
  {
   "cell_type": "markdown",
   "metadata": {},
   "source": [
    "# TM's input: 'Cooking pancakes in a low gravity situation, like on the moon, or even zero gravity on ISS'"
   ]
  },
  {
   "cell_type": "code",
   "execution_count": 22,
   "metadata": {},
   "outputs": [
    {
     "name": "stdout",
     "output_type": "stream",
     "text": [
      "\n",
      "\n",
      "\u001b[1m> Entering new AgentExecutor chain...\u001b[0m\n",
      "\u001b[32;1m\u001b[1;3m\n",
      "Invoking: `tavily_search_results_json` with `{'query': 'cooking pancakes in low gravity moon ISS'}`\n",
      "\n",
      "\n",
      "\u001b[0m\u001b[36;1m\u001b[1;3m[{'url': 'https://www.sciencedirect.com/science/article/pii/S2214799323000358', 'content': 'The main aspect of these conditions is reduced gravity. In the present work, at first, the ways of achieving low-gravity conditions on earth are presented. It appears that there is little possibility to use these ways effectively to perform long-enough cooking tests in low gravity, with ISS being currently the only reliable alternative.'}, {'url': 'https://www.esa.int/Science_Exploration/Human_and_Robotic_Exploration/Research/Flying_frying_in_microgravity', 'content': 'ESA has been supporting research in frying cooking methods in microgravity to fill in knowledge gaps on Earth and in space. Even though frying potatoes is done everywhere around the world, it involves complex physics and chemistry, and in space everything becomes more complicated. It was no sure thing that frying would work without gravity.'}, {'url': 'https://www.youtube.com/watch?v=o_Psw76S_3U', 'content': 'Subscribe here: http://bit.ly/ODNsubsESA astronaut Samantha Cristoforetti hosts her own cooking show on board the International Space Station, making turmeri...'}, {'url': 'https://www.smithsonianmag.com/smart-news/space-no-one-can-hear-you-nom-space-station-getting-cookie-baking-oven-1-180973455/', 'content': 'Marcia Dunn at the Associated Press reports that the oven uses electrical heating elements and maxes out at 350 degrees, about twice as hot as the warmers currently used to heat food on the space ...'}, {'url': 'https://www.bbc.com/travel/article/20240525-what-will-we-eat-on-the-moon-the-food-is-literally-out-of-this-world', 'content': 'In 2021, Nasa launched a Deep Space Food Challenge to discover new ways to create food in space with limited resources producing minimal waste, while also providing safe, nutritious and tasty food ...'}]\u001b[0m\u001b[32;1m\u001b[1;3mCooking pancakes in low or zero gravity, such as on the Moon or the International Space Station (ISS), presents unique challenges and considerations due to the absence of gravitational forces. Here are some insights based on current research and practices:\n",
      "\n",
      "1. **Cooking Methods**: Traditional cooking methods that rely on gravity, such as flipping pancakes, are not feasible in microgravity. Instead, astronauts may need to use specialized equipment that can contain the batter and apply heat without the need for flipping. For example, frying methods have been researched to understand how they can be adapted for space cooking.\n",
      "\n",
      "2. **Research and Development**: The European Space Agency (ESA) has been conducting research on frying and cooking methods in microgravity. This research aims to fill knowledge gaps about how cooking processes change in space, as the physics and chemistry involved can behave differently without gravity. For instance, frying potatoes in space has been explored to understand how heat transfer and oil behavior change.\n",
      "\n",
      "3. **Food Preparation**: On the ISS, astronauts have access to various cooking appliances, including ovens that can reach temperatures suitable for baking. However, the cooking process must be adapted to ensure that food does not float away or create a mess in the cabin.\n",
      "\n",
      "4. **Innovative Solutions**: NASA has initiated challenges like the Deep Space Food Challenge to encourage the development of new food preparation methods that are efficient and produce minimal waste. This includes creating food that is nutritious and safe for consumption in space.\n",
      "\n",
      "5. **Practical Examples**: Astronauts have been known to host cooking shows in space, demonstrating how they prepare meals with the available resources. For example, ESA astronaut Samantha Cristoforetti has showcased cooking techniques aboard the ISS.\n",
      "\n",
      "For more detailed information, you can explore the following resources:\n",
      "- [ESA's research on frying in microgravity](https://www.esa.int/Science_Exploration/Human_and_Robotic_Exploration/Research/Flying_frying_in_microgravity)\n",
      "- [NASA's Deep Space Food Challenge](https://www.bbc.com/travel/article/20240525-what-will-we-eat-on-the-moon-the-food-is-literally-out-of-this-world) \n",
      "\n",
      "These insights highlight the innovative approaches being taken to adapt cooking techniques for low and zero gravity environments.\u001b[0m\n",
      "\n",
      "\u001b[1m> Finished chain.\u001b[0m\n"
     ]
    },
    {
     "data": {
      "text/plain": [
       "{'input': 'Cooking pancakes in a low gravity situation, like on the moon, or even zero gravity on ISS',\n",
       " 'output': \"Cooking pancakes in low or zero gravity, such as on the Moon or the International Space Station (ISS), presents unique challenges and considerations due to the absence of gravitational forces. Here are some insights based on current research and practices:\\n\\n1. **Cooking Methods**: Traditional cooking methods that rely on gravity, such as flipping pancakes, are not feasible in microgravity. Instead, astronauts may need to use specialized equipment that can contain the batter and apply heat without the need for flipping. For example, frying methods have been researched to understand how they can be adapted for space cooking.\\n\\n2. **Research and Development**: The European Space Agency (ESA) has been conducting research on frying and cooking methods in microgravity. This research aims to fill knowledge gaps about how cooking processes change in space, as the physics and chemistry involved can behave differently without gravity. For instance, frying potatoes in space has been explored to understand how heat transfer and oil behavior change.\\n\\n3. **Food Preparation**: On the ISS, astronauts have access to various cooking appliances, including ovens that can reach temperatures suitable for baking. However, the cooking process must be adapted to ensure that food does not float away or create a mess in the cabin.\\n\\n4. **Innovative Solutions**: NASA has initiated challenges like the Deep Space Food Challenge to encourage the development of new food preparation methods that are efficient and produce minimal waste. This includes creating food that is nutritious and safe for consumption in space.\\n\\n5. **Practical Examples**: Astronauts have been known to host cooking shows in space, demonstrating how they prepare meals with the available resources. For example, ESA astronaut Samantha Cristoforetti has showcased cooking techniques aboard the ISS.\\n\\nFor more detailed information, you can explore the following resources:\\n- [ESA's research on frying in microgravity](https://www.esa.int/Science_Exploration/Human_and_Robotic_Exploration/Research/Flying_frying_in_microgravity)\\n- [NASA's Deep Space Food Challenge](https://www.bbc.com/travel/article/20240525-what-will-we-eat-on-the-moon-the-food-is-literally-out-of-this-world) \\n\\nThese insights highlight the innovative approaches being taken to adapt cooking techniques for low and zero gravity environments.\"}"
      ]
     },
     "execution_count": 22,
     "metadata": {},
     "output_type": "execute_result"
    }
   ],
   "source": [
    "query = 'Cooking pancakes in a low gravity situation, like on the moon, or even zero gravity on ISS'\n",
    "\n",
    "output = agent_executor.invoke({\"input\": query})\n",
    "\n",
    "output"
   ]
  },
  {
   "cell_type": "code",
   "execution_count": 23,
   "metadata": {},
   "outputs": [
    {
     "name": "stdout",
     "output_type": "stream",
     "text": [
      "\n",
      "\n",
      "\u001b[1m> Entering new AgentExecutor chain...\u001b[0m\n",
      "\u001b[32;1m\u001b[1;3m\n",
      "Invoking: `tavily_search_results_json` with `{'query': 'site:medium.com using LLM agents to augment human research workflows'}`\n",
      "\n",
      "\n",
      "\u001b[0m\u001b[36;1m\u001b[1;3m[{'url': 'https://vijaykumarkartha.medium.com/multiple-ai-agents-creating-multi-agent-workflows-using-langgraph-and-langchain-0587406ec4e6', 'content': \"Collaborative Multi-Agents. Much like human collaboration, different AI agents in a collaborative multi-agent workflow communicate using a shared scratchpad of messages. This allows each agent to view other agents' work and observe all the individual steps taken. The various AI agents could be based on the same LLM but in different roles.\"}, {'url': 'https://medium.com/@kose2livs/enhancing-llm-performance-with-agents-workflow-1c7db07d7947', 'content': 'In such a workflow, we can ask the LLM to iterate on documents multiple times to produce high-quality answers. ... while using the Agent workflow, some agents even reached 95% accuracy on GPT-3.5 ...'}, {'url': 'https://medium.com/@abhilasha.sinha/elevate-your-ai-game-with-effective-llm-powered-agents-in-the-modern-landscape-c4341312d447', 'content': 'The transition into LLM-powered agents represents a transformative era in data science and technology, ushering in a new paradigm where the synergy between human intelligence and AI capabilities ...'}, {'url': 'https://medium.com/@pallavisinha12/understanding-llm-based-agents-and-their-multi-agent-architecture-299cf54ebae4', 'content': 'An LLM-Based Multi Agent System consists of multiple agents that work together to achieve a common goal. Each agent in the system has a specific role and specialized in performing a particular task.'}, {'url': 'https://ruintheextinct.medium.com/autogen-paving-the-way-for-llm-agents-with-multi-agent-chats-544f575df28a', 'content': 'Paving the Way for LLM Agents with Multi-Agent Chats\\nRUiNtheExtinct\\nFollow\\n--\\nListen\\nShare\\nAutoGen is a framework that enables the development of LLM applications using multiple agents that can converse with each other to solve tasks. --\\n--\\nWritten by RUiNtheExtinct\\nHelp\\nStatus\\nAbout\\nCareers\\nBlog\\nPrivacy\\nTerms\\nText to speech\\nTeams Now, while it has the capability to do so, I believe it is most prudent to have a separation of capabilities among the Assistant and UserProxy agents and only give some of them the capability to execute code unless absolutely necessary.\\n Specifically, the agents in AutoGen have the following notable features:\\nThe figure below shows the built-in agents in AutoGen.\\n The models are in a GroupChat where the former develops the REST API and the latter tests it by sending POST requests to that API.\\n'}]\u001b[0m\u001b[32;1m\u001b[1;3mHere are some articles from Medium.com that discuss using LLM (Large Language Model) agents to augment human research workflows:\n",
      "\n",
      "1. **[Multiple AI Agents: Creating Multi-Agent Workflows Using LangGraph and LangChain](https://vijaykumarkartha.medium.com/multiple-ai-agents-creating-multi-agent-workflows-using-langgraph-and-langchain-0587406ec4e6)**  \n",
      "   This article explores collaborative multi-agent workflows where different AI agents communicate using a shared scratchpad of messages, allowing them to observe each other's work and steps taken.\n",
      "\n",
      "2. **[Enhancing LLM Performance with Agents Workflow](https://medium.com/@kose2livs/enhancing-llm-performance-with-agents-workflow-1c7db07d7947)**  \n",
      "   It discusses how LLMs can iterate on documents multiple times to produce high-quality answers, with some agents achieving up to 95% accuracy using the Agent workflow.\n",
      "\n",
      "3. **[Elevate Your AI Game with Effective LLM-Powered Agents in the Modern Landscape](https://medium.com/@abhilasha.sinha/elevate-your-ai-game-with-effective-llm-powered-agents-in-the-modern-landscape-c4341312d447)**  \n",
      "   This article highlights the transformative impact of LLM-powered agents in data science and technology, emphasizing the synergy between human intelligence and AI capabilities.\n",
      "\n",
      "4. **[Understanding LLM-Based Agents and Their Multi-Agent Architecture](https://medium.com/@pallavisinha12/understanding-llm-based-agents-and-their-multi-agent-architecture-299cf54ebae4)**  \n",
      "   It provides insights into LLM-based multi-agent systems, detailing how multiple agents work together towards a common goal, each with specific roles and tasks.\n",
      "\n",
      "5. **[AutoGen: Paving the Way for LLM Agents with Multi-Agent Chats](https://ruintheextinct.medium.com/autogen-paving-the-way-for-llm-agents-with-multi-agent-chats-544f575df28a)**  \n",
      "   This article discusses the AutoGen framework, which enables the development of LLM applications using multiple agents that can converse to solve tasks, highlighting the separation of capabilities among different agents.\n",
      "\n",
      "These articles provide a comprehensive overview of how LLM agents can enhance research workflows through collaboration and specialized task execution.\u001b[0m\n",
      "\n",
      "\u001b[1m> Finished chain.\u001b[0m\n"
     ]
    },
    {
     "data": {
      "text/plain": [
       "{'input': 'Research only medium.com domains for articles about using LLM agents to augment human research workflows.',\n",
       " 'output': \"Here are some articles from Medium.com that discuss using LLM (Large Language Model) agents to augment human research workflows:\\n\\n1. **[Multiple AI Agents: Creating Multi-Agent Workflows Using LangGraph and LangChain](https://vijaykumarkartha.medium.com/multiple-ai-agents-creating-multi-agent-workflows-using-langgraph-and-langchain-0587406ec4e6)**  \\n   This article explores collaborative multi-agent workflows where different AI agents communicate using a shared scratchpad of messages, allowing them to observe each other's work and steps taken.\\n\\n2. **[Enhancing LLM Performance with Agents Workflow](https://medium.com/@kose2livs/enhancing-llm-performance-with-agents-workflow-1c7db07d7947)**  \\n   It discusses how LLMs can iterate on documents multiple times to produce high-quality answers, with some agents achieving up to 95% accuracy using the Agent workflow.\\n\\n3. **[Elevate Your AI Game with Effective LLM-Powered Agents in the Modern Landscape](https://medium.com/@abhilasha.sinha/elevate-your-ai-game-with-effective-llm-powered-agents-in-the-modern-landscape-c4341312d447)**  \\n   This article highlights the transformative impact of LLM-powered agents in data science and technology, emphasizing the synergy between human intelligence and AI capabilities.\\n\\n4. **[Understanding LLM-Based Agents and Their Multi-Agent Architecture](https://medium.com/@pallavisinha12/understanding-llm-based-agents-and-their-multi-agent-architecture-299cf54ebae4)**  \\n   It provides insights into LLM-based multi-agent systems, detailing how multiple agents work together towards a common goal, each with specific roles and tasks.\\n\\n5. **[AutoGen: Paving the Way for LLM Agents with Multi-Agent Chats](https://ruintheextinct.medium.com/autogen-paving-the-way-for-llm-agents-with-multi-agent-chats-544f575df28a)**  \\n   This article discusses the AutoGen framework, which enables the development of LLM applications using multiple agents that can converse to solve tasks, highlighting the separation of capabilities among different agents.\\n\\nThese articles provide a comprehensive overview of how LLM agents can enhance research workflows through collaboration and specialized task execution.\"}"
      ]
     },
     "execution_count": 23,
     "metadata": {},
     "output_type": "execute_result"
    }
   ],
   "source": [
    "query_specific_website = \"Research only medium.com domains for articles about using LLM agents to augment human research workflows.\"\n",
    "\n",
    "output = agent_executor.invoke({\"input\": query_specific_website})\n",
    "output"
   ]
  },
  {
   "cell_type": "code",
   "execution_count": null,
   "metadata": {},
   "outputs": [],
   "source": []
  }
 ],
 "metadata": {
  "kernelspec": {
   "display_name": "oreilly-langchain",
   "language": "python",
   "name": "oreilly-langchain"
  },
  "language_info": {
   "codemirror_mode": {
    "name": "ipython",
    "version": 3
   },
   "file_extension": ".py",
   "mimetype": "text/x-python",
   "name": "python",
   "nbconvert_exporter": "python",
   "pygments_lexer": "ipython3",
   "version": "3.11.9"
  }
 },
 "nbformat": 4,
 "nbformat_minor": 2
}
