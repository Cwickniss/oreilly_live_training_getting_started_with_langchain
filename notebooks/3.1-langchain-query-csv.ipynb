{
 "cells": [
  {
   "cell_type": "code",
   "execution_count": 27,
   "metadata": {},
   "outputs": [],
   "source": [
    "# !pip install langchain\n",
    "# !pip install openai\n",
    "# !pip install pypdf\n",
    "# !pip install chromadb\n",
    "# !pip install langchainhub"
   ]
  },
  {
   "cell_type": "code",
   "execution_count": 28,
   "metadata": {},
   "outputs": [],
   "source": [
    "from langchain.document_loaders.csv_loader import CSVLoader"
   ]
  },
  {
   "cell_type": "code",
   "execution_count": 29,
   "metadata": {},
   "outputs": [
    {
     "data": {
      "text/plain": [
       "[Document(page_content='Superhero Name: Captain Thunder\\nSuperpower: Bolt Manipulation\\nPower Level: 90\\nCatchphrase: Feel the power of the storm!', metadata={'source': './assets-resources/superheroes.csv', 'row': 0}),\n",
       " Document(page_content='Superhero Name: Silver Falcon\\nSuperpower: Flight and Agility\\nPower Level: 85\\nCatchphrase: Soar high, fearlessly!', metadata={'source': './assets-resources/superheroes.csv', 'row': 1}),\n",
       " Document(page_content='Superhero Name: Mystic Shadow\\nSuperpower: Invisibility and Illusions\\nPower Level: 78\\nCatchphrase: Disappear into the darkness!', metadata={'source': './assets-resources/superheroes.csv', 'row': 2}),\n",
       " Document(page_content='Superhero Name: Blaze Runner\\nSuperpower: Pyrokinesis\\nPower Level: 88\\nCatchphrase: Burn bright and fierce!', metadata={'source': './assets-resources/superheroes.csv', 'row': 3}),\n",
       " Document(page_content='Superhero Name: Electra-Wave\\nSuperpower: Electric Manipulation\\nPower Level: 82\\nCatchphrase: Unleash the electric waves!', metadata={'source': './assets-resources/superheroes.csv', 'row': 4}),\n",
       " Document(page_content='Superhero Name: Crimson Cyclone\\nSuperpower: Super Speed\\nPower Level: 91\\nCatchphrase: Blazing fast and unstoppable!', metadata={'source': './assets-resources/superheroes.csv', 'row': 5}),\n",
       " Document(page_content='Superhero Name: Aqua Fury\\nSuperpower: Hydrokinesis\\nPower Level: 80\\nCatchphrase: Ride the waves of power!', metadata={'source': './assets-resources/superheroes.csv', 'row': 6}),\n",
       " Document(page_content=\"Superhero Name: Lunar Guardian\\nSuperpower: Lunar Manipulation\\nPower Level: 77\\nCatchphrase: Embrace the moon's might!\", metadata={'source': './assets-resources/superheroes.csv', 'row': 7}),\n",
       " Document(page_content='Superhero Name: Steel Titan\\nSuperpower: Super Strength and Durability\\nPower Level: 95\\nCatchphrase: Indestructible force of nature!', metadata={'source': './assets-resources/superheroes.csv', 'row': 8}),\n",
       " Document(page_content='Superhero Name: Nightblade\\nSuperpower: Night Vision and Stealth\\nPower Level: 84\\nCatchphrase: Strike from the shadows!', metadata={'source': './assets-resources/superheroes.csv', 'row': 9}),\n",
       " Document(page_content='Superhero Name: Frostbite\\nSuperpower: Ice Manipulation\\nPower Level: 87\\nCatchphrase: Chill your bones!', metadata={'source': './assets-resources/superheroes.csv', 'row': 10}),\n",
       " Document(page_content='Superhero Name: Starburst\\nSuperpower: Energy Projection\\nPower Level: 83\\nCatchphrase: Ignite the cosmos!', metadata={'source': './assets-resources/superheroes.csv', 'row': 11}),\n",
       " Document(page_content='Superhero Name: Sonic Dash\\nSuperpower: Sound Manipulation\\nPower Level: 86\\nCatchphrase: Hear the sound of victory!', metadata={'source': './assets-resources/superheroes.csv', 'row': 12}),\n",
       " Document(page_content='Superhero Name: Nova Surge\\nSuperpower: Energy Absorption and Redirection\\nPower Level: 89\\nCatchphrase: Harness the energy within!', metadata={'source': './assets-resources/superheroes.csv', 'row': 13}),\n",
       " Document(page_content='Superhero Name: Shadowcat\\nSuperpower: Intangibility\\nPower Level: 76\\nCatchphrase: Phase through the impossible!', metadata={'source': './assets-resources/superheroes.csv', 'row': 14}),\n",
       " Document(page_content='Superhero Name: Neon Spark\\nSuperpower: Light Manipulation\\nPower Level: 79\\nCatchphrase: Glow and dazzle!', metadata={'source': './assets-resources/superheroes.csv', 'row': 15}),\n",
       " Document(page_content='Superhero Name: Phoenix Flame\\nSuperpower: Resurrection and Healing\\nPower Level: 94\\nCatchphrase: Rise from the ashes!', metadata={'source': './assets-resources/superheroes.csv', 'row': 16}),\n",
       " Document(page_content='Superhero Name: Crystal Guardian\\nSuperpower: Crystallokinesis\\nPower Level: 81\\nCatchphrase: Shatter your illusions!', metadata={'source': './assets-resources/superheroes.csv', 'row': 17}),\n",
       " Document(page_content='Superhero Name: Earthshaker\\nSuperpower: Geokinesis\\nPower Level: 92\\nCatchphrase: Feel the earth tremble beneath you!', metadata={'source': './assets-resources/superheroes.csv', 'row': 18}),\n",
       " Document(page_content='Superhero Name: Silver Seraph\\nSuperpower: Telekinesis\\nPower Level: 85\\nCatchphrase: Move objects with your mind!', metadata={'source': './assets-resources/superheroes.csv', 'row': 19}),\n",
       " Document(page_content=\"Superhero Name: Stormbringer\\nSuperpower: Weather Manipulation\\nPower Level: 93\\nCatchphrase: Unleash the storm's fury!\", metadata={'source': './assets-resources/superheroes.csv', 'row': 20}),\n",
       " Document(page_content='Superhero Name: Scarlet Siren\\nSuperpower: Mind Control\\nPower Level: 88\\nCatchphrase: Obey my commands!', metadata={'source': './assets-resources/superheroes.csv', 'row': 21}),\n",
       " Document(page_content='Superhero Name: Rift Walker\\nSuperpower: Dimensional Travel\\nPower Level: 90\\nCatchphrase: Step between worlds!', metadata={'source': './assets-resources/superheroes.csv', 'row': 22}),\n",
       " Document(page_content=\"Superhero Name: Chrono-Wizard\\nSuperpower: Time Manipulation\\nPower Level: 91\\nCatchphrase: Master of time's flow!\", metadata={'source': './assets-resources/superheroes.csv', 'row': 23}),\n",
       " Document(page_content='Superhero Name: Blazing Comet\\nSuperpower: Fireball Projection\\nPower Level: 82\\nCatchphrase: Burn brighter than a comet!', metadata={'source': './assets-resources/superheroes.csv', 'row': 24}),\n",
       " Document(page_content='Superhero Name: Phantom Wisp\\nSuperpower: Invisibility\\nPower Level: 75\\nCatchphrase: Disappear like a wisp in the wind!', metadata={'source': './assets-resources/superheroes.csv', 'row': 25}),\n",
       " Document(page_content='Superhero Name: Luminous Knight\\nSuperpower: Luminokinesis\\nPower Level: 78\\nCatchphrase: Illuminate the darkest night!', metadata={'source': './assets-resources/superheroes.csv', 'row': 26}),\n",
       " Document(page_content='Superhero Name: Gravity Shift\\nSuperpower: Gravity Manipulation\\nPower Level: 89\\nCatchphrase: Bend gravity to your will!', metadata={'source': './assets-resources/superheroes.csv', 'row': 27}),\n",
       " Document(page_content='Superhero Name: Solar Empress\\nSuperpower: Solar Energy Absorption\\nPower Level: 87\\nCatchphrase: Harness the power of the sun!', metadata={'source': './assets-resources/superheroes.csv', 'row': 28}),\n",
       " Document(page_content='Superhero Name: Twilight Specter\\nSuperpower: Shadow Manipulation\\nPower Level: 80\\nCatchphrase: Dance with shadows!', metadata={'source': './assets-resources/superheroes.csv', 'row': 29}),\n",
       " Document(page_content='Superhero Name: Thunderstrike\\nSuperpower: Lightning Control\\nPower Level: 91\\nCatchphrase: Electrify the battlefield!', metadata={'source': './assets-resources/superheroes.csv', 'row': 30}),\n",
       " Document(page_content='Superhero Name: Nebula Weaver\\nSuperpower: Reality Warping\\nPower Level: 96\\nCatchphrase: Shape the fabric of reality!', metadata={'source': './assets-resources/superheroes.csv', 'row': 31}),\n",
       " Document(page_content='Superhero Name: Frostglide\\nSuperpower: Cryo-Teleportation\\nPower Level: 85\\nCatchphrase: Freeze and glide through space!', metadata={'source': './assets-resources/superheroes.csv', 'row': 32}),\n",
       " Document(page_content='Superhero Name: Zenith Blaze\\nSuperpower: Heat Vision\\nPower Level: 83\\nCatchphrase: Gaze into the flames of justice!', metadata={'source': './assets-resources/superheroes.csv', 'row': 33}),\n",
       " Document(page_content='Superhero Name: Astral Drifter\\nSuperpower: Astral Projection\\nPower Level: 79\\nCatchphrase: Roam the astral plane!', metadata={'source': './assets-resources/superheroes.csv', 'row': 34}),\n",
       " Document(page_content='Superhero Name: Blade Dancer\\nSuperpower: Swordsmanship and Agility\\nPower Level: 88\\nCatchphrase: Dance with deadly grace!', metadata={'source': './assets-resources/superheroes.csv', 'row': 35}),\n",
       " Document(page_content=\"Superhero Name: Azure Tempest\\nSuperpower: Water Manipulation\\nPower Level: 82\\nCatchphrase: Unleash the tempest's rage!\", metadata={'source': './assets-resources/superheroes.csv', 'row': 36}),\n",
       " Document(page_content='Superhero Name: Ghost Sentinel\\nSuperpower: Intangibility and Invisibility\\nPower Level: 76\\nCatchphrase: Haunt your nightmares!', metadata={'source': './assets-resources/superheroes.csv', 'row': 37}),\n",
       " Document(page_content='Superhero Name: Ember Fox\\nSuperpower: Pyrokinetic Fox Shapeshifter\\nPower Level: 89\\nCatchphrase: Outfox your enemies with fire!', metadata={'source': './assets-resources/superheroes.csv', 'row': 38}),\n",
       " Document(page_content='Superhero Name: Psy-Bender\\nSuperpower: Telepathy\\nPower Level: 84\\nCatchphrase: Read minds like an open book!', metadata={'source': './assets-resources/superheroes.csv', 'row': 39}),\n",
       " Document(page_content='Superhero Name: Celestial Sphinx\\nSuperpower: Cosmic Awareness\\nPower Level: 93\\nCatchphrase: Unravel the secrets of the universe!', metadata={'source': './assets-resources/superheroes.csv', 'row': 40}),\n",
       " Document(page_content=\"Superhero Name: Dragonfist\\nSuperpower: Dragon Summoning and Martial Arts\\nPower Level: 92\\nCatchphrase: Unleash the dragon's fury!\", metadata={'source': './assets-resources/superheroes.csv', 'row': 41}),\n",
       " Document(page_content='Superhero Name: Solar Flare\\nSuperpower: Solar Energy Projection\\nPower Level: 85\\nCatchphrase: Feel the burning light!', metadata={'source': './assets-resources/superheroes.csv', 'row': 42}),\n",
       " Document(page_content='Superhero Name: Night Lotus\\nSuperpower: Darkness Manipulation\\nPower Level: 78\\nCatchphrase: Bloom in the shadows!', metadata={'source': './assets-resources/superheroes.csv', 'row': 43}),\n",
       " Document(page_content='Superhero Name: Quantum Strider\\nSuperpower: Quantum Manipulation\\nPower Level: 90\\nCatchphrase: Walk the edge of reality!', metadata={'source': './assets-resources/superheroes.csv', 'row': 44}),\n",
       " Document(page_content='Superhero Name: Ironclad\\nSuperpower: Invulnerability and Enhanced Strength\\nPower Level: 95\\nCatchphrase: Invincible and mighty!', metadata={'source': './assets-resources/superheroes.csv', 'row': 45}),\n",
       " Document(page_content='Superhero Name: Shadow Stalker\\nSuperpower: Shadow Shifting\\nPower Level: 81\\nCatchphrase: Disappear and reappear at will!', metadata={'source': './assets-resources/superheroes.csv', 'row': 46}),\n",
       " Document(page_content=\"Superhero Name: Aqua Archer\\nSuperpower: Water Arrow Projection\\nPower Level: 80\\nCatchphrase: Shoot through water's flow!\", metadata={'source': './assets-resources/superheroes.csv', 'row': 47}),\n",
       " Document(page_content='Superhero Name: Crystal Gazer\\nSuperpower: Crystal Ball Scrying\\nPower Level: 77\\nCatchphrase: See what the future holds!', metadata={'source': './assets-resources/superheroes.csv', 'row': 48})]"
      ]
     },
     "execution_count": 29,
     "metadata": {},
     "output_type": "execute_result"
    }
   ],
   "source": [
    "loader = CSVLoader(file_path=\"./assets-resources/superheroes.csv\")\n",
    "data = loader.load()\n",
    "data"
   ]
  },
  {
   "cell_type": "code",
   "execution_count": 30,
   "metadata": {},
   "outputs": [
    {
     "data": {
      "text/html": [
       "<div>\n",
       "<style scoped>\n",
       "    .dataframe tbody tr th:only-of-type {\n",
       "        vertical-align: middle;\n",
       "    }\n",
       "\n",
       "    .dataframe tbody tr th {\n",
       "        vertical-align: top;\n",
       "    }\n",
       "\n",
       "    .dataframe thead th {\n",
       "        text-align: right;\n",
       "    }\n",
       "</style>\n",
       "<table border=\"1\" class=\"dataframe\">\n",
       "  <thead>\n",
       "    <tr style=\"text-align: right;\">\n",
       "      <th></th>\n",
       "      <th>Superhero Name</th>\n",
       "      <th>Superpower</th>\n",
       "      <th>Power Level</th>\n",
       "      <th>Catchphrase</th>\n",
       "    </tr>\n",
       "  </thead>\n",
       "  <tbody>\n",
       "    <tr>\n",
       "      <th>0</th>\n",
       "      <td>Captain Thunder</td>\n",
       "      <td>Bolt Manipulation</td>\n",
       "      <td>90</td>\n",
       "      <td>Feel the power of the storm!</td>\n",
       "    </tr>\n",
       "    <tr>\n",
       "      <th>1</th>\n",
       "      <td>Silver Falcon</td>\n",
       "      <td>Flight and Agility</td>\n",
       "      <td>85</td>\n",
       "      <td>Soar high, fearlessly!</td>\n",
       "    </tr>\n",
       "    <tr>\n",
       "      <th>2</th>\n",
       "      <td>Mystic Shadow</td>\n",
       "      <td>Invisibility and Illusions</td>\n",
       "      <td>78</td>\n",
       "      <td>Disappear into the darkness!</td>\n",
       "    </tr>\n",
       "    <tr>\n",
       "      <th>3</th>\n",
       "      <td>Blaze Runner</td>\n",
       "      <td>Pyrokinesis</td>\n",
       "      <td>88</td>\n",
       "      <td>Burn bright and fierce!</td>\n",
       "    </tr>\n",
       "    <tr>\n",
       "      <th>4</th>\n",
       "      <td>Electra-Wave</td>\n",
       "      <td>Electric Manipulation</td>\n",
       "      <td>82</td>\n",
       "      <td>Unleash the electric waves!</td>\n",
       "    </tr>\n",
       "  </tbody>\n",
       "</table>\n",
       "</div>"
      ],
      "text/plain": [
       "    Superhero Name                  Superpower  Power Level  \\\n",
       "0  Captain Thunder           Bolt Manipulation           90   \n",
       "1    Silver Falcon          Flight and Agility           85   \n",
       "2    Mystic Shadow  Invisibility and Illusions           78   \n",
       "3     Blaze Runner                 Pyrokinesis           88   \n",
       "4     Electra-Wave       Electric Manipulation           82   \n",
       "\n",
       "                    Catchphrase  \n",
       "0  Feel the power of the storm!  \n",
       "1        Soar high, fearlessly!  \n",
       "2  Disappear into the darkness!  \n",
       "3       Burn bright and fierce!  \n",
       "4   Unleash the electric waves!  "
      ]
     },
     "execution_count": 30,
     "metadata": {},
     "output_type": "execute_result"
    }
   ],
   "source": [
    "import pandas as pd\n",
    "\n",
    "file_path=\"./assets-resources/superheroes.csv\"\n",
    "df = pd.read_csv(file_path)\n",
    "\n",
    "df.head()"
   ]
  },
  {
   "cell_type": "code",
   "execution_count": 31,
   "metadata": {},
   "outputs": [],
   "source": [
    "\n",
    "from langchain.llms import Ollama\n",
    "from langchain.callbacks.manager import CallbackManager\n",
    "from langchain.callbacks.streaming_stdout import StreamingStdOutCallbackHandler\n",
    "\n",
    "llm = Ollama(\n",
    "    model=\"mistral\",\n",
    "    verbose=True,\n",
    "    callback_manager=CallbackManager([StreamingStdOutCallbackHandler()]),\n",
    ")"
   ]
  },
  {
   "cell_type": "code",
   "execution_count": 32,
   "metadata": {},
   "outputs": [],
   "source": [
    "from langchain.text_splitter import RecursiveCharacterTextSplitter\n",
    "\n",
    "text_splitter = RecursiveCharacterTextSplitter(chunk_size=1500, chunk_overlap=100)\n",
    "all_splits = text_splitter.split_documents(data)"
   ]
  },
  {
   "cell_type": "code",
   "execution_count": 33,
   "metadata": {},
   "outputs": [],
   "source": [
    "# Embed and store\n",
    "from langchain.vectorstores import Chroma\n",
    "from langchain.embeddings import OpenAIEmbeddings\n",
    "\n",
    "vectorstore = Chroma.from_documents(documents=all_splits, embedding=OpenAIEmbeddings())"
   ]
  },
  {
   "cell_type": "code",
   "execution_count": 34,
   "metadata": {},
   "outputs": [
    {
     "data": {
      "text/plain": [
       "4"
      ]
     },
     "execution_count": 34,
     "metadata": {},
     "output_type": "execute_result"
    }
   ],
   "source": [
    "question = \"What is the name of the thunder super hero?\"\n",
    "docs = vectorstore.similarity_search(question)\n",
    "len(docs)"
   ]
  },
  {
   "cell_type": "code",
   "execution_count": 35,
   "metadata": {},
   "outputs": [
    {
     "data": {
      "text/plain": [
       "[Document(page_content='Superhero Name: Thunderstrike\\nSuperpower: Lightning Control\\nPower Level: 91\\nCatchphrase: Electrify the battlefield!', metadata={'row': 30, 'source': './assets-resources/superheroes.csv'}),\n",
       " Document(page_content='Superhero Name: Thunderstrike\\nSuperpower: Lightning Control\\nPower Level: 91\\nCatchphrase: Electrify the battlefield!', metadata={'row': 30, 'source': './assets-resources/superheroes.csv'}),\n",
       " Document(page_content='Superhero Name: Thunderstrike\\nSuperpower: Lightning Control\\nPower Level: 91\\nCatchphrase: Electrify the battlefield!', metadata={'row': 30, 'source': './assets-resources/superheroes.csv'}),\n",
       " Document(page_content='Superhero Name: Captain Thunder\\nSuperpower: Bolt Manipulation\\nPower Level: 90\\nCatchphrase: Feel the power of the storm!', metadata={'row': 0, 'source': './assets-resources/superheroes.csv'})]"
      ]
     },
     "execution_count": 35,
     "metadata": {},
     "output_type": "execute_result"
    }
   ],
   "source": [
    "docs"
   ]
  },
  {
   "cell_type": "code",
   "execution_count": 36,
   "metadata": {},
   "outputs": [
    {
     "name": "stdout",
     "output_type": "stream",
     "text": [
      "\n",
      "The catchphrase for Captain Thunder, who has the power of bolt manipulation and a power level of 90, is \"Feel the power of the storm!\"."
     ]
    }
   ],
   "source": [
    "# QA chain\n",
    "from langchain.chains import RetrievalQA\n",
    "\n",
    "# RAG prompt\n",
    "from langchain import hub\n",
    "\n",
    "QA_CHAIN_PROMPT = hub.pull(\"rlm/rag-prompt-llama\")\n",
    "\n",
    "qa_chain = RetrievalQA.from_chain_type(\n",
    "    llm,\n",
    "    retriever=vectorstore.as_retriever(),\n",
    "    chain_type_kwargs={\"prompt\": QA_CHAIN_PROMPT},\n",
    ")\n",
    "\n",
    "question = \"What is the catch phrase for the super hero with the power of thunder?\"\n",
    "result = qa_chain({\"query\": question})"
   ]
  }
 ],
 "metadata": {
  "kernelspec": {
   "display_name": "oreilly-langchain",
   "language": "python",
   "name": "oreilly-langchain"
  },
  "language_info": {
   "codemirror_mode": {
    "name": "ipython",
    "version": 3
   },
   "file_extension": ".py",
   "mimetype": "text/x-python",
   "name": "python",
   "nbconvert_exporter": "python",
   "pygments_lexer": "ipython3",
   "version": "3.11.5"
  }
 },
 "nbformat": 4,
 "nbformat_minor": 2
}
