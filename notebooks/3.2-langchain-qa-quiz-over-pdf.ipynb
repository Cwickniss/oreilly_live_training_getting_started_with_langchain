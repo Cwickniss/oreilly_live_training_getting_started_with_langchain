{
 "cells": [
  {
   "cell_type": "markdown",
   "metadata": {},
   "source": [
    "Let's set up a study workflow using Jupyter Notebooks, LLMs, and langchain."
   ]
  },
  {
   "cell_type": "code",
   "execution_count": null,
   "metadata": {},
   "outputs": [],
   "source": [
    "# !pip install langchain\n",
    "# !pip install openai\n",
    "# !pip install pypdf\n",
    "# !pip install chromadb\n",
    "# !pip install langchainhub"
   ]
  },
  {
   "cell_type": "code",
   "execution_count": 7,
   "metadata": {},
   "outputs": [],
   "source": [
    "from langchain.document_loaders import PyPDFLoader\n",
    "from langchain.embeddings import OpenAIEmbeddings\n",
    "from langchain.vectorstores import Chroma\n",
    "from langchain.chains import ChatVectorDBChain\n",
    "from langchain.chat_models import ChatOpenAI\n",
    "import os\n",
    "import openai\n",
    "from dotenv import load_dotenv, find_dotenv\n",
    "openai.api_key = os.environ[\"OPENAI_API_KEY\"]"
   ]
  },
  {
   "cell_type": "code",
   "execution_count": 5,
   "metadata": {},
   "outputs": [],
   "source": [
    "persist_directory = \"./\"\n",
    "pdf = \"./assets-resources/Augmenting-Human-Intellect_ A-Conceptual-Framework-1962-Doug Engelbart.pdf\"\n",
    "loader = PyPDFLoader(pdf)\n",
    "pdf_doc = loader.load_and_split()\n",
    "embeddings = OpenAIEmbeddings()\n",
    "vectordb = Chroma.from_documents(pdf_doc, embedding=embeddings,\\\n",
    "    persist_directory=persist_directory)\n",
    "vectordb.persist()"
   ]
  },
  {
   "cell_type": "code",
   "execution_count": 8,
   "metadata": {},
   "outputs": [
    {
     "name": "stderr",
     "output_type": "stream",
     "text": [
      "/Users/greatmaster/miniconda3/envs/oreilly-langchain/lib/python3.11/site-packages/langchain/chains/conversational_retrieval/base.py:405: UserWarning: `ChatVectorDBChain` is deprecated - please use `from langchain.chains import ConversationalRetrievalChain`\n",
      "  warnings.warn(\n"
     ]
    },
    {
     "name": "stdout",
     "output_type": "stream",
     "text": [
      "ANSWER\n",
      "According to Douglas Engelbart, augmentation refers to the use of computer-based systems to enhance or augment human intellect. This involves the development of new languages, methodologies, and symbol-manipulating capabilities that capitalize on the capabilities of computer-based equipment. The goal is to improve the intellectual capabilities of humans, particularly in problem-solving tasks. This augmentation can involve the use of display screens, keysets, and light pens, among other tools, to interact with the computer system and manipulate symbols in a dynamic and flexible manner.\n"
     ]
    }
   ],
   "source": [
    "pdf_qa = ChatVectorDBChain.from_llm(ChatOpenAI(temperature=0,\\\n",
    "    model_name=\"gpt-4\"), vectordb, return_source_documents=True)\n",
    "query = \"What is augmentation according to Douglas Engelbart?\"\n",
    "result = pdf_qa({\"question\": query, \"chat_history\": \"\"})\n",
    "print(\"ANSWER\")\n",
    "print(result[\"answer\"])"
   ]
  },
  {
   "cell_type": "code",
   "execution_count": 9,
   "metadata": {},
   "outputs": [
    {
     "name": "stdout",
     "output_type": "stream",
     "text": [
      "QUERY:  What are the four ways through which human capabilities are augmented according to Douglas Engelbart?\n",
      "ANSWER I'm sorry, but the provided text does not specify the four ways through which human capabilities are augmented according to Douglas Engelbart.\n"
     ]
    },
    {
     "data": {
      "text/plain": [
       "\"I'm sorry, but the provided text does not specify the four ways through which human capabilities are augmented according to Douglas Engelbart.\""
      ]
     },
     "execution_count": 9,
     "metadata": {},
     "output_type": "execute_result"
    }
   ],
   "source": [
    "def ask_pdf(pdf_qa,query):\n",
    "    print(\"QUERY: \",query)\n",
    "    result = pdf_qa({\"question\": query, \"chat_history\": \"\"})\n",
    "    answer = result[\"answer\"]\n",
    "    print(\"ANSWER\", answer)\n",
    "    return answer\n",
    "\n",
    "\n",
    "ask_pdf(pdf_qa,\"What are the four ways through which human capabilities are augmented according to Douglas Engelbart?\")"
   ]
  },
  {
   "cell_type": "code",
   "execution_count": 10,
   "metadata": {},
   "outputs": [
    {
     "name": "stdout",
     "output_type": "stream",
     "text": [
      "QUERY:  Quiz me on theessay with 5 fundamental questions.\n",
      "ANSWER 1. What is the main purpose of the techniques and capabilities demonstrated by Joe in the essay?\n",
      "2. How does the computer system described in the essay assist in the manipulation and organization of symbol structures?\n",
      "3. What is the concept of an 'argument' as described in the essay?\n",
      "4. How does the system help in structuring an argument and enhancing comprehension of complex concepts?\n",
      "5. What are some of the specific capabilities of the system that Joe demonstrates, such as in relation to text manipulation and linking of substructures?\n"
     ]
    },
    {
     "data": {
      "text/plain": [
       "\"1. What is the main purpose of the techniques and capabilities demonstrated by Joe in the essay?\\n2. How does the computer system described in the essay assist in the manipulation and organization of symbol structures?\\n3. What is the concept of an 'argument' as described in the essay?\\n4. How does the system help in structuring an argument and enhancing comprehension of complex concepts?\\n5. What are some of the specific capabilities of the system that Joe demonstrates, such as in relation to text manipulation and linking of substructures?\""
      ]
     },
     "execution_count": 10,
     "metadata": {},
     "output_type": "execute_result"
    }
   ],
   "source": [
    "quiz = ask_pdf(pdf_qa, \"Quiz me on theessay with 5 fundamental questions.\")\n",
    "\n",
    "quiz"
   ]
  },
  {
   "cell_type": "code",
   "execution_count": 11,
   "metadata": {},
   "outputs": [],
   "source": [
    "from openai import OpenAI\n",
    "client = OpenAI()\n",
    "\n",
    "def get_response(prompt_question):\n",
    "    response = client.chat.completions.create(\n",
    "        model=\"gpt-3.5-turbo-16k\",\n",
    "        messages=[{\"role\": \"system\", \"content\": \"You are a helpful research and programming assistant\"},\n",
    "                  {\"role\": \"user\", \"content\": prompt_question}]\n",
    "    )\n",
    "    \n",
    "    return response.choices[0].message.content"
   ]
  },
  {
   "cell_type": "code",
   "execution_count": 12,
   "metadata": {},
   "outputs": [
    {
     "data": {
      "text/plain": [
       "['What is the main purpose of the techniques and capabilities demonstrated by Joe in the essay?',\n",
       " 'How does the computer system described in the essay assist in the manipulation and organization of symbol structures?',\n",
       " \"What is the concept of an 'argument' as described in the essay?\",\n",
       " 'How does the system help in structuring an argument and enhancing comprehension of complex concepts?',\n",
       " 'What are some of the specific capabilities of the system that Joe demonstrates, such as in relation to text manipulation and linking of substructures?']"
      ]
     },
     "execution_count": 12,
     "metadata": {},
     "output_type": "execute_result"
    }
   ],
   "source": [
    "prompt = f\"Return ONLY a PYTHON list containing the questions in this text: {quiz}\"\n",
    "\n",
    "import ast\n",
    "\n",
    "questions = ast.literal_eval(get_response(prompt))\n",
    "questions"
   ]
  },
  {
   "cell_type": "code",
   "execution_count": 13,
   "metadata": {},
   "outputs": [
    {
     "name": "stdout",
     "output_type": "stream",
     "text": [
      "QUERY:  What is the main purpose of the techniques and capabilities demonstrated by Joe in the essay?\n",
      "ANSWER The main purpose of the techniques and capabilities demonstrated by Joe in the essay is to show how a computerized system can augment human intellect by making the process of manipulating and organizing information more efficient and flexible. This includes tasks such as composing text, defining abbreviations, and rearranging and editing work. The system allows for rapid and dynamic changes, making it easier to develop and refine ideas. The essay emphasizes that these capabilities, while individually simple, can collectively lead to significant improvements in problem-solving and conceptual thinking.\n",
      "QUERY:  How does the computer system described in the essay assist in the manipulation and organization of symbol structures?\n",
      "ANSWER The computer system described in the essay assists in the manipulation and organization of symbol structures in several ways. Firstly, it allows for the representation of a given concept structure with a symbol structure that is compatible with the computer's internal way of handling symbols. This allows for a more accurate mapping of complex concept structures than what an individual could practically construct or use on paper.\n",
      "\n",
      "The computer can also transform back and forth between the two-dimensional portrayal on the screen and the aspect of the internal image that represents this \"view\". If the human adds to or modifies such a \"view\", the computer integrates the change into the internal-image symbol structure and can automatically detect a certain proportion of possible conceptual inconsistencies.\n",
      "\n",
      "The computer system also allows for the establishment of arbitrary linkages between different substructures and can display a set of linked substructures with any relative positioning designated among the different substructures. This can help in understanding the meaning of a statement or concept.\n",
      "\n",
      "Furthermore, the computer can manipulate symbols and generate their portrayals on a display, meaning the user doesn't need to concern themselves with how the information is stored. The computer can portray symbol structures that are consistent with the form in which the user thinks their information is structured.\n",
      "\n",
      "Finally, the computer can also transform one form of symbol structure into another with speed and flexibility, and can locate and portray new material quickly. This allows for a more efficient and flexible approach to problem-solving and concept structuring.\n",
      "QUERY:  What is the concept of an 'argument' as described in the essay?\n",
      "ANSWER In the essay, an 'argument' is referred to as any set of statements (termed 'product statements') that represents the outcome of a period of work towards a given objective. It is not necessarily a serial affair, but rather sequential, where some statements have to follow others. The essay describes an argument as a conceptual network rather than a conceptual chain. The essay also discusses the use of a computer system to visually represent an argument as a network of lines and dots, with each node representing a statement and the lines representing the antecedent-consequent links between statements. This visual representation can help in understanding the structure of an argument and how different ideas and reasoning fit together.\n",
      "QUERY:  How does the system help in structuring an argument and enhancing comprehension of complex concepts?\n",
      "ANSWER The system aids in structuring an argument and enhancing comprehension of complex concepts through several features. It allows users to break down sentences into different parts and position them in various places, with lines connecting them, similar to diagramming sentences in grammar studies. This can help users scan a complex statement and untangle it quickly. \n",
      "\n",
      "The system also allows users to link secondary phrases or sentences to parts of the main statement for more detailed descriptions. These secondary substructures don't appear when the statement is normally viewed, but can be brought in by simple request for closer study. \n",
      "\n",
      "When looking at a statement and asking 'How come?', users can use 'antecedent links' to point to previous statements that are significant to the understanding of the current statement. The system allows users to pick out the primary antecedents of the statement they are studying and establish links to them. \n",
      "\n",
      "The system also allows users to designate an order of \"importance to comprehension\" among these statements, and rearrange them accordingly. \n",
      "\n",
      "For better comprehension of the structure of an argument, the system can also provide a schematic or graphical display. Once the antecedent-consequent links have been established, the computer can automatically construct such a display. \n",
      "\n",
      "In summary, the system provides a variety of tools and methods to help users structure their arguments and enhance their understanding of complex concepts.\n",
      "QUERY:  What are some of the specific capabilities of the system that Joe demonstrates, such as in relation to text manipulation and linking of substructures?\n",
      "ANSWER Joe demonstrates several capabilities of the system related to text manipulation and linking of substructures. For text manipulation, he shows how he can type individual letters and numbers, with the computer automatically placing each successive symbol next to its predecessor, similar to a typewriter. The system also has an automatic \"carriage return\" feature. Additionally, Joe can call up dictionary definitions, synonyms, or antonyms for any word he has typed in with just a few quick actions. He can also define an abbreviation term for a group of words, which the computer associates with the group in its storage. Later, typing the abbreviation term will automatically display the entire group of words.\n",
      "\n",
      "In terms of linking substructures, Joe demonstrates how he can establish arbitrary linkages between different substructures. He can direct the computer to display a set of linked substructures with any relative positioning he might designate among the different substructures. He can also specify different types of links, which can lead to different display or manipulative treatments for the different types. Most links have a direction, like an arrow pointing from one substructure to another, so when setting up a link, he must specify the two substructures in a given order.\n"
     ]
    }
   ],
   "source": [
    "answers = []\n",
    "for q in questions:\n",
    "    answers.append(ask_pdf(pdf_qa,q))"
   ]
  },
  {
   "cell_type": "code",
   "execution_count": 14,
   "metadata": {},
   "outputs": [
    {
     "name": "stdout",
     "output_type": "stream",
     "text": [
      "QUERY:  Is this: The main purpose of the techniques and capabilities demonstrated by Joe in the essay is to show how a computerized system can augment human intellect by making the process of manipulating and organizing information more efficient and flexible. This includes tasks such as composing text, defining abbreviations, and rearranging and editing work. The system allows for rapid and dynamic changes, making it easier to develop and refine ideas. The essay emphasizes that these capabilities, while individually simple, can collectively lead to significant improvements in problem-solving and conceptual thinking. the correct answer to this question: What is the main purpose of the techniques and capabilities demonstrated by Joe in the essay? according to the paper? Return only a YES or NO. Output:\n",
      "ANSWER YES\n",
      "QUERY:  Is this: The computer system described in the essay assists in the manipulation and organization of symbol structures in several ways. Firstly, it allows for the representation of a given concept structure with a symbol structure that is compatible with the computer's internal way of handling symbols. This allows for a more accurate mapping of complex concept structures than what an individual could practically construct or use on paper.\n",
      "\n",
      "The computer can also transform back and forth between the two-dimensional portrayal on the screen and the aspect of the internal image that represents this \"view\". If the human adds to or modifies such a \"view\", the computer integrates the change into the internal-image symbol structure and can automatically detect a certain proportion of possible conceptual inconsistencies.\n",
      "\n",
      "The computer system also allows for the establishment of arbitrary linkages between different substructures and can display a set of linked substructures with any relative positioning designated among the different substructures. This can help in understanding the meaning of a statement or concept.\n",
      "\n",
      "Furthermore, the computer can manipulate symbols and generate their portrayals on a display, meaning the user doesn't need to concern themselves with how the information is stored. The computer can portray symbol structures that are consistent with the form in which the user thinks their information is structured.\n",
      "\n",
      "Finally, the computer can also transform one form of symbol structure into another with speed and flexibility, and can locate and portray new material quickly. This allows for a more efficient and flexible approach to problem-solving and concept structuring. the correct answer to this question: How does the computer system described in the essay assist in the manipulation and organization of symbol structures? according to the paper? Return only a YES or NO. Output:\n",
      "ANSWER YES\n",
      "QUERY:  Is this: In the essay, an 'argument' is referred to as any set of statements (termed 'product statements') that represents the outcome of a period of work towards a given objective. It is not necessarily a serial affair, but rather sequential, where some statements have to follow others. The essay describes an argument as a conceptual network rather than a conceptual chain. The essay also discusses the use of a computer system to visually represent an argument as a network of lines and dots, with each node representing a statement and the lines representing the antecedent-consequent links between statements. This visual representation can help in understanding the structure of an argument and how different ideas and reasoning fit together. the correct answer to this question: What is the concept of an 'argument' as described in the essay? according to the paper? Return only a YES or NO. Output:\n",
      "ANSWER YES\n",
      "QUERY:  Is this: The system aids in structuring an argument and enhancing comprehension of complex concepts through several features. It allows users to break down sentences into different parts and position them in various places, with lines connecting them, similar to diagramming sentences in grammar studies. This can help users scan a complex statement and untangle it quickly. \n",
      "\n",
      "The system also allows users to link secondary phrases or sentences to parts of the main statement for more detailed descriptions. These secondary substructures don't appear when the statement is normally viewed, but can be brought in by simple request for closer study. \n",
      "\n",
      "When looking at a statement and asking 'How come?', users can use 'antecedent links' to point to previous statements that are significant to the understanding of the current statement. The system allows users to pick out the primary antecedents of the statement they are studying and establish links to them. \n",
      "\n",
      "The system also allows users to designate an order of \"importance to comprehension\" among these statements, and rearrange them accordingly. \n",
      "\n",
      "For better comprehension of the structure of an argument, the system can also provide a schematic or graphical display. Once the antecedent-consequent links have been established, the computer can automatically construct such a display. \n",
      "\n",
      "In summary, the system provides a variety of tools and methods to help users structure their arguments and enhance their understanding of complex concepts. the correct answer to this question: How does the system help in structuring an argument and enhancing comprehension of complex concepts? according to the paper? Return only a YES or NO. Output:\n",
      "ANSWER YES\n",
      "QUERY:  Is this: Joe demonstrates several capabilities of the system related to text manipulation and linking of substructures. For text manipulation, he shows how he can type individual letters and numbers, with the computer automatically placing each successive symbol next to its predecessor, similar to a typewriter. The system also has an automatic \"carriage return\" feature. Additionally, Joe can call up dictionary definitions, synonyms, or antonyms for any word he has typed in with just a few quick actions. He can also define an abbreviation term for a group of words, which the computer associates with the group in its storage. Later, typing the abbreviation term will automatically display the entire group of words.\n",
      "\n",
      "In terms of linking substructures, Joe demonstrates how he can establish arbitrary linkages between different substructures. He can direct the computer to display a set of linked substructures with any relative positioning he might designate among the different substructures. He can also specify different types of links, which can lead to different display or manipulative treatments for the different types. Most links have a direction, like an arrow pointing from one substructure to another, so when setting up a link, he must specify the two substructures in a given order. the correct answer to this question: What are some of the specific capabilities of the system that Joe demonstrates, such as in relation to text manipulation and linking of substructures? according to the paper? Return only a YES or NO. Output:\n",
      "ANSWER YES\n"
     ]
    },
    {
     "data": {
      "text/plain": [
       "['YES', 'YES', 'YES', 'YES', 'YES']"
      ]
     },
     "execution_count": 14,
     "metadata": {},
     "output_type": "execute_result"
    }
   ],
   "source": [
    "evaluations = []\n",
    "\n",
    "for q,a in zip(questions, answers):\n",
    "    # Check for results\n",
    "    evaluations.append(ask_pdf(pdf_qa,f\"Is this: {a} the correct answer to this question: {q} according to the paper? Return only a YES or NO. Output:\"))\n",
    "\n",
    "evaluations"
   ]
  },
  {
   "cell_type": "code",
   "execution_count": 15,
   "metadata": {},
   "outputs": [
    {
     "name": "stdout",
     "output_type": "stream",
     "text": [
      "[5]\n"
     ]
    }
   ],
   "source": [
    "scores = []\n",
    "\n",
    "yes_count = evaluations.count('YES')\n",
    "scores.append(yes_count)\n",
    "print(scores)"
   ]
  },
  {
   "cell_type": "code",
   "execution_count": null,
   "metadata": {},
   "outputs": [],
   "source": []
  }
 ],
 "metadata": {
  "kernelspec": {
   "display_name": "oreilly-langchain",
   "language": "python",
   "name": "oreilly-langchain"
  },
  "language_info": {
   "codemirror_mode": {
    "name": "ipython",
    "version": 3
   },
   "file_extension": ".py",
   "mimetype": "text/x-python",
   "name": "python",
   "nbconvert_exporter": "python",
   "pygments_lexer": "ipython3",
   "version": "3.11.5"
  },
  "orig_nbformat": 4
 },
 "nbformat": 4,
 "nbformat_minor": 2
}
