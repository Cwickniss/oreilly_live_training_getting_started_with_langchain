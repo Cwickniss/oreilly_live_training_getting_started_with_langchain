{
 "cells": [
  {
   "cell_type": "code",
   "execution_count": 11,
   "metadata": {},
   "outputs": [],
   "source": [
    "from langchain_openai import ChatOpenAI\n",
    "from langchain_core.prompts import ChatPromptTemplate\n",
    "from langchain import hub\n",
    "from langchain.agents import create_tool_calling_agent, AgentExecutor\n",
    "from langchain_community.tools.tavily_search.tool import TavilySearchResults\n",
    "from langchain_community.tools.wikipedia.tool import WikipediaQueryRun, WikipediaAPIWrapper"
   ]
  },
  {
   "cell_type": "code",
   "execution_count": 4,
   "metadata": {},
   "outputs": [],
   "source": [
    "llm = ChatOpenAI(model='gpt-4o-mini', temperature=0.0)"
   ]
  },
  {
   "cell_type": "code",
   "execution_count": 5,
   "metadata": {},
   "outputs": [
    {
     "data": {
      "text/plain": [
       "AIMessage(content='Hello! How can I assist you today?', response_metadata={'token_usage': {'completion_tokens': 9, 'prompt_tokens': 8, 'total_tokens': 17}, 'model_name': 'gpt-4o-mini', 'system_fingerprint': 'fp_48196bc67a', 'finish_reason': 'stop', 'logprobs': None}, id='run-6c1c4f6c-588d-4e69-9bec-b999523d68bb-0', usage_metadata={'input_tokens': 8, 'output_tokens': 9, 'total_tokens': 17})"
      ]
     },
     "execution_count": 5,
     "metadata": {},
     "output_type": "execute_result"
    }
   ],
   "source": [
    "llm.invoke(\"HI\")"
   ]
  },
  {
   "cell_type": "code",
   "execution_count": 14,
   "metadata": {},
   "outputs": [
    {
     "data": {
      "text/plain": [
       "\"Page: Teaching quantum mechanics\\nSummary: Quantum mechanics is a difficult subject to teach due to its counterintuitive nature. As the subject is now offered by advanced secondary schools, educators have applied scientific methodology to the process of teaching quantum mechanics, in order to identify common misconceptions and ways of improving students' understanding.\\n\\nPage: Comparison of audio coding formats\\nSummary: The following tables compare general and technical information for a variety of audio coding formats.\\nFor listening tests comparing the perceived audio quality of audio formats and codecs, see the article Codec listening test.\\n\\nPage: Giancarlo Flati\\nSummary: Giancarlo Flati (L'Aquila, May 11, 1953) is an Italian painter, researcher and writer.\""
      ]
     },
     "execution_count": 14,
     "metadata": {},
     "output_type": "execute_result"
    }
   ],
   "source": [
    "wikipedia_search_tool = WikipediaQueryRun(api_wrapper=WikipediaAPIWrapper())\n",
    "wikipedia_search_tool.run(\"What are qbits?\")"
   ]
  },
  {
   "cell_type": "code",
   "execution_count": 15,
   "metadata": {},
   "outputs": [
    {
     "data": {
      "text/plain": [
       "[SystemMessagePromptTemplate(prompt=PromptTemplate(input_variables=[], template='You are a helpful assistant')),\n",
       " MessagesPlaceholder(variable_name='chat_history', optional=True),\n",
       " HumanMessagePromptTemplate(prompt=PromptTemplate(input_variables=['input'], template='{input}')),\n",
       " MessagesPlaceholder(variable_name='agent_scratchpad')]"
      ]
     },
     "execution_count": 15,
     "metadata": {},
     "output_type": "execute_result"
    }
   ],
   "source": [
    "prompt = hub.pull(\"hwchase17/openai-tools-agent\")\n",
    "prompt.messages"
   ]
  },
  {
   "cell_type": "code",
   "execution_count": 19,
   "metadata": {},
   "outputs": [],
   "source": [
    "\n",
    "tools = [wikipedia_search_tool]\n",
    "agent = create_tool_calling_agent(llm, tools, prompt)"
   ]
  },
  {
   "cell_type": "code",
   "execution_count": 21,
   "metadata": {},
   "outputs": [],
   "source": [
    "agent_executor = AgentExecutor(agent=agent,tools=tools, verbose=True)"
   ]
  },
  {
   "cell_type": "code",
   "execution_count": 22,
   "metadata": {},
   "outputs": [
    {
     "name": "stdout",
     "output_type": "stream",
     "text": [
      "\n",
      "\n",
      "\u001b[1m> Entering new AgentExecutor chain...\u001b[0m\n",
      "\u001b[32;1m\u001b[1;3m\n",
      "Invoking: `wikipedia` with `{'query': 'qubits'}`\n",
      "\n",
      "\n",
      "\u001b[0m\u001b[36;1m\u001b[1;3mPage: Qubit\n",
      "Summary: In quantum computing, a qubit () or quantum bit is a basic unit of quantum information—the quantum version of the classic binary bit physically realized with a two-state device. A qubit is a two-state (or two-level) quantum-mechanical system, one of the simplest quantum systems displaying the peculiarity of quantum mechanics.  Examples include the spin of the electron in which the two levels can be taken as spin up and spin down; or the polarization of a single photon in which the two spin states (left-handed and the right-handed circular polarization) can also be measured as horizontal and vertical linear polarization.  In a classical system, a bit would have to be in one state or the other. However, quantum mechanics allows the qubit to be in a coherent superposition of multiple states simultaneously, a property that is fundamental to quantum mechanics and quantum computing.\n",
      "\n",
      "Page: Superconducting quantum computing\n",
      "Summary: Superconducting quantum computing is a branch of solid state quantum computing that implements superconducting electronic circuits using superconducting qubits as artificial atoms, or quantum dots. For superconducting qubits, the two logic states are the ground state and the excited state, denoted \n",
      "  \n",
      "    \n",
      "      \n",
      "        \n",
      "          |\n",
      "        \n",
      "        g\n",
      "        ⟩\n",
      "        \n",
      "           and \n",
      "        \n",
      "        \n",
      "          |\n",
      "        \n",
      "        e\n",
      "        ⟩\n",
      "      \n",
      "    \n",
      "    {\\displaystyle |g\\rangle {\\text{ and }}|e\\rangle }\n",
      "  \n",
      "respectively. Research in superconducting quantum computing is conducted by companies such as Google, IBM, IMEC, BBN Technologies, Rigetti, and Intel.  Many recently developed QPUs (quantum processing units, or quantum chips) use superconducting architecture.\n",
      "As of May 2016, up to 9 fully controllable qubits are demonstrated in the 1D array, and up to 16 in 2D architecture. In October 2019, the Martinis group, partnered with Google, published an article demonstrating novel quantum supremacy, using a chip composed of 53 superconducting qubits.\n",
      "\n",
      "Page: Flux qubit\n",
      "Summary: In quantum computing, more specifically in superconducting quantum computing, flux qubits (also known as persistent current qubits) are micrometer sized loops of superconducting metal that is interrupted by a number of Josephson junctions. These devices function as quantum bits. The flux qubit was first proposed by Terry P. Orlando et al. at MIT in 1999 and fabricated shortly thereafter. During fabrication, the Josephson junction parameters are engineered so that a persistent current will flow continuously when an external magnetic flux is applied. Only an integer number of flux quanta are allowed to penetrate the superconducting ring, resulting in clockwise or counter-clockwise mesoscopic supercurrents (typically 300 nA) in the loop to compensate (screen or enhance) a non-integer external flux bias. When the applied flux through the loop area is close to a half integer number of flux quanta, the two lowest energy eigenstates of the loop will be a quantum superposition of the clockwise and counter-clockwise currents. The two lowest energy eigenstates differ only by the relative quantum phase between the composing current-direction states. Higher energy eigenstates correspond to much larger (macroscopic) persistent currents, that induce an additional flux quantum to the qubit loop, thus are well separated energetically from the lowest two eigenstates. This separation, known as the \"qubit non linearity\" criteria,  allows operations with the two lowest eigenstates only,  effectively creating a two level system. Usually, the two lowest eigenstates will serve as the computational basis for the logical qubit.\n",
      "\n",
      "Computational operations are performed by pulsing the qubit with microwave frequency radiation which has an energy comparable to that of the gap between the energy of the two basis states, similar to RF-SQUID. Properly selected pulse duration and strength can put the qubit into a quantum superposition of the tw\u001b[0m\u001b[32;1m\u001b[1;3mA qubit, or quantum bit, is the fundamental unit of quantum information in quantum computing, analogous to a classical binary bit. Unlike a classical bit, which can be either 0 or 1, a qubit can exist in a coherent superposition of both states simultaneously. This property is a key feature of quantum mechanics and enables qubits to perform complex calculations more efficiently than classical bits.\n",
      "\n",
      "Qubits can be realized using various physical systems, such as the spin of an electron (with states representing spin up and spin down) or the polarization of a photon (with states representing different polarization orientations). The ability of qubits to be in multiple states at once allows quantum computers to process a vast amount of information simultaneously, making them potentially much more powerful than classical computers for certain tasks.\u001b[0m\n",
      "\n",
      "\u001b[1m> Finished chain.\u001b[0m\n"
     ]
    },
    {
     "data": {
      "text/plain": [
       "{'input': 'What are qbits?',\n",
       " 'output': 'A qubit, or quantum bit, is the fundamental unit of quantum information in quantum computing, analogous to a classical binary bit. Unlike a classical bit, which can be either 0 or 1, a qubit can exist in a coherent superposition of both states simultaneously. This property is a key feature of quantum mechanics and enables qubits to perform complex calculations more efficiently than classical bits.\\n\\nQubits can be realized using various physical systems, such as the spin of an electron (with states representing spin up and spin down) or the polarization of a photon (with states representing different polarization orientations). The ability of qubits to be in multiple states at once allows quantum computers to process a vast amount of information simultaneously, making them potentially much more powerful than classical computers for certain tasks.'}"
      ]
     },
     "execution_count": 22,
     "metadata": {},
     "output_type": "execute_result"
    }
   ],
   "source": [
    "agent_executor.invoke({\"input\": 'What are qbits?'})"
   ]
  },
  {
   "cell_type": "code",
   "execution_count": 23,
   "metadata": {},
   "outputs": [],
   "source": [
    "from langchain_ollama import ChatOllama"
   ]
  },
  {
   "cell_type": "code",
   "execution_count": 24,
   "metadata": {},
   "outputs": [],
   "source": [
    "llm = ChatOllama(model='llama3.1', temperature=0.0)"
   ]
  },
  {
   "cell_type": "code",
   "execution_count": 25,
   "metadata": {},
   "outputs": [],
   "source": [
    "agent = create_tool_calling_agent(llm, tools, prompt)"
   ]
  },
  {
   "cell_type": "code",
   "execution_count": 26,
   "metadata": {},
   "outputs": [],
   "source": [
    "agent_executor = AgentExecutor(agent=agent,tools=tools, verbose=True)"
   ]
  },
  {
   "cell_type": "code",
   "execution_count": 28,
   "metadata": {},
   "outputs": [
    {
     "name": "stdout",
     "output_type": "stream",
     "text": [
      "\n",
      "\n",
      "\u001b[1m> Entering new AgentExecutor chain...\u001b[0m\n",
      "\u001b[32;1m\u001b[1;3m\n",
      "Invoking: `wikipedia` with `{'query': 'qubits'}`\n",
      "\n",
      "\n",
      "\u001b[0m\u001b[36;1m\u001b[1;3mPage: Qubit\n",
      "Summary: In quantum computing, a qubit () or quantum bit is a basic unit of quantum information—the quantum version of the classic binary bit physically realized with a two-state device. A qubit is a two-state (or two-level) quantum-mechanical system, one of the simplest quantum systems displaying the peculiarity of quantum mechanics.  Examples include the spin of the electron in which the two levels can be taken as spin up and spin down; or the polarization of a single photon in which the two spin states (left-handed and the right-handed circular polarization) can also be measured as horizontal and vertical linear polarization.  In a classical system, a bit would have to be in one state or the other. However, quantum mechanics allows the qubit to be in a coherent superposition of multiple states simultaneously, a property that is fundamental to quantum mechanics and quantum computing.\n",
      "\n",
      "Page: Superconducting quantum computing\n",
      "Summary: Superconducting quantum computing is a branch of solid state quantum computing that implements superconducting electronic circuits using superconducting qubits as artificial atoms, or quantum dots. For superconducting qubits, the two logic states are the ground state and the excited state, denoted \n",
      "  \n",
      "    \n",
      "      \n",
      "        \n",
      "          |\n",
      "        \n",
      "        g\n",
      "        ⟩\n",
      "        \n",
      "           and \n",
      "        \n",
      "        \n",
      "          |\n",
      "        \n",
      "        e\n",
      "        ⟩\n",
      "      \n",
      "    \n",
      "    {\\displaystyle |g\\rangle {\\text{ and }}|e\\rangle }\n",
      "  \n",
      "respectively. Research in superconducting quantum computing is conducted by companies such as Google, IBM, IMEC, BBN Technologies, Rigetti, and Intel.  Many recently developed QPUs (quantum processing units, or quantum chips) use superconducting architecture.\n",
      "As of May 2016, up to 9 fully controllable qubits are demonstrated in the 1D array, and up to 16 in 2D architecture. In October 2019, the Martinis group, partnered with Google, published an article demonstrating novel quantum supremacy, using a chip composed of 53 superconducting qubits.\n",
      "\n",
      "Page: Flux qubit\n",
      "Summary: In quantum computing, more specifically in superconducting quantum computing, flux qubits (also known as persistent current qubits) are micrometer sized loops of superconducting metal that is interrupted by a number of Josephson junctions. These devices function as quantum bits. The flux qubit was first proposed by Terry P. Orlando et al. at MIT in 1999 and fabricated shortly thereafter. During fabrication, the Josephson junction parameters are engineered so that a persistent current will flow continuously when an external magnetic flux is applied. Only an integer number of flux quanta are allowed to penetrate the superconducting ring, resulting in clockwise or counter-clockwise mesoscopic supercurrents (typically 300 nA) in the loop to compensate (screen or enhance) a non-integer external flux bias. When the applied flux through the loop area is close to a half integer number of flux quanta, the two lowest energy eigenstates of the loop will be a quantum superposition of the clockwise and counter-clockwise currents. The two lowest energy eigenstates differ only by the relative quantum phase between the composing current-direction states. Higher energy eigenstates correspond to much larger (macroscopic) persistent currents, that induce an additional flux quantum to the qubit loop, thus are well separated energetically from the lowest two eigenstates. This separation, known as the \"qubit non linearity\" criteria,  allows operations with the two lowest eigenstates only,  effectively creating a two level system. Usually, the two lowest eigenstates will serve as the computational basis for the logical qubit.\n",
      "\n",
      "Computational operations are performed by pulsing the qubit with microwave frequency radiation which has an energy comparable to that of the gap between the energy of the two basis states, similar to RF-SQUID. Properly selected pulse duration and strength can put the qubit into a quantum superposition of the tw\u001b[0m\u001b[32;1m\u001b[1;3mA qubit (quantum bit) is a basic unit of quantum information in quantum computing. It's like a classical binary bit, but with some key differences due to its quantum nature.\n",
      "\n",
      "In essence, a qubit is a two-state system that can exist in multiple states simultaneously, which is known as a superposition. This means that a qubit can represent not just 0 or 1, but also any combination of both at the same time.\n",
      "\n",
      "Think of it like a coin that's spinning in the air - before it lands, it's in a superposition of being either heads or tails. Only when it lands does it \"collapse\" into one definite state.\n",
      "\n",
      "Qubits are used to perform quantum computations, which can potentially solve complex problems much faster than classical computers. They're also the building blocks for more complex quantum systems, like quantum processors and quantum algorithms.\n",
      "\n",
      "There are different types of qubits, including superconducting qubits (like those used in Google's quantum processor), ion trap qubits, and topological qubits. Each has its own strengths and weaknesses, but they all share the fundamental property of being able to exist in multiple states simultaneously.\n",
      "\n",
      "So, that's what a qubit is!\u001b[0m\n",
      "\n",
      "\u001b[1m> Finished chain.\u001b[0m\n"
     ]
    },
    {
     "data": {
      "text/plain": [
       "{'input': 'What are qbits?',\n",
       " 'output': 'A qubit (quantum bit) is a basic unit of quantum information in quantum computing. It\\'s like a classical binary bit, but with some key differences due to its quantum nature.\\n\\nIn essence, a qubit is a two-state system that can exist in multiple states simultaneously, which is known as a superposition. This means that a qubit can represent not just 0 or 1, but also any combination of both at the same time.\\n\\nThink of it like a coin that\\'s spinning in the air - before it lands, it\\'s in a superposition of being either heads or tails. Only when it lands does it \"collapse\" into one definite state.\\n\\nQubits are used to perform quantum computations, which can potentially solve complex problems much faster than classical computers. They\\'re also the building blocks for more complex quantum systems, like quantum processors and quantum algorithms.\\n\\nThere are different types of qubits, including superconducting qubits (like those used in Google\\'s quantum processor), ion trap qubits, and topological qubits. Each has its own strengths and weaknesses, but they all share the fundamental property of being able to exist in multiple states simultaneously.\\n\\nSo, that\\'s what a qubit is!'}"
      ]
     },
     "execution_count": 28,
     "metadata": {},
     "output_type": "execute_result"
    }
   ],
   "source": [
    "agent_executor.invoke({\"input\": 'What are qbits?'})"
   ]
  },
  {
   "cell_type": "code",
   "execution_count": null,
   "metadata": {},
   "outputs": [],
   "source": []
  },
  {
   "cell_type": "code",
   "execution_count": 29,
   "metadata": {},
   "outputs": [
    {
     "data": {
      "text/plain": [
       "AgentExecutor(verbose=True, agent=RunnableMultiActionAgent(runnable=RunnableAssign(mapper={\n",
       "  agent_scratchpad: RunnableLambda(lambda x: message_formatter(x['intermediate_steps']))\n",
       "})\n",
       "| ChatPromptTemplate(input_variables=['agent_scratchpad', 'input'], optional_variables=['chat_history'], input_types={'chat_history': typing.List[typing.Union[langchain_core.messages.ai.AIMessage, langchain_core.messages.human.HumanMessage, langchain_core.messages.chat.ChatMessage, langchain_core.messages.system.SystemMessage, langchain_core.messages.function.FunctionMessage, langchain_core.messages.tool.ToolMessage]], 'agent_scratchpad': typing.List[typing.Union[langchain_core.messages.ai.AIMessage, langchain_core.messages.human.HumanMessage, langchain_core.messages.chat.ChatMessage, langchain_core.messages.system.SystemMessage, langchain_core.messages.function.FunctionMessage, langchain_core.messages.tool.ToolMessage]]}, partial_variables={'chat_history': []}, metadata={'lc_hub_owner': 'hwchase17', 'lc_hub_repo': 'openai-tools-agent', 'lc_hub_commit_hash': 'c18672812789a3b9697656dd539edf0120285dcae36396d0b548ae42a4ed66f5'}, messages=[SystemMessagePromptTemplate(prompt=PromptTemplate(input_variables=[], template='You are a helpful assistant')), MessagesPlaceholder(variable_name='chat_history', optional=True), HumanMessagePromptTemplate(prompt=PromptTemplate(input_variables=['input'], template='{input}')), MessagesPlaceholder(variable_name='agent_scratchpad')])\n",
       "| RunnableBinding(bound=ChatOllama(model='llama3.1', temperature=0.0), kwargs={'tools': [{'type': 'function', 'function': {'name': 'wikipedia', 'description': 'A wrapper around Wikipedia. Useful for when you need to answer general questions about people, places, companies, facts, historical events, or other subjects. Input should be a search query.', 'parameters': {'type': 'object', 'properties': {'query': {'description': 'query to look up on wikipedia', 'type': 'string'}}, 'required': ['query']}}}]})\n",
       "| ToolsAgentOutputParser(), input_keys_arg=[], return_keys_arg=[], stream_runnable=True), tools=[WikipediaQueryRun(api_wrapper=WikipediaAPIWrapper(wiki_client=<module 'wikipedia' from '/Users/greatmaster/miniconda3/envs/oreilly-langchain/lib/python3.11/site-packages/wikipedia/__init__.py'>, top_k_results=3, lang='en', load_all_available_meta=False, doc_content_chars_max=4000))])"
      ]
     },
     "execution_count": 29,
     "metadata": {},
     "output_type": "execute_result"
    }
   ],
   "source": [
    "agent_executor"
   ]
  },
  {
   "cell_type": "markdown",
   "metadata": {},
   "source": [
    "# AK: airline ticket booking agent"
   ]
  },
  {
   "cell_type": "markdown",
   "metadata": {},
   "source": [
    "INPUT: request for booking a flight at some specific website\n",
    "\n",
    "STRUCTURED OUTPUT: all the info for booking the flight "
   ]
  },
  {
   "cell_type": "code",
   "execution_count": 30,
   "metadata": {},
   "outputs": [],
   "source": [
    "from langchain.pydantic_v1 import BaseModel, Field "
   ]
  },
  {
   "cell_type": "code",
   "execution_count": 41,
   "metadata": {},
   "outputs": [],
   "source": [
    "class TicketData(BaseModel):\n",
    "    name_of_passenger: str = Field(description='Name of the passenger to book the flight for.')\n",
    "    website_airline_url: str = Field(description='The url for the website airline.')\n",
    "    destination_flight: str = Field(description='The destination for the flight')\n",
    "    source_flight: str = Field(description='The city the passagenr will be flying from')\n",
    "    age: str = Field(description='The age of the passenger.')\n",
    "    date: str = Field(description='The date for the flight.')"
   ]
  },
  {
   "cell_type": "code",
   "execution_count": 32,
   "metadata": {},
   "outputs": [],
   "source": [
    "llm = ChatOpenAI(model='gpt-4o-mini', temperature=0)"
   ]
  },
  {
   "cell_type": "code",
   "execution_count": 42,
   "metadata": {},
   "outputs": [],
   "source": [
    "system_prompt_travel_booking = \"\"\"\n",
    "You are an travel booking assistant,\n",
    "that translates requests from users into\n",
    "specific inputs for booking a flight with the following fields:\n",
    "- name_of_passenger\n",
    "- website_airline_url\n",
    "- destination_flight\n",
    "- source_flight\n",
    "- age\n",
    "\"\"\"\n",
    "\n",
    "prompt = ChatPromptTemplate.from_messages([\n",
    "    ('system', system_prompt_travel_booking),\n",
    "    ('human', '{input}')\n",
    "])\n",
    "\n",
    "travel_ticket_chain = prompt | llm.with_structured_output(TicketData)"
   ]
  },
  {
   "cell_type": "code",
   "execution_count": 43,
   "metadata": {},
   "outputs": [
    {
     "data": {
      "text/plain": [
       "TicketData(name_of_passenger='Lucas Loves Pancakes The First', website_airline_url='www.airline-pancakes.com', destination_flight='London', source_flight='Lisbon', age='33', date='2024-09-04')"
      ]
     },
     "execution_count": 43,
     "metadata": {},
     "output_type": "execute_result"
    }
   ],
   "source": [
    "output_ticket = travel_ticket_chain.invoke({\"input\": 'Hi! My name is Lucas Loves Pancakes The First,\\\n",
    "    I am travelling from Lisbon to London, im 33 years old\\\n",
    "        I usually use the website: www.airline-pancakes.com. Ill be travelling in september 4th of 2024.'})\n",
    "output_ticket"
   ]
  },
  {
   "cell_type": "code",
   "execution_count": 37,
   "metadata": {},
   "outputs": [
    {
     "data": {
      "text/plain": [
       "'Lucas Loves Pancakes The First'"
      ]
     },
     "execution_count": 37,
     "metadata": {},
     "output_type": "execute_result"
    }
   ],
   "source": [
    "output_ticket.name_of_passenger"
   ]
  },
  {
   "cell_type": "code",
   "execution_count": 38,
   "metadata": {},
   "outputs": [
    {
     "data": {
      "text/plain": [
       "'33'"
      ]
     },
     "execution_count": 38,
     "metadata": {},
     "output_type": "execute_result"
    }
   ],
   "source": [
    "output_ticket.age"
   ]
  },
  {
   "cell_type": "code",
   "execution_count": 39,
   "metadata": {},
   "outputs": [
    {
     "data": {
      "text/plain": [
       "'London'"
      ]
     },
     "execution_count": 39,
     "metadata": {},
     "output_type": "execute_result"
    }
   ],
   "source": [
    "output_ticket.destination_flight"
   ]
  },
  {
   "cell_type": "code",
   "execution_count": 40,
   "metadata": {},
   "outputs": [
    {
     "data": {
      "text/plain": [
       "'Lisbon'"
      ]
     },
     "execution_count": 40,
     "metadata": {},
     "output_type": "execute_result"
    }
   ],
   "source": [
    "output_ticket.source_flight"
   ]
  },
  {
   "cell_type": "code",
   "execution_count": 44,
   "metadata": {},
   "outputs": [
    {
     "data": {
      "text/plain": [
       "'2024-09-04'"
      ]
     },
     "execution_count": 44,
     "metadata": {},
     "output_type": "execute_result"
    }
   ],
   "source": [
    "output_ticket.date"
   ]
  },
  {
   "cell_type": "code",
   "execution_count": null,
   "metadata": {},
   "outputs": [],
   "source": []
  }
 ],
 "metadata": {
  "kernelspec": {
   "display_name": "oreilly-langchain",
   "language": "python",
   "name": "oreilly-langchain"
  },
  "language_info": {
   "codemirror_mode": {
    "name": "ipython",
    "version": 3
   },
   "file_extension": ".py",
   "mimetype": "text/x-python",
   "name": "python",
   "nbconvert_exporter": "python",
   "pygments_lexer": "ipython3",
   "version": "3.11.9"
  }
 },
 "nbformat": 4,
 "nbformat_minor": 2
}
