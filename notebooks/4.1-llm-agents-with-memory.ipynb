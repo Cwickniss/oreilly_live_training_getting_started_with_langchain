{
 "cells": [
  {
   "cell_type": "markdown",
   "metadata": {},
   "source": [
    "Let's take the code from the previous notebook and add memory to that agent."
   ]
  },
  {
   "cell_type": "code",
   "execution_count": 1,
   "metadata": {},
   "outputs": [
    {
     "data": {
      "text/plain": [
       "True"
      ]
     },
     "execution_count": 1,
     "metadata": {},
     "output_type": "execute_result"
    }
   ],
   "source": [
    "import os\n",
    "from dotenv import load_dotenv\n",
    "load_dotenv(\".env\")"
   ]
  },
  {
   "cell_type": "markdown",
   "metadata": {},
   "source": [
    "# Adding Memory"
   ]
  },
  {
   "cell_type": "code",
   "execution_count": 3,
   "metadata": {},
   "outputs": [],
   "source": [
    "from langchain.agents import AgentExecutor, Tool, ZeroShotAgent\n",
    "from langchain.agents import create_react_agent\n",
    "from langchain.chains import LLMChain\n",
    "from langchain.memory import ConversationBufferMemory\n",
    "from langchain_openai import OpenAI\n",
    "from langchain_community.tools.tavily_search import TavilySearchResults\n",
    "from langchain.text_splitter import RecursiveCharacterTextSplitter\n",
    "from langchain_community.document_loaders import WebBaseLoader\n",
    "from langchain_community.vectorstores import FAISS\n",
    "from langchain_openai import OpenAIEmbeddings\n",
    "\n",
    "search = TavilySearchResults()\n",
    "loader = WebBaseLoader(\"https://python.langchain.com/docs/get_started/introduction\")\n",
    "docs = loader.load()\n",
    "documents = RecursiveCharacterTextSplitter(\n",
    "    chunk_size=1000, chunk_overlap=200\n",
    ").split_documents(docs)\n",
    "vector = FAISS.from_documents(documents, OpenAIEmbeddings())\n",
    "retriever = vector.as_retriever()\n",
    "retriever.get_relevant_documents(\"What is langchain?\")[0]\n",
    "from langchain.tools.retriever import create_retriever_tool\n",
    "\n",
    "retriever_tool = create_retriever_tool(\n",
    "    retriever,\n",
    "    \"langchain_search\",\n",
    "    \"Search for information about LangChain. For any questions about LangChain, you must use this tool!\",\n",
    ")"
   ]
  },
  {
   "cell_type": "code",
   "execution_count": 4,
   "metadata": {},
   "outputs": [],
   "source": [
    "tools = [search, retriever_tool]"
   ]
  },
  {
   "cell_type": "code",
   "execution_count": 5,
   "metadata": {},
   "outputs": [
    {
     "data": {
      "text/plain": [
       "PromptTemplate(input_variables=['agent_scratchpad', 'chat_history', 'input'], template='Have a conversation with a human, answering the following questions as best you can. You have access to the following tools:\\n\\ntavily_search_results_json: A search engine optimized for comprehensive, accurate, and trusted results. Useful for when you need to answer questions about current events. Input should be a search query.\\nlangchain_search: Search for information about LangChain. For any questions about LangChain, you must use this tool!\\n\\nUse the following format:\\n\\nQuestion: the input question you must answer\\nThought: you should always think about what to do\\nAction: the action to take, should be one of [tavily_search_results_json, langchain_search]\\nAction Input: the input to the action\\nObservation: the result of the action\\n... (this Thought/Action/Action Input/Observation can repeat N times)\\nThought: I now know the final answer\\nFinal Answer: the final answer to the original input question\\n\\nBegin!\"\\n\\n{chat_history}\\nQuestion: {input}\\n{agent_scratchpad}')"
      ]
     },
     "execution_count": 5,
     "metadata": {},
     "output_type": "execute_result"
    }
   ],
   "source": [
    "prefix = \"\"\"Have a conversation with a human, answering the following questions as best you can. You have access to the following tools:\"\"\"\n",
    "suffix = \"\"\"Begin!\"\n",
    "\n",
    "{chat_history}\n",
    "Question: {input}\n",
    "{agent_scratchpad}\"\"\"\n",
    "\n",
    "prompt = ZeroShotAgent.create_prompt(\n",
    "    tools,\n",
    "    prefix=prefix,\n",
    "    suffix=suffix,\n",
    "    input_variables=[\"input\", \"chat_history\", \"agent_scratchpad\"],\n",
    ")\n",
    "prompt"
   ]
  },
  {
   "cell_type": "code",
   "execution_count": 7,
   "metadata": {},
   "outputs": [],
   "source": [
    "memory = ConversationBufferMemory(memory_key=\"chat_history\")"
   ]
  },
  {
   "cell_type": "code",
   "execution_count": null,
   "metadata": {},
   "outputs": [],
   "source": []
  },
  {
   "cell_type": "code",
   "execution_count": 9,
   "metadata": {},
   "outputs": [],
   "source": [
    "llm_chain = LLMChain(llm=OpenAI(temperature=0), prompt=prompt)"
   ]
  },
  {
   "cell_type": "code",
   "execution_count": 10,
   "metadata": {},
   "outputs": [
    {
     "name": "stderr",
     "output_type": "stream",
     "text": [
      "/Users/greatmaster/miniconda3/envs/oreilly-langchain/lib/python3.10/site-packages/langchain_core/_api/deprecation.py:117: LangChainDeprecationWarning: The class `langchain.agents.mrkl.base.ZeroShotAgent` was deprecated in langchain 0.1.0 and will be removed in 0.2.0. Use create_react_agent instead.\n",
      "  warn_deprecated(\n"
     ]
    }
   ],
   "source": [
    "agent = ZeroShotAgent(llm_chain=llm_chain, tools=tools, verbose=True)"
   ]
  },
  {
   "cell_type": "code",
   "execution_count": 11,
   "metadata": {},
   "outputs": [],
   "source": [
    "agent_chain = AgentExecutor.from_agent_and_tools(\n",
    "    agent=agent, tools=tools, verbose=True, memory=memory)"
   ]
  },
  {
   "cell_type": "code",
   "execution_count": 12,
   "metadata": {},
   "outputs": [
    {
     "name": "stdout",
     "output_type": "stream",
     "text": [
      "\n",
      "\n",
      "\u001b[1m> Entering new AgentExecutor chain...\u001b[0m\n",
      "\u001b[32;1m\u001b[1;3mThought: I should use the tools available to gather information about Lucas and his job\n",
      "Action: tavily_search_results_json\n",
      "Action Input: \"Lucas Machine Learning Engineer\"\u001b[0m\n",
      "Observation: \u001b[36;1m\u001b[1;3m[{'url': 'https://www.linkedin.com/pulse/takeaways-from-chapter-3-designing-machine-learning-lucas-qdtme', 'content': 'Published Feb 10, 2024 + Follow Chapter 3: Data Engineering Fundamentals - Chip Huyen Data engineering is a crucial pillar in the development of ML systems, largely due to the importance of...'}, {'url': 'https://learnml.substack.com/p/machine-learning-roadmap-for-2024', 'content': \"- 📚Course Highlights:\\n- Machine Learning Basics: A beginner-friendly introduction to ML, covering supervised and unsupervised learning.\\n- Mathematics for Machine Learning: School Of Machine Learning\\nMachine Learning Roadmap For 2024 (With Certifications)\\nPlus free courses!\\n In our continuous journey to empower and educate, we're thrilled to present a comprehensive roadmap for those eager to dive deep into the world of machine learning. Delve into the reasons behind the increasing demand for machine learning skills, from boosting career prospects to staying relevant in the ever-evolving tech industry.\\n A step-by-step guide to becoming a machine learning engineer, starting with foundational courses and progressing to specialized areas like Natural Language Processing (NLP).\\n\"}, {'url': 'https://www.linkedin.com/pulse/my-first-thoughts-designing-machine-learning-systems-lucas-scede', 'content': \"Lucas Rafael Dias Pereira Lopes DevOps Engineer | Machine Learning Academic @Webera LLC Published Feb 4, 2024 + Follow As an academic Machine Learning student, that's my nutshell...\"}, {'url': 'https://www.simplilearn.com/rise-of-ai-and-machine-learning-job-trends-article', 'content': 'Machine learning engineers are responsible for creating algorithms and models that enable machines to learn and improve from data autonomously. They require a strong software engineering, data science, and programming background. ... 21 Feb, 2024. 6 Months: $ 10,000: AI for Decision Making: Business Strategies and Applications ... smpl_2024-02 ...'}, {'url': 'https://www.linkedin.com/in/lucas-cadalzo', 'content': 'Senior Machine Learning Research Scientist. Two Six Technologies. Jul 2019 - Jun 2021 2 years. Washington D.C. Metro Area.'}]\u001b[0m\n",
      "Thought:\u001b[32;1m\u001b[1;3m I should now use langchain_search to gather more specific information about Lucas and his job as a Machine Learning Engineer\n",
      "Action: langchain_search\n",
      "Action Input: \"Lucas Machine Learning Engineer\"\u001b[0m\n",
      "Observation: \u001b[33;1m\u001b[1;3mSkip to main content🦜️🔗 LangChainDocsUse casesIntegrationsGuidesAPIMorePeopleVersioningChangelogContributingTemplatesCookbooksTutorialsYouTube🦜️🔗LangSmithLangSmith DocsLangServe GitHubTemplates GitHubTemplates HubLangChain HubJS/TS DocsChatSearchGet startedIntroductionInstallationQuickstartSecurityLangChain Expression LanguageGet startedWhy use LCELInterfaceStreamingHow toCookbookLangChain Expression Language (LCEL)ModulesModel I/ORetrievalAgentsChainsMoreLangServeLangSmithLangGraphGet startedIntroductionOn this pageIntroductionLangChain is a framework for developing applications powered by language models. It enables applications that:Are context-aware: connect a language model to sources of context (prompt instructions, few shot examples, content to ground its response in, etc.)Reason: rely on a language model to reason (about how to answer based on provided context, what actions to take, etc.)This framework consists of several parts.LangChain Libraries: The Python and JavaScript\n",
      "\n",
      "putting prototypes in production, with no code changes, from the simplest “prompt + LLM” chain to the most complex chains.Overview: LCEL and its benefitsInterface: The standard interface for LCEL objectsHow-to: Key features of LCELCookbook: Example code for accomplishing common tasksModules​LangChain provides standard, extendable interfaces and integrations for the following modules:Model I/O​Interface with language modelsRetrieval​Interface with application-specific dataAgents​Let models choose which tools to use given high-level directivesExamples, ecosystem, and resources​Use cases​Walkthroughs and techniques for common end-to-end use cases, like:Document question answeringChatbotsAnalyzing structured dataand much more...Integrations​LangChain is part of a rich ecosystem of tools that integrate with our framework and build on top of it. Check out our growing list of integrations.Guides​Best practices for developing with LangChain.API reference​Head to the reference section for full\n",
      "\n",
      "rely on a language model to reason (about how to answer based on provided context, what actions to take, etc.)This framework consists of several parts.LangChain Libraries: The Python and JavaScript libraries. Contains interfaces and integrations for a myriad of components, a basic run time for combining these components into chains and agents, and off-the-shelf implementations of chains and agents.LangChain Templates: A collection of easily deployable reference architectures for a wide variety of tasks.LangServe: A library for deploying LangChain chains as a REST API.LangSmith: A developer platform that lets you debug, test, evaluate, and monitor chains built on any LLM framework and seamlessly integrates with LangChain.Together, these products simplify the entire application lifecycle:Develop: Write your applications in LangChain/LangChain.js. Hit the ground running using Templates for reference.Productionize: Use LangSmith to inspect, test and monitor your chains, so that you can\n",
      "\n",
      "with our framework and build on top of it. Check out our growing list of integrations.Guides​Best practices for developing with LangChain.API reference​Head to the reference section for full documentation of all classes and methods in the LangChain and LangChain Experimental Python packages.Developer's guide​Check out the developer's guide for guidelines on contributing and help getting your dev environment set up.PreviousGet startedNextInstallationLangChain LibrariesGet startedLangChain Expression Language (LCEL)ModulesExamples, ecosystem, and resourcesUse casesIntegrationsGuidesAPI referenceDeveloper's guideCommunityDiscordTwitterGitHubPythonJS/TSMoreHomepageBlogYouTubeCopyright © 2024 LangChain, Inc.\u001b[0m\n",
      "Thought:\u001b[32;1m\u001b[1;3m I now know the final answer\n",
      "Final Answer: Lucas is a Machine Learning Engineer who uses LangChain as a framework for developing applications powered by language models. He relies on LangChain's standard interfaces and integrations for modules such as Model I/O, Retrieval, and Agents. He also uses LangSmith, a developer platform, to debug, test, evaluate, and monitor his chains built on any LLM framework.\u001b[0m\n",
      "\n",
      "\u001b[1m> Finished chain.\u001b[0m\n"
     ]
    },
    {
     "data": {
      "text/plain": [
       "{'input': 'My name is Lucas and I work as a Machine Learning Engineer',\n",
       " 'chat_history': '',\n",
       " 'output': \"Lucas is a Machine Learning Engineer who uses LangChain as a framework for developing applications powered by language models. He relies on LangChain's standard interfaces and integrations for modules such as Model I/O, Retrieval, and Agents. He also uses LangSmith, a developer platform, to debug, test, evaluate, and monitor his chains built on any LLM framework.\"}"
      ]
     },
     "execution_count": 12,
     "metadata": {},
     "output_type": "execute_result"
    }
   ],
   "source": [
    "agent_chain.invoke(input=\"My name is Lucas and I work as a Machine Learning Engineer\")"
   ]
  },
  {
   "cell_type": "code",
   "execution_count": 13,
   "metadata": {},
   "outputs": [
    {
     "name": "stdout",
     "output_type": "stream",
     "text": [
      "\n",
      "\n",
      "\u001b[1m> Entering new AgentExecutor chain...\u001b[0m\n",
      "\u001b[32;1m\u001b[1;3mThought: I should use tavily_search_results_json to find a list of similar job titles.\n",
      "Action: tavily_search_results_json\n",
      "Action Input: \"Similar job titles to Machine Learning Engineer\"\u001b[0m\n",
      "Observation: \u001b[36;1m\u001b[1;3m[{'url': 'https://www.projectpro.io/article/careers-in-ai/961', 'content': \"NLP Engineer: Skills And Qualifications\\nBelow are some of the skills and educational qualifications you need to become an NLP Engineer-\\nTechnical Skills\\nProgramming languages (Python, Java, R)\\nMachine learning algorithms and frameworks (TensorFlow, PyTorch)\\nNatural language processing techniques (tokenization, stemming, lemmatization)\\nData analysis/visualization and AI tools\\nSoft Skills\\nCritical thinking and problem-solving\\nStrong analytical and communication skills\\nCreativity and innovation\\nAbility to work independently and collaboratively\\nEducational Qualifications\\nBachelor's degree in Computer Science, Linguistics, or related field preferred\\nMaster's degree in NLP or Artificial Intelligence is beneficial\\nGet your hands dirty with these exciting NLP project ideas to help you gain the skills as mentioned above for an NLP Engineer.\\n Statistics and probability\\nMachine learning techniques and algorithms\\nData mining and visualization tools\\nCloud computing platforms (optional)\\nSoft Skills\\nCritical thinking and problem-solving\\nCommunication skills\\nCollaboration and teamwork\\nCuriosity and a passion for learning\\nEducational Qualifications\\nA bachelor's degree in Computer Science, Mathematics, or Statistics is preferred.\\n Deep learning frameworks (TensorFlow, PyTorch)\\nStatistical analysis\\nCloud computing platforms (AWS, Azure, GCP)\\nSoft Skills\\nProblem-solving and critical thinking\\nCommunication and collaboration skills\\nAnalytical and quantitative reasoning\\nAdaptability and willingness to learn\\nAttention to detail and accuracy\\nExplore these innovative AI project ideas to help you gain the above-mentioned skills and expertise in AI engineering.\\n Cristiano Breuel, Senior AI Manager at Nubank, defines the role of a data scientist in one of his articles-\\nData Scientist: Roles and Responsibilities\\nHere are some of the key responsibilities of a Data Scientist-\\nData Wrangling and Cleaning- Collect, clean, and prepare data from various sources for analysis.\\n PREVIOUS\\nNEXT\\nStart Your First Project\\nRelated Blogs on Artificial Intelligence\\nTrending Blog Categories\\nProject Categories\\nProjects\\nBlogs\\nRecipes\\nTutorials\\nProjectPro\\n© 2024\\n\"}, {'url': 'https://www.springboard.com/blog/data-science/careers-in-ai/', 'content': 'Related Articles\\nPros and Cons of Artificial Intelligence: What Excites and Worries Us\\nHow to Build a Secure AI Chatbot Using RASA & Python\\nData Engineering on Google Cloud Platform: How to Get Certified\\nData Analytics Bootcamp\\nData Science Bootcamp\\nMachine Learning Engineering and AI Bootcamp\\nData Engineering Bootcamp\\nIntroduction to Data Analytics\\nData Science Prep\\nUI/UX Design Bootcamp\\nUX Design Bootcamp\\nIntroduction to Design\\nSoftware Engineering Bootcamp\\nSoftware Engineering Bootcamp for Beginners\\nSoftware Engineering Prep\\nCybersecurity Bootcamp\\nTake our quiz\\nAll courses\\nHow it works\\nMentorship\\nJob guarantee\\nStudent outcomes\\nStudent stories\\nCommunity\\nPayment options\\nScholarships\\nUniversities\\nBusinesses\\nHire our graduates\\nAffiliates\\nBlog\\nCompare bootcamps\\nFree UX design course\\nFree data analysis course\\nFree cybersecurity course\\nLearn data science\\nOur story\\nBecome a mentor\\nJoin our team\\nPress inquiries: press@springboard.com Examples of AI jobs include:\\nTo thrive in the AI job market, you’ll need a combination of hard skills (technical knowledge) and soft skills (personal qualities):\\nTechnical Skills:\\nSoft Skills:\\nEducation and Training for AI Jobs\\nWhile a bachelor’s degree in computer science is often the minimum requirement for many AI jobs, a master’s degree or relevant bootcamp certifications can give you a competitive edge. Still Unsure?\\nStill Unsure?\\nBack to Blog\\n10 Awesome & High-Paying AI Careers to Pursue in 2024\\nWritten by:\\nSakshi Gupta\\nIN THIS ARTICLE\\nGet expert insights straight to your inbox.\\n Whether you’re drawn to the intricacies of machine learning, fascinated by the power of data analysis, or intrigued by the limitless potential of AI, a career in this transformative field promises intellectual stimulation, personal growth, and the opportunity to shape the future of technology.\\n From machine learning engineers and data scientists to AI research scientists and AI engineers, the field offers a plethora of opportunities to make a meaningful contribution to the advancement of artificial intelligence.\\n'}, {'url': 'https://www.tealhq.com/job-titles/machine-learning-engineer', 'content': 'Resources Resume Examples Cover Letter Examples Find and Track Job Postings with Your Target Title Start Tracking Free Types of Machine Learning Engineer Jobs Machine Learning Engineering is a multifaceted field that spans various industries and specializations.'}, {'url': 'https://www.forbes.com/sites/shodewan/2023/09/29/5-ai-jobs-to-consider-for-2024/', 'content': 'AI Ethics Officer\\nAverage pay: $95,000 - $166,000 per year (Glassdoor)\\nAI Ethics Officers act as the safeguards of AI tools and systems to make sure they are being developed, deployed, and used responsibly and ethically. While you can compare Machine Learning and Data Engineers as the “brains” behind AI, the Ethics Officers act as the “heart” and have a big impact on the future of AI. That’s why careful planning and organization in handling the data from Data Engineers can help organizations become more efficient in maximizing the uses of AI.\\nRobotics Scientist\\nAverage pay: $116,000 - $188,000 per year (Glassdoor)\\n Data Engineers build systems so that organizations can store and and have access to their data sources and that AI learning machines can process the data the right way.\\n This is the role of AI Quality Assurance Managers and they help design and conduct tests to address bugs and functionality of their AI models and algorithms.\\n'}, {'url': 'https://careerfoundry.com/en/blog/career-change/careers-in-ai/', 'content': 'Courses\\nUX Design\\nUI Design\\nFull-Stack Web Development\\nData Analytics\\nDigital Marketing\\nProduct Management\\nProduct Design\\nUX Design\\nUI Design\\nFull-Stack Web Development\\nData Analytics\\nDigital Marketing\\nProduct Management\\nIntro to UX Design\\nIntro to UI Design\\nIntro to Frontend Development\\nIntro to Data Analytics\\nIntro to Digital Marketing\\nIntro to Product Management\\nVoice User Interface Design\\nUI for UX Designers\\nFrontend Development for Designers\\nAnimation for UI Designers\\nPython for Web Developers\\nCloud Computing for Web Devs\\nMachine Learning with Python\\nData Visualizations with Python\\nLearn with CareerFoundry\\nOur career-change programs are designed to take you from beginner to pro in your tech career—with personalized support every step of the way.\\n Hire our grads\\nUX Design\\nUI Design\\nFull-Stack Web Development\\nData Analytics\\nDigital Marketing\\nProduct Management new\\nProduct Design new\\nUX Design AfA\\nUI Design AfA\\nFull-Stack Web Development AfA\\nData Analytics AfA\\nDigital Marketing AfA new\\nProduct Management AfA new\\nIntro to UX Design\\nIntro to UI Design\\nIntro to Frontend Development\\nIntro to Data Analytics\\nIntro to Digital Marketing\\nIntro to Product Management new\\nVoice User Interface Design\\nUI for UX Designers\\nFrontend Development for Designers\\nAnimation for UI Designers\\nPython for Web Developers\\nCloud Computing for Web Devs new\\nMachine Learning with Python new\\nData Visualizations with Python new\\nHow it works\\nMeet our mentors\\n Job guarantee\\nCareer services\\nGraduate outcomes\\nHire our grads\\nOnline Events\\nBlog\\nLogin\\nMore Categories\\nMore Categories\\nSee our blog categories\\nYour Career in AI: 13 Jobs in AI to Aim For in 2023\\nAI might seem like the new kid on the block, but industry forecasts are already singing its praises.\\n Read more: What are NLP algorithms?\\nAI product manager\\nMedian salary: $150,746 per year\\nSimilar job titles to look out for: Product owner (AI), senior product manager (AI)\\nA “classic” job role transforming into a career in AI, AI product managers bridge the gap between business and customer needs, guiding the development of user-friendly AI-powered products. Explore the AI job: What is an AI product manager?\\nData ethicist\\nMedian salary: $122,000 per year\\nSimilar job titles to look out for: Data ethics officer, AI ethicist\\nConsidering AI’s ethical impacts is the responsibility of all those in the industry.'}]\u001b[0m\n",
      "Thought:\u001b[32;1m\u001b[1;3m I now know the final answer\n",
      "Final Answer: Some similar job titles to Machine Learning Engineer include NLP Engineer, Data Scientist, AI Research Scientist, AI Engineer, Robotics Scientist, AI Ethics Officer, AI Quality Assurance Manager, AI Product Manager, and Data Ethicist.\u001b[0m\n",
      "\n",
      "\u001b[1m> Finished chain.\u001b[0m\n"
     ]
    },
    {
     "data": {
      "text/plain": [
       "{'input': 'What is a similar job to mine?',\n",
       " 'chat_history': \"Human: My name is Lucas and I work as a Machine Learning Engineer\\nAI: Lucas is a Machine Learning Engineer who uses LangChain as a framework for developing applications powered by language models. He relies on LangChain's standard interfaces and integrations for modules such as Model I/O, Retrieval, and Agents. He also uses LangSmith, a developer platform, to debug, test, evaluate, and monitor his chains built on any LLM framework.\",\n",
       " 'output': 'Some similar job titles to Machine Learning Engineer include NLP Engineer, Data Scientist, AI Research Scientist, AI Engineer, Robotics Scientist, AI Ethics Officer, AI Quality Assurance Manager, AI Product Manager, and Data Ethicist.'}"
      ]
     },
     "execution_count": 13,
     "metadata": {},
     "output_type": "execute_result"
    }
   ],
   "source": [
    "agent_chain.invoke(input=\"What is a similar job to mine?\")"
   ]
  },
  {
   "cell_type": "code",
   "execution_count": null,
   "metadata": {},
   "outputs": [],
   "source": []
  },
  {
   "cell_type": "code",
   "execution_count": null,
   "metadata": {},
   "outputs": [],
   "source": []
  },
  {
   "cell_type": "markdown",
   "metadata": {},
   "source": []
  }
 ],
 "metadata": {
  "kernelspec": {
   "display_name": "oreilly-langchain",
   "language": "python",
   "name": "oreilly-langchain"
  },
  "language_info": {
   "codemirror_mode": {
    "name": "ipython",
    "version": 3
   },
   "file_extension": ".py",
   "mimetype": "text/x-python",
   "name": "python",
   "nbconvert_exporter": "python",
   "pygments_lexer": "ipython3",
   "version": "3.10.13"
  }
 },
 "nbformat": 4,
 "nbformat_minor": 2
}
