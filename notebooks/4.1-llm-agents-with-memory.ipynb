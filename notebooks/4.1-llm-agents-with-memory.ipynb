{
 "cells": [
  {
   "cell_type": "markdown",
   "metadata": {},
   "source": [
    "Let's take the code from the previous notebook and add memory to that agent."
   ]
  },
  {
   "cell_type": "code",
   "execution_count": 1,
   "metadata": {},
   "outputs": [],
   "source": [
    "import os\n",
    "from dotenv import load_dotenv, find_dotenv\n",
    "load_dotenv(find_dotenv(\".env\"))"
   ]
  },
  {
   "cell_type": "markdown",
   "metadata": {},
   "source": [
    "# Adding Memory"
   ]
  },
  {
   "cell_type": "code",
   "execution_count": 16,
   "metadata": {},
   "outputs": [],
   "source": [
    "from langchain.agents import AgentExecutor, Tool, ZeroShotAgent\n",
    "from langchain.agents import create_react_agent\n",
    "from langchain.chains import LLMChain\n",
    "from langchain.memory import ConversationBufferMemory\n",
    "from langchain_openai import OpenAI\n",
    "from langchain_community.tools.tavily_search import TavilySearchResults\n",
    "from langchain.text_splitter import RecursiveCharacterTextSplitter\n",
    "from langchain_community.document_loaders import WebBaseLoader\n",
    "from langchain_community.vectorstores import FAISS\n",
    "from langchain_openai import OpenAIEmbeddings\n",
    "\n",
    "search = TavilySearchResults()\n",
    "search.invoke(\"what is the weather in Portugal?\")\n",
    "loader = WebBaseLoader(\"https://python.langchain.com/docs/get_started/introduction\")\n",
    "docs = loader.load()\n",
    "documents = RecursiveCharacterTextSplitter(\n",
    "    chunk_size=1000, chunk_overlap=200\n",
    ").split_documents(docs)\n",
    "vector = FAISS.from_documents(documents, OpenAIEmbeddings())\n",
    "retriever = vector.as_retriever()\n",
    "retriever.get_relevant_documents(\"What is langchain?\")[0]\n",
    "from langchain.tools.retriever import create_retriever_tool\n",
    "\n",
    "retriever_tool = create_retriever_tool(\n",
    "    retriever,\n",
    "    \"langchain_search\",\n",
    "    \"Search for information about LangChain. For any questions about LangChain, you must use this tool!\",\n",
    ")"
   ]
  },
  {
   "cell_type": "code",
   "execution_count": 11,
   "metadata": {},
   "outputs": [],
   "source": [
    "tools = [search, retriever_tool]"
   ]
  },
  {
   "cell_type": "code",
   "execution_count": 18,
   "metadata": {},
   "outputs": [],
   "source": [
    "prefix = \"\"\"Have a conversation with a human, answering the following questions as best you can. You have access to the following tools:\"\"\"\n",
    "suffix = \"\"\"Begin!\"\n",
    "\n",
    "{chat_history}\n",
    "Question: {input}\n",
    "{agent_scratchpad}\"\"\"\n",
    "\n",
    "prompt = ZeroShotAgent.create_prompt(\n",
    "    tools,\n",
    "    prefix=prefix,\n",
    "    suffix=suffix,\n",
    "    input_variables=[\"input\", \"chat_history\", \"agent_scratchpad\"],\n",
    ")\n",
    "memory = ConversationBufferMemory(memory_key=\"chat_history\")"
   ]
  },
  {
   "cell_type": "code",
   "execution_count": 20,
   "metadata": {},
   "outputs": [],
   "source": [
    "llm_chain = LLMChain(llm=OpenAI(temperature=0), prompt=prompt)\n",
    "agent = ZeroShotAgent(llm_chain=llm_chain, tools=tools, verbose=True)\n",
    "agent_chain = AgentExecutor.from_agent_and_tools(\n",
    "    agent=agent, tools=tools, verbose=True, memory=memory\n",
    ")"
   ]
  },
  {
   "cell_type": "code",
   "execution_count": 24,
   "metadata": {},
   "outputs": [
    {
     "name": "stdout",
     "output_type": "stream",
     "text": [
      "\n",
      "\n",
      "\u001b[1m> Entering new AgentExecutor chain...\u001b[0m\n",
      "\u001b[32;1m\u001b[1;3mThought: I should use the langchain_search tool to find information about LangChain.\n",
      "Action: langchain_search\n",
      "Action Input: LangChain\u001b[0m\n",
      "Observation: \u001b[33;1m\u001b[1;3mIntroduction | 🦜️🔗 Langchain\n",
      "\n",
      "rely on a language model to reason (about how to answer based on provided context, what actions to take, etc.)This framework consists of several parts.LangChain Libraries: The Python and JavaScript libraries. Contains interfaces and integrations for a myriad of components, a basic run time for combining these components into chains and agents, and off-the-shelf implementations of chains and agents.LangChain Templates: A collection of easily deployable reference architectures for a wide variety of tasks.LangServe: A library for deploying LangChain chains as a REST API.LangSmith: A developer platform that lets you debug, test, evaluate, and monitor chains built on any LLM framework and seamlessly integrates with LangChain.Together, these products simplify the entire application lifecycle:Develop: Write your applications in LangChain/LangChain.js. Hit the ground running using Templates for reference.Productionize: Use LangSmith to inspect, test and monitor your chains, so that you can\n",
      "\n",
      "up of several different packages.langchain-core: Base abstractions and LangChain Expression Language.langchain-community: Third party integrations.langchain: Chains, agents, and retrieval strategies that make up an application's cognitive architecture.Get started​Here’s how to install LangChain, set up your environment, and start building.We recommend following our Quickstart guide to familiarize yourself with the framework by building your first LangChain application.Read up on our Security best practices to make sure you're developing safely with LangChain.noteThese docs focus on the Python LangChain library. Head here for docs on the JavaScript LangChain library.LangChain Expression Language (LCEL)​LCEL is a declarative way to compose chains. LCEL was designed from day 1 to support putting prototypes in production, with no code changes, from the simplest “prompt + LLM” chain to the most complex chains.Overview: LCEL and its benefitsInterface: The standard interface for LCEL\n",
      "\n",
      "Write your applications in LangChain/LangChain.js. Hit the ground running using Templates for reference.Productionize: Use LangSmith to inspect, test and monitor your chains, so that you can constantly improve and deploy with confidence.Deploy: Turn any chain into an API with LangServe.LangChain Libraries​The main value props of the LangChain packages are:Components: composable tools and integrations for working with language models. Components are modular and easy-to-use, whether you are using the rest of the LangChain framework or notOff-the-shelf chains: built-in assemblages of components for accomplishing higher-level tasksOff-the-shelf chains make it easy to get started. Components make it easy to customize existing chains and build new ones.The LangChain libraries themselves are made up of several different packages.langchain-core: Base abstractions and LangChain Expression Language.langchain-community: Third party integrations.langchain: Chains, agents, and retrieval strategies\u001b[0m\n",
      "Thought:\u001b[32;1m\u001b[1;3m I now know the final answer\n",
      "Final Answer: LangChain is a framework for building and deploying language models and cognitive architectures. It consists of several components, including the LangChain Libraries, Templates, LangServe, and LangSmith. The LangChain Expression Language (LCEL) is used to compose chains and make it easy to customize and deploy them. LangChain is designed to simplify the application lifecycle, from development to production and deployment. \u001b[0m\n",
      "\n",
      "\u001b[1m> Finished chain.\u001b[0m\n"
     ]
    },
    {
     "data": {
      "text/plain": [
       "{'input': 'My name is Lucas and I work as a Machine Learning Engineer',\n",
       " 'chat_history': 'Human: How many people live in canada?\\nAI: According to the most recent data, the population of Canada is approximately 40 million people.\\nHuman: How many people live in canada?\\nAI: According to the most recent data, the population of Canada is approximately 40 million people.\\nHuman: what is their national anthem called?\\nAI: The national anthem of Canada is \"O Canada\".',\n",
       " 'output': 'LangChain is a framework for building and deploying language models and cognitive architectures. It consists of several components, including the LangChain Libraries, Templates, LangServe, and LangSmith. The LangChain Expression Language (LCEL) is used to compose chains and make it easy to customize and deploy them. LangChain is designed to simplify the application lifecycle, from development to production and deployment.'}"
      ]
     },
     "execution_count": 24,
     "metadata": {},
     "output_type": "execute_result"
    }
   ],
   "source": [
    "agent_chain.invoke(input=\"My name is Lucas and I work as a Machine Learning Engineer\")"
   ]
  },
  {
   "cell_type": "code",
   "execution_count": 25,
   "metadata": {},
   "outputs": [
    {
     "name": "stdout",
     "output_type": "stream",
     "text": [
      "\n",
      "\n",
      "\u001b[1m> Entering new AgentExecutor chain...\u001b[0m\n",
      "\u001b[32;1m\u001b[1;3mThought: I should use a search engine to find similar job titles.\n",
      "Action: tavily_search_results_json\n",
      "Action Input: \"Similar job titles to Machine Learning Engineer\"\u001b[0m\n",
      "Observation: \u001b[36;1m\u001b[1;3m[{'url': 'https://www.projectpro.io/article/machine-learning-engineer-career-path/537', 'content': 'A machine learning expert\\nexplores data science prototypes, and designs Machine Learning systems,\\nperforms research and implements relevant machine learning algorithms and tools,\\ndevelop machine learning applications according to requirements,\\nperforms statistical analysis and fine-tuning,\\nextends existing machine learning libraries and frameworks, etc.\\n A data science expert\\ntakes up a business problem and employs various machine learning algorithms to build a solution,\\nconducts market research, and identifies patterns in a given dataset,\\nbuild deep learning models using frameworks such as Tensorflow, Keras, etc., and\\nperforms data analysis and data cleaning activities, etc.\\n Daivi is known for her excellent research skills and ability to distill\\nMeet The Author\\nStart Your First Project\\nRelated Blogs on Data Science Careers\\nTrending Blog Categories\\nProject Categories\\nProjects\\nBlogs\\nRecipes\\nTutorials\\nProjectPro\\n© 2024\\n Source Code: Rossman Store Sales Prediction Project\\nGet FREE Access to Machine Learning Example Codes for Data Cleaning, Data Munging, and Data Visualization\\nBuilding a chatbot application is a beginner-friendly machine learning project to explore the machine learning domain. These include the skills needed for a machine learning career, a few machine learning projects for practice to develop those skills, and a clear grasp of the different types of machine learning careers available.\\n'}, {'url': 'https://careerfoundry.com/en/blog/data-analytics/machine-learning-jobs/', 'content': 'The Best 5 Machine Learning Jobs in 2024 Courses Programs to change your career UX Design UI Design Full-Stack Web Development Data Analytics Digital Marketing Product Management new Product Design new Intro to UX Design Intro to UI Design Intro to Frontend Development Intro to Data Analytics Intro to Digital Marketing Intro to Product Management'}, {'url': 'https://www.projectpro.io/article/careers-in-ai/961', 'content': \"Lost in the AI career maze? Feeling algorithms all around you? Don't worry- we have got your compass! This blog is your ideal guide to exploring the exciting world of careers in AI and ML. Ditch the job-hunt blues, discover the top AI job titles for 2024 at leading tech companies, and land your dream AI job with this blog.\"}, {'url': 'https://www.tealhq.com/job-titles/machine-learning-engineer', 'content': 'Interview Questions Job Titles Resources Resume Examples Cover Letter Examples Find and Track Job Postings with Your Target Title Start Tracking Free Types of Machine Learning Engineer Jobs Machine Learning Engineering is a multifaceted field that spans various industries and specializations.'}, {'url': 'https://www.coursera.org/articles/artificial-intelligence-jobs', 'content': 'Some AI certifications and certificate programs to consider include:\\nMIT: Artificial Intelligence: Implications for Business Strategy\\nUSAII:\\nCertified Artificial Intelligence Engineer\\nCertified Artificial Intelligence Consultant\\nCertified Artificial Intelligence Scientist\\nARTIBA: Take $100 off your annual subscription\\nCoursera Footer\\nPopular AI Content\\nPopular Programs\\nPopular Skills\\nPopular Career Resources\\nCoursera\\nCommunity\\nMore Salary, Skills, and How to Become One\\nHow to get a job in AI\\nWhen it comes to landing an AI job, you’ll want to consider the requirements and skills associated with a specific job role. Artificial Intelligence Engineer\\nIBM Applied AI Professional Certificate\\nIBM AI Engineering Professional Certificate\\nGoogle Advanced Data Analytics Professional Certificate\\nApply to entry-level jobs.\\n 6 Artificial Intelligence (AI) Jobs to Consider in 2023\\nHere are some in-demand jobs amid the AI boom that you can consider pursuing a career in.\\n'}]\u001b[0m\n",
      "Thought:\u001b[32;1m\u001b[1;3m I now know the final answer\n",
      "Final Answer: Some similar job titles to Machine Learning Engineer include Data Scientist, AI Engineer, and Machine Learning Specialist.\u001b[0m\n",
      "\n",
      "\u001b[1m> Finished chain.\u001b[0m\n"
     ]
    },
    {
     "data": {
      "text/plain": [
       "{'input': 'What is a similar job to mine?',\n",
       " 'chat_history': 'Human: How many people live in canada?\\nAI: According to the most recent data, the population of Canada is approximately 40 million people.\\nHuman: How many people live in canada?\\nAI: According to the most recent data, the population of Canada is approximately 40 million people.\\nHuman: what is their national anthem called?\\nAI: The national anthem of Canada is \"O Canada\".\\nHuman: My name is Lucas and I work as a Machine Learning Engineer\\nAI: LangChain is a framework for building and deploying language models and cognitive architectures. It consists of several components, including the LangChain Libraries, Templates, LangServe, and LangSmith. The LangChain Expression Language (LCEL) is used to compose chains and make it easy to customize and deploy them. LangChain is designed to simplify the application lifecycle, from development to production and deployment.',\n",
       " 'output': 'Some similar job titles to Machine Learning Engineer include Data Scientist, AI Engineer, and Machine Learning Specialist.'}"
      ]
     },
     "execution_count": 25,
     "metadata": {},
     "output_type": "execute_result"
    }
   ],
   "source": [
    "agent_chain.invoke(input=\"What is a similar job to mine?\")"
   ]
  },
  {
   "cell_type": "markdown",
   "metadata": {},
   "source": []
  }
 ],
 "metadata": {
  "kernelspec": {
   "display_name": "oreilly-langchain",
   "language": "python",
   "name": "oreilly-langchain"
  },
  "language_info": {
   "codemirror_mode": {
    "name": "ipython",
    "version": 3
   },
   "file_extension": ".py",
   "mimetype": "text/x-python",
   "name": "python",
   "nbconvert_exporter": "python",
   "pygments_lexer": "ipython3",
   "version": "3.10.13"
  }
 },
 "nbformat": 4,
 "nbformat_minor": 2
}
