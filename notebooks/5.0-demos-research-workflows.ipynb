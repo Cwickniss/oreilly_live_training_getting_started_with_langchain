{
 "cells": [
  {
   "cell_type": "markdown",
   "metadata": {},
   "source": [
    "In this notebook, let's consider all the functionalities of langchain under the lense of how to be a more productive researcher."
   ]
  },
  {
   "cell_type": "markdown",
   "metadata": {},
   "source": [
    "# Leveraging Code Executionm"
   ]
  },
  {
   "cell_type": "code",
   "execution_count": 1,
   "metadata": {},
   "outputs": [],
   "source": [
    "!pip install langchain\n",
    "!pip install langchain-core\n",
    "!pip install langchain-community\n",
    "!pip install langchain-experimental\n",
    "!pip install langchain-openai\n",
    "!pip install duckduckgo-search\n",
    "!pip install xmltodict"
   ]
  },
  {
   "cell_type": "code",
   "execution_count": 2,
   "metadata": {},
   "outputs": [
    {
     "data": {
      "text/plain": [
       "True"
      ]
     },
     "execution_count": 2,
     "metadata": {},
     "output_type": "execute_result"
    }
   ],
   "source": [
    "import os\n",
    "\n",
    "# # Set OPENAI API Key\n",
    "\n",
    "os.environ[\"OPENAI_API_KEY\"] = \"your openai key\"\n",
    "\n",
    "# OR (load from .env file)\n",
    "\n",
    "# from dotenv import load_dotenv\n",
    "# load_dotenv(\"./.env\")"
   ]
  },
  {
   "cell_type": "code",
   "execution_count": 1,
   "metadata": {},
   "outputs": [
    {
     "ename": "ImportError",
     "evalue": "cannot import name 'LangSmithParams' from 'langchain_core.language_models.chat_models' (/Users/greatmaster/miniconda3/envs/oreilly-langchain/lib/python3.11/site-packages/langchain_core/language_models/chat_models.py)",
     "output_type": "error",
     "traceback": [
      "\u001b[0;31m---------------------------------------------------------------------------\u001b[0m",
      "\u001b[0;31mImportError\u001b[0m                               Traceback (most recent call last)",
      "Cell \u001b[0;32mIn[1], line 1\u001b[0m\n\u001b[0;32m----> 1\u001b[0m \u001b[38;5;28;01mfrom\u001b[39;00m \u001b[38;5;21;01mlangchain_openai\u001b[39;00m \u001b[38;5;28;01mimport\u001b[39;00m ChatOpenAI\n\u001b[1;32m      3\u001b[0m \u001b[38;5;28;01mfrom\u001b[39;00m \u001b[38;5;21;01mlangchain_core\u001b[39;00m\u001b[38;5;21;01m.\u001b[39;00m\u001b[38;5;21;01mprompts\u001b[39;00m \u001b[38;5;28;01mimport\u001b[39;00m (\n\u001b[1;32m      4\u001b[0m     ChatPromptTemplate,\n\u001b[1;32m      5\u001b[0m     SystemMessagePromptTemplate,\n\u001b[1;32m      6\u001b[0m     HumanMessagePromptTemplate,\n\u001b[1;32m      7\u001b[0m )\n\u001b[1;32m      8\u001b[0m \u001b[38;5;28;01mfrom\u001b[39;00m \u001b[38;5;21;01mlangchain\u001b[39;00m\u001b[38;5;21;01m.\u001b[39;00m\u001b[38;5;21;01mschema\u001b[39;00m\u001b[38;5;21;01m.\u001b[39;00m\u001b[38;5;21;01moutput_parser\u001b[39;00m \u001b[38;5;28;01mimport\u001b[39;00m StrOutputParser\n",
      "File \u001b[0;32m~/miniconda3/envs/oreilly-langchain/lib/python3.11/site-packages/langchain_openai/__init__.py:1\u001b[0m\n\u001b[0;32m----> 1\u001b[0m \u001b[38;5;28;01mfrom\u001b[39;00m \u001b[38;5;21;01mlangchain_openai\u001b[39;00m\u001b[38;5;21;01m.\u001b[39;00m\u001b[38;5;21;01mchat_models\u001b[39;00m \u001b[38;5;28;01mimport\u001b[39;00m (\n\u001b[1;32m      2\u001b[0m     AzureChatOpenAI,\n\u001b[1;32m      3\u001b[0m     ChatOpenAI,\n\u001b[1;32m      4\u001b[0m )\n\u001b[1;32m      5\u001b[0m \u001b[38;5;28;01mfrom\u001b[39;00m \u001b[38;5;21;01mlangchain_openai\u001b[39;00m\u001b[38;5;21;01m.\u001b[39;00m\u001b[38;5;21;01membeddings\u001b[39;00m \u001b[38;5;28;01mimport\u001b[39;00m (\n\u001b[1;32m      6\u001b[0m     AzureOpenAIEmbeddings,\n\u001b[1;32m      7\u001b[0m     OpenAIEmbeddings,\n\u001b[1;32m      8\u001b[0m )\n\u001b[1;32m      9\u001b[0m \u001b[38;5;28;01mfrom\u001b[39;00m \u001b[38;5;21;01mlangchain_openai\u001b[39;00m\u001b[38;5;21;01m.\u001b[39;00m\u001b[38;5;21;01mllms\u001b[39;00m \u001b[38;5;28;01mimport\u001b[39;00m AzureOpenAI, OpenAI\n",
      "File \u001b[0;32m~/miniconda3/envs/oreilly-langchain/lib/python3.11/site-packages/langchain_openai/chat_models/__init__.py:1\u001b[0m\n\u001b[0;32m----> 1\u001b[0m \u001b[38;5;28;01mfrom\u001b[39;00m \u001b[38;5;21;01mlangchain_openai\u001b[39;00m\u001b[38;5;21;01m.\u001b[39;00m\u001b[38;5;21;01mchat_models\u001b[39;00m\u001b[38;5;21;01m.\u001b[39;00m\u001b[38;5;21;01mazure\u001b[39;00m \u001b[38;5;28;01mimport\u001b[39;00m AzureChatOpenAI\n\u001b[1;32m      2\u001b[0m \u001b[38;5;28;01mfrom\u001b[39;00m \u001b[38;5;21;01mlangchain_openai\u001b[39;00m\u001b[38;5;21;01m.\u001b[39;00m\u001b[38;5;21;01mchat_models\u001b[39;00m\u001b[38;5;21;01m.\u001b[39;00m\u001b[38;5;21;01mbase\u001b[39;00m \u001b[38;5;28;01mimport\u001b[39;00m ChatOpenAI\n\u001b[1;32m      4\u001b[0m __all__ \u001b[38;5;241m=\u001b[39m [\n\u001b[1;32m      5\u001b[0m     \u001b[38;5;124m\"\u001b[39m\u001b[38;5;124mChatOpenAI\u001b[39m\u001b[38;5;124m\"\u001b[39m,\n\u001b[1;32m      6\u001b[0m     \u001b[38;5;124m\"\u001b[39m\u001b[38;5;124mAzureChatOpenAI\u001b[39m\u001b[38;5;124m\"\u001b[39m,\n\u001b[1;32m      7\u001b[0m ]\n",
      "File \u001b[0;32m~/miniconda3/envs/oreilly-langchain/lib/python3.11/site-packages/langchain_openai/chat_models/azure.py:9\u001b[0m\n\u001b[1;32m      6\u001b[0m \u001b[38;5;28;01mfrom\u001b[39;00m \u001b[38;5;21;01mtyping\u001b[39;00m \u001b[38;5;28;01mimport\u001b[39;00m Any, Callable, Dict, List, Optional, Union\n\u001b[1;32m      8\u001b[0m \u001b[38;5;28;01mimport\u001b[39;00m \u001b[38;5;21;01mopenai\u001b[39;00m\n\u001b[0;32m----> 9\u001b[0m \u001b[38;5;28;01mfrom\u001b[39;00m \u001b[38;5;21;01mlangchain_core\u001b[39;00m\u001b[38;5;21;01m.\u001b[39;00m\u001b[38;5;21;01mlanguage_models\u001b[39;00m\u001b[38;5;21;01m.\u001b[39;00m\u001b[38;5;21;01mchat_models\u001b[39;00m \u001b[38;5;28;01mimport\u001b[39;00m LangSmithParams\n\u001b[1;32m     10\u001b[0m \u001b[38;5;28;01mfrom\u001b[39;00m \u001b[38;5;21;01mlangchain_core\u001b[39;00m\u001b[38;5;21;01m.\u001b[39;00m\u001b[38;5;21;01moutputs\u001b[39;00m \u001b[38;5;28;01mimport\u001b[39;00m ChatResult\n\u001b[1;32m     11\u001b[0m \u001b[38;5;28;01mfrom\u001b[39;00m \u001b[38;5;21;01mlangchain_core\u001b[39;00m\u001b[38;5;21;01m.\u001b[39;00m\u001b[38;5;21;01mpydantic_v1\u001b[39;00m \u001b[38;5;28;01mimport\u001b[39;00m Field, SecretStr, root_validator\n",
      "\u001b[0;31mImportError\u001b[0m: cannot import name 'LangSmithParams' from 'langchain_core.language_models.chat_models' (/Users/greatmaster/miniconda3/envs/oreilly-langchain/lib/python3.11/site-packages/langchain_core/language_models/chat_models.py)"
     ]
    }
   ],
   "source": [
    "from langchain_openai import ChatOpenAI\n",
    "\n",
    "from langchain_core.prompts import (\n",
    "    ChatPromptTemplate,\n",
    "    SystemMessagePromptTemplate,\n",
    "    HumanMessagePromptTemplate,\n",
    ")\n",
    "from langchain.schema.output_parser import StrOutputParser\n",
    "\n",
    "from langchain_experimental.utilities import PythonREPL"
   ]
  },
  {
   "cell_type": "code",
   "execution_count": 2,
   "metadata": {},
   "outputs": [],
   "source": [
    "template = \"\"\"Write some python code to solve the user's problem. \n",
    "\n",
    "Return only python code in Markdown format, e.g.:\n",
    "\n",
    "```python\n",
    "....\n",
    "```\"\"\"\n",
    "prompt = ChatPromptTemplate.from_messages([(\"system\", template), (\"human\", \"{input}\")])\n",
    "\n",
    "model = ChatOpenAI()"
   ]
  },
  {
   "cell_type": "code",
   "execution_count": 3,
   "metadata": {},
   "outputs": [],
   "source": [
    "def _sanitize_output(text: str):\n",
    "    _, after = text.split(\"```python\")\n",
    "    return after.split(\"```\")[0]"
   ]
  },
  {
   "cell_type": "code",
   "execution_count": 4,
   "metadata": {},
   "outputs": [],
   "source": [
    "chain = prompt | model | StrOutputParser() | _sanitize_output | PythonREPL().run"
   ]
  },
  {
   "cell_type": "code",
   "execution_count": 5,
   "metadata": {},
   "outputs": [
    {
     "name": "stderr",
     "output_type": "stream",
     "text": [
      "Python REPL can execute arbitrary code. Use with caution.\n"
     ]
    },
    {
     "data": {
      "text/plain": [
       "'4\\n'"
      ]
     },
     "execution_count": 5,
     "metadata": {},
     "output_type": "execute_result"
    }
   ],
   "source": [
    "chain.invoke({\"input\": \"whats 2 plus 2\"})"
   ]
  },
  {
   "cell_type": "code",
   "execution_count": 7,
   "metadata": {},
   "outputs": [
    {
     "data": {
      "image/png": "[encoded data removed]",
      "text/plain": [
       "<Figure size 640x480 with 1 Axes>"
      ]
     },
     "metadata": {},
     "output_type": "display_data"
    },
    {
     "data": {
      "text/plain": [
       "''"
      ]
     },
     "execution_count": 7,
     "metadata": {},
     "output_type": "execute_result"
    }
   ],
   "source": [
    "chain.invoke({\"input\": \"Plot a graph of x squared\"})"
   ]
  },
  {
   "cell_type": "code",
   "execution_count": 8,
   "metadata": {},
   "outputs": [
    {
     "data": {
      "image/png": "[encoded data removed]",
      "text/plain": [
       "<Figure size 640x480 with 1 Axes>"
      ]
     },
     "metadata": {},
     "output_type": "display_data"
    },
    {
     "data": {
      "text/plain": [
       "''"
      ]
     },
     "execution_count": 8,
     "metadata": {},
     "output_type": "execute_result"
    }
   ],
   "source": [
    "chain.invoke({\"input\": \"Plot a simple linear regression fit over some toy example data, use numpy and not sklearn\"})"
   ]
  },
  {
   "cell_type": "markdown",
   "metadata": {},
   "source": [
    "# Leveraging Tools"
   ]
  },
  {
   "cell_type": "code",
   "execution_count": 9,
   "metadata": {},
   "outputs": [],
   "source": [
    "from langchain_openai import ChatOpenAI\n",
    "from langchain_core.prompts import ChatPromptTemplate\n",
    "from langchain.schema.output_parser import StrOutputParser\n",
    "from langchain.tools import DuckDuckGoSearchRun"
   ]
  },
  {
   "cell_type": "code",
   "execution_count": 10,
   "metadata": {},
   "outputs": [],
   "source": [
    "search = DuckDuckGoSearchRun()"
   ]
  },
  {
   "cell_type": "code",
   "execution_count": 11,
   "metadata": {},
   "outputs": [],
   "source": [
    "template = \"\"\"turn the following user input into a search query for a search engine:\n",
    "\n",
    "{input}\"\"\"\n",
    "prompt = ChatPromptTemplate.from_template(template)\n",
    "\n",
    "model = ChatOpenAI()"
   ]
  },
  {
   "cell_type": "code",
   "execution_count": 12,
   "metadata": {},
   "outputs": [],
   "source": [
    "chain = prompt | model | StrOutputParser() | search"
   ]
  },
  {
   "cell_type": "code",
   "execution_count": 15,
   "metadata": {},
   "outputs": [],
   "source": [
    "output = chain.invoke({\"input\": \"What is a transformer architecture in the context of Artificial neural networks?\"})"
   ]
  },
  {
   "cell_type": "code",
   "execution_count": 16,
   "metadata": {},
   "outputs": [
    {
     "data": {
      "text/markdown": [
       "The transformer neural network is a novel architecture that aims to solve sequence-to-sequence tasks while handling long-range dependencies with ease. It was first proposed in the paper \"Attention Is All You Need\" and is now a state-of-the-art technique in the field of natural language processing (NLP). Before jumping into the transformer network, I will explain why we use it and where it ... Transformer neural network architecture has a set of traits that make it a suitable architecture for those domains: it is expressive, plays well with current optimization techniques, and it can be parallized. From those traits, one can say that transformer is an efficient architecture. That said however, the efficiency of transformer comes with ... A transformer is a type of neural network architecture capable of learning context and relationships from sequential data such as text. This makes it applicable to a wide range of natural language processing (NLP) tasks such as: ... Consequently, the transformer architecture makes efficient use of a GPU's processing abilities and is more ... Transformer is a neural network architecture that makes use of self-attention. It replaces earlier approaches of LSTMs or CNNs that used attention between encoder and decoder. Transformer showed that a feed-forward network used with self-attention is sufficient. Influential language models such BERT and GPT-2 are based on the transformer ... What are transformer models? The transformer (represented by the T in ChatGPT, GPT-2, GPT-3, GPT-3.5, etc.) is the key element that makes generative AI so, well, transformational. Transformer models are a type of neural network architecture designed to process sequential material, such as sentences or time-series data."
      ],
      "text/plain": [
       "<IPython.core.display.Markdown object>"
      ]
     },
     "execution_count": 16,
     "metadata": {},
     "output_type": "execute_result"
    }
   ],
   "source": [
    "from IPython.display import Markdown\n",
    "\n",
    "\n",
    "Markdown(output)"
   ]
  },
  {
   "cell_type": "markdown",
   "metadata": {},
   "source": [
    "# Extracting Structured Information with Playwright"
   ]
  },
  {
   "cell_type": "code",
   "execution_count": 13,
   "metadata": {},
   "outputs": [],
   "source": [
    "# see scripts in dev-scripts-playwright-langchain.py"
   ]
  },
  {
   "cell_type": "markdown",
   "metadata": {},
   "source": [
    "# Automating Literature Review with LangChain"
   ]
  },
  {
   "cell_type": "code",
   "execution_count": 17,
   "metadata": {},
   "outputs": [],
   "source": [
    "from langchain_openai import ChatOpenAI\n",
    "\n",
    "llm = ChatOpenAI(temperature=0, model=\"gpt-4-1106-preview\")"
   ]
  },
  {
   "cell_type": "code",
   "execution_count": 38,
   "metadata": {},
   "outputs": [],
   "source": [
    "from langchain import hub\n",
    "from langchain.agents import AgentExecutor, create_react_agent, load_tools\n",
    "from langchain_openai import ChatOpenAI\n",
    "\n",
    "llm = ChatOpenAI(model=\"gpt-4o\", temperature=0.0)\n",
    "tools = load_tools(\n",
    "    [\"arxiv\"],\n",
    ")\n",
    "prompt = hub.pull(\"hwchase17/react\")\n",
    "\n",
    "agent = create_react_agent(llm, tools, prompt)\n",
    "agent_executor = AgentExecutor(agent=agent, tools=tools, verbose=True)"
   ]
  },
  {
   "cell_type": "code",
   "execution_count": 39,
   "metadata": {},
   "outputs": [
    {
     "name": "stdout",
     "output_type": "stream",
     "text": [
      "\n",
      "\n",
      "\u001b[1m> Entering new AgentExecutor chain...\u001b[0m\n",
      "\u001b[32;1m\u001b[1;3mI should search for the latest papers on Large Language Models on arxiv.org to find the top 3 papers.\n",
      "\n",
      "Action: arxiv\n",
      "Action Input: Large Language Models\u001b[0m\u001b[36;1m\u001b[1;3mPublished: 2023-06-12\n",
      "Title: Lost in Translation: Large Language Models in Non-English Content Analysis\n",
      "Authors: Gabriel Nicholas, Aliya Bhatia\n",
      "Summary: In recent years, large language models (e.g., Open AI's GPT-4, Meta's LLaMa,\n",
      "Google's PaLM) have become the dominant approach for building AI systems to\n",
      "analyze and generate language online. However, the automated systems that\n",
      "increasingly mediate our interactions online -- such as chatbots, content\n",
      "moderation systems, and search engines -- are primarily designed for and work\n",
      "far more effectively in English than in the world's other 7,000 languages.\n",
      "Recently, researchers and technology companies have attempted to extend the\n",
      "capabilities of large language models into languages other than English by\n",
      "building what are called multilingual language models.\n",
      "  In this paper, we explain how these multilingual language models work and\n",
      "explore their capabilities and limits. Part I provides a simple technical\n",
      "explanation of how large language models work, why there is a gap in available\n",
      "data between English and other languages, and how multilingual language models\n",
      "attempt to bridge that gap. Part II accounts for the challenges of doing\n",
      "content analysis with large language models in general and multilingual\n",
      "language models in particular. Part III offers recommendations for companies,\n",
      "researchers, and policymakers to keep in mind when considering researching,\n",
      "developing and deploying large and multilingual language models.\n",
      "\n",
      "Published: 2022-02-07\n",
      "Title: Cedille: A large autoregressive French language model\n",
      "Authors: Martin Müller, Florian Laurent\n",
      "Summary: Scaling up the size and training of autoregressive language models has\n",
      "enabled novel ways of solving Natural Language Processing tasks using zero-shot\n",
      "and few-shot learning. While extreme-scale language models such as GPT-3 offer\n",
      "multilingual capabilities, zero-shot learning for languages other than English\n",
      "remain largely unexplored. Here, we introduce Cedille, a large open source\n",
      "auto-regressive language model, specifically trained for the French language.\n",
      "Our results show that Cedille outperforms existing French language models and\n",
      "is competitive with GPT-3 on a range of French zero-shot benchmarks.\n",
      "Furthermore, we provide an in-depth comparison of the toxicity exhibited by\n",
      "these models, showing that Cedille marks an improvement in language model\n",
      "safety thanks to dataset filtering.\n",
      "\n",
      "Published: 2023-05-11\n",
      "Title: How Good are Commercial Large Language Models on African Languages?\n",
      "Authors: Jessica Ojo, Kelechi Ogueji\n",
      "Summary: Recent advancements in Natural Language Processing (NLP) has led to the\n",
      "proliferation of large pretrained language models. These models have been shown\n",
      "to yield good performance, using in-context learning, even on unseen tasks and\n",
      "languages. They have also been exposed as commercial APIs as a form of\n",
      "language-model-as-a-service, with great adoption. However, their performance on\n",
      "African languages is largely unknown. We present a preliminary analysis of\n",
      "commercial large language models on two tasks (machine translation and text\n",
      "classification) across eight African languages, spanning different language\n",
      "families and geographical areas. Our results suggest that commercial language\n",
      "models produce below-par performance on African languages. We also find that\n",
      "they perform better on text classification than machine translation. In\n",
      "general, our findings present a call-to-action to ensure African languages are\n",
      "well represented in commercial large language models, given their growing\n",
      "popularity.\u001b[0m\u001b[32;1m\u001b[1;3mI have found three recent papers on Large Language Models (LLMs) from arxiv.org. Here are the details:\n",
      "\n",
      "1. **Title:** Lost in Translation: Large Language Models in Non-English Content Analysis\n",
      "   - **Authors:** Gabriel Nicholas, Aliya Bhatia\n",
      "   - **Published:** 2023-06-12\n",
      "   - **Summary:** This paper discusses the challenges and capabilities of multilingual language models, particularly focusing on the gap between English and other languages. It provides a technical explanation of how LLMs work, the data gap, and the efforts to bridge this gap with multilingual models. It also offers recommendations for companies, researchers, and policymakers.\n",
      "\n",
      "2. **Title:** Cedille: A large autoregressive French language model\n",
      "   - **Authors:** Martin Müller, Florian Laurent\n",
      "   - **Published:** 2022-02-07\n",
      "   - **Summary:** This paper introduces Cedille, a large open-source autoregressive language model specifically trained for the French language. It shows that Cedille outperforms existing French language models and is competitive with GPT-3 on French zero-shot benchmarks. The paper also discusses improvements in language model safety through dataset filtering.\n",
      "\n",
      "3. **Title:** How Good are Commercial Large Language Models on African Languages?\n",
      "   - **Authors:** Jessica Ojo, Kelechi Ogueji\n",
      "   - **Published:** 2023-05-11\n",
      "   - **Summary:** This paper presents an analysis of commercial large language models on African languages, focusing on machine translation and text classification across eight African languages. The findings suggest that commercial LLMs perform below par on African languages and perform better on text classification than machine translation. The paper calls for better representation of African languages in commercial LLMs.\n",
      "\n",
      "Final Answer: The latest top 3 papers about Large Language Models are:\n",
      "1. \"Lost in Translation: Large Language Models in Non-English Content Analysis\" by Gabriel Nicholas and Aliya Bhatia (2023-06-12)\n",
      "2. \"Cedille: A large autoregressive French language model\" by Martin Müller and Florian Laurent (2022-02-07)\n",
      "3. \"How Good are Commercial Large Language Models on African Languages?\" by Jessica Ojo and Kelechi Ogueji (2023-05-11)\u001b[0m\n",
      "\n",
      "\u001b[1m> Finished chain.\u001b[0m\n"
     ]
    },
    {
     "data": {
      "text/plain": [
       "{'input': 'Latest top 3 papers about Large Language Models',\n",
       " 'output': 'The latest top 3 papers about Large Language Models are:\\n1. \"Lost in Translation: Large Language Models in Non-English Content Analysis\" by Gabriel Nicholas and Aliya Bhatia (2023-06-12)\\n2. \"Cedille: A large autoregressive French language model\" by Martin Müller and Florian Laurent (2022-02-07)\\n3. \"How Good are Commercial Large Language Models on African Languages?\" by Jessica Ojo and Kelechi Ogueji (2023-05-11)'}"
      ]
     },
     "execution_count": 39,
     "metadata": {},
     "output_type": "execute_result"
    }
   ],
   "source": [
    "agent_executor.invoke(\n",
    "    {\n",
    "        \"input\": \"Latest top 3 papers about Large Language Models\",\n",
    "    }\n",
    ")"
   ]
  },
  {
   "cell_type": "markdown",
   "metadata": {},
   "source": [
    "To automate literature review with Langchain, you can use the PubMedRetriever and PubMedLoader modules. Here's how you can do it:"
   ]
  },
  {
   "cell_type": "markdown",
   "metadata": {},
   "source": [
    "• Install the required packages:"
   ]
  },
  {
   "cell_type": "code",
   "execution_count": 20,
   "metadata": {},
   "outputs": [],
   "source": [
    "# Import the necessary modules:\n",
    "\n",
    "from langchain.retrievers import PubMedRetriever #for the PubMedRetriever module.\n",
    "from langchain.document_loaders import PubMedLoader #for the PubMedLoader module."
   ]
  },
  {
   "cell_type": "code",
   "execution_count": 21,
   "metadata": {},
   "outputs": [],
   "source": [
    "#• Create an instance of the PubMedRetriever:\n",
    "\n",
    "retriever = PubMedRetriever()"
   ]
  },
  {
   "cell_type": "code",
   "execution_count": 23,
   "metadata": {},
   "outputs": [
    {
     "data": {
      "text/plain": [
       "[Document(page_content='Enteric neuropathies are characterized by abnormalities of gut innervation, which includes the enteric nervous system, inducing severe gut dysmotility among other dysfunctions. Most of the gastrointestinal tract is innervated by the vagus nerve, the efferent branches of which have close interconnections with the enteric nervous system and whose afferents are distributed throughout the different layers of the digestive wall. The vagus nerve is a key element of the autonomic nervous system, involved in the stress response, at the interface of the microbiota-gut-brain axis, has anti-inflammatory and prokinetic properties, modulates intestinal permeability, and has a significant capacity of plasticity and regeneration. Targeting these properties of the vagus nerve, with vagus nerve stimulation (or non-stimulation/ pharmacological methods), could be of interest in the therapeutic management of enteric neuropathies.', metadata={'uid': '38873822', 'Title': 'Enteric neuropathy and the vagus nerve: Therapeutic implications.', 'Published': '2024-06-14', 'Copyright Information': '© 2024 The Author(s). Neurogastroenterology & Motility published by John Wiley & Sons Ltd.'}),\n",
       " Document(page_content='BACKGROUND: Actual and imagined cued gait trainings have not been compared in people with multiple sclerosis (MS).\\nOBJECTIVE: To analyze the effects of cued motor imagery (CMI), cued gait training (CGT), and combined CMI and cued gait training (CMI-CGT) on motor, cognitive, and emotional functioning, and health-related quality of life in people with MS.\\nMETHODS: In this double-blind randomized parallel-group multicenter trial, people with MS were randomized (1:1:1) to CMI, CMI-CGT, or CGT for 30\\u2009minutes, 4×/week for 4\\u2009weeks. Patients practiced at home, using recorded instructions, and supported by ≥6 phone calls. Data were collected at weeks 0, 4, and 13. Co-primary outcomes were walking speed and distance, analyzed by intention-to-treat. Secondary outcomes were global cognitive impairment, anxiety, depression, suicidality, fatigue, HRQoL, motor imagery ability, music-induced motivation, pleasure and arousal, self-efficacy, and cognitive function. Adverse events and falls were continuously monitored.\\nRESULTS: Of 1559 screened patients, 132 were randomized: 44 to CMI, 44 to CMI-CGT, and 44 to CGT. None of the interventions demonstrated superiority in influencing walking speed or distance, with negligible effects on walking speed (η\\u2009=\\u20090.019) and distance (η\\u2009=\\u20090.005) observed in the between-group comparison. Improvements in walking speed and walking distance over time corresponded to large effects for CMI, CMI-CGT, and CGT (η\\u2009=\\u20090.348 and η\\u2009=\\u20090.454 respectively). No severe study-related adverse events were reported.\\nCONCLUSIONS: CMI-GT did not lead to improved walking speed and distance compared with CMI and CGT alone in people with MS. Lack of a true control group represents a study limitation.\\nTRIAL REGISTRATION: German Clinical Trials Register, DRKS00023978.', metadata={'uid': '38873806', 'Title': 'Actual and Imagined Music-Cued Gait Training in People with Multiple Sclerosis: A Double-Blind Randomized Parallel Multicenter Trial.', 'Published': '2024-06-14', 'Copyright Information': ''}),\n",
       " Document(page_content='OBJECTIVES: Abnormal hippocampal neurodevelopment, particularly in the dentate gyrus region, may be a key mechanism of attention-deficit/hyperactivity disorder (ADHD). In this study, we investigate the effect of the most commonly used Chinese herb for the treatment of ADHD, Rehmanniae Radix Preparata (RRP), on behavior and hippocampal neurodevelopment in spontaneously hypertensive rats (SHR).\\nMETHODS: Behavior tests, including Morris water maze (MWM) test, open field test (OFT) and elevated plus maze (EPM) test were performed to assess the effect of RRP on hyperactive and impulsive behavior. Hippocampal neurodevelopment was characterized by transmission electron microscopy, immunofluorescence, Golgi staining and Nissl staining approaches. Regulatory proteins such as Trkb, CDK5, FGF2/FGFR1 were examined by Western blot analysis.\\nRESULTS: The results showed that RRP could effectively control the impulsive and spontaneous behavior and improve the spatial learning and memory ability. RRP significantly reduced neuronal loss and increased the number of hippocampal stem cells, and promoted synaptic plasticity. In addition, FGF/FGFR signaling was upregulated after RRP treatment.\\nCONCLUSION: RRP can effectively reduce impulsive and spontaneous behavior and ameliorate hippocampal neurodevelopmental abnormalities in ADHD rat model.', metadata={'uid': '38872946', 'Title': 'Rehmanniae Radix Preparata ameliorates behavioral deficits and hippocampal neurodevelopmental abnormalities in ADHD rat model.', 'Published': '2024-05-30', 'Copyright Information': 'Copyright © 2024 Sun, Yuan, Wang, Zhu, Xiong, Zheng, Ni and Huang.'})]"
      ]
     },
     "execution_count": 23,
     "metadata": {},
     "output_type": "execute_result"
    }
   ],
   "source": [
    "# Use the PubMedRetriever to get relevant documents based on a search query:\n",
    "\n",
    "query = \"neuroplasticity\"\n",
    "docs = retriever.invoke(query)\n",
    "docs"
   ]
  },
  {
   "cell_type": "code",
   "execution_count": 24,
   "metadata": {},
   "outputs": [],
   "source": [
    "\n",
    "# • Create an instance of the PubMedLoader:\n",
    "\n",
    "loader = PubMedLoader(query)\n",
    "\n",
    "# Load the documents using the PubMedLoader:\n",
    "\n",
    "docs = loader.load()"
   ]
  },
  {
   "cell_type": "code",
   "execution_count": 25,
   "metadata": {},
   "outputs": [
    {
     "data": {
      "text/plain": [
       "[Document(page_content='Enteric neuropathies are characterized by abnormalities of gut innervation, which includes the enteric nervous system, inducing severe gut dysmotility among other dysfunctions. Most of the gastrointestinal tract is innervated by the vagus nerve, the efferent branches of which have close interconnections with the enteric nervous system and whose afferents are distributed throughout the different layers of the digestive wall. The vagus nerve is a key element of the autonomic nervous system, involved in the stress response, at the interface of the microbiota-gut-brain axis, has anti-inflammatory and prokinetic properties, modulates intestinal permeability, and has a significant capacity of plasticity and regeneration. Targeting these properties of the vagus nerve, with vagus nerve stimulation (or non-stimulation/ pharmacological methods), could be of interest in the therapeutic management of enteric neuropathies.', metadata={'uid': '38873822', 'Title': 'Enteric neuropathy and the vagus nerve: Therapeutic implications.', 'Published': '2024-06-14', 'Copyright Information': '© 2024 The Author(s). Neurogastroenterology & Motility published by John Wiley & Sons Ltd.'}),\n",
       " Document(page_content='BACKGROUND: Actual and imagined cued gait trainings have not been compared in people with multiple sclerosis (MS).\\nOBJECTIVE: To analyze the effects of cued motor imagery (CMI), cued gait training (CGT), and combined CMI and cued gait training (CMI-CGT) on motor, cognitive, and emotional functioning, and health-related quality of life in people with MS.\\nMETHODS: In this double-blind randomized parallel-group multicenter trial, people with MS were randomized (1:1:1) to CMI, CMI-CGT, or CGT for 30\\u2009minutes, 4×/week for 4\\u2009weeks. Patients practiced at home, using recorded instructions, and supported by ≥6 phone calls. Data were collected at weeks 0, 4, and 13. Co-primary outcomes were walking speed and distance, analyzed by intention-to-treat. Secondary outcomes were global cognitive impairment, anxiety, depression, suicidality, fatigue, HRQoL, motor imagery ability, music-induced motivation, pleasure and arousal, self-efficacy, and cognitive function. Adverse events and falls were continuously monitored.\\nRESULTS: Of 1559 screened patients, 132 were randomized: 44 to CMI, 44 to CMI-CGT, and 44 to CGT. None of the interventions demonstrated superiority in influencing walking speed or distance, with negligible effects on walking speed (η\\u2009=\\u20090.019) and distance (η\\u2009=\\u20090.005) observed in the between-group comparison. Improvements in walking speed and walking distance over time corresponded to large effects for CMI, CMI-CGT, and CGT (η\\u2009=\\u20090.348 and η\\u2009=\\u20090.454 respectively). No severe study-related adverse events were reported.\\nCONCLUSIONS: CMI-GT did not lead to improved walking speed and distance compared with CMI and CGT alone in people with MS. Lack of a true control group represents a study limitation.\\nTRIAL REGISTRATION: German Clinical Trials Register, DRKS00023978.', metadata={'uid': '38873806', 'Title': 'Actual and Imagined Music-Cued Gait Training in People with Multiple Sclerosis: A Double-Blind Randomized Parallel Multicenter Trial.', 'Published': '2024-06-14', 'Copyright Information': ''}),\n",
       " Document(page_content='OBJECTIVES: Abnormal hippocampal neurodevelopment, particularly in the dentate gyrus region, may be a key mechanism of attention-deficit/hyperactivity disorder (ADHD). In this study, we investigate the effect of the most commonly used Chinese herb for the treatment of ADHD, Rehmanniae Radix Preparata (RRP), on behavior and hippocampal neurodevelopment in spontaneously hypertensive rats (SHR).\\nMETHODS: Behavior tests, including Morris water maze (MWM) test, open field test (OFT) and elevated plus maze (EPM) test were performed to assess the effect of RRP on hyperactive and impulsive behavior. Hippocampal neurodevelopment was characterized by transmission electron microscopy, immunofluorescence, Golgi staining and Nissl staining approaches. Regulatory proteins such as Trkb, CDK5, FGF2/FGFR1 were examined by Western blot analysis.\\nRESULTS: The results showed that RRP could effectively control the impulsive and spontaneous behavior and improve the spatial learning and memory ability. RRP significantly reduced neuronal loss and increased the number of hippocampal stem cells, and promoted synaptic plasticity. In addition, FGF/FGFR signaling was upregulated after RRP treatment.\\nCONCLUSION: RRP can effectively reduce impulsive and spontaneous behavior and ameliorate hippocampal neurodevelopmental abnormalities in ADHD rat model.', metadata={'uid': '38872946', 'Title': 'Rehmanniae Radix Preparata ameliorates behavioral deficits and hippocampal neurodevelopmental abnormalities in ADHD rat model.', 'Published': '2024-05-30', 'Copyright Information': 'Copyright © 2024 Sun, Yuan, Wang, Zhu, Xiong, Zheng, Ni and Huang.'})]"
      ]
     },
     "execution_count": 25,
     "metadata": {},
     "output_type": "execute_result"
    }
   ],
   "source": [
    "# You can now access the loaded documents and their metadata:\n",
    "\n",
    "docs #to access the metadata of the first document."
   ]
  },
  {
   "cell_type": "code",
   "execution_count": 26,
   "metadata": {},
   "outputs": [
    {
     "data": {
      "text/plain": [
       "'Enteric neuropathies are characterized by abnormalities of gut innervation, which includes the enteric nervous system, inducing severe gut dysmotility among other dysfunctions. Most of the gastrointestinal tract is innervated by the vagus nerve, the efferent branches of which have close interconnections with the enteric nervous system and whose afferents are distributed throughout the different layers of the digestive wall. The vagus nerve is a key element of the autonomic nervous system, involved in the stress response, at the interface of the microbiota-gut-brain axis, has anti-inflammatory and prokinetic properties, modulates intestinal permeability, and has a significant capacity of plasticity and regeneration. Targeting these properties of the vagus nerve, with vagus nerve stimulation (or non-stimulation/ pharmacological methods), could be of interest in the therapeutic management of enteric neuropathies.'"
      ]
     },
     "execution_count": 26,
     "metadata": {},
     "output_type": "execute_result"
    }
   ],
   "source": [
    "docs[0].page_content #to access the content of the first document.\n",
    "\n",
    "#By using the PubMedRetriever and PubMedLoader modules, you can automate the process of retrieving and loading relevant literature for your literature review."
   ]
  },
  {
   "cell_type": "code",
   "execution_count": 27,
   "metadata": {},
   "outputs": [
    {
     "data": {
      "text/plain": [
       "3"
      ]
     },
     "execution_count": 27,
     "metadata": {},
     "output_type": "execute_result"
    }
   ],
   "source": [
    "len(docs)"
   ]
  },
  {
   "cell_type": "code",
   "execution_count": 28,
   "metadata": {},
   "outputs": [],
   "source": [
    "from langchain.tools import PubmedQueryRun"
   ]
  },
  {
   "cell_type": "code",
   "execution_count": 29,
   "metadata": {},
   "outputs": [],
   "source": [
    "tool = PubmedQueryRun()"
   ]
  },
  {
   "cell_type": "code",
   "execution_count": 30,
   "metadata": {},
   "outputs": [
    {
     "data": {
      "text/plain": [
       "\"Published: 2024-05-30\\nTitle: Assessing the utility of artificial intelligence throughout the triage outpatients: a prospective randomized controlled clinical study.\\nCopyright Information: Copyright © 2024 Liu, Lai, Wu, Yan, Gan, Yang, Zeng, Liu, Liao, Lin, Jing and Zhang.\\nSummary::\\np\\nCurrently, there are still many patients who require outpatient triage assistance. ChatGPT, a natural language processing tool powered by artificial intelligence technology, is increasingly utilized in medicine. To facilitate and expedite patients' navigation to the appropriate department, we conducted an outpatient triage evaluation of ChatGPT. For this evaluation, we posed 30 highly representative and common outpatient questions to ChatGPT and scored its responses using a panel of five experienced doctors. The consistency of manual triage and ChatGPT triage was assessed by five experienced doctors, and statistical analysis was performed using the Chi-square test. The expert ratings of ChatGPT's answers to these 30 frequently asked questions revealed 17 responses earning very high scores (10 and 9.5 points), 7 earning high scores (9 points), and 6 receiving low scores (8 and 7 points). Additionally, we conducted a prospective cohort study in which 45 patients completed forms detailing gender, age, and symptoms. Triage was then performed by outpatient triage staff and ChatGPT. Among the 45 patients, we found a high level of agreement between manual triage and ChatGPT triage (consistency: 93.3-100%, <0.0001). We were pleasantly surprised to observe that ChatGPT's responses were highly professional, comprehensive, and humanized. This innovation can help patients win more treatment time, improve patient diagnosis and cure rates, and alleviate the pressure of medical staff shortage.\\n\\nPublished: 2024-06-13\\nTitle: Assessing the potential role of ChatGPT in spine surgery research.\\nCopyright Information: © 2024 The Author(s). Journal of Experimental Orthopaedics published by John Wiley & Sons L\""
      ]
     },
     "execution_count": 30,
     "metadata": {},
     "output_type": "execute_result"
    }
   ],
   "source": [
    "tool.run(\"chatgpt\")"
   ]
  },
  {
   "cell_type": "markdown",
   "metadata": {},
   "source": [
    "With duck duck go search"
   ]
  },
  {
   "cell_type": "code",
   "execution_count": 31,
   "metadata": {},
   "outputs": [],
   "source": [
    "import requests\n",
    "from bs4 import BeautifulSoup\n",
    "from langchain_core.prompts import PromptTemplate\n",
    "from langchain_openai import ChatOpenAI\n",
    "from langchain.chains.openai_functions.extraction import create_extraction_chain_pydantic\n",
    "from langchain.agents import load_tools, AgentExecutor\n",
    "import pandas as pd"
   ]
  },
  {
   "cell_type": "code",
   "execution_count": 32,
   "metadata": {},
   "outputs": [],
   "source": [
    "def parse_html(content):\n",
    "    soup = BeautifulSoup(content, 'html.parser')\n",
    "    text_content_with_links = soup.get_text()\n",
    "    return text_content_with_links\n",
    "\n",
    "def fetch_web_page(url):\n",
    "    response = requests.get(url)\n",
    "    return parse_html(response.content)"
   ]
  },
  {
   "cell_type": "code",
   "execution_count": 33,
   "metadata": {},
   "outputs": [],
   "source": [
    "tools = load_tools([\"arxiv\"])\n",
    "prompt = hub.pull(\"hwchase17/react\")\n",
    "agent = create_react_agent(llm, tools, prompt)\n",
    "agent_executor = AgentExecutor(agent=agent, tools=tools, verbose=True)"
   ]
  },
  {
   "cell_type": "code",
   "execution_count": 34,
   "metadata": {},
   "outputs": [
    {
     "name": "stdout",
     "output_type": "stream",
     "text": [
      "\n",
      "\n",
      "\u001b[1m> Entering new AgentExecutor chain...\u001b[0m\n",
      "\u001b[32;1m\u001b[1;3mI need to search for papers on large language models on arxiv.\n",
      "Action: arxiv\n",
      "Action Input: large language models\u001b[0m\u001b[36;1m\u001b[1;3mNo good Arxiv Result was found\u001b[0m\u001b[32;1m\u001b[1;3mI should try a more specific search query.\n",
      "Action: arxiv\n",
      "Action Input: \"large language models\"\u001b[0m\u001b[36;1m\u001b[1;3mNo good Arxiv Result was found\u001b[0m\u001b[32;1m\u001b[1;3mI should try a different search query.\n",
      "Action: arxiv\n",
      "Action Input: \"transformer models\"\u001b[0m\u001b[36;1m\u001b[1;3mNo good Arxiv Result was found\u001b[0m\u001b[32;1m\u001b[1;3mI should try a different approach and search for papers on natural language processing.\n",
      "Action: arxiv\n",
      "Action Input: natural language processing\u001b[0m\u001b[36;1m\u001b[1;3mNo good Arxiv Result was found\u001b[0m\u001b[32;1m\u001b[1;3mI should try searching for papers on deep learning.\n",
      "Action: arxiv\n",
      "Action Input: deep learning\u001b[0m\u001b[36;1m\u001b[1;3mNo good Arxiv Result was found\u001b[0m\u001b[32;1m\u001b[1;3mI should try searching for papers on neural networks.\n",
      "Action: arxiv\n",
      "Action Input: neural networks\u001b[0m\u001b[36;1m\u001b[1;3mNo good Arxiv Result was found\u001b[0m\u001b[32;1m\u001b[1;3mI should try searching for papers on artificial intelligence.\n",
      "Action: arxiv\n",
      "Action Input: artificial intelligence\u001b[0m\u001b[36;1m\u001b[1;3mNo good Arxiv Result was found\u001b[0m\u001b[32;1m\u001b[1;3mI should try searching for papers on machine learning.\n",
      "Action: arxiv\n",
      "Action Input: machine learning\u001b[0m\u001b[36;1m\u001b[1;3mNo good Arxiv Result was found\u001b[0m\u001b[32;1m\u001b[1;3mI should try searching for papers on natural language understanding.\n",
      "Action: arxiv\n",
      "Action Input: natural language understanding\u001b[0m\u001b[36;1m\u001b[1;3mNo good Arxiv Result was found\u001b[0m\u001b[32;1m\u001b[1;3mI should try searching for papers on text generation models.\n",
      "Action: arxiv\n",
      "Action Input: text generation models\u001b[0m\u001b[36;1m\u001b[1;3mNo good Arxiv Result was found\u001b[0m\u001b[32;1m\u001b[1;3mI should try searching for papers on recurrent neural networks.\n",
      "Action: arxiv\n",
      "Action Input: recurrent neural networks\u001b[0m\u001b[36;1m\u001b[1;3mNo good Arxiv Result was found\u001b[0m\u001b[32;1m\u001b[1;3mI should try searching for papers on language modeling.\n",
      "Action: arxiv\n",
      "Action Input: language modeling\u001b[0m\u001b[36;1m\u001b[1;3mNo good Arxiv Result was found\u001b[0m\u001b[32;1m\u001b[1;3mI should try searching for papers on natural language generation.\n",
      "Action: arxiv\n",
      "Action Input: natural language generation\u001b[0m\u001b[36;1m\u001b[1;3mNo good Arxiv Result was found\u001b[0m\u001b[32;1m\u001b[1;3mI should try searching for papers on text-based models.\n",
      "Action: arxiv\n",
      "Action Input: text-based models\u001b[0m\u001b[36;1m\u001b[1;3mNo good Arxiv Result was found\u001b[0m\u001b[32;1m\u001b[1;3mI should try searching for papers on generative language models.\n",
      "Action: arxiv\n",
      "Action Input: generative language models\u001b[0m\u001b[36;1m\u001b[1;3mNo good Arxiv Result was found\u001b[0m\u001b[32;1m\u001b[1;3m\u001b[0m\n",
      "\n",
      "\u001b[1m> Finished chain.\u001b[0m\n"
     ]
    }
   ],
   "source": [
    "output = agent_executor.invoke({\"input\": \"Research any 3 papers about large language models and output a json object containing title, abstract and citation, the\\\n",
    "    structure should be as follows: {title: ..., abstract: ..., citation: ...}. You will use the arxiv search engine to find the papers. The output should ONLY BE JSON. \\n\\n OUTPUT:\\n\\n\"})"
   ]
  },
  {
   "cell_type": "code",
   "execution_count": 41,
   "metadata": {},
   "outputs": [],
   "source": [
    "# Define a Pydantic schema for your data (modify according to your data structure)\n",
    "from langchain_core.pydantic_v1 import BaseModel\n",
    "\n",
    "class LiteratureData(BaseModel):\n",
    "    \"\"\"Extracts paper information from the output of an arxiv search.\"\"\"\n",
    "    title: str\n",
    "    abstract: str\n",
    "    citation: str\n",
    "    \n",
    "\n",
    "# Create a chain to extract information based on the schema\n",
    "extraction_chain = create_extraction_chain_pydantic(\n",
    "    pydantic_schema=LiteratureData,\n",
    "    llm=ChatOpenAI(temperature=0, model=\"gpt-3.5-turbo-0125\"),  # specify the model you want to use\n",
    ")"
   ]
  },
  {
   "cell_type": "code",
   "execution_count": 42,
   "metadata": {},
   "outputs": [
    {
     "data": {
      "text/plain": [
       "LLMChain(prompt=ChatPromptTemplate(input_variables=['input'], messages=[HumanMessagePromptTemplate(prompt=PromptTemplate(input_variables=['input'], template=\"Extract and save the relevant entities mentioned in the following passage together with their properties.\\n\\nOnly extract the properties mentioned in the 'information_extraction' function.\\n\\nIf a property is not present and is not required in the function parameters, do not include it in the output.\\n\\nPassage:\\n{input}\\n\"))]), llm=ChatOpenAI(client=<openai.resources.chat.completions.Completions object at 0x173699ae0>, async_client=<openai.resources.chat.completions.AsyncCompletions object at 0x17369b400>, model_name='gpt-3.5-turbo-0125', temperature=0.0, openai_api_key=SecretStr('**********'), openai_api_base='https://api.openai.com/v1', openai_proxy=''), output_parser=PydanticAttrOutputFunctionsParser(pydantic_schema=<class 'langchain.chains.openai_functions.extraction.create_extraction_chain_pydantic.<locals>.PydanticSchema'>, attr_name='info'), llm_kwargs={'functions': [{'name': 'information_extraction', 'description': 'Extracts the relevant information from the passage.', 'parameters': {'type': 'object', 'properties': {'info': {'type': 'array', 'items': {'type': 'object', 'properties': {'title': {'title': 'Title', 'type': 'string'}, 'abstract': {'title': 'Abstract', 'type': 'string'}, 'citation': {'title': 'Citation', 'type': 'string'}}, 'required': ['title', 'abstract', 'citation']}}}, 'required': ['info']}}], 'function_call': {'name': 'information_extraction'}})"
      ]
     },
     "execution_count": 42,
     "metadata": {},
     "output_type": "execute_result"
    }
   ],
   "source": [
    "extraction_chain"
   ]
  },
  {
   "cell_type": "code",
   "execution_count": 45,
   "metadata": {},
   "outputs": [],
   "source": [
    "output = \"\"\"\n",
    "{\n",
    "  \"papers\": [\n",
    "    {\n",
    "      \"title\": \"Lost in Translation: Large Language Models in Non-English Content Analysis\",\n",
    "      \"abstract\": \"In recent years, large language models (e.g., Open AI's GPT-4, Meta's LLaMa, Google's PaLM) have become the dominant approach for building AI systems to analyze and generate language online. However, the automated systems that increasingly mediate our interactions online -- such as chatbots, content moderation systems, and search engines -- are primarily designed for and work far more effectively in English than in the world's other 7,000 languages. Recently, researchers and technology companies have attempted to extend the capabilities of large language models into languages other than English by building what are called multilingual language models. In this paper, we explain how these multilingual language models work and explore their capabilities and limits. Part I provides a simple technical explanation of how large language models work, why there is a gap in available data between English and other languages, and how multilingual language models attempt to bridge that gap. Part II accounts for the challenges of doing content analysis with large language models in general and multilingual language models in particular. Part III offers recommendations for companies, researchers, and policymakers to keep in mind when considering researching, developing and deploying large and multilingual language models.\",\n",
    "      \"citation\": \"Gabriel Nicholas, Aliya Bhatia. (2023). Lost in Translation: Large Language Models in Non-English Content Analysis.\"\n",
    "    },\n",
    "    {\n",
    "      \"title\": \"Cedille: A large autoregressive French language model\",\n",
    "      \"abstract\": \"Scaling up the size and training of autoregressive language models has enabled novel ways of solving Natural Language Processing tasks using zero-shot and few-shot learning. While extreme-scale language models such as GPT-3 offer multilingual capabilities, zero-shot learning for languages other than English remain largely unexplored. Here, we introduce Cedille, a large open source auto-regressive language model, specifically trained for the French language. Our results show that Cedille outperforms existing French language models and is competitive with GPT-3 on a range of French zero-shot benchmarks. Furthermore, we provide an in-depth comparison of the toxicity exhibited by these models, showing that Cedille marks an improvement in language model safety thanks to dataset filtering.\",\n",
    "      \"citation\": \"Martin Müller, Florian Laurent. (2022). Cedille: A large autoregressive French language model.\"\n",
    "    },\n",
    "    {\n",
    "      \"title\": \"How Good are Commercial Large Language Models on African Languages?\",\n",
    "      \"abstract\": \"Recent advancements in Natural Language Processing (NLP) has led to the proliferation of large pretrained language models. These models have been shown to yield good performance, using in-context learning, even on unseen tasks and languages. They have also been exposed as commercial APIs as a form of language-model-as-a-service, with great adoption. However, their performance on African languages is largely unknown. We present a preliminary analysis of commercial large language models on two tasks (machine translation and text classification) across eight African languages, spanning different language families and geographical areas. Our results suggest that commercial language models produce below-par performance on African languages. We also find that they perform better on text classification than machine translation. In general, our findings present a call-to-action to ensure African languages are well represented in commercial large language models, given their growing popularity.\",\n",
    "      \"citation\": \"Jessica Ojo, Kelechi Ogueji. (2023). How Good are Commercial Large Language Models on African Languages?\"\n",
    "    }\n",
    "  ]\n",
    "}\n",
    "\"\"\""
   ]
  },
  {
   "cell_type": "code",
   "execution_count": 46,
   "metadata": {},
   "outputs": [],
   "source": [
    "literature_data_output = extraction_chain.invoke({\"input\": output})"
   ]
  },
  {
   "cell_type": "code",
   "execution_count": 47,
   "metadata": {},
   "outputs": [
    {
     "data": {
      "text/plain": [
       "{'input': '\\n{\\n  \"papers\": [\\n    {\\n      \"title\": \"Lost in Translation: Large Language Models in Non-English Content Analysis\",\\n      \"abstract\": \"In recent years, large language models (e.g., Open AI\\'s GPT-4, Meta\\'s LLaMa, Google\\'s PaLM) have become the dominant approach for building AI systems to analyze and generate language online. However, the automated systems that increasingly mediate our interactions online -- such as chatbots, content moderation systems, and search engines -- are primarily designed for and work far more effectively in English than in the world\\'s other 7,000 languages. Recently, researchers and technology companies have attempted to extend the capabilities of large language models into languages other than English by building what are called multilingual language models. In this paper, we explain how these multilingual language models work and explore their capabilities and limits. Part I provides a simple technical explanation of how large language models work, why there is a gap in available data between English and other languages, and how multilingual language models attempt to bridge that gap. Part II accounts for the challenges of doing content analysis with large language models in general and multilingual language models in particular. Part III offers recommendations for companies, researchers, and policymakers to keep in mind when considering researching, developing and deploying large and multilingual language models.\",\\n      \"citation\": \"Gabriel Nicholas, Aliya Bhatia. (2023). Lost in Translation: Large Language Models in Non-English Content Analysis.\"\\n    },\\n    {\\n      \"title\": \"Cedille: A large autoregressive French language model\",\\n      \"abstract\": \"Scaling up the size and training of autoregressive language models has enabled novel ways of solving Natural Language Processing tasks using zero-shot and few-shot learning. While extreme-scale language models such as GPT-3 offer multilingual capabilities, zero-shot learning for languages other than English remain largely unexplored. Here, we introduce Cedille, a large open source auto-regressive language model, specifically trained for the French language. Our results show that Cedille outperforms existing French language models and is competitive with GPT-3 on a range of French zero-shot benchmarks. Furthermore, we provide an in-depth comparison of the toxicity exhibited by these models, showing that Cedille marks an improvement in language model safety thanks to dataset filtering.\",\\n      \"citation\": \"Martin Müller, Florian Laurent. (2022). Cedille: A large autoregressive French language model.\"\\n    },\\n    {\\n      \"title\": \"How Good are Commercial Large Language Models on African Languages?\",\\n      \"abstract\": \"Recent advancements in Natural Language Processing (NLP) has led to the proliferation of large pretrained language models. These models have been shown to yield good performance, using in-context learning, even on unseen tasks and languages. They have also been exposed as commercial APIs as a form of language-model-as-a-service, with great adoption. However, their performance on African languages is largely unknown. We present a preliminary analysis of commercial large language models on two tasks (machine translation and text classification) across eight African languages, spanning different language families and geographical areas. Our results suggest that commercial language models produce below-par performance on African languages. We also find that they perform better on text classification than machine translation. In general, our findings present a call-to-action to ensure African languages are well represented in commercial large language models, given their growing popularity.\",\\n      \"citation\": \"Jessica Ojo, Kelechi Ogueji. (2023). How Good are Commercial Large Language Models on African Languages?\"\\n    }\\n  ]\\n}\\n',\n",
       " 'text': [LiteratureData(title='Lost in Translation: Large Language Models in Non-English Content Analysis', abstract=\"In recent years, large language models (e.g., Open AI's GPT-4, Meta's LLaMa, Google's PaLM) have become the dominant approach for building AI systems to analyze and generate language online. However, the automated systems that increasingly mediate our interactions online -- such as chatbots, content moderation systems, and search engines -- are primarily designed for and work far more effectively in English than in the world's other 7,000 languages. Recently, researchers and technology companies have attempted to extend the capabilities of large language models into languages other than English by building what are called multilingual language models. In this paper, we explain how these multilingual language models work and explore their capabilities and limits. Part I provides a simple technical explanation of how large language models work, why there is a gap in available data between English and other languages, and how multilingual language models attempt to bridge that gap. Part II accounts for the challenges of doing content analysis with large language models in general and multilingual language models in particular. Part III offers recommendations for companies, researchers, and policymakers to keep in mind when considering researching, developing and deploying large and multilingual language models.\", citation='Gabriel Nicholas, Aliya Bhatia. (2023). Lost in Translation: Large Language Models in Non-English Content Analysis.'),\n",
       "  LiteratureData(title='Cedille: A large autoregressive French language model', abstract='Scaling up the size and training of autoregressive language models has enabled novel ways of solving Natural Language Processing tasks using zero-shot and few-shot learning. While extreme-scale language models such as GPT-3 offer multilingual capabilities, zero-shot learning for languages other than English remain largely unexplored. Here, we introduce Cedille, a large open source auto-regressive language model, specifically trained for the French language. Our results show that Cedille outperforms existing French language models and is competitive with GPT-3 on a range of French zero-shot benchmarks. Furthermore, we provide an in-depth comparison of the toxicity exhibited by these models, showing that Cedille marks an improvement in language model safety thanks to dataset filtering.', citation='Martin Müller, Florian Laurent. (2022). Cedille: A large autoregressive French language model.'),\n",
       "  LiteratureData(title='How Good are Commercial Large Language Models on African Languages?', abstract='Recent advancements in Natural Language Processing (NLP) has led to the proliferation of large pretrained language models. These models have been shown to yield good performance, using in-context learning, even on unseen tasks and languages. They have also been exposed as commercial APIs as a form of language-model-as-a-service, with great adoption. However, their performance on African languages is largely unknown. We present a preliminary analysis of commercial large language models on two tasks (machine translation and text classification) across eight African languages, spanning different language families and geographical areas. Our results suggest that commercial language models produce below-par performance on African languages. We also find that they perform better on text classification than machine translation. In general, our findings present a call-to-action to ensure African languages are well represented in commercial large language models, given their growing popularity.', citation='Jessica Ojo, Kelechi Ogueji. (2023). How Good are Commercial Large Language Models on African Languages?')]}"
      ]
     },
     "execution_count": 47,
     "metadata": {},
     "output_type": "execute_result"
    }
   ],
   "source": [
    "literature_data_output"
   ]
  },
  {
   "cell_type": "code",
   "execution_count": 48,
   "metadata": {},
   "outputs": [
    {
     "data": {
      "text/html": [
       "<div>\n",
       "<style scoped>\n",
       "    .dataframe tbody tr th:only-of-type {\n",
       "        vertical-align: middle;\n",
       "    }\n",
       "\n",
       "    .dataframe tbody tr th {\n",
       "        vertical-align: top;\n",
       "    }\n",
       "\n",
       "    .dataframe thead th {\n",
       "        text-align: right;\n",
       "    }\n",
       "</style>\n",
       "<table border=\"1\" class=\"dataframe\">\n",
       "  <thead>\n",
       "    <tr style=\"text-align: right;\">\n",
       "      <th></th>\n",
       "      <th>title</th>\n",
       "      <th>abstract</th>\n",
       "      <th>citation</th>\n",
       "    </tr>\n",
       "  </thead>\n",
       "  <tbody>\n",
       "    <tr>\n",
       "      <th>0</th>\n",
       "      <td>Lost in Translation: Large Language Models in ...</td>\n",
       "      <td>In recent years, large language models (e.g., ...</td>\n",
       "      <td>Gabriel Nicholas, Aliya Bhatia. (2023). Lost i...</td>\n",
       "    </tr>\n",
       "    <tr>\n",
       "      <th>1</th>\n",
       "      <td>Cedille: A large autoregressive French languag...</td>\n",
       "      <td>Scaling up the size and training of autoregres...</td>\n",
       "      <td>Martin Müller, Florian Laurent. (2022). Cedill...</td>\n",
       "    </tr>\n",
       "    <tr>\n",
       "      <th>2</th>\n",
       "      <td>How Good are Commercial Large Language Models ...</td>\n",
       "      <td>Recent advancements in Natural Language Proces...</td>\n",
       "      <td>Jessica Ojo, Kelechi Ogueji. (2023). How Good ...</td>\n",
       "    </tr>\n",
       "  </tbody>\n",
       "</table>\n",
       "</div>"
      ],
      "text/plain": [
       "                                               title  \\\n",
       "0  Lost in Translation: Large Language Models in ...   \n",
       "1  Cedille: A large autoregressive French languag...   \n",
       "2  How Good are Commercial Large Language Models ...   \n",
       "\n",
       "                                            abstract  \\\n",
       "0  In recent years, large language models (e.g., ...   \n",
       "1  Scaling up the size and training of autoregres...   \n",
       "2  Recent advancements in Natural Language Proces...   \n",
       "\n",
       "                                            citation  \n",
       "0  Gabriel Nicholas, Aliya Bhatia. (2023). Lost i...  \n",
       "1  Martin Müller, Florian Laurent. (2022). Cedill...  \n",
       "2  Jessica Ojo, Kelechi Ogueji. (2023). How Good ...  "
      ]
     },
     "execution_count": 48,
     "metadata": {},
     "output_type": "execute_result"
    }
   ],
   "source": [
    "df = pd.DataFrame([data.dict() for data in literature_data_output[\"text\"]])\n",
    "df.head()  # Displaying the first few rows of the DataFrame"
   ]
  },
  {
   "cell_type": "code",
   "execution_count": null,
   "metadata": {},
   "outputs": [],
   "source": [
    "# Alternative with create_structured_output_chain() and json_schema\n",
    "# This example needs some work\n",
    "# json_schema = {\n",
    "#     \"title\": \"Literature Review\",\n",
    "#     \"description\": \"Structured output for a literature review\",\n",
    "#     \"type\": \"object\",\n",
    "#     \"properties\":{\n",
    "#             \"author\": {\"title\": \"Author\", \"description\": \"Author of the paper\", \"type\": \"string\"},\n",
    "#             \"abstract\": {\"title\": \"Abstract\", \"description\": \"Abstract of the paper\", \"type\": \"string\"},\n",
    "#             \"citation\": {\"title\": \"Citation\", \"description\": \"Citation of the paper\", \"type\": \"string\"},\n",
    "#             \"key_points\": {\"title\": \"Key Points\", \"description\": \"Key points of the paper if available\", \"type\": \"string\"},\n",
    "#             },\n",
    "# \"required\": [],\n",
    "# }\n",
    "\n",
    "# llm = ChatOpenAI(model=\"gpt-4-1106-preview\", temperature=0)\n",
    "# prompt = ChatPromptTemplate.from_messages([(\"system\", \"You are extracting literature information in structured formats\"),         (\"human\", \"Use the given format to extract information from the following input: {input}\")])\n",
    "\n",
    "# chain = create_structured_output_chain(json_schema, llm, prompt, verbose=True)\n",
    "# output = chain.run(literature_data_output)\n",
    "# output\n",
    "# output"
   ]
  }
 ],
 "metadata": {
  "kernelspec": {
   "display_name": "oreilly-langchain",
   "language": "python",
   "name": "oreilly-langchain"
  },
  "language_info": {
   "codemirror_mode": {
    "name": "ipython",
    "version": 3
   },
   "file_extension": ".py",
   "mimetype": "text/x-python",
   "name": "python",
   "nbconvert_exporter": "python",
   "pygments_lexer": "ipython3",
   "version": "3.11.9"
  }
 },
 "nbformat": 4,
 "nbformat_minor": 2
}
