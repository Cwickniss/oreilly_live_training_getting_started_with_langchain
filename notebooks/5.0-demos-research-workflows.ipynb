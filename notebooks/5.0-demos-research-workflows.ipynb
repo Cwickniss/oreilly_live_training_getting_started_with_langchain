{
 "cells": [
  {
   "cell_type": "markdown",
   "metadata": {},
   "source": [
    "In this notebook, let's consider all the functionalities of langchain under the lense of how to be a more productive researcher."
   ]
  },
  {
   "cell_type": "markdown",
   "metadata": {},
   "source": [
    "# Leveraging Code Executionm"
   ]
  },
  {
   "cell_type": "code",
   "execution_count": 94,
   "metadata": {},
   "outputs": [],
   "source": [
    "# !pip install -r requirements.txt"
   ]
  },
  {
   "cell_type": "code",
   "execution_count": 1,
   "metadata": {},
   "outputs": [],
   "source": [
    "from langchain.chat_models import ChatOpenAI\n",
    "from langchain.prompts import (\n",
    "    ChatPromptTemplate,\n",
    "    SystemMessagePromptTemplate,\n",
    "    HumanMessagePromptTemplate,\n",
    ")\n",
    "from langchain.schema.output_parser import StrOutputParser\n",
    "from langchain_experimental.utilities import PythonREPL"
   ]
  },
  {
   "cell_type": "code",
   "execution_count": 2,
   "metadata": {},
   "outputs": [],
   "source": [
    "template = \"\"\"Write some python code to solve the user's problem. \n",
    "\n",
    "Return only python code in Markdown format, e.g.:\n",
    "\n",
    "```python\n",
    "....\n",
    "```\"\"\"\n",
    "prompt = ChatPromptTemplate.from_messages([(\"system\", template), (\"human\", \"{input}\")])\n",
    "\n",
    "model = ChatOpenAI()"
   ]
  },
  {
   "cell_type": "code",
   "execution_count": 3,
   "metadata": {},
   "outputs": [],
   "source": [
    "def _sanitize_output(text: str):\n",
    "    _, after = text.split(\"```python\")\n",
    "    return after.split(\"```\")[0]"
   ]
  },
  {
   "cell_type": "code",
   "execution_count": 4,
   "metadata": {},
   "outputs": [],
   "source": [
    "chain = prompt | model | StrOutputParser() | _sanitize_output | PythonREPL().run"
   ]
  },
  {
   "cell_type": "code",
   "execution_count": 5,
   "metadata": {},
   "outputs": [
    {
     "name": "stderr",
     "output_type": "stream",
     "text": [
      "Python REPL can execute arbitrary code. Use with caution.\n"
     ]
    },
    {
     "data": {
      "text/plain": [
       "'4\\n'"
      ]
     },
     "execution_count": 5,
     "metadata": {},
     "output_type": "execute_result"
    }
   ],
   "source": [
    "chain.invoke({\"input\": \"whats 2 plus 2\"})"
   ]
  },
  {
   "cell_type": "code",
   "execution_count": 6,
   "metadata": {},
   "outputs": [
    {
     "data": {
      "image/png": "[encoded data removed]",
      "text/plain": [
       "<Figure size 640x480 with 1 Axes>"
      ]
     },
     "metadata": {},
     "output_type": "display_data"
    },
    {
     "data": {
      "text/plain": [
       "''"
      ]
     },
     "execution_count": 6,
     "metadata": {},
     "output_type": "execute_result"
    }
   ],
   "source": [
    "chain.invoke({\"input\": \"Plot a graph of x squared\"})"
   ]
  },
  {
   "cell_type": "markdown",
   "metadata": {},
   "source": [
    "# Leveraging Tools"
   ]
  },
  {
   "cell_type": "code",
   "execution_count": 7,
   "metadata": {},
   "outputs": [],
   "source": [
    "# !pip install duckduckgo-search"
   ]
  },
  {
   "cell_type": "code",
   "execution_count": 8,
   "metadata": {},
   "outputs": [],
   "source": [
    "from langchain.chat_models import ChatOpenAI\n",
    "from langchain.prompts import ChatPromptTemplate\n",
    "from langchain.schema.output_parser import StrOutputParser\n",
    "from langchain.tools import DuckDuckGoSearchRun"
   ]
  },
  {
   "cell_type": "code",
   "execution_count": 9,
   "metadata": {},
   "outputs": [],
   "source": [
    "search = DuckDuckGoSearchRun()"
   ]
  },
  {
   "cell_type": "code",
   "execution_count": 10,
   "metadata": {},
   "outputs": [],
   "source": [
    "template = \"\"\"turn the following user input into a search query for a search engine:\n",
    "\n",
    "{input}\"\"\"\n",
    "prompt = ChatPromptTemplate.from_template(template)\n",
    "\n",
    "model = ChatOpenAI()"
   ]
  },
  {
   "cell_type": "code",
   "execution_count": 11,
   "metadata": {},
   "outputs": [],
   "source": [
    "chain = prompt | model | StrOutputParser() | search"
   ]
  },
  {
   "cell_type": "code",
   "execution_count": 12,
   "metadata": {},
   "outputs": [
    {
     "data": {
      "text/plain": [
       "'No good DuckDuckGo Search Result was found'"
      ]
     },
     "execution_count": 12,
     "metadata": {},
     "output_type": "execute_result"
    }
   ],
   "source": [
    "chain.invoke({\"input\": \"I'd like to figure out UFC fights are happening this week\"})"
   ]
  },
  {
   "cell_type": "markdown",
   "metadata": {},
   "source": [
    "# Extracting Structured Information with Playwright"
   ]
  },
  {
   "cell_type": "code",
   "execution_count": 13,
   "metadata": {},
   "outputs": [],
   "source": [
    "# see scripts in dev-scripts-playwright-langchain.py"
   ]
  },
  {
   "cell_type": "markdown",
   "metadata": {},
   "source": [
    "# Automating Literature Review with LangChain"
   ]
  },
  {
   "cell_type": "code",
   "execution_count": 14,
   "metadata": {},
   "outputs": [],
   "source": [
    "from langchain.chat_models import ChatOpenAI\n",
    "\n",
    "llm = ChatOpenAI(temperature=0, model=\"gpt-4-1106-preview\")"
   ]
  },
  {
   "cell_type": "code",
   "execution_count": 17,
   "metadata": {},
   "outputs": [],
   "source": [
    "from langchain.chat_models import ChatOpenAI\n",
    "from langchain.agents import load_tools, initialize_agent, AgentType\n",
    "\n",
    "llm = ChatOpenAI(temperature=0.0)\n",
    "tools = load_tools(\n",
    "    [\"arxiv\"],\n",
    ")\n",
    "\n",
    "agent_chain = initialize_agent(\n",
    "    tools,\n",
    "    llm,\n",
    "    agent=AgentType.ZERO_SHOT_REACT_DESCRIPTION,\n",
    "    verbose=True,\n",
    "    handle_parsing_errors=True,\n",
    ")"
   ]
  },
  {
   "cell_type": "code",
   "execution_count": 18,
   "metadata": {},
   "outputs": [
    {
     "name": "stdout",
     "output_type": "stream",
     "text": [
      "\n",
      "\n",
      "\u001b[1m> Entering new AgentExecutor chain...\u001b[0m\n",
      "\u001b[32;1m\u001b[1;3mI should search for recent papers on leveraging large language models to augment human learning.\n",
      "Action: arxiv\n",
      "Action Input: \"leveraging large language models to augment human learning\"\u001b[0m\n",
      "Observation: \u001b[36;1m\u001b[1;3mPublished: 2021-06-02\n",
      "Title: Not Far Away, Not So Close: Sample Efficient Nearest Neighbour Data Augmentation via MiniMax\n",
      "Authors: Ehsan Kamalloo, Mehdi Rezagholizadeh, Peyman Passban, Ali Ghodsi\n",
      "Summary: In Natural Language Processing (NLP), finding data augmentation techniques\n",
      "that can produce high-quality human-interpretable examples has always been\n",
      "challenging. Recently, leveraging kNN such that augmented examples are\n",
      "retrieved from large repositories of unlabelled sentences has made a step\n",
      "toward interpretable augmentation. Inspired by this paradigm, we introduce\n",
      "Minimax-kNN, a sample efficient data augmentation strategy tailored for\n",
      "Knowledge Distillation (KD). We exploit a semi-supervised approach based on KD\n",
      "to train a model on augmented data. In contrast to existing kNN augmentation\n",
      "techniques that blindly incorporate all samples, our method dynamically selects\n",
      "a subset of augmented samples that maximizes KL-divergence between the teacher\n",
      "and student models. This step aims to extract the most efficient samples to\n",
      "ensure our augmented data covers regions in the input space with maximum loss\n",
      "value. We evaluated our technique on several text classification tasks and\n",
      "demonstrated that Minimax-kNN consistently outperforms strong baselines. Our\n",
      "results show that Minimax-kNN requires fewer augmented examples and less\n",
      "computation to achieve superior performance over the state-of-the-art kNN-based\n",
      "augmentation techniques.\n",
      "\n",
      "Published: 2023-07-01\n",
      "Title: Robotic Skill Acquisition via Instruction Augmentation with Vision-Language Models\n",
      "Authors: Ted Xiao, Harris Chan, Pierre Sermanet, Ayzaan Wahid, Anthony Brohan, Karol Hausman, Sergey Levine, Jonathan Tompson\n",
      "Summary: In recent years, much progress has been made in learning robotic manipulation\n",
      "policies that follow natural language instructions. Such methods typically\n",
      "learn from corpora of robot-language data that was either collected with\n",
      "specific tasks in mind or expensively re-labelled by humans with rich language\n",
      "descriptions in hindsight. Recently, large-scale pretrained vision-language\n",
      "models (VLMs) like CLIP or ViLD have been applied to robotics for learning\n",
      "representations and scene descriptors. Can these pretrained models serve as\n",
      "automatic labelers for robot data, effectively importing Internet-scale\n",
      "knowledge into existing datasets to make them useful even for tasks that are\n",
      "not reflected in their ground truth annotations? To accomplish this, we\n",
      "introduce Data-driven Instruction Augmentation for Language-conditioned control\n",
      "(DIAL): we utilize semi-supervised language labels leveraging the semantic\n",
      "understanding of CLIP to propagate knowledge onto large datasets of unlabelled\n",
      "demonstration data and then train language-conditioned policies on the\n",
      "augmented datasets. This method enables cheaper acquisition of useful language\n",
      "descriptions compared to expensive human labels, allowing for more efficient\n",
      "label coverage of large-scale datasets. We apply DIAL to a challenging\n",
      "real-world robotic manipulation domain where 96.5% of the 80,000 demonstrations\n",
      "do not contain crowd-sourced language annotations. DIAL enables imitation\n",
      "learning policies to acquire new capabilities and generalize to 60 novel\n",
      "instructions unseen in the original dataset.\n",
      "\n",
      "Published: 2023-12-04\n",
      "Title: Developing Linguistic Patterns to Mitigate Inherent Human Bias in Offensive Language Detection\n",
      "Authors: Toygar Tanyel, Besher Alkurdi, Serkan Ayvaz\n",
      "Summary: With the proliferation of social media, there has been a sharp increase in\n",
      "offensive content, particularly targeting vulnerable groups, exacerbating\n",
      "social problems such as hatred, racism, and sexism. Detecting offensive\n",
      "language use is crucial to prevent offensive language from being widely shared\n",
      "on social media. However, the accurate detection of irony, implication, and\n",
      "various forms of hate speech on social media remains a challenge. Natural\n",
      "language-based deep learning models require extensive training with large,\n",
      "comprehensive, and labeled datasets. \u001b[0m\n",
      "Thought:\u001b[32;1m\u001b[1;3mI have found three recent papers on leveraging large language models to augment human learning. The first paper is titled \"Not Far Away, Not So Close: Sample Efficient Nearest Neighbour Data Augmentation via MiniMax\" by Ehsan Kamalloo et al. It discusses a data augmentation strategy using kNN and knowledge distillation for text classification tasks. The second paper is titled \"Robotic Skill Acquisition via Instruction Augmentation with Vision-Language Models\" by Ted Xiao et al. It explores using pretrained vision-language models to augment robot-language datasets for learning representations and scene descriptors. The third paper is titled \"Developing Linguistic Patterns to Mitigate Inherent Human Bias in Offensive Language Detection\" by Toygar Tanyel et al. It focuses on detecting offensive language on social media using natural language-based deep learning models. \n",
      "\n",
      "Final Answer: The latest papers about leveraging large language models to augment human learning are \"Not Far Away, Not So Close: Sample Efficient Nearest Neighbour Data Augmentation via MiniMax,\" \"Robotic Skill Acquisition via Instruction Augmentation with Vision-Language Models,\" and \"Developing Linguistic Patterns to Mitigate Inherent Human Bias in Offensive Language Detection.\"\u001b[0m\n",
      "\n",
      "\u001b[1m> Finished chain.\u001b[0m\n"
     ]
    },
    {
     "data": {
      "text/plain": [
       "'The latest papers about leveraging large language models to augment human learning are \"Not Far Away, Not So Close: Sample Efficient Nearest Neighbour Data Augmentation via MiniMax,\" \"Robotic Skill Acquisition via Instruction Augmentation with Vision-Language Models,\" and \"Developing Linguistic Patterns to Mitigate Inherent Human Bias in Offensive Language Detection.\"'"
      ]
     },
     "execution_count": 18,
     "metadata": {},
     "output_type": "execute_result"
    }
   ],
   "source": [
    "agent_chain.run(\"What are the latest papers about leveraging large language models to augment human learning?\")"
   ]
  },
  {
   "cell_type": "code",
   "execution_count": 19,
   "metadata": {},
   "outputs": [],
   "source": [
    "from langchain.utilities import ArxivAPIWrapper"
   ]
  },
  {
   "cell_type": "code",
   "execution_count": 20,
   "metadata": {},
   "outputs": [
    {
     "data": {
      "text/plain": [
       "'Published: 2016-05-26\\nTitle: Heat-bath random walks with Markov bases\\nAuthors: Caprice Stanley, Tobias Windisch\\nSummary: Graphs on lattice points are studied whose edges come from a finite set of\\nallowed moves of arbitrary length. We show that the diameter of these graphs on\\nfibers of a fixed integer matrix can be bounded from above by a constant. We\\nthen study the mixing behaviour of heat-bath random walks on these graphs. We\\nalso state explicit conditions on the set of moves so that the heat-bath random\\nwalk, a generalization of the Glauber dynamics, is an expander in fixed\\ndimension.'"
      ]
     },
     "execution_count": 20,
     "metadata": {},
     "output_type": "execute_result"
    }
   ],
   "source": [
    "arxiv = ArxivAPIWrapper()\n",
    "docs = arxiv.run(\"1605.08386\")\n",
    "docs"
   ]
  },
  {
   "cell_type": "code",
   "execution_count": 21,
   "metadata": {},
   "outputs": [
    {
     "data": {
      "text/plain": [
       "\"Published: 2018-10-26\\nTitle: Learning to Infer Graphics Programs from Hand-Drawn Images\\nAuthors: Kevin Ellis, Daniel Ritchie, Armando Solar-Lezama, Joshua B. Tenenbaum\\nSummary: We introduce a model that learns to convert simple hand drawings into\\ngraphics programs written in a subset of \\\\LaTeX. The model combines techniques\\nfrom deep learning and program synthesis. We learn a convolutional neural\\nnetwork that proposes plausible drawing primitives that explain an image. These\\ndrawing primitives are like a trace of the set of primitive commands issued by\\na graphics program. We learn a model that uses program synthesis techniques to\\nrecover a graphics program from that trace. These programs have constructs like\\nvariable bindings, iterative loops, or simple kinds of conditionals. With a\\ngraphics program in hand, we can correct errors made by the deep network,\\nmeasure similarity between drawings by use of similar high-level geometric\\nstructures, and extrapolate drawings. Taken together these results are a step\\ntowards agents that induce useful, human-readable programs from perceptual\\ninput.\\n\\nPublished: 2020-06-15\\nTitle: DreamCoder: Growing generalizable, interpretable knowledge with wake-sleep Bayesian program learning\\nAuthors: Kevin Ellis, Catherine Wong, Maxwell Nye, Mathias Sable-Meyer, Luc Cary, Lucas Morales, Luke Hewitt, Armando Solar-Lezama, Joshua B. Tenenbaum\\nSummary: Expert problem-solving is driven by powerful languages for thinking about\\nproblems and their solutions. Acquiring expertise means learning these\\nlanguages -- systems of concepts, alongside the skills to use them. We present\\nDreamCoder, a system that learns to solve problems by writing programs. It\\nbuilds expertise by creating programming languages for expressing domain\\nconcepts, together with neural networks to guide the search for programs within\\nthese languages. A ``wake-sleep'' learning algorithm alternately extends the\\nlanguage with new symbolic abstractions and trains the neural network on\\nimagined and replayed problems. DreamCoder solves both classic inductive\\nprogramming tasks and creative tasks such as drawing pictures and building\\nscenes. It rediscovers the basics of modern functional programming, vector\\nalgebra and classical physics, including Newton's and Coulomb's laws. Concepts\\nare built compositionally from those learned earlier, yielding multi-layered\\nsymbolic representations that are interpretable and transferrable to new tasks,\\nwhile still growing scalably and flexibly with experience.\\n\\nPublished: 2023-09-29\\nTitle: Human-like Few-Shot Learning via Bayesian Reasoning over Natural Language\\nAuthors: Kevin Ellis\\nSummary: A core tension in models of concept learning is that the model must carefully\\nbalance the tractability of inference against the expressivity of the\\nhypothesis class. Humans, however, can efficiently learn a broad range of\\nconcepts. We introduce a model of inductive learning that seeks to be\\nhuman-like in that sense. It implements a Bayesian reasoning process where a\\nlanguage model first proposes candidate hypotheses expressed in natural\\nlanguage, which are then re-weighed by a prior and a likelihood. By estimating\\nthe prior from human data, we can predict human judgments on learning problems\\ninvolving numbers and sets, spanning concepts that are generative,\\ndiscriminative, propositional, and higher-order.\""
      ]
     },
     "execution_count": 21,
     "metadata": {},
     "output_type": "execute_result"
    }
   ],
   "source": [
    "docs = arxiv.run(\"Kevin Ellis\")\n",
    "docs"
   ]
  },
  {
   "cell_type": "code",
   "execution_count": 22,
   "metadata": {},
   "outputs": [
    {
     "name": "stdout",
     "output_type": "stream",
     "text": [
      "Published: 2018-10-26\n",
      "Title: Learning to Infer Graphics Programs from Hand-Drawn Images\n",
      "Authors: Kevin Ellis, Daniel Ritchie, Armando Solar-Lezama, Joshua B. Tenenbaum\n",
      "Summary: We introduce a model that learns to convert simple hand drawings into\n",
      "graphics programs written in a subset of \\LaTeX. The model combines techniques\n",
      "from deep learning and program synthesis. We learn a convolutional neural\n",
      "network that proposes plausible drawing primitives that explain an image. These\n",
      "drawing primitives are like a trace of the set of primitive commands issued by\n",
      "a graphics program. We learn a model that uses program synthesis techniques to\n",
      "recover a graphics program from that trace. These programs have constructs like\n",
      "variable bindings, iterative loops, or simple kinds of conditionals. With a\n",
      "graphics program in hand, we can correct errors made by the deep network,\n",
      "measure similarity between drawings by use of similar high-level geometric\n",
      "structures, and extrapolate drawings. Taken together these results are a step\n",
      "towards agents that induce useful, human-readable programs from perceptual\n",
      "input.\n",
      "\n",
      "Published: 2020-06-15\n",
      "Title: DreamCoder: Growing generalizable, interpretable knowledge with wake-sleep Bayesian program learning\n",
      "Authors: Kevin Ellis, Catherine Wong, Maxwell Nye, Mathias Sable-Meyer, Luc Cary, Lucas Morales, Luke Hewitt, Armando Solar-Lezama, Joshua B. Tenenbaum\n",
      "Summary: Expert problem-solving is driven by powerful languages for thinking about\n",
      "problems and their solutions. Acquiring expertise means learning these\n",
      "languages -- systems of concepts, alongside the skills to use them. We present\n",
      "DreamCoder, a system that learns to solve problems by writing programs. It\n",
      "builds expertise by creating programming languages for expressing domain\n",
      "concepts, together with neural networks to guide the search for programs within\n",
      "these languages. A ``wake-sleep'' learning algorithm alternately extends the\n",
      "language with new symbolic abstractions and trains the neural network on\n",
      "imagined and replayed problems. DreamCoder solves both classic inductive\n",
      "programming tasks and creative tasks such as drawing pictures and building\n",
      "scenes. It rediscovers the basics of modern functional programming, vector\n",
      "algebra and classical physics, including Newton's and Coulomb's laws. Concepts\n",
      "are built compositionally from those learned earlier, yielding multi-layered\n",
      "symbolic representations that are interpretable and transferrable to new tasks,\n",
      "while still growing scalably and flexibly with experience.\n",
      "\n",
      "Published: 2023-09-29\n",
      "Title: Human-like Few-Shot Learning via Bayesian Reasoning over Natural Language\n",
      "Authors: Kevin Ellis\n",
      "Summary: A core tension in models of concept learning is that the model must carefully\n",
      "balance the tractability of inference against the expressivity of the\n",
      "hypothesis class. Humans, however, can efficiently learn a broad range of\n",
      "concepts. We introduce a model of inductive learning that seeks to be\n",
      "human-like in that sense. It implements a Bayesian reasoning process where a\n",
      "language model first proposes candidate hypotheses expressed in natural\n",
      "language, which are then re-weighed by a prior and a likelihood. By estimating\n",
      "the prior from human data, we can predict human judgments on learning problems\n",
      "involving numbers and sets, spanning concepts that are generative,\n",
      "discriminative, propositional, and higher-order.\n"
     ]
    }
   ],
   "source": [
    "print(docs)"
   ]
  },
  {
   "cell_type": "code",
   "execution_count": 23,
   "metadata": {},
   "outputs": [],
   "source": [
    "import arxiv"
   ]
  },
  {
   "cell_type": "markdown",
   "metadata": {},
   "source": [
    "To automate literature review with Langchain, you can use the PubMedRetriever and PubMedLoader modules. Here's how you can do it:"
   ]
  },
  {
   "cell_type": "markdown",
   "metadata": {},
   "source": [
    "• Install the required packages:"
   ]
  },
  {
   "cell_type": "code",
   "execution_count": 24,
   "metadata": {},
   "outputs": [
    {
     "name": "stdout",
     "output_type": "stream",
     "text": [
      "Collecting xmltodict\n",
      "  Using cached xmltodict-0.13.0-py2.py3-none-any.whl (10.0 kB)\n",
      "Installing collected packages: xmltodict\n",
      "Successfully installed xmltodict-0.13.0\n"
     ]
    }
   ],
   "source": [
    "!pip install xmltodict # for the PubMedRetriever module."
   ]
  },
  {
   "cell_type": "code",
   "execution_count": 30,
   "metadata": {},
   "outputs": [],
   "source": [
    "# Import the necessary modules:\n",
    "\n",
    "from langchain.retrievers import PubMedRetriever #for the PubMedRetriever module.\n",
    "from langchain.document_loaders import PubMedLoader #for the PubMedLoader module."
   ]
  },
  {
   "cell_type": "code",
   "execution_count": 31,
   "metadata": {},
   "outputs": [],
   "source": [
    "#• Create an instance of the PubMedRetriever:\n",
    "\n",
    "retriever = PubMedRetriever()"
   ]
  },
  {
   "cell_type": "code",
   "execution_count": 34,
   "metadata": {},
   "outputs": [
    {
     "data": {
      "text/plain": [
       "[Document(page_content='Neuroblastoma is the most common extracranial solid tumor of childhood and accounts for a significant share of childhood cancer deaths. Prior studies utilizing RNA sequencing of bulk tumor populations showed two predominant cell states characterized by high and low expression of neuronal genes. Although cells respond to treatment by altering their gene expression, it is unclear whether this reflects shifting balances of distinct subpopulations or plasticity of individual cells. Using neuroblastoma cell lines lacking MYCN amplification, we show that the antigen CD49b distinguishes these subpopulations. CD49b expression marks proliferative cells with an immature gene expression program, while CD49b-negative cells express differentiated neuronal marker genes and are non-cycling. Sorted populations spontaneously switch between CD49b expression states in culture, and CD49b-negative cells can generate rapidly growing, CD49b-positive tumors in mice. Though doxorubicin treatment selectively kills CD49b-positive cells in culture, the CD49b-positive population recovers when treatment is withdrawn. We profiled H3K27ac to identify enhancers and super enhancers that are specifically active in each population and find that CD49b-negative cells maintain the priming H3K4me1 mark at elements that are active in CD49b-high cells. Improper maintenance of primed enhancer elements thus may underlie cellular plasticity in neuroblastoma, representing potential therapeutic targets for this lethal tumor.', metadata={'uid': '38095019', 'Title': 'Differentiated neuroblastoma cells remain epigenetically poised for de-differentiation to an immature state.', 'Published': '2023-12-14', 'Copyright Information': '© 2023. Published by The Company of Biologists Ltd.'}),\n",
       " Document(page_content='Serotonergic hallucinogens also referred to as psychedelics, are psychoactive substances that profoundly alter perception, mood, and cognitive processes. These substances, historically intertwined with religious and cultural rituals, offer profound effects that extend beyond mere hallucinations to profoundly altered states of consciousness. Notable compounds like Lysergic acid diethylamide\\xa0(LSD) and psilocybin, potent in their action on serotonin receptors, play pivotal roles in influencing brain functions. Despite societal misconceptions that have overshadowed their potential, contemporary research increasingly recognizes their therapeutic value. These substances have shown promise in treating neuropsychiatric disorders such as depression, post-traumatic stress disorder\\xa0(PTSD), and anxiety, leveraging their influence on neuroplasticity. Furthermore, they exhibit therapeutic potential across various conditions, challenging conventional treatment methodologies. Compared to substances like alcohol, traditional psychedelics like LSD and psilocybin emerge as relatively safer substances. The modern revival of scientific interest in psychedelics necessitates a renewed perspective, viewing them not just as recreational entities but as potent therapeutic tools. Harnessing their actual value mandates rigorous scientific investigations and a receptive societal discourse. A re-evaluation of their classification following international criteria is necessary in light of this increasing understanding. Hallucinogens or psychedelic drugs, if used correctly, can potentially be potential treatments for mental illness, signalling a paradigm shift from traditional techniques. To dispel myths and use their therapeutic advantages, embracing this potential necessitates thorough scientific investigation together with an open societal discourse.', metadata={'uid': '38094517', 'Title': 'Psychedelic Drugs or Hallucinogens: Exploring Their Medicinal Potential.', 'Published': '2023-11-13', 'Copyright Information': 'Copyright © 2023, Raj et al.'}),\n",
       " Document(page_content='Surgical reconstruction of the anterior cruciate ligament (ACL) and subsequent physical therapy can help athletes return to competition; however, re-injury rates remain disproportionately high due, in part, to lingering biomechanical and neurological factors that are not fully addressed during rehabilitation. Prior reports indicate that individuals exhibit altered electrical activity in both brain and muscle after ACL reconstruction (ACLR). In this investigation, we aimed to extend existing approaches by introducing a novel non-linear analysis of corticomuscular dynamics, which does not assume oscillatory coupling between brain and muscle: Corticomuscular cross-recurrence analysis (CM-cRQA). Our findings indicate that corticomuscular dynamics vary significantly between involved (injured) and uninvolved legs of participants with ACLR during voluntary isometric contractions between the brain and both the vastus medialis and lateralis. This finding points to a potential lingering neural deficit underlying re-injury for athletes after surgical reconstruction, namely the dynamical structure of neuromuscular (brain to quad muscle) coordination, which is significantly asymmetric, between limbs, in those who have ACLR.', metadata={'uid': '38092900', 'Title': 'Corticomuscular cross-recurrence analysis reveals between-limb differences in motor control among individuals with ACL reconstruction.', 'Published': '2023-12-13', 'Copyright Information': '© 2023. The Author(s), under exclusive licence to Springer-Verlag GmbH Germany, part of Springer Nature.'})]"
      ]
     },
     "execution_count": 34,
     "metadata": {},
     "output_type": "execute_result"
    }
   ],
   "source": [
    "# Use the PubMedRetriever to get relevant documents based on a search query:\n",
    "\n",
    "query = \"neuroplasticity\"\n",
    "docs = retriever.get_relevant_documents(query)\n",
    "docs"
   ]
  },
  {
   "cell_type": "code",
   "execution_count": 35,
   "metadata": {},
   "outputs": [],
   "source": [
    "\n",
    "# • Create an instance of the PubMedLoader:\n",
    "\n",
    "loader = PubMedLoader(query)\n",
    "\n",
    "# Load the documents using the PubMedLoader:\n",
    "\n",
    "docs = loader.load()"
   ]
  },
  {
   "cell_type": "code",
   "execution_count": 36,
   "metadata": {},
   "outputs": [
    {
     "data": {
      "text/plain": [
       "[Document(page_content='Neuroblastoma is the most common extracranial solid tumor of childhood and accounts for a significant share of childhood cancer deaths. Prior studies utilizing RNA sequencing of bulk tumor populations showed two predominant cell states characterized by high and low expression of neuronal genes. Although cells respond to treatment by altering their gene expression, it is unclear whether this reflects shifting balances of distinct subpopulations or plasticity of individual cells. Using neuroblastoma cell lines lacking MYCN amplification, we show that the antigen CD49b distinguishes these subpopulations. CD49b expression marks proliferative cells with an immature gene expression program, while CD49b-negative cells express differentiated neuronal marker genes and are non-cycling. Sorted populations spontaneously switch between CD49b expression states in culture, and CD49b-negative cells can generate rapidly growing, CD49b-positive tumors in mice. Though doxorubicin treatment selectively kills CD49b-positive cells in culture, the CD49b-positive population recovers when treatment is withdrawn. We profiled H3K27ac to identify enhancers and super enhancers that are specifically active in each population and find that CD49b-negative cells maintain the priming H3K4me1 mark at elements that are active in CD49b-high cells. Improper maintenance of primed enhancer elements thus may underlie cellular plasticity in neuroblastoma, representing potential therapeutic targets for this lethal tumor.', metadata={'uid': '38095019', 'Title': 'Differentiated neuroblastoma cells remain epigenetically poised for de-differentiation to an immature state.', 'Published': '2023-12-14', 'Copyright Information': '© 2023. Published by The Company of Biologists Ltd.'}),\n",
       " Document(page_content='Serotonergic hallucinogens also referred to as psychedelics, are psychoactive substances that profoundly alter perception, mood, and cognitive processes. These substances, historically intertwined with religious and cultural rituals, offer profound effects that extend beyond mere hallucinations to profoundly altered states of consciousness. Notable compounds like Lysergic acid diethylamide\\xa0(LSD) and psilocybin, potent in their action on serotonin receptors, play pivotal roles in influencing brain functions. Despite societal misconceptions that have overshadowed their potential, contemporary research increasingly recognizes their therapeutic value. These substances have shown promise in treating neuropsychiatric disorders such as depression, post-traumatic stress disorder\\xa0(PTSD), and anxiety, leveraging their influence on neuroplasticity. Furthermore, they exhibit therapeutic potential across various conditions, challenging conventional treatment methodologies. Compared to substances like alcohol, traditional psychedelics like LSD and psilocybin emerge as relatively safer substances. The modern revival of scientific interest in psychedelics necessitates a renewed perspective, viewing them not just as recreational entities but as potent therapeutic tools. Harnessing their actual value mandates rigorous scientific investigations and a receptive societal discourse. A re-evaluation of their classification following international criteria is necessary in light of this increasing understanding. Hallucinogens or psychedelic drugs, if used correctly, can potentially be potential treatments for mental illness, signalling a paradigm shift from traditional techniques. To dispel myths and use their therapeutic advantages, embracing this potential necessitates thorough scientific investigation together with an open societal discourse.', metadata={'uid': '38094517', 'Title': 'Psychedelic Drugs or Hallucinogens: Exploring Their Medicinal Potential.', 'Published': '2023-11-13', 'Copyright Information': 'Copyright © 2023, Raj et al.'}),\n",
       " Document(page_content='Surgical reconstruction of the anterior cruciate ligament (ACL) and subsequent physical therapy can help athletes return to competition; however, re-injury rates remain disproportionately high due, in part, to lingering biomechanical and neurological factors that are not fully addressed during rehabilitation. Prior reports indicate that individuals exhibit altered electrical activity in both brain and muscle after ACL reconstruction (ACLR). In this investigation, we aimed to extend existing approaches by introducing a novel non-linear analysis of corticomuscular dynamics, which does not assume oscillatory coupling between brain and muscle: Corticomuscular cross-recurrence analysis (CM-cRQA). Our findings indicate that corticomuscular dynamics vary significantly between involved (injured) and uninvolved legs of participants with ACLR during voluntary isometric contractions between the brain and both the vastus medialis and lateralis. This finding points to a potential lingering neural deficit underlying re-injury for athletes after surgical reconstruction, namely the dynamical structure of neuromuscular (brain to quad muscle) coordination, which is significantly asymmetric, between limbs, in those who have ACLR.', metadata={'uid': '38092900', 'Title': 'Corticomuscular cross-recurrence analysis reveals between-limb differences in motor control among individuals with ACL reconstruction.', 'Published': '2023-12-13', 'Copyright Information': '© 2023. The Author(s), under exclusive licence to Springer-Verlag GmbH Germany, part of Springer Nature.'})]"
      ]
     },
     "execution_count": 36,
     "metadata": {},
     "output_type": "execute_result"
    }
   ],
   "source": [
    "# You can now access the loaded documents and their metadata:\n",
    "\n",
    "docs #to access the metadata of the first document."
   ]
  },
  {
   "cell_type": "code",
   "execution_count": 37,
   "metadata": {},
   "outputs": [
    {
     "data": {
      "text/plain": [
       "'Neuroblastoma is the most common extracranial solid tumor of childhood and accounts for a significant share of childhood cancer deaths. Prior studies utilizing RNA sequencing of bulk tumor populations showed two predominant cell states characterized by high and low expression of neuronal genes. Although cells respond to treatment by altering their gene expression, it is unclear whether this reflects shifting balances of distinct subpopulations or plasticity of individual cells. Using neuroblastoma cell lines lacking MYCN amplification, we show that the antigen CD49b distinguishes these subpopulations. CD49b expression marks proliferative cells with an immature gene expression program, while CD49b-negative cells express differentiated neuronal marker genes and are non-cycling. Sorted populations spontaneously switch between CD49b expression states in culture, and CD49b-negative cells can generate rapidly growing, CD49b-positive tumors in mice. Though doxorubicin treatment selectively kills CD49b-positive cells in culture, the CD49b-positive population recovers when treatment is withdrawn. We profiled H3K27ac to identify enhancers and super enhancers that are specifically active in each population and find that CD49b-negative cells maintain the priming H3K4me1 mark at elements that are active in CD49b-high cells. Improper maintenance of primed enhancer elements thus may underlie cellular plasticity in neuroblastoma, representing potential therapeutic targets for this lethal tumor.'"
      ]
     },
     "execution_count": 37,
     "metadata": {},
     "output_type": "execute_result"
    }
   ],
   "source": [
    "docs[0].page_content #to access the content of the first document.\n",
    "\n",
    "#By using the PubMedRetriever and PubMedLoader modules, you can automate the process of retrieving and loading relevant literature for your literature review."
   ]
  },
  {
   "cell_type": "code",
   "execution_count": 38,
   "metadata": {},
   "outputs": [
    {
     "data": {
      "text/plain": [
       "3"
      ]
     },
     "execution_count": 38,
     "metadata": {},
     "output_type": "execute_result"
    }
   ],
   "source": [
    "len(docs)"
   ]
  },
  {
   "cell_type": "code",
   "execution_count": 39,
   "metadata": {},
   "outputs": [],
   "source": [
    "from langchain.tools import PubmedQueryRun"
   ]
  },
  {
   "cell_type": "code",
   "execution_count": 40,
   "metadata": {},
   "outputs": [],
   "source": [
    "tool = PubmedQueryRun()"
   ]
  },
  {
   "cell_type": "code",
   "execution_count": 41,
   "metadata": {},
   "outputs": [
    {
     "data": {
      "text/plain": [
       "\"Published: 2023-12-14\\nTitle: Potential and Limitations of ChatGPT 3.5 and 4.0 as a Source of COVID-19 Information: Comprehensive Comparative Analysis of Generative and Authoritative Information.\\nCopyright Information: ©Guoyong Wang, Kai Gao, Qianyang Liu, Yuxin Wu, Kaijun Zhang, Wei Zhou, Chunbao Guo. Originally published in the Journal of Medical Internet Research (https://www.jmir.org), 14.12.2023.\\nSummary::\\nBACKGROUND: The COVID-19 pandemic, caused by the SARS-CoV-2 virus, has necessitated reliable and authoritative information for public guidance. The World Health Organization (WHO) has been a primary source of such information, disseminating it through a question and answer format on its official website. Concurrently, ChatGPT 3.5 and 4.0, a deep learning-based natural language generation system, has shown potential in generating diverse text types based on user input.\\nOBJECTIVE: This study evaluates the accuracy of COVID-19 information generated by ChatGPT 3.5 and 4.0, assessing its potential as a supplementary public information source during the pandemic.\\nMETHODS: We extracted 487 COVID-19-related questions from the WHO's official website and used ChatGPT 3.5 and 4.0 to generate corresponding answers. These generated answers were then compared against the official WHO responses for evaluation. Two clinical experts scored the generated answers on a scale of 0-5 across 4 dimensions-accuracy, comprehensiveness, relevance, and clarity-with higher scores indicating better performance in each dimension. The WHO responses served as the reference for this assessment. Additionally, we used the BERT (Bidirectional Encoder Representations from Transformers) model to generate similarity scores (0-1) between the generated and official answers, providing a dual validation mechanism.\\nRESULTS: The mean (SD) scores for ChatGPT 3.5-generated answers were 3.47 (0.725) for accuracy, 3.89 (0.719) for comprehensiveness, 4.09 (0.787) for relevance, and 3.49 (0.809) for clarity. Fo\""
      ]
     },
     "execution_count": 41,
     "metadata": {},
     "output_type": "execute_result"
    }
   ],
   "source": [
    "tool.run(\"chatgpt\")"
   ]
  },
  {
   "cell_type": "markdown",
   "metadata": {},
   "source": [
    "With duck duck go search"
   ]
  },
  {
   "cell_type": "code",
   "execution_count": 90,
   "metadata": {},
   "outputs": [],
   "source": [
    "import requests\n",
    "from bs4 import BeautifulSoup\n",
    "from dotenv import load_dotenv\n",
    "from langchain.prompts import PromptTemplate\n",
    "from langchain.chat_models import ChatOpenAI\n",
    "from langchain.chains.openai_functions.extraction import create_extraction_chain_pydantic\n",
    "from langchain.agents import initialize_agent, AgentType, load_tools, AgentExecutor\n",
    "import pandas as pd"
   ]
  },
  {
   "cell_type": "code",
   "execution_count": 56,
   "metadata": {},
   "outputs": [],
   "source": [
    "# ddg_search = DuckDuckGoSearchRun()\n",
    "arxiv_search = ArxivAPIWrapper()"
   ]
  },
  {
   "cell_type": "code",
   "execution_count": 57,
   "metadata": {},
   "outputs": [],
   "source": [
    "def parse_html(content):\n",
    "    soup = BeautifulSoup(content, 'html.parser')\n",
    "    text_content_with_links = soup.get_text()\n",
    "    return text_content_with_links\n",
    "\n",
    "def fetch_web_page(url):\n",
    "    response = requests.get(url)\n",
    "    return parse_html(response.content)"
   ]
  },
  {
   "cell_type": "code",
   "execution_count": 85,
   "metadata": {},
   "outputs": [],
   "source": [
    "tools = load_tools([\"arxiv\"])\n",
    "agent = initialize_agent(tools,\n",
    "                         llm=ChatOpenAI(temperature=0.0, model=\"gpt-3.5-turbo-1106\"),\n",
    "                         agent=AgentType.ZERO_SHOT_REACT_DESCRIPTION,\n",
    "                         verbose=True)"
   ]
  },
  {
   "cell_type": "code",
   "execution_count": 89,
   "metadata": {},
   "outputs": [
    {
     "name": "stdout",
     "output_type": "stream",
     "text": [
      "\n",
      "\n",
      "\u001b[1m> Entering new AgentExecutor chain...\u001b[0m\n",
      "\u001b[32;1m\u001b[1;3mI should use the arxiv tool to search for papers on large language models and extract the title, abstract, and citation information.\n",
      "Action: arxiv\n",
      "Action Input: \"large language models\"\u001b[0m\n",
      "Observation: \u001b[36;1m\u001b[1;3mPublished: 2023-06-12\n",
      "Title: Lost in Translation: Large Language Models in Non-English Content Analysis\n",
      "Authors: Gabriel Nicholas, Aliya Bhatia\n",
      "Summary: In recent years, large language models (e.g., Open AI's GPT-4, Meta's LLaMa,\n",
      "Google's PaLM) have become the dominant approach for building AI systems to\n",
      "analyze and generate language online. However, the automated systems that\n",
      "increasingly mediate our interactions online -- such as chatbots, content\n",
      "moderation systems, and search engines -- are primarily designed for and work\n",
      "far more effectively in English than in the world's other 7,000 languages.\n",
      "Recently, researchers and technology companies have attempted to extend the\n",
      "capabilities of large language models into languages other than English by\n",
      "building what are called multilingual language models.\n",
      "  In this paper, we explain how these multilingual language models work and\n",
      "explore their capabilities and limits. Part I provides a simple technical\n",
      "explanation of how large language models work, why there is a gap in available\n",
      "data between English and other languages, and how multilingual language models\n",
      "attempt to bridge that gap. Part II accounts for the challenges of doing\n",
      "content analysis with large language models in general and multilingual\n",
      "language models in particular. Part III offers recommendations for companies,\n",
      "researchers, and policymakers to keep in mind when considering researching,\n",
      "developing and deploying large and multilingual language models.\n",
      "\n",
      "Published: 2022-02-07\n",
      "Title: Cedille: A large autoregressive French language model\n",
      "Authors: Martin Müller, Florian Laurent\n",
      "Summary: Scaling up the size and training of autoregressive language models has\n",
      "enabled novel ways of solving Natural Language Processing tasks using zero-shot\n",
      "and few-shot learning. While extreme-scale language models such as GPT-3 offer\n",
      "multilingual capabilities, zero-shot learning for languages other than English\n",
      "remain largely unexplored. Here, we introduce Cedille, a large open source\n",
      "auto-regressive language model, specifically trained for the French language.\n",
      "Our results show that Cedille outperforms existing French language models and\n",
      "is competitive with GPT-3 on a range of French zero-shot benchmarks.\n",
      "Furthermore, we provide an in-depth comparison of the toxicity exhibited by\n",
      "these models, showing that Cedille marks an improvement in language model\n",
      "safety thanks to dataset filtering.\n",
      "\n",
      "Published: 2023-05-11\n",
      "Title: How Good are Commercial Large Language Models on African Languages?\n",
      "Authors: Jessica Ojo, Kelechi Ogueji\n",
      "Summary: Recent advancements in Natural Language Processing (NLP) has led to the\n",
      "proliferation of large pretrained language models. These models have been shown\n",
      "to yield good performance, using in-context learning, even on unseen tasks and\n",
      "languages. They have also been exposed as commercial APIs as a form of\n",
      "language-model-as-a-service, with great adoption. However, their performance on\n",
      "African languages is largely unknown. We present a preliminary analysis of\n",
      "commercial large language models on two tasks (machine translation and text\n",
      "classification) across eight African languages, spanning different language\n",
      "families and geographical areas. Our results suggest that commercial language\n",
      "models produce below-par performance on African languages. We also find that\n",
      "they perform better on text classification than machine translation. In\n",
      "general, our findings present a call-to-action to ensure African languages are\n",
      "well represented in commercial large language models, given their growing\n",
      "popularity.\u001b[0m\n",
      "Thought:\u001b[32;1m\u001b[1;3mI now know the final answer\n",
      "Final Answer: {\n",
      "  \"papers\": [\n",
      "    {\n",
      "      \"title\": \"Lost in Translation: Large Language Models in Non-English Content Analysis\",\n",
      "      \"abstract\": \"In recent years, large language models (e.g., Open AI's GPT-4, Meta's LLaMa, Google's PaLM) have become the dominant approach for building AI systems to analyze and generate language online. However, the automated systems that increasingly mediate our interactions online -- such as chatbots, content moderation systems, and search engines -- are primarily designed for and work far more effectively in English than in the world's other 7,000 languages. Recently, researchers and technology companies have attempted to extend the capabilities of large language models into languages other than English by building what are called multilingual language models. In this paper, we explain how these multilingual language models work and explore their capabilities and limits. Part I provides a simple technical explanation of how large language models work, why there is a gap in available data between English and other languages, and how multilingual language models attempt to bridge that gap. Part II accounts for the challenges of doing content analysis with large language models in general and multilingual language models in particular. Part III offers recommendations for companies, researchers, and policymakers to keep in mind when considering researching, developing and deploying large and multilingual language models.\",\n",
      "      \"citation\": \"Gabriel Nicholas, Aliya Bhatia\"\n",
      "    },\n",
      "    {\n",
      "      \"title\": \"Cedille: A large autoregressive French language model\",\n",
      "      \"abstract\": \"Scaling up the size and training of autoregressive language models has enabled novel ways of solving Natural Language Processing tasks using zero-shot and few-shot learning. While extreme-scale language models such as GPT-3 offer multilingual capabilities, zero-shot learning for languages other than English remain largely unexplored. Here, we introduce Cedille, a large open source auto-regressive language model, specifically trained for the French language. Our results show that Cedille outperforms existing French language models and is competitive with GPT-3 on a range of French zero-shot benchmarks. Furthermore, we provide an in-depth comparison of the toxicity exhibited by these models, showing that Cedille marks an improvement in language model safety thanks to dataset filtering.\",\n",
      "      \"citation\": \"Martin Müller, Florian Laurent\"\n",
      "    },\n",
      "    {\n",
      "      \"title\": \"How Good are Commercial Large Language Models on African Languages?\",\n",
      "      \"abstract\": \"Recent advancements in Natural Language Processing (NLP) has led to the proliferation of large pretrained language models. These models have been shown to yield good performance, using in-context learning, even on unseen tasks and languages. They have also been exposed as commercial APIs as a form of language-model-as-a-service, with great adoption. However, their performance on African languages is largely unknown. We present a preliminary analysis of commercial large language models on two tasks (machine translation and text classification) across eight African languages, spanning different language families and geographical areas. Our results suggest that commercial language models produce below-par performance on African languages. We also find that they perform better on text classification than machine translation. In general, our findings present a call-to-action to ensure African languages are well represented in commercial large language models, given their growing popularity.\",\n",
      "      \"citation\": \"Jessica Ojo, Kelechi Ogueji\"\n",
      "    }\n",
      "  ]\n",
      "}\u001b[0m\n",
      "\n",
      "\u001b[1m> Finished chain.\u001b[0m\n"
     ]
    }
   ],
   "source": [
    "output = agent.invoke({\"input\": \"You are an expert machine learning researcher. You will research 5 papers about large language models and output a json object containing title, abstract and citation, the\\\n",
    "    structure should be as follows: {title: ..., abstract: ..., citation: ...}. You will use the arxiv search engine to find the papers. The output should ONLY BE JSON. OUTPUT:\"})"
   ]
  },
  {
   "cell_type": "code",
   "execution_count": 80,
   "metadata": {},
   "outputs": [],
   "source": []
  },
  {
   "cell_type": "code",
   "execution_count": 91,
   "metadata": {},
   "outputs": [],
   "source": [
    "# Define a Pydantic schema for your data (modify according to your data structure)\n",
    "from pydantic import BaseModel\n",
    "\n",
    "class LiteratureData(BaseModel):\n",
    "    title: str\n",
    "    abstract: str\n",
    "    citation: str\n",
    "\n",
    "# Create a chain to extract information based on the schema\n",
    "extraction_chain = create_extraction_chain_pydantic(\n",
    "    pydantic_schema=LiteratureData,\n",
    "    llm=ChatOpenAI(temperature=0, model=\"gpt-4\"),  # specify the model you want to use\n",
    ")"
   ]
  },
  {
   "cell_type": "code",
   "execution_count": 92,
   "metadata": {},
   "outputs": [],
   "source": [
    "results = output[\"output\"]\n",
    "literature_data_output = extraction_chain.run(results)"
   ]
  },
  {
   "cell_type": "code",
   "execution_count": 93,
   "metadata": {},
   "outputs": [
    {
     "data": {
      "text/html": [
       "<div>\n",
       "<style scoped>\n",
       "    .dataframe tbody tr th:only-of-type {\n",
       "        vertical-align: middle;\n",
       "    }\n",
       "\n",
       "    .dataframe tbody tr th {\n",
       "        vertical-align: top;\n",
       "    }\n",
       "\n",
       "    .dataframe thead th {\n",
       "        text-align: right;\n",
       "    }\n",
       "</style>\n",
       "<table border=\"1\" class=\"dataframe\">\n",
       "  <thead>\n",
       "    <tr style=\"text-align: right;\">\n",
       "      <th></th>\n",
       "      <th>title</th>\n",
       "      <th>abstract</th>\n",
       "      <th>citation</th>\n",
       "    </tr>\n",
       "  </thead>\n",
       "  <tbody>\n",
       "    <tr>\n",
       "      <th>0</th>\n",
       "      <td>Lost in Translation: Large Language Models in ...</td>\n",
       "      <td>In recent years, large language models (e.g., ...</td>\n",
       "      <td>Gabriel Nicholas, Aliya Bhatia</td>\n",
       "    </tr>\n",
       "    <tr>\n",
       "      <th>1</th>\n",
       "      <td>Cedille: A large autoregressive French languag...</td>\n",
       "      <td>Scaling up the size and training of autoregres...</td>\n",
       "      <td>Martin Müller, Florian Laurent</td>\n",
       "    </tr>\n",
       "    <tr>\n",
       "      <th>2</th>\n",
       "      <td>How Good are Commercial Large Language Models ...</td>\n",
       "      <td>Recent advancements in Natural Language Proces...</td>\n",
       "      <td>Jessica Ojo, Kelechi Ogueji</td>\n",
       "    </tr>\n",
       "  </tbody>\n",
       "</table>\n",
       "</div>"
      ],
      "text/plain": [
       "                                               title  \\\n",
       "0  Lost in Translation: Large Language Models in ...   \n",
       "1  Cedille: A large autoregressive French languag...   \n",
       "2  How Good are Commercial Large Language Models ...   \n",
       "\n",
       "                                            abstract  \\\n",
       "0  In recent years, large language models (e.g., ...   \n",
       "1  Scaling up the size and training of autoregres...   \n",
       "2  Recent advancements in Natural Language Proces...   \n",
       "\n",
       "                         citation  \n",
       "0  Gabriel Nicholas, Aliya Bhatia  \n",
       "1  Martin Müller, Florian Laurent  \n",
       "2     Jessica Ojo, Kelechi Ogueji  "
      ]
     },
     "execution_count": 93,
     "metadata": {},
     "output_type": "execute_result"
    }
   ],
   "source": [
    "df = pd.DataFrame([data.dict() for data in literature_data_output])\n",
    "df.head()  # Displaying the first few rows of the DataFrame"
   ]
  },
  {
   "cell_type": "code",
   "execution_count": 95,
   "metadata": {},
   "outputs": [
    {
     "data": {
      "text/html": [
       "<div>\n",
       "<style scoped>\n",
       "    .dataframe tbody tr th:only-of-type {\n",
       "        vertical-align: middle;\n",
       "    }\n",
       "\n",
       "    .dataframe tbody tr th {\n",
       "        vertical-align: top;\n",
       "    }\n",
       "\n",
       "    .dataframe thead th {\n",
       "        text-align: right;\n",
       "    }\n",
       "</style>\n",
       "<table border=\"1\" class=\"dataframe\">\n",
       "  <thead>\n",
       "    <tr style=\"text-align: right;\">\n",
       "      <th></th>\n",
       "      <th>title</th>\n",
       "      <th>abstract</th>\n",
       "      <th>citation</th>\n",
       "    </tr>\n",
       "  </thead>\n",
       "  <tbody>\n",
       "    <tr>\n",
       "      <th>0</th>\n",
       "      <td>Lost in Translation: Large Language Models in ...</td>\n",
       "      <td>In recent years, large language models (e.g., ...</td>\n",
       "      <td>Gabriel Nicholas, Aliya Bhatia</td>\n",
       "    </tr>\n",
       "    <tr>\n",
       "      <th>1</th>\n",
       "      <td>Cedille: A large autoregressive French languag...</td>\n",
       "      <td>Scaling up the size and training of autoregres...</td>\n",
       "      <td>Martin Müller, Florian Laurent</td>\n",
       "    </tr>\n",
       "    <tr>\n",
       "      <th>2</th>\n",
       "      <td>How Good are Commercial Large Language Models ...</td>\n",
       "      <td>Recent advancements in Natural Language Proces...</td>\n",
       "      <td>Jessica Ojo, Kelechi Ogueji</td>\n",
       "    </tr>\n",
       "  </tbody>\n",
       "</table>\n",
       "</div>"
      ],
      "text/plain": [
       "                                               title  \\\n",
       "0  Lost in Translation: Large Language Models in ...   \n",
       "1  Cedille: A large autoregressive French languag...   \n",
       "2  How Good are Commercial Large Language Models ...   \n",
       "\n",
       "                                            abstract  \\\n",
       "0  In recent years, large language models (e.g., ...   \n",
       "1  Scaling up the size and training of autoregres...   \n",
       "2  Recent advancements in Natural Language Proces...   \n",
       "\n",
       "                         citation  \n",
       "0  Gabriel Nicholas, Aliya Bhatia  \n",
       "1  Martin Müller, Florian Laurent  \n",
       "2     Jessica Ojo, Kelechi Ogueji  "
      ]
     },
     "execution_count": 95,
     "metadata": {},
     "output_type": "execute_result"
    }
   ],
   "source": []
  },
  {
   "cell_type": "code",
   "execution_count": null,
   "metadata": {},
   "outputs": [],
   "source": [
    "# Alternative with create_structured_output_chain() and json_schema\n",
    "# This example needs some work\n",
    "# json_schema = {\n",
    "#     \"title\": \"Literature Review\",\n",
    "#     \"description\": \"Structured output for a literature review\",\n",
    "#     \"type\": \"object\",\n",
    "#     \"properties\":{\n",
    "#             \"author\": {\"title\": \"Author\", \"description\": \"Author of the paper\", \"type\": \"string\"},\n",
    "#             \"abstract\": {\"title\": \"Abstract\", \"description\": \"Abstract of the paper\", \"type\": \"string\"},\n",
    "#             \"citation\": {\"title\": \"Citation\", \"description\": \"Citation of the paper\", \"type\": \"string\"},\n",
    "#             \"key_points\": {\"title\": \"Key Points\", \"description\": \"Key points of the paper if available\", \"type\": \"string\"},\n",
    "#             },\n",
    "# \"required\": [],\n",
    "# }\n",
    "\n",
    "# llm = ChatOpenAI(model=\"gpt-4-1106-preview\", temperature=0)\n",
    "# prompt = ChatPromptTemplate.from_messages([(\"system\", \"You are extracting literature information in structured formats\"),         (\"human\", \"Use the given format to extract information from the following input: {input}\")])\n",
    "\n",
    "# chain = create_structured_output_chain(json_schema, llm, prompt, verbose=True)\n",
    "# output = chain.run(literature_data_output)\n",
    "# output\n",
    "# output"
   ]
  }
 ],
 "metadata": {
  "kernelspec": {
   "display_name": "oreilly-langchain",
   "language": "python",
   "name": "oreilly-langchain"
  },
  "language_info": {
   "codemirror_mode": {
    "name": "ipython",
    "version": 3
   },
   "file_extension": ".py",
   "mimetype": "text/x-python",
   "name": "python",
   "nbconvert_exporter": "python",
   "pygments_lexer": "ipython3",
   "version": "3.11.5"
  }
 },
 "nbformat": 4,
 "nbformat_minor": 2
}
