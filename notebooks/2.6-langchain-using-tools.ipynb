{
 "cells": [
  {
   "cell_type": "code",
   "execution_count": 1,
   "metadata": {},
   "outputs": [],
   "source": [
    "# source: https://python.langchain.com/docs/expression_language/cookbook/tools\n",
    "import openai\n",
    "from dotenv import load_dotenv, find_dotenv\n",
    "import os\n",
    "load_dotenv(find_dotenv(\"../.env\"))\n",
    "openai.api_key = os.getenv(\"OPENAI_API_KEY\")\n",
    "from langchain.chat_models import ChatOpenAI\n",
    "from langchain.prompts import ChatPromptTemplate\n",
    "from langchain.tools import DuckDuckGoSearchRun\n",
    "from langchain_core.output_parsers import StrOutputParser"
   ]
  },
  {
   "cell_type": "code",
   "execution_count": 2,
   "metadata": {},
   "outputs": [],
   "source": [
    "search = DuckDuckGoSearchRun()\n",
    "\n",
    "llm_chat = ChatOpenAI()\n",
    "\n",
    "prompt = ChatPromptTemplate.from_template(\"Turn this user input into a search: {input}\")\n",
    "\n",
    "chain = prompt | llm_chat | StrOutputParser() | search"
   ]
  },
  {
   "cell_type": "code",
   "execution_count": 3,
   "metadata": {},
   "outputs": [
    {
     "data": {
      "text/plain": [
       "\"When this French colony fell Free French Forces moved to its capital of Algiers. In a supreme twist of irony, de Gaulle's organization claimed Algiers was the (temporary) capital of France after 100 years of Paris being the capital of colonial Algeria. On 6 June 1944 the Allies launched Operation Overlord. Paris being the capital of France and is the most populous city in the European Union. It is governed by a two-tier system: the national government of France and the local government of the City of Paris. The national government of France is headed by the President of the Republic, who is elected by popular vote for a five-year term. Here Are The Most Incredibly Fun Facts About Paris That Will Help You Learn More About The French Capital. ... Paris became the capital of France in 987 A.D. 39. Tree counting is an official job in Paris. Well for that lucky or unlucky person- depending on how you're looking at it, the government pays him/her to count all the trees in Paris. ... capital of France: 1 n the capital and largest city of France; and international center of culture and commerce Synonyms: City of Light , French capital , Paris Example of: national capital the capital city of a nation The capital of France, Paris, is considered by many to be one of the most beautiful cities on Earth. From Gaul to Frankia In Roman times, what is now France was a part of a larger territory named ...\""
      ]
     },
     "execution_count": 3,
     "metadata": {},
     "output_type": "execute_result"
    }
   ],
   "source": [
    "chain.invoke({\"input\": \"What is the capital of France?\"})"
   ]
  },
  {
   "cell_type": "code",
   "execution_count": null,
   "metadata": {},
   "outputs": [],
   "source": []
  }
 ],
 "metadata": {
  "kernelspec": {
   "display_name": "oreilly-langchain",
   "language": "python",
   "name": "oreilly-langchain"
  },
  "language_info": {
   "codemirror_mode": {
    "name": "ipython",
    "version": 3
   },
   "file_extension": ".py",
   "mimetype": "text/x-python",
   "name": "python",
   "nbconvert_exporter": "python",
   "pygments_lexer": "ipython3",
   "version": "3.11.5"
  }
 },
 "nbformat": 4,
 "nbformat_minor": 2
}
