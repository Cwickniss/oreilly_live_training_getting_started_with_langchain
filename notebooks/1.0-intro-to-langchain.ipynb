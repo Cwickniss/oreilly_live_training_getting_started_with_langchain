{
 "cells": [
  {
   "cell_type": "code",
   "execution_count": 31,
   "metadata": {},
   "outputs": [],
   "source": [
    "# uncomment and run below:\n",
    "# !pip install langchain\n",
    "# !pip install langchain-openai"
   ]
  },
  {
   "cell_type": "markdown",
   "metadata": {},
   "source": [
    "# Introduction to LangChain \n",
    "\n",
    "Working with LLMs involves in one way or another working with a specific type of abstraction: \"Prompts\".\n",
    "\n",
    "However, in the practical context of day-to-day tasks we expect LLMs to perform, these prompts won't be some static and dead type of abstraction. Instead we'll work with dynamic prompts re-usable prompts."
   ]
  },
  {
   "cell_type": "markdown",
   "metadata": {},
   "source": [
    "# Lanchain\n",
    "\n",
    "[LangChain](https://python.langchain.com/docs/get_started/introduction.html) is a framework that allows you to connect LLMs together by allowing you to work with modular components like prompt templates and chains giving you immense flexibility in creating tailored solutions powered by the capabilities of large language models.\n",
    "\n",
    "\n",
    "Its main features are:\n",
    "- **Components**: abstractions for working with LMs\n",
    "- **Off-the-shelf chains**: assembly of components for accomplishing certain higher-level tasks\n",
    "\n",
    "LangChain facilitates the creation of complex pipelines that leverage the connection of components like chains, prompt templates, output parsers and others to compose intricate pipelines that give you everything you need to solve a wide variety of tasks."
   ]
  },
  {
   "cell_type": "markdown",
   "metadata": {},
   "source": [
    "At the core of LangChain, we have the following elements:\n",
    "\n",
    "- Models\n",
    "- Prompts\n",
    "- Output parsers"
   ]
  },
  {
   "cell_type": "markdown",
   "metadata": {},
   "source": [
    "**Models**\n",
    "\n",
    "Models are nothing more than abstractions over the LLM APIs like the ChatGPT API.​"
   ]
  },
  {
   "cell_type": "code",
   "execution_count": 32,
   "metadata": {},
   "outputs": [
    {
     "data": {
      "text/plain": [
       "True"
      ]
     },
     "execution_count": 32,
     "metadata": {},
     "output_type": "execute_result"
    }
   ],
   "source": [
    "# Uncomment and add your api key!!!\n",
    "\n",
    "# import os\n",
    "\n",
    "# # Set OPENAI API Key\n",
    "\n",
    "# colab\n",
    "# os.environ[\"OPENAI_API_KEY\"] = \"your openai key\"\n",
    "\n",
    "# OR (load from .env file)\n",
    "# make sure you have python-dotenv installed\n",
    "\n",
    "from dotenv import load_dotenv\n",
    "load_dotenv(\"./.env\")"
   ]
  },
  {
   "cell_type": "code",
   "execution_count": 33,
   "metadata": {},
   "outputs": [],
   "source": [
    "# !pip install langchain\n",
    "# !pip install langchain-openai"
   ]
  },
  {
   "cell_type": "code",
   "execution_count": 34,
   "metadata": {},
   "outputs": [],
   "source": [
    "from langchain_openai import ChatOpenAI"
   ]
  },
  {
   "cell_type": "code",
   "execution_count": 35,
   "metadata": {},
   "outputs": [],
   "source": [
    "chat_model = ChatOpenAI(model=\"gpt-3.5-turbo-0125\")"
   ]
  },
  {
   "cell_type": "code",
   "execution_count": 36,
   "metadata": {},
   "outputs": [
    {
     "data": {
      "text/plain": [
       "AIMessage(content=\"LLM stands for Master of Laws, which is an advanced legal degree typically pursued by individuals who already hold a JD (Juris Doctor) or equivalent law degree. LLM programs allow students to specialize in a particular area of law, such as international law, environmental law, or intellectual property law.\\n\\nDuring this live training, we will cover the following topics:\\n\\n1. Overview of LLM programs and admissions requirements\\n2. Specializations and areas of focus within LLM programs\\n3. Career opportunities for LLM graduates\\n4. Networking and professional development opportunities for LLM students\\n5. Tips for success in an LLM program\\n6. Q&A session for any specific questions or concerns\\n\\nBy the end of this training, participants will have a better understanding of what an LLM program entails and how it can benefit their legal career. I look forward to engaging with all of you and sharing my knowledge and expertise on this topic. Let's get started!\", response_metadata={'token_usage': {'completion_tokens': 193, 'prompt_tokens': 19, 'total_tokens': 212}, 'model_name': 'gpt-3.5-turbo-0125', 'system_fingerprint': 'fp_c2295e73ad', 'finish_reason': 'stop', 'logprobs': None}, id='run-ce83c304-0403-40a0-a530-459a6e40f805-0')"
      ]
     },
     "execution_count": 36,
     "metadata": {},
     "output_type": "execute_result"
    }
   ],
   "source": [
    "output = chat_model.invoke(\"I am teaching a live-training\\\n",
    "    about LLMs!\")\n",
    "output"
   ]
  },
  {
   "cell_type": "code",
   "execution_count": 37,
   "metadata": {},
   "outputs": [
    {
     "data": {
      "text/plain": [
       "langchain_core.messages.ai.AIMessage"
      ]
     },
     "execution_count": 37,
     "metadata": {},
     "output_type": "execute_result"
    }
   ],
   "source": [
    "type(output)"
   ]
  },
  {
   "cell_type": "code",
   "execution_count": 38,
   "metadata": {},
   "outputs": [
    {
     "name": "stdout",
     "output_type": "stream",
     "text": [
      "LLM stands for Master of Laws, which is an advanced legal degree typically pursued by individuals who already hold a JD (Juris Doctor) or equivalent law degree. LLM programs allow students to specialize in a particular area of law, such as international law, environmental law, or intellectual property law.\n",
      "\n",
      "During this live training, we will cover the following topics:\n",
      "\n",
      "1. Overview of LLM programs and admissions requirements\n",
      "2. Specializations and areas of focus within LLM programs\n",
      "3. Career opportunities for LLM graduates\n",
      "4. Networking and professional development opportunities for LLM students\n",
      "5. Tips for success in an LLM program\n",
      "6. Q&A session for any specific questions or concerns\n",
      "\n",
      "By the end of this training, participants will have a better understanding of what an LLM program entails and how it can benefit their legal career. I look forward to engaging with all of you and sharing my knowledge and expertise on this topic. Let's get started!\n"
     ]
    }
   ],
   "source": [
    "print(output.content)"
   ]
  },
  {
   "cell_type": "code",
   "execution_count": 39,
   "metadata": {},
   "outputs": [],
   "source": [
    "from langchain.chat_models import ChatOllama"
   ]
  },
  {
   "cell_type": "code",
   "execution_count": 40,
   "metadata": {},
   "outputs": [],
   "source": [
    "model = ChatOllama(model=\"mistral\", format_chat=True)\n",
    "\n",
    "output = model.invoke(\"Hi!\")"
   ]
  },
  {
   "cell_type": "code",
   "execution_count": 41,
   "metadata": {},
   "outputs": [
    {
     "data": {
      "text/plain": [
       "langchain_core.messages.ai.AIMessage"
      ]
     },
     "execution_count": 41,
     "metadata": {},
     "output_type": "execute_result"
    }
   ],
   "source": [
    "type(output)"
   ]
  },
  {
   "cell_type": "code",
   "execution_count": 42,
   "metadata": {},
   "outputs": [
    {
     "data": {
      "text/plain": [
       "\" Hello! How can I help you today? If you have any questions or topics you'd like me to write about, feel free to ask. I'm here to provide information and answer any queries you might have. Let me know if you need assistance with a specific subject or if you have any general inquiries. I'll do my best to provide accurate and helpful responses. If you're just looking for some friendly conversation, we can chat about anything that interests you! Let me know what you'd like to talk about. 😊\""
      ]
     },
     "execution_count": 42,
     "metadata": {},
     "output_type": "execute_result"
    }
   ],
   "source": [
    "output.content"
   ]
  },
  {
   "cell_type": "markdown",
   "metadata": {},
   "source": [
    "You can predict outputs from both LLMs and ChatModels:"
   ]
  },
  {
   "cell_type": "markdown",
   "metadata": {},
   "source": [
    "Basic components are:\n",
    "\n",
    "- Models\n",
    "- Prompt templates\n",
    "- Output parsers"
   ]
  },
  {
   "cell_type": "code",
   "execution_count": 43,
   "metadata": {},
   "outputs": [],
   "source": [
    "from langchain_core.prompts import ChatPromptTemplate"
   ]
  },
  {
   "cell_type": "code",
   "execution_count": 44,
   "metadata": {},
   "outputs": [
    {
     "data": {
      "text/plain": [
       "'Human: Show me 5 examples of this concept: animal'"
      ]
     },
     "execution_count": 44,
     "metadata": {},
     "output_type": "execute_result"
    }
   ],
   "source": [
    "\n",
    "template = \"Show me 5 examples of this concept: {concept}\"\n",
    "prompt = ChatPromptTemplate.from_template(template)\n",
    "\n",
    "prompt.format(concept=\"animal\")"
   ]
  },
  {
   "cell_type": "code",
   "execution_count": 45,
   "metadata": {},
   "outputs": [],
   "source": [
    "chain = prompt | chat_model"
   ]
  },
  {
   "cell_type": "code",
   "execution_count": 46,
   "metadata": {},
   "outputs": [],
   "source": [
    "output = chain.invoke({\"concept\": \"animal\"})"
   ]
  },
  {
   "cell_type": "code",
   "execution_count": 47,
   "metadata": {},
   "outputs": [
    {
     "data": {
      "text/plain": [
       "'1. A lion is a type of animal that belongs to the cat family.\\n2. Dogs are domesticated animals that are known for their loyalty and companionship.\\n3. Elephants are large mammals that are known for their intelligence and strong social bonds.\\n4. Birds are a diverse group of animals that have feathers and lay eggs.\\n5. Fish are aquatic animals that have gills for breathing underwater.'"
      ]
     },
     "execution_count": 47,
     "metadata": {},
     "output_type": "execute_result"
    }
   ],
   "source": [
    "output.content"
   ]
  },
  {
   "cell_type": "code",
   "execution_count": 48,
   "metadata": {},
   "outputs": [
    {
     "data": {
      "text/markdown": [
       "1. A lion is a type of animal that belongs to the cat family.\n",
       "2. Dogs are domesticated animals that are known for their loyalty and companionship.\n",
       "3. Elephants are large mammals that are known for their intelligence and strong social bonds.\n",
       "4. Birds are a diverse group of animals that have feathers and lay eggs.\n",
       "5. Fish are aquatic animals that have gills for breathing underwater."
      ],
      "text/plain": [
       "<IPython.core.display.Markdown object>"
      ]
     },
     "execution_count": 48,
     "metadata": {},
     "output_type": "execute_result"
    }
   ],
   "source": [
    "from IPython.display import Markdown\n",
    "\n",
    "\n",
    "Markdown(output.content)"
   ]
  },
  {
   "cell_type": "markdown",
   "metadata": {},
   "source": [
    "You can also use the predict method over a string input:"
   ]
  },
  {
   "cell_type": "code",
   "execution_count": 49,
   "metadata": {},
   "outputs": [
    {
     "data": {
      "text/plain": [
       "AIMessage(content='Snooze', response_metadata={'token_usage': {'completion_tokens': 3, 'prompt_tokens': 21, 'total_tokens': 24}, 'model_name': 'gpt-3.5-turbo-0125', 'system_fingerprint': 'fp_c2295e73ad', 'finish_reason': 'stop', 'logprobs': None}, id='run-fbea4087-12c1-40c7-a484-3477783235f0-0')"
      ]
     },
     "execution_count": 49,
     "metadata": {},
     "output_type": "execute_result"
    }
   ],
   "source": [
    "text = \"What would be a good name for a dog that loves to nap??\"\n",
    "chat_model.invoke(text)"
   ]
  },
  {
   "cell_type": "markdown",
   "metadata": {},
   "source": [
    "**Prompts**\n",
    "\n",
    "The same works for prompts. Now, prompts are pieces of text we feed to LLMs, and LangChain allows you to work with prompt templates.\n",
    "\n",
    "Prompt Templates are useful abstractions for reusing prompts and they are used to provide context for the specific task that the language model needs to complete. \n",
    "\n",
    "A simple example is a `PromptTemplate` that formats a string into a prompt:"
   ]
  },
  {
   "cell_type": "code",
   "execution_count": 50,
   "metadata": {},
   "outputs": [
    {
     "data": {
      "text/plain": [
       "'Human: What is a good dog name for a dog that loves to sleeping?'"
      ]
     },
     "execution_count": 50,
     "metadata": {},
     "output_type": "execute_result"
    }
   ],
   "source": [
    "from langchain_core.prompts  import ChatPromptTemplate\n",
    "\n",
    "prompt = ChatPromptTemplate.from_template(\"What is a good dog name for a dog that loves to {activity}?\")\n",
    "prompt.format(activity=\"sleeping\")\n",
    "# Output: \"What is a good dog name for a dog that loves to nap?\""
   ]
  },
  {
   "cell_type": "markdown",
   "metadata": {},
   "source": [
    "**Output Parsers**\n",
    "\n",
    "OutputParsers convert the raw output from an LLM into a format that can be used downstream. Here is an example of an OutputParser that converts a comma-separated list into a list:"
   ]
  },
  {
   "cell_type": "code",
   "execution_count": 51,
   "metadata": {},
   "outputs": [
    {
     "data": {
      "text/plain": [
       "AIMessage(content='1. A serene landscape of a rolling countryside with green fields and a clear blue sky\\n2. A dramatic landscape of a rugged mountain range with snow-capped peaks and a winding river below\\n3. A peaceful landscape of a tranquil lake surrounded by lush forests and colorful wildflowers\\n4. A vibrant landscape of a bustling city skyline with towering buildings and busy streets\\n5. A mystical landscape of a fog-covered forest with ancient trees and misty pathways', response_metadata={'token_usage': {'completion_tokens': 91, 'prompt_tokens': 19, 'total_tokens': 110}, 'model_name': 'gpt-3.5-turbo-0125', 'system_fingerprint': 'fp_c2295e73ad', 'finish_reason': 'stop', 'logprobs': None}, id='run-898819f3-7951-46d4-98d4-beb1037cc670-0')"
      ]
     },
     "execution_count": 51,
     "metadata": {},
     "output_type": "execute_result"
    }
   ],
   "source": [
    "chain.invoke({\"concept\": \"Landscapes\"})"
   ]
  },
  {
   "cell_type": "code",
   "execution_count": 52,
   "metadata": {},
   "outputs": [],
   "source": [
    "from langchain_core.output_parsers import StrOutputParser\n",
    "\n",
    "output_parser = StrOutputParser()"
   ]
  },
  {
   "cell_type": "code",
   "execution_count": 53,
   "metadata": {},
   "outputs": [
    {
     "data": {
      "text/plain": [
       "\"1. Neuron: The basic building block of artificial neural networks, neurons receive input signals, process them using an activation function, and pass the output to the next layer of neurons.\\n\\n2. Activation function: A mathematical function that determines the output of a neuron based on the weighted sum of its inputs. Common activation functions include sigmoid, ReLU, and tanh.\\n\\n3. Layers: Artificial neural networks are typically organized into layers, with each layer containing a group of neurons. The input layer receives data, hidden layers process the data, and the output layer produces the final result.\\n\\n4. Weights and biases: Weights represent the strength of the connections between neurons, determining how much influence one neuron has on another. Biases are additional parameters that allow neurons to output values other than zero.\\n\\n5. Backpropagation: A key algorithm for training neural networks, backpropagation involves adjusting the weights and biases of the network based on the difference between the predicted output and the actual output. This process is repeated iteratively to minimize the error and improve the network's performance.\""
      ]
     },
     "execution_count": 53,
     "metadata": {},
     "output_type": "execute_result"
    }
   ],
   "source": [
    "llm = ChatOpenAI(model=\"gpt-3.5-turbo-0125\")\n",
    "prompt = ChatPromptTemplate.from_template(\"\"\"\n",
    "Write 5 concepts that are fundamental to learn about {topic}.\n",
    "                                          \"\"\")\n",
    "chain = prompt | llm | output_parser\n",
    "chain.invoke({\"topic\": \"Artificial Neural Networks\"})"
   ]
  },
  {
   "cell_type": "markdown",
   "metadata": {},
   "source": [
    "This chain will take input variables, pass those to a prompt template to create a prompt, pass the prompt to an LLM, and then pass the output through an output parser."
   ]
  },
  {
   "cell_type": "markdown",
   "metadata": {},
   "source": [
    "Ok, so these are the basics of langchain. But how can we leverage these abstraction capabilities inside our LLM app application?"
   ]
  },
  {
   "cell_type": "markdown",
   "metadata": {},
   "source": [
    "Now, to put everything together LangChain allows you to build something called \"chains\", which are components that connect prompts, llms and output parsers into a building block that allows you to create more interesting and complex functionality."
   ]
  },
  {
   "cell_type": "markdown",
   "metadata": {},
   "source": [
    "Let's look at the example below:"
   ]
  },
  {
   "cell_type": "markdown",
   "metadata": {},
   "source": [
    "So, what the chain is doing is connecting these basic components (the LLM and the prompt template) into\n",
    "a block that can be run separately. The chain allows you to turn workflows using LLLMs into this modular process of composing components."
   ]
  },
  {
   "cell_type": "markdown",
   "metadata": {},
   "source": [
    "Now, the newer versions of LangChain have a new representation language to create these chains (and more) known as LCEL or LangChain expression language, which is a declarative way to easily compose chains together. The same example as above expressed in this LCEL format would be:"
   ]
  },
  {
   "cell_type": "code",
   "execution_count": 54,
   "metadata": {},
   "outputs": [
    {
     "data": {
      "text/plain": [
       "AIMessage(content=\"1. Circadian rhythms: The body's internal clock that regulates the sleep-wake cycle and other physiological processes.\\n2. Sleep stages: The different stages of sleep, including rapid eye movement (REM) and non-REM sleep, each serving different functions for rest and restoration.\\n3. Sleep hygiene: Healthy habits and practices that promote good quality sleep, such as maintaining a consistent sleep schedule and creating a comfortable sleep environment.\\n4. Sleep disorders: Conditions that disrupt normal sleep patterns, such as insomnia, sleep apnea, and restless leg syndrome.\\n5. The importance of sleep: Understanding the role of sleep in overall health and well-being, including its impact on cognitive function, mood, and physical health.\", response_metadata={'token_usage': {'completion_tokens': 142, 'prompt_tokens': 21, 'total_tokens': 163}, 'model_name': 'gpt-3.5-turbo', 'system_fingerprint': 'fp_c2295e73ad', 'finish_reason': 'stop', 'logprobs': None}, id='run-d7295c40-9f84-4bf7-bddb-3da3ac12123b-0')"
      ]
     },
     "execution_count": 54,
     "metadata": {},
     "output_type": "execute_result"
    }
   ],
   "source": [
    "chain = prompt | ChatOpenAI()\n",
    "\n",
    "chain.invoke({\"topic\": \"sleep\"})"
   ]
  },
  {
   "cell_type": "markdown",
   "metadata": {},
   "source": [
    "Notice that now the output is an `AIMessage()` object, which represents LangChain's way to abstract the output from an LLM model like ChatGPT or others."
   ]
  },
  {
   "cell_type": "markdown",
   "metadata": {},
   "source": [
    "These building blocks and abstractions that LangChain provides are what makes this library so unique, because it gives you the tools you didn't know you need it to build awesome stuff powered by LLMs."
   ]
  },
  {
   "cell_type": "markdown",
   "metadata": {},
   "source": [
    "# LangChain Exercise"
   ]
  },
  {
   "cell_type": "markdown",
   "metadata": {},
   "source": [
    "Let's create a simple chain for summarization of content. \n",
    "\n",
    "Your chain should:\n",
    "\n",
    "- A prompt template with one or more variables\n",
    "- A model like ChatGPT or other (you can use local models if you'd like, I recommend `ChatOllama` for that!)\n",
    "- Optional: use output parsing or just fetch the string output at the end!"
   ]
  },
  {
   "cell_type": "markdown",
   "metadata": {},
   "source": [
    "## Example Answer\n",
    "\n",
    "Let's make use of the `ChatPromptTemplate` to abstract away the following pieces of the prompt: \n",
    "- `content` - the text content to be summarized  \n",
    "- `summary_format` - the format in which we want the summary to be presented (like bullet points and so on)."
   ]
  },
  {
   "cell_type": "code",
   "execution_count": 55,
   "metadata": {},
   "outputs": [
    {
     "data": {
      "text/plain": [
       "'Human: Summarize this: This is a test.. The output should be in the following format: One word summary.'"
      ]
     },
     "execution_count": 55,
     "metadata": {},
     "output_type": "execute_result"
    }
   ],
   "source": [
    "from langchain_core.prompts import ChatPromptTemplate\n",
    "\n",
    "prompt = ChatPromptTemplate.from_template(\"Summarize this: {content}. The output should be in the following format: {summary_format}.\")\n",
    "\n",
    "# We can look at a simple example to illustrate what that prompt is doing\n",
    "prompt.format(content=\"This is a test.\", summary_format=\"One word summary\")"
   ]
  },
  {
   "cell_type": "markdown",
   "metadata": {},
   "source": [
    "Ok, now that we have our prompt template done, let's load the llm and create a nice chain to put everything together. "
   ]
  },
  {
   "cell_type": "code",
   "execution_count": 56,
   "metadata": {},
   "outputs": [],
   "source": [
    "from langchain_openai import ChatOpenAI\n",
    "\n",
    "llm_chat =  ChatOpenAI()\n",
    "chain = prompt | llm_chat # This is the Pipe symbol! from LCEL that connect model to prompt!"
   ]
  },
  {
   "cell_type": "markdown",
   "metadata": {},
   "source": [
    "Now, that we have our chain we can run some tests. The cool thing about working with LLMs is that you can use them to create examples for simple tests like this (avoiding the annoynace of searching online for some piece of text, copying and pasting etc...). So, let's generate a few examples of tests below:"
   ]
  },
  {
   "cell_type": "code",
   "execution_count": 57,
   "metadata": {},
   "outputs": [
    {
     "data": {
      "text/plain": [
       "[AIMessage(content='Human-machine interaction has become an integral part of daily life, with technology playing a crucial role in nearly every aspect of society. From smartphones and laptops to smart home devices and self-driving cars, humans are constantly engaging with machines in various ways. This interaction has not only made tasks more efficient and convenient, but has also raised questions about the impact of technology on human behavior and relationships.\\n\\nOne of the key challenges in human-machine interaction is finding the right balance between automation and human control. While automation can streamline processes and increase productivity, it can also lead to a loss of critical thinking skills and a decreased sense of agency. Finding ways to empower users to make informed decisions and maintain control over technology, while still benefiting from its capabilities, is crucial in ensuring a harmonious relationship between humans and machines. Ultimately, human-machine interaction has the potential to enhance our lives in countless ways, but it is essential to approach this relationship with caution and mindfulness to ensure that technology serves us, rather than the other way around.', response_metadata={'token_usage': {'completion_tokens': 200, 'prompt_tokens': 25, 'total_tokens': 225}, 'model_name': 'gpt-3.5-turbo', 'system_fingerprint': 'fp_c2295e73ad', 'finish_reason': 'stop', 'logprobs': None}, id='run-081b6246-b205-4bb1-b30a-88bdfeacf1d8-0'),\n",
       " AIMessage(content='One fascinating aspect of human-machine interaction is the concept of trust. As machines become more integrated into our daily lives, from self-driving cars to virtual assistants, the question of how much we trust these machines becomes increasingly important. Studies have shown that people are more likely to trust machines that behave in a predictable and consistent manner, and that this trust can be eroded if the machine makes errors or behaves in unexpected ways. Understanding how trust is formed and maintained between humans and machines is crucial for the successful integration of technology into society.\\n\\nAnother important consideration in human-machine interaction is the issue of privacy. As machines become more capable of collecting and analyzing vast amounts of data about us, questions arise about who has access to this information and how it is being used. Concerns about privacy and data security have only grown with the increasing prevalence of smart devices and the Internet of Things. Finding a balance between the convenience and efficiency that technology offers and the protection of our personal information is a key challenge for designers and policymakers in the field of human-machine interaction.', response_metadata={'token_usage': {'completion_tokens': 207, 'prompt_tokens': 25, 'total_tokens': 232}, 'model_name': 'gpt-3.5-turbo', 'system_fingerprint': 'fp_c2295e73ad', 'finish_reason': 'stop', 'logprobs': None}, id='run-7698e68e-63ab-419e-b76f-9b2c3a38ff4a-0'),\n",
       " AIMessage(content='Human-machine interaction has become increasingly prevalent in our everyday lives, with AI-powered devices and applications becoming more integrated into our society. One interesting aspect of this interaction is the concept of trust between humans and machines. As we rely more on technology to assist us in various tasks, it is important to consider how much trust we place in these machines and how they can earn our trust. Studies have shown that factors such as reliability, transparency, and user control play a key role in building trust between humans and machines.\\n\\nAnother intriguing aspect of human-machine interaction is the potential impact on social relationships. As machines become more advanced and capable of performing complex tasks, there is a concern that they may replace human interaction in certain contexts. However, some argue that machines can actually enhance human relationships by providing support, assistance, and new ways of connecting with others. Finding the right balance between human and machine interaction is crucial in ensuring that technology serves to enhance, rather than replace, our social connections.', response_metadata={'token_usage': {'completion_tokens': 194, 'prompt_tokens': 25, 'total_tokens': 219}, 'model_name': 'gpt-3.5-turbo', 'system_fingerprint': 'fp_c2295e73ad', 'finish_reason': 'stop', 'logprobs': None}, id='run-d5ba01e1-733a-4513-8953-e099c42df4e9-0')]"
      ]
     },
     "execution_count": 57,
     "metadata": {},
     "output_type": "execute_result"
    }
   ],
   "source": [
    "num_examples = 3\n",
    "examples = []\n",
    "for i in range(num_examples):\n",
    "    examples.append(llm_chat.invoke(\"Create a piece of text with 2 paragraphs about a random topic regarding human-machine interaction.\"))\n",
    "\n",
    "examples"
   ]
  },
  {
   "cell_type": "markdown",
   "metadata": {},
   "source": [
    "Nice! Now that we have our examples, let's run our chain on them and check out the results."
   ]
  },
  {
   "cell_type": "code",
   "execution_count": 58,
   "metadata": {},
   "outputs": [
    {
     "data": {
      "text/plain": [
       "AIMessage(content='- Human-machine interaction is a crucial part of daily life, with technology being used in various aspects of society.\\n- Interaction with machines has made tasks more efficient and convenient, but also raises questions about the impact on human behavior and relationships.\\n- Finding the right balance between automation and human control is a key challenge in human-machine interaction.\\n- Empowering users to make informed decisions and maintain control over technology is essential for a harmonious relationship between humans and machines.\\n- It is important to approach human-machine interaction with caution and mindfulness to ensure that technology serves us, rather than the other way around.', response_metadata={'token_usage': {'completion_tokens': 118, 'prompt_tokens': 326, 'total_tokens': 444}, 'model_name': 'gpt-3.5-turbo', 'system_fingerprint': 'fp_c2295e73ad', 'finish_reason': 'stop', 'logprobs': None}, id='run-ef935ec1-43ce-4dc2-8816-ed52278560e4-0')"
      ]
     },
     "execution_count": 58,
     "metadata": {},
     "output_type": "execute_result"
    }
   ],
   "source": [
    "summary_format = \"bullet points\"\n",
    "\n",
    "outputs = []\n",
    "for ex in examples:\n",
    "    outputs.append(chain.invoke({\"content\": ex, \"summary_format\": summary_format}))\n",
    "\n",
    "# Let's display one example output\n",
    "outputs[0]"
   ]
  },
  {
   "cell_type": "markdown",
   "metadata": {},
   "source": [
    "Great! So it seems our chain worked and we generated some summaries! Let's visualize all the summaries generated in a neat way."
   ]
  },
  {
   "cell_type": "code",
   "execution_count": 59,
   "metadata": {},
   "outputs": [
    {
     "data": {
      "text/markdown": [
       "Output 0 \n",
       " - Human-machine interaction is a crucial part of daily life, with technology being used in various aspects of society.\n",
       "- Interaction with machines has made tasks more efficient and convenient, but also raises questions about the impact on human behavior and relationships.\n",
       "- Finding the right balance between automation and human control is a key challenge in human-machine interaction.\n",
       "- Empowering users to make informed decisions and maintain control over technology is essential for a harmonious relationship between humans and machines.\n",
       "- It is important to approach human-machine interaction with caution and mindfulness to ensure that technology serves us, rather than the other way around."
      ],
      "text/plain": [
       "<IPython.core.display.Markdown object>"
      ]
     },
     "metadata": {},
     "output_type": "display_data"
    },
    {
     "data": {
      "text/markdown": [
       "Output 1 \n",
       " - Trust is a key aspect of human-machine interaction as machines become more integrated into daily life\n",
       "- People are more likely to trust machines that behave predictably and consistently\n",
       "- Trust can be eroded if machines make errors or behave unexpectedly\n",
       "- Understanding how trust is formed and maintained between humans and machines is crucial for successful technology integration\n",
       "- Privacy is another important consideration in human-machine interaction\n",
       "- Concerns about privacy and data security have grown with the prevalence of smart devices and the Internet of Things\n",
       "- Finding a balance between technology convenience and personal information protection is a challenge for designers and policymakers in the field of human-machine interaction."
      ],
      "text/plain": [
       "<IPython.core.display.Markdown object>"
      ]
     },
     "metadata": {},
     "output_type": "display_data"
    },
    {
     "data": {
      "text/markdown": [
       "Output 2 \n",
       " - Human-machine interaction is increasingly common in everyday life, with AI-powered devices becoming more integrated into society.\n",
       "- Trust between humans and machines is an important aspect of this interaction, influenced by factors like reliability, transparency, and user control.\n",
       "- There is concern that advanced machines may replace human interaction, but some argue that they can enhance relationships by providing support and new ways of connecting.\n",
       "- Finding the right balance between human and machine interaction is crucial to ensure that technology enhances, rather than replaces, social connections."
      ],
      "text/plain": [
       "<IPython.core.display.Markdown object>"
      ]
     },
     "metadata": {},
     "output_type": "display_data"
    }
   ],
   "source": [
    "from IPython.display import Markdown\n",
    "\n",
    "for i in range(num_examples):\n",
    "    display(Markdown(f\"Output {i} \\n {outputs[i].content}\"))\n",
    "# Markdown(f\"**Input**: {examples[0]}\\n\\n**Output**: {outputs[0]}\")"
   ]
  },
  {
   "cell_type": "markdown",
   "metadata": {},
   "source": [
    "Great! Our summaries worked, and we were able to apply a given summary format to all of them.\n",
    "\n",
    "LangChain is an extremely powerful library to work with abstractions like these and throughout this course we hope to give you a gliimpse of the cool stuff you can build with it."
   ]
  }
 ],
 "metadata": {
  "kernelspec": {
   "display_name": "oreilly-langchain",
   "language": "python",
   "name": "oreilly-langchain"
  },
  "language_info": {
   "codemirror_mode": {
    "name": "ipython",
    "version": 3
   },
   "file_extension": ".py",
   "mimetype": "text/x-python",
   "name": "python",
   "nbconvert_exporter": "python",
   "pygments_lexer": "ipython3",
   "version": "3.11.9"
  },
  "orig_nbformat": 4
 },
 "nbformat": 4,
 "nbformat_minor": 2
}
