{
 "cells": [
  {
   "cell_type": "code",
   "execution_count": 1,
   "metadata": {},
   "outputs": [],
   "source": [
    "# uncomment and run below:\n",
    "# !pip install langchain\n",
    "# !pip install langchain-openai\n",
    "# !pip install -U langsmith"
   ]
  },
  {
   "cell_type": "markdown",
   "metadata": {},
   "source": [
    "# Introduction to LangChain \n",
    "\n",
    "Working with LLMs involves in one way or another working with a specific type of abstraction: \"Prompts\".\n",
    "\n",
    "However, in the practical context of day-to-day tasks we expect LLMs to perform, these prompts won't be some static and dead type of abstraction. Instead we'll work with dynamic prompts re-usable prompts."
   ]
  },
  {
   "cell_type": "markdown",
   "metadata": {},
   "source": [
    "# Lanchain\n",
    "\n",
    "[LangChain](https://python.langchain.com/docs/get_started/introduction.html) is a framework that allows you to connect LLMs together by allowing you to work with modular components like prompt templates and chains giving you immense flexibility in creating tailored solutions powered by the capabilities of large language models.\n",
    "\n",
    "\n",
    "Its main features are:\n",
    "- **Components**: abstractions for working with LMs\n",
    "- **Off-the-shelf chains**: assembly of components for accomplishing certain higher-level tasks\n",
    "\n",
    "LangChain facilitates the creation of complex pipelines that leverage the connection of components like chains, prompt templates, output parsers and others to compose intricate pipelines that give you everything you need to solve a wide variety of tasks."
   ]
  },
  {
   "cell_type": "markdown",
   "metadata": {},
   "source": [
    "At the core of LangChain, we have the following elements:\n",
    "\n",
    "- Models\n",
    "- Prompts\n",
    "- Output parsers"
   ]
  },
  {
   "cell_type": "markdown",
   "metadata": {},
   "source": [
    "**Models**\n",
    "\n",
    "Models are nothing more than abstractions over the LLM APIs like the ChatGPT API.​"
   ]
  },
  {
   "cell_type": "code",
   "execution_count": 2,
   "metadata": {},
   "outputs": [],
   "source": [
    "# Uncomment and add your api key!!!\n",
    "\n",
    "# import os\n",
    "\n",
    "# # Set OPENAI API Key\n",
    "\n",
    "# colab\n",
    "# os.environ[\"OPENAI_API_KEY\"] = \"your openai key\"\n",
    "\n",
    "# OR (load from .env file)\n",
    "# make sure you have python-dotenv installed\n",
    "\n",
    "# from dotenv import load_dotenv\n",
    "# load_dotenv(\"./.env\")"
   ]
  },
  {
   "cell_type": "code",
   "execution_count": 3,
   "metadata": {},
   "outputs": [],
   "source": [
    "import os\n",
    "import getpass\n",
    "\n",
    "os.environ[\"LANGCHAIN_TRACING_V2\"] = \"true\"\n",
    "os.environ[\"LANGCHAIN_API_KEY\"] = getpass.getpass()"
   ]
  },
  {
   "cell_type": "code",
   "execution_count": 4,
   "metadata": {},
   "outputs": [],
   "source": [
    "from langchain_openai import ChatOpenAI"
   ]
  },
  {
   "cell_type": "code",
   "execution_count": 5,
   "metadata": {},
   "outputs": [],
   "source": [
    "chat_model = ChatOpenAI(model=\"gpt-3.5-turbo-0125\")"
   ]
  },
  {
   "cell_type": "code",
   "execution_count": 6,
   "metadata": {},
   "outputs": [
    {
     "data": {
      "text/plain": [
       "AIMessage(content=\"That's great! LLM stands for Master of Laws, which is a postgraduate degree typically pursued by individuals who already have a law degree and want to specialize in a specific area of law or gain expertise in a particular legal field. In your live training, you can cover topics such as the benefits of pursuing an LLM, the different types of LLM programs available, the application process, and potential career opportunities for LLM graduates. It's important to provide practical examples and engage your audience with interactive exercises to enhance their learning experience. Good luck with your training session!\", response_metadata={'token_usage': {'completion_tokens': 115, 'prompt_tokens': 19, 'total_tokens': 134}, 'model_name': 'gpt-3.5-turbo-0125', 'system_fingerprint': 'fp_c2295e73ad', 'finish_reason': 'stop', 'logprobs': None}, id='run-b46f31ca-d548-4830-bb35-f5fba488f165-0')"
      ]
     },
     "execution_count": 6,
     "metadata": {},
     "output_type": "execute_result"
    }
   ],
   "source": [
    "output = chat_model.invoke(\"I am teaching a live-training\\\n",
    "    about LLMs!\")\n",
    "output"
   ]
  },
  {
   "cell_type": "code",
   "execution_count": 7,
   "metadata": {},
   "outputs": [
    {
     "data": {
      "text/plain": [
       "langchain_core.messages.ai.AIMessage"
      ]
     },
     "execution_count": 7,
     "metadata": {},
     "output_type": "execute_result"
    }
   ],
   "source": [
    "type(output)"
   ]
  },
  {
   "cell_type": "code",
   "execution_count": 8,
   "metadata": {},
   "outputs": [
    {
     "name": "stdout",
     "output_type": "stream",
     "text": [
      "That's great! LLM stands for Master of Laws, which is a postgraduate degree typically pursued by individuals who already have a law degree and want to specialize in a specific area of law or gain expertise in a particular legal field. In your live training, you can cover topics such as the benefits of pursuing an LLM, the different types of LLM programs available, the application process, and potential career opportunities for LLM graduates. It's important to provide practical examples and engage your audience with interactive exercises to enhance their learning experience. Good luck with your training session!\n"
     ]
    }
   ],
   "source": [
    "print(output.content)"
   ]
  },
  {
   "cell_type": "code",
   "execution_count": 9,
   "metadata": {},
   "outputs": [],
   "source": [
    "from langchain.chat_models import ChatOllama"
   ]
  },
  {
   "cell_type": "code",
   "execution_count": 10,
   "metadata": {},
   "outputs": [],
   "source": [
    "model = ChatOllama(model=\"mistral\", format_chat=True)\n",
    "\n",
    "output = model.invoke(\"Hi!\")"
   ]
  },
  {
   "cell_type": "code",
   "execution_count": 11,
   "metadata": {},
   "outputs": [
    {
     "data": {
      "text/plain": [
       "langchain_core.messages.ai.AIMessage"
      ]
     },
     "execution_count": 11,
     "metadata": {},
     "output_type": "execute_result"
    }
   ],
   "source": [
    "type(output)"
   ]
  },
  {
   "cell_type": "code",
   "execution_count": 12,
   "metadata": {},
   "outputs": [
    {
     "data": {
      "text/plain": [
       "\" Hello! How can I help you today? If you have any questions or need assistance with something, feel free to ask. I'm here to help.\\n\\nFor example, if you're looking for information on a specific topic, just let me know and I'll do my best to find accurate and reliable sources to provide you with the answers you're seeking. Or if you need help with a math problem or language translation, I can assist with that as well.\\n\\nSo what can I help you with today? Let me know and I'll be happy to lend a hand!\""
      ]
     },
     "execution_count": 12,
     "metadata": {},
     "output_type": "execute_result"
    }
   ],
   "source": [
    "output.content"
   ]
  },
  {
   "cell_type": "markdown",
   "metadata": {},
   "source": [
    "You can predict outputs from both LLMs and ChatModels:"
   ]
  },
  {
   "cell_type": "markdown",
   "metadata": {},
   "source": [
    "Basic components are:\n",
    "\n",
    "- Models\n",
    "- Prompt templates\n",
    "- Output parsers"
   ]
  },
  {
   "cell_type": "code",
   "execution_count": 13,
   "metadata": {},
   "outputs": [],
   "source": [
    "from langchain_core.prompts import ChatPromptTemplate"
   ]
  },
  {
   "cell_type": "code",
   "execution_count": 14,
   "metadata": {},
   "outputs": [
    {
     "data": {
      "text/plain": [
       "'Human: Show me 5 examples of this concept: animal'"
      ]
     },
     "execution_count": 14,
     "metadata": {},
     "output_type": "execute_result"
    }
   ],
   "source": [
    "\n",
    "template = \"Show me 5 examples of this concept: {concept}\"\n",
    "prompt = ChatPromptTemplate.from_template(template)\n",
    "\n",
    "prompt.format(concept=\"animal\")"
   ]
  },
  {
   "cell_type": "code",
   "execution_count": 15,
   "metadata": {},
   "outputs": [],
   "source": [
    "chain = prompt | chat_model"
   ]
  },
  {
   "cell_type": "code",
   "execution_count": 16,
   "metadata": {},
   "outputs": [],
   "source": [
    "output = chain.invoke({\"concept\": \"animal\"})"
   ]
  },
  {
   "cell_type": "code",
   "execution_count": 17,
   "metadata": {},
   "outputs": [
    {
     "data": {
      "text/plain": [
       "'1. A dog is a common example of an animal that is often kept as a pet.\\n2. A lion is a wild animal that is known for its strength and ferocity.\\n3. A dolphin is a highly intelligent marine animal that is known for its playful behavior.\\n4. A giraffe is a tall herbivorous animal with a long neck and distinctive spotted coat.\\n5. A butterfly is an insect that undergoes metamorphosis and has colorful wings.'"
      ]
     },
     "execution_count": 17,
     "metadata": {},
     "output_type": "execute_result"
    }
   ],
   "source": [
    "output.content"
   ]
  },
  {
   "cell_type": "code",
   "execution_count": 18,
   "metadata": {},
   "outputs": [
    {
     "data": {
      "text/markdown": [
       "1. A dog is a common example of an animal that is often kept as a pet.\n",
       "2. A lion is a wild animal that is known for its strength and ferocity.\n",
       "3. A dolphin is a highly intelligent marine animal that is known for its playful behavior.\n",
       "4. A giraffe is a tall herbivorous animal with a long neck and distinctive spotted coat.\n",
       "5. A butterfly is an insect that undergoes metamorphosis and has colorful wings."
      ],
      "text/plain": [
       "<IPython.core.display.Markdown object>"
      ]
     },
     "execution_count": 18,
     "metadata": {},
     "output_type": "execute_result"
    }
   ],
   "source": [
    "from IPython.display import Markdown\n",
    "\n",
    "\n",
    "Markdown(output.content)"
   ]
  },
  {
   "cell_type": "markdown",
   "metadata": {},
   "source": [
    "You can also use the predict method over a string input:"
   ]
  },
  {
   "cell_type": "code",
   "execution_count": 19,
   "metadata": {},
   "outputs": [
    {
     "data": {
      "text/plain": [
       "AIMessage(content='Snuggles', response_metadata={'token_usage': {'completion_tokens': 3, 'prompt_tokens': 21, 'total_tokens': 24}, 'model_name': 'gpt-3.5-turbo-0125', 'system_fingerprint': 'fp_c2295e73ad', 'finish_reason': 'stop', 'logprobs': None}, id='run-e182b093-c96d-4f0c-aa83-dcd3490baa02-0')"
      ]
     },
     "execution_count": 19,
     "metadata": {},
     "output_type": "execute_result"
    }
   ],
   "source": [
    "text = \"What would be a good name for a dog that loves to nap??\"\n",
    "chat_model.invoke(text)"
   ]
  },
  {
   "cell_type": "markdown",
   "metadata": {},
   "source": [
    "**Prompts**\n",
    "\n",
    "The same works for prompts. Now, prompts are pieces of text we feed to LLMs, and LangChain allows you to work with prompt templates.\n",
    "\n",
    "Prompt Templates are useful abstractions for reusing prompts and they are used to provide context for the specific task that the language model needs to complete. \n",
    "\n",
    "A simple example is a `PromptTemplate` that formats a string into a prompt:"
   ]
  },
  {
   "cell_type": "code",
   "execution_count": 20,
   "metadata": {},
   "outputs": [
    {
     "data": {
      "text/plain": [
       "'Human: What is a good dog name for a dog that loves to sleeping?'"
      ]
     },
     "execution_count": 20,
     "metadata": {},
     "output_type": "execute_result"
    }
   ],
   "source": [
    "from langchain_core.prompts  import ChatPromptTemplate\n",
    "\n",
    "prompt = ChatPromptTemplate.from_template(\"What is a good dog name for a dog that loves to {activity}?\")\n",
    "prompt.format(activity=\"sleeping\")\n",
    "# Output: \"What is a good dog name for a dog that loves to nap?\""
   ]
  },
  {
   "cell_type": "markdown",
   "metadata": {},
   "source": [
    "**Output Parsers**\n",
    "\n",
    "OutputParsers convert the raw output from an LLM into a format that can be used downstream. Here is an example of an OutputParser that converts a comma-separated list into a list:"
   ]
  },
  {
   "cell_type": "code",
   "execution_count": 21,
   "metadata": {},
   "outputs": [
    {
     "data": {
      "text/plain": [
       "AIMessage(content='1. A lush green forest with a winding river cutting through the trees\\n2. A desert landscape with vast sand dunes and a clear blue sky overhead\\n3. A snow-covered mountain landscape with a frozen lake at the base\\n4. A coastal landscape with rocky cliffs overlooking the ocean and a sandy beach below\\n5. A rolling hills landscape dotted with colorful flowers and grazing livestock', response_metadata={'token_usage': {'completion_tokens': 77, 'prompt_tokens': 19, 'total_tokens': 96}, 'model_name': 'gpt-3.5-turbo-0125', 'system_fingerprint': 'fp_c2295e73ad', 'finish_reason': 'stop', 'logprobs': None}, id='run-734fce2c-665a-429d-a12b-d706e3ac074d-0')"
      ]
     },
     "execution_count": 21,
     "metadata": {},
     "output_type": "execute_result"
    }
   ],
   "source": [
    "chain.invoke({\"concept\": \"Landscapes\"})"
   ]
  },
  {
   "cell_type": "code",
   "execution_count": 22,
   "metadata": {},
   "outputs": [],
   "source": [
    "from langchain_core.output_parsers import StrOutputParser\n",
    "\n",
    "output_parser = StrOutputParser()"
   ]
  },
  {
   "cell_type": "code",
   "execution_count": 23,
   "metadata": {},
   "outputs": [
    {
     "data": {
      "text/plain": [
       "'1. Neurons: Neurons are the building blocks of artificial neural networks, functioning similarly to biological neurons in the human brain. They receive inputs, process them using an activation function, and produce an output.\\n\\n2. Activation Functions: Activation functions are mathematical functions applied to the weighted sum of inputs in a neuron to introduce non-linearity into the network. Common activation functions include Sigmoid, ReLU, and Tanh.\\n\\n3. Layers: Artificial neural networks are organized in layers, with each layer consisting of multiple neurons. The input layer receives data, hidden layers process information, and the output layer produces the final results.\\n\\n4. Backpropagation: Backpropagation is a key algorithm used to train artificial neural networks. It involves calculating the error between the predicted output and the actual output, and then adjusting the weights of the network to minimize this error.\\n\\n5. Deep Learning: Deep learning is a subset of machine learning that focuses on neural networks with multiple hidden layers. Deep learning has revolutionized many fields, such as computer vision, natural language processing, and speech recognition.'"
      ]
     },
     "execution_count": 23,
     "metadata": {},
     "output_type": "execute_result"
    }
   ],
   "source": [
    "llm = ChatOpenAI(model=\"gpt-3.5-turbo-0125\")\n",
    "prompt = ChatPromptTemplate.from_template(\"\"\"\n",
    "Write 5 concepts that are fundamental to learn about {topic}.\n",
    "                                          \"\"\")\n",
    "chain = prompt | llm | output_parser\n",
    "chain.invoke({\"topic\": \"Artificial Neural Networks\"})"
   ]
  },
  {
   "cell_type": "markdown",
   "metadata": {},
   "source": [
    "This chain will take input variables, pass those to a prompt template to create a prompt, pass the prompt to an LLM, and then pass the output through an output parser."
   ]
  },
  {
   "cell_type": "markdown",
   "metadata": {},
   "source": [
    "Ok, so these are the basics of langchain. But how can we leverage these abstraction capabilities inside our LLM app application?"
   ]
  },
  {
   "cell_type": "markdown",
   "metadata": {},
   "source": [
    "Now, to put everything together LangChain allows you to build something called \"chains\", which are components that connect prompts, llms and output parsers into a building block that allows you to create more interesting and complex functionality."
   ]
  },
  {
   "cell_type": "markdown",
   "metadata": {},
   "source": [
    "Let's look at the example below:"
   ]
  },
  {
   "cell_type": "markdown",
   "metadata": {},
   "source": [
    "So, what the chain is doing is connecting these basic components (the LLM and the prompt template) into\n",
    "a block that can be run separately. The chain allows you to turn workflows using LLLMs into this modular process of composing components."
   ]
  },
  {
   "cell_type": "markdown",
   "metadata": {},
   "source": [
    "Now, the newer versions of LangChain have a new representation language to create these chains (and more) known as LCEL or LangChain expression language, which is a declarative way to easily compose chains together. The same example as above expressed in this LCEL format would be:"
   ]
  },
  {
   "cell_type": "code",
   "execution_count": 24,
   "metadata": {},
   "outputs": [
    {
     "data": {
      "text/plain": [
       "AIMessage(content=\"1. Circadian Rhythms: Understanding the body's internal clock and how it regulates sleep-wake cycles is crucial in understanding the timing and quality of sleep.\\n\\n2. Sleep Stages: Learning about the different stages of sleep (such as REM and non-REM) and how they cycle throughout the night can help in understanding the importance of each stage for restorative sleep.\\n\\n3. Sleep Hygiene: Practicing good sleep habits, such as maintaining a consistent sleep schedule, creating a relaxing bedtime routine, and optimizing the sleep environment, is essential for promoting quality sleep.\\n\\n4. Sleep Disorders: Being aware of common sleep disorders, such as insomnia, sleep apnea, and restless leg syndrome, can help in recognizing symptoms and seeking appropriate treatment.\\n\\n5. Impact of Sleep on Health: Understanding the importance of sleep for overall health and well-being, including its role in cognitive function, emotional regulation, and physical health, can motivate individuals to prioritize and improve their sleep habits.\", response_metadata={'token_usage': {'completion_tokens': 195, 'prompt_tokens': 21, 'total_tokens': 216}, 'model_name': 'gpt-3.5-turbo', 'system_fingerprint': 'fp_c2295e73ad', 'finish_reason': 'stop', 'logprobs': None}, id='run-51d6e403-834a-4968-b5f6-7545698a7f1e-0')"
      ]
     },
     "execution_count": 24,
     "metadata": {},
     "output_type": "execute_result"
    }
   ],
   "source": [
    "chain = prompt | ChatOpenAI()\n",
    "\n",
    "chain.invoke({\"topic\": \"sleep\"})"
   ]
  },
  {
   "cell_type": "markdown",
   "metadata": {},
   "source": [
    "Notice that now the output is an `AIMessage()` object, which represents LangChain's way to abstract the output from an LLM model like ChatGPT or others."
   ]
  },
  {
   "cell_type": "markdown",
   "metadata": {},
   "source": [
    "These building blocks and abstractions that LangChain provides are what makes this library so unique, because it gives you the tools you didn't know you need it to build awesome stuff powered by LLMs."
   ]
  },
  {
   "cell_type": "markdown",
   "metadata": {},
   "source": [
    "# LangChain Exercise"
   ]
  },
  {
   "cell_type": "markdown",
   "metadata": {},
   "source": [
    "Let's create a simple chain for summarization of content. \n",
    "\n",
    "Your chain should:\n",
    "\n",
    "- A prompt template with one or more variables\n",
    "- A model like ChatGPT or other (you can use local models if you'd like, I recommend `ChatOllama` for that!)\n",
    "- Optional: use output parsing or just fetch the string output at the end!"
   ]
  },
  {
   "cell_type": "markdown",
   "metadata": {},
   "source": [
    "## Example Answer\n",
    "\n",
    "Let's make use of the `ChatPromptTemplate` to abstract away the following pieces of the prompt: \n",
    "- `content` - the text content to be summarized  \n",
    "- `summary_format` - the format in which we want the summary to be presented (like bullet points and so on)."
   ]
  },
  {
   "cell_type": "code",
   "execution_count": 25,
   "metadata": {},
   "outputs": [
    {
     "data": {
      "text/plain": [
       "'Human: Summarize this: This is a test.. The output should be in the following format: One word summary.'"
      ]
     },
     "execution_count": 25,
     "metadata": {},
     "output_type": "execute_result"
    }
   ],
   "source": [
    "from langchain_core.prompts import ChatPromptTemplate\n",
    "\n",
    "prompt = ChatPromptTemplate.from_template(\"Summarize this: {content}. The output should be in the following format: {summary_format}.\")\n",
    "\n",
    "# We can look at a simple example to illustrate what that prompt is doing\n",
    "prompt.format(content=\"This is a test.\", summary_format=\"One word summary\")"
   ]
  },
  {
   "cell_type": "markdown",
   "metadata": {},
   "source": [
    "Ok, now that we have our prompt template done, let's load the llm and create a nice chain to put everything together. "
   ]
  },
  {
   "cell_type": "code",
   "execution_count": 26,
   "metadata": {},
   "outputs": [],
   "source": [
    "from langchain_openai import ChatOpenAI\n",
    "\n",
    "llm_chat =  ChatOpenAI()\n",
    "chain = prompt | llm_chat # This is the Pipe symbol! from LCEL that connect model to prompt!"
   ]
  },
  {
   "cell_type": "markdown",
   "metadata": {},
   "source": [
    "Now, that we have our chain we can run some tests. The cool thing about working with LLMs is that you can use them to create examples for simple tests like this (avoiding the annoynace of searching online for some piece of text, copying and pasting etc...). So, let's generate a few examples of tests below:"
   ]
  },
  {
   "cell_type": "code",
   "execution_count": 27,
   "metadata": {},
   "outputs": [
    {
     "data": {
      "text/plain": [
       "[AIMessage(content='As technology continues to advance, the interaction between humans and machines has become more seamless and integrated into everyday life. From voice-activated virtual assistants to self-driving cars, the ways in which we interact with machines are constantly evolving. With the rise of artificial intelligence and machine learning, machines are becoming more adept at understanding and responding to human behavior, making the interaction more natural and intuitive.\\n\\nHowever, as machines become more intelligent and autonomous, questions about the ethical implications of human-machine interaction arise. Concerns about privacy, security, and the potential for machines to replace human jobs are all issues that must be considered as we continue to develop and integrate technology into our lives. Finding a balance between the benefits of automation and the potential drawbacks will be crucial in ensuring that human-machine interaction remains beneficial and positive for society as a whole.', response_metadata={'token_usage': {'completion_tokens': 163, 'prompt_tokens': 25, 'total_tokens': 188}, 'model_name': 'gpt-3.5-turbo', 'system_fingerprint': 'fp_c2295e73ad', 'finish_reason': 'stop', 'logprobs': None}, id='run-e3acc7e1-e01a-483b-a6c4-fa1055b3104c-0'),\n",
       " AIMessage(content='The field of human-machine interaction has seen significant advancements in recent years, with technology becoming more integrated into everyday life. From voice-activated virtual assistants like Siri and Alexa to self-driving cars, the ways in which humans interact with machines continue to evolve. One area of particular interest is the development of artificial intelligence and machine learning algorithms that can understand and interpret human emotions. This has the potential to revolutionize customer service, healthcare, and even personal relationships.\\n\\nHowever, as machines become more intelligent and capable of understanding human emotions, there are ethical concerns that arise. For example, should machines be programmed to prioritize the well-being of humans over other considerations? How do we ensure that machines do not manipulate or deceive their human users? These questions highlight the importance of establishing clear guidelines and regulations for human-machine interaction to ensure that technology is used in a way that benefits society as a whole. Ultimately, the future of human-machine interaction will depend on how we navigate these ethical dilemmas and work towards creating a more harmonious relationship between humans and machines.', response_metadata={'token_usage': {'completion_tokens': 207, 'prompt_tokens': 25, 'total_tokens': 232}, 'model_name': 'gpt-3.5-turbo', 'system_fingerprint': 'fp_c2295e73ad', 'finish_reason': 'stop', 'logprobs': None}, id='run-35c6a7e5-6381-491f-ac0a-4dbf4e9d9ab5-0'),\n",
       " AIMessage(content=\"One of the most fascinating aspects of human-machine interaction is the concept of artificial intelligence. AI has the ability to learn, adapt, and make decisions based on data input, which has revolutionized industries such as healthcare, finance, and transportation. Whether it's chatbots providing customer service, autonomous vehicles navigating city streets, or algorithms predicting stock market trends, AI has become an integral part of our daily lives. However, there are also concerns about the ethical implications of AI, such as bias in algorithms or the potential for job displacement as automation continues to advance.\\n\\nAnother interesting aspect of human-machine interaction is the idea of augmented reality (AR) and virtual reality (VR). AR and VR technologies have the ability to enhance our sensory experiences by overlaying digital information onto the physical world or immersing us in virtual environments. From medical training simulations to virtual museum tours, AR and VR have the potential to revolutionize how we learn, work, and play. However, there are also concerns about the impact of prolonged exposure to virtual environments on mental health, as well as the potential for addiction to immersive experiences. As we continue to explore the possibilities of human-machine interaction, it will be important to consider both the benefits and challenges of integrating technology into our lives.\", response_metadata={'token_usage': {'completion_tokens': 250, 'prompt_tokens': 25, 'total_tokens': 275}, 'model_name': 'gpt-3.5-turbo', 'system_fingerprint': 'fp_c2295e73ad', 'finish_reason': 'stop', 'logprobs': None}, id='run-984e3ead-1fdd-4b07-a331-df616c84d8f0-0')]"
      ]
     },
     "execution_count": 27,
     "metadata": {},
     "output_type": "execute_result"
    }
   ],
   "source": [
    "num_examples = 3\n",
    "examples = []\n",
    "for i in range(num_examples):\n",
    "    examples.append(llm_chat.invoke(\"Create a piece of text with 2 paragraphs about a random topic regarding human-machine interaction.\"))\n",
    "\n",
    "examples"
   ]
  },
  {
   "cell_type": "markdown",
   "metadata": {},
   "source": [
    "Nice! Now that we have our examples, let's run our chain on them and check out the results."
   ]
  },
  {
   "cell_type": "code",
   "execution_count": 28,
   "metadata": {},
   "outputs": [
    {
     "data": {
      "text/plain": [
       "AIMessage(content='- Technology advancements have led to seamless and integrated interactions between humans and machines in everyday life\\n- Voice-activated virtual assistants and self-driving cars are examples of how we interact with machines that are constantly evolving\\n- Artificial intelligence and machine learning are making machines more adept at understanding and responding to human behavior\\n- Ethical implications of human-machine interaction, such as privacy, security, and potential job displacement, are concerns that need to be addressed\\n- Finding a balance between the benefits of automation and potential drawbacks is crucial for ensuring positive human-machine interaction for society as a whole', response_metadata={'token_usage': {'completion_tokens': 113, 'prompt_tokens': 291, 'total_tokens': 404}, 'model_name': 'gpt-3.5-turbo', 'system_fingerprint': 'fp_c2295e73ad', 'finish_reason': 'stop', 'logprobs': None}, id='run-f09521dc-b632-4dbf-960d-da53d66a8b5c-0')"
      ]
     },
     "execution_count": 28,
     "metadata": {},
     "output_type": "execute_result"
    }
   ],
   "source": [
    "summary_format = \"bullet points\"\n",
    "\n",
    "outputs = []\n",
    "for ex in examples:\n",
    "    outputs.append(chain.invoke({\"content\": ex, \"summary_format\": summary_format}))\n",
    "\n",
    "# Let's display one example output\n",
    "outputs[0]"
   ]
  },
  {
   "cell_type": "markdown",
   "metadata": {},
   "source": [
    "Great! So it seems our chain worked and we generated some summaries! Let's visualize all the summaries generated in a neat way."
   ]
  },
  {
   "cell_type": "code",
   "execution_count": 29,
   "metadata": {},
   "outputs": [
    {
     "data": {
      "text/markdown": [
       "Output 0 \n",
       " - Technology advancements have led to seamless and integrated interactions between humans and machines in everyday life\n",
       "- Voice-activated virtual assistants and self-driving cars are examples of how we interact with machines that are constantly evolving\n",
       "- Artificial intelligence and machine learning are making machines more adept at understanding and responding to human behavior\n",
       "- Ethical implications of human-machine interaction, such as privacy, security, and potential job displacement, are concerns that need to be addressed\n",
       "- Finding a balance between the benefits of automation and potential drawbacks is crucial for ensuring positive human-machine interaction for society as a whole"
      ],
      "text/plain": [
       "<IPython.core.display.Markdown object>"
      ]
     },
     "metadata": {},
     "output_type": "display_data"
    },
    {
     "data": {
      "text/markdown": [
       "Output 1 \n",
       " - Human-machine interaction has advanced significantly in recent years, with technology being more integrated into daily life.\n",
       "- Examples include voice-activated virtual assistants like Siri and Alexa, as well as self-driving cars.\n",
       "- Artificial intelligence and machine learning algorithms are being developed to understand and interpret human emotions.\n",
       "- This has the potential to revolutionize customer service, healthcare, and personal relationships.\n",
       "- Ethical concerns arise as machines become more intelligent, such as prioritizing human well-being and preventing manipulation.\n",
       "- Clear guidelines and regulations are necessary to ensure technology is used for the benefit of society.\n",
       "- The future of human-machine interaction depends on navigating these ethical dilemmas and creating a harmonious relationship between humans and machines."
      ],
      "text/plain": [
       "<IPython.core.display.Markdown object>"
      ]
     },
     "metadata": {},
     "output_type": "display_data"
    },
    {
     "data": {
      "text/markdown": [
       "Output 2 \n",
       " - Artificial intelligence (AI) is a fascinating aspect of human-machine interaction that has revolutionized industries like healthcare, finance, and transportation.\n",
       "- AI has the ability to learn, adapt, and make decisions based on data input, impacting our daily lives through chatbots, autonomous vehicles, and stock market predictions.\n",
       "- Ethical concerns surrounding AI include bias in algorithms and potential job displacement due to automation.\n",
       "- Augmented reality (AR) and virtual reality (VR) technologies enhance sensory experiences by overlaying digital information onto the physical world or immersing users in virtual environments.\n",
       "- AR and VR have the potential to revolutionize learning, work, and play, but concerns include the impact on mental health and addiction to immersive experiences.\n",
       "- As we explore human-machine interaction, it is important to consider both the benefits and challenges of integrating technology into our lives."
      ],
      "text/plain": [
       "<IPython.core.display.Markdown object>"
      ]
     },
     "metadata": {},
     "output_type": "display_data"
    }
   ],
   "source": [
    "from IPython.display import Markdown\n",
    "\n",
    "for i in range(num_examples):\n",
    "    display(Markdown(f\"Output {i} \\n {outputs[i].content}\"))\n",
    "# Markdown(f\"**Input**: {examples[0]}\\n\\n**Output**: {outputs[0]}\")"
   ]
  },
  {
   "cell_type": "markdown",
   "metadata": {},
   "source": [
    "Great! Our summaries worked, and we were able to apply a given summary format to all of them.\n",
    "\n",
    "LangChain is an extremely powerful library to work with abstractions like these and throughout this course we hope to give you a gliimpse of the cool stuff you can build with it."
   ]
  }
 ],
 "metadata": {
  "kernelspec": {
   "display_name": "oreilly-langchain",
   "language": "python",
   "name": "oreilly-langchain"
  },
  "language_info": {
   "codemirror_mode": {
    "name": "ipython",
    "version": 3
   },
   "file_extension": ".py",
   "mimetype": "text/x-python",
   "name": "python",
   "nbconvert_exporter": "python",
   "pygments_lexer": "ipython3",
   "version": "3.11.9"
  },
  "orig_nbformat": 4
 },
 "nbformat": 4,
 "nbformat_minor": 2
}
